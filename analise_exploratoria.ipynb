{
 "cells": [
  {
   "cell_type": "code",
   "execution_count": null,
   "metadata": {},
   "outputs": [],
   "source": [
    "import pandas as pd\n",
    "import seaborn as sns\n",
    "import matplotlib.pyplot as plt\n",
    "from sklearn.preprocessing import OneHotEncoder"
   ]
  },
  {
   "cell_type": "markdown",
   "metadata": {},
   "source": [
    "# Definição da amostra"
   ]
  },
  {
   "cell_type": "code",
   "execution_count": null,
   "metadata": {},
   "outputs": [],
   "source": [
    "popu = pd.read_csv(\"Popu_series.csv\", encoding = \"ISO-8859-1\")\n",
    "popu = popu.sample(frac=0.3, replace=False, random_state=195)\n",
    "len(popu)"
   ]
  },
  {
   "cell_type": "code",
   "execution_count": null,
   "metadata": {},
   "outputs": [],
   "source": [
    "popu = popu['serie']\n",
    "popu"
   ]
  },
  {
   "cell_type": "code",
   "execution_count": null,
   "metadata": {},
   "outputs": [],
   "source": [
    "popu.to_csv(\"Amostra.csv\", index=False)"
   ]
  },
  {
   "cell_type": "markdown",
   "metadata": {},
   "source": [
    "# Análise Exploratória"
   ]
  },
  {
   "cell_type": "code",
   "execution_count": null,
   "metadata": {},
   "outputs": [],
   "source": [
    "#imdb = pd.read_csv(\"imdb_series.csv\") REMOVER (arquivo da amostra antiga)\n",
    "imdb = pd.read_csv(\"Amostra_IMDB.csv\")\n",
    "twitter = pd.read_csv(\"series_dataset_count/dataset_count.csv\")\n",
    "reviews = pd.read_csv(\"UserReviewsCritic.csv\", sep=\";\")"
   ]
  },
  {
   "cell_type": "code",
   "execution_count": null,
   "metadata": {},
   "outputs": [],
   "source": [
    "reviews.head()"
   ]
  },
  {
   "cell_type": "code",
   "execution_count": null,
   "metadata": {},
   "outputs": [],
   "source": [
    "twitter.dropna(inplace=True)"
   ]
  },
  {
   "cell_type": "code",
   "execution_count": null,
   "metadata": {},
   "outputs": [],
   "source": [
    "twitter"
   ]
  },
  {
   "cell_type": "code",
   "execution_count": null,
   "metadata": {},
   "outputs": [],
   "source": [
    "imdb.head()"
   ]
  },
  {
   "cell_type": "code",
   "execution_count": null,
   "metadata": {},
   "outputs": [],
   "source": [
    "reviews.rename(columns={\"titulo\":\"Titulo\"}, inplace=True)\n",
    "aux = pd.merge(imdb, twitter, on = \"IMDBid\")\n",
    "dados = pd.merge(aux, reviews, on = \"Titulo\")\n",
    "\n",
    "#dados.drop(dados[dados[\"Nome\"]==\"LoveDeathandRobots\"].index, inplace=True)\n",
    "dados.head()"
   ]
  },
  {
   "cell_type": "code",
   "execution_count": null,
   "metadata": {},
   "outputs": [],
   "source": [
    "dados.drop(columns=\"Reviews\", inplace=True)"
   ]
  },
  {
   "cell_type": "code",
   "execution_count": null,
   "metadata": {},
   "outputs": [],
   "source": [
    "indice = dados[dados['Duração']>100]['Duração'].index"
   ]
  },
  {
   "cell_type": "code",
   "execution_count": null,
   "metadata": {},
   "outputs": [],
   "source": [
    "dados.loc[indice, \"Duração\"] = dados.loc[indice, \"Duração\"]/dados.loc[indice, \"Episodios\"]"
   ]
  },
  {
   "cell_type": "code",
   "execution_count": null,
   "metadata": {},
   "outputs": [],
   "source": [
    "dados[dados['Duração']>100]"
   ]
  },
  {
   "cell_type": "code",
   "execution_count": null,
   "metadata": {},
   "outputs": [],
   "source": [
    "dados['DataEstreia'] = pd.to_datetime(dados['Data de estréia'], format=\"%Y-%m-%d\", errors = 'coerce')\n",
    "dados['mes'] = pd.DatetimeIndex(dados['Data de estréia']).month"
   ]
  },
  {
   "cell_type": "markdown",
   "metadata": {},
   "source": [
    "LEMBRAR DE DIVIDIR O ENGAJAMENTO POR NUMERO DE DIAS!!"
   ]
  },
  {
   "cell_type": "code",
   "execution_count": null,
   "metadata": {},
   "outputs": [],
   "source": [
    "diasPre = 75-3\n",
    "diasDurante = 7\n",
    "diasPos = 150-3\n",
    "diasTotal = 226\n",
    "dados['TaxaPre'] = dados['CountPre']/diasPre\n",
    "dados['TaxaDurante'] = dados['CountDurante']/diasDurante\n",
    "dados['TaxaPos'] = dados['CountPos']/diasPos\n",
    "dados['TaxaTotal'] = dados['CountTotal']/diasPos"
   ]
  },
  {
   "cell_type": "code",
   "execution_count": null,
   "metadata": {},
   "outputs": [],
   "source": [
    "#dados[dados['Titulo']==\"Julie and the Phantoms\"]\n",
    "dados.head()"
   ]
  },
  {
   "cell_type": "markdown",
   "metadata": {},
   "source": [
    "### Hot encoding Gênero"
   ]
  },
  {
   "cell_type": "code",
   "execution_count": null,
   "metadata": {},
   "outputs": [],
   "source": [
    "dados['Gênero'] = dados['Gênero'].apply(lambda x : x.split(\", \"))\n",
    "dummies = pd.get_dummies(dados['Gênero'].apply(pd.Series).stack()).sum(level=0)\n",
    "dados = dados.join(dummies)"
   ]
  },
  {
   "cell_type": "markdown",
   "metadata": {},
   "source": [
    "# Análise Exploratória"
   ]
  },
  {
   "cell_type": "code",
   "execution_count": null,
   "metadata": {},
   "outputs": [],
   "source": [
    "teste = dados[dados['Duração'].notna()]"
   ]
  },
  {
   "cell_type": "code",
   "execution_count": null,
   "metadata": {},
   "outputs": [],
   "source": [
    "#dados.apply(lambda linha: linha['Duração'] if linha['Duração']<100 else linha['Duração']/linha['Episodios'])\n",
    "#dados.apply(lambda linha: print(linha[7]))\n",
    "#a = teste.apply(lambda linha: print(linha[0]))\n",
    "#dados['Duração']\n",
    "\n",
    "#duracao = dados['Duração']\n",
    "#epi = dados['Episodios']\n"
   ]
  },
  {
   "cell_type": "code",
   "execution_count": null,
   "metadata": {},
   "outputs": [],
   "source": []
  },
  {
   "cell_type": "markdown",
   "metadata": {},
   "source": [
    "## Nota"
   ]
  },
  {
   "cell_type": "code",
   "execution_count": null,
   "metadata": {},
   "outputs": [],
   "source": [
    "nota1 = sns.histplot(data=dados, x=\"Nota\")\n",
    "\n",
    "nota1.set_title('Histograma das notas no IMDb')\n",
    "nota1.set_ylabel('Frequência')"
   ]
  },
  {
   "cell_type": "code",
   "execution_count": null,
   "metadata": {},
   "outputs": [],
   "source": [
    "nota2 = sns.boxplot(y=dados['Nota'], data=dados)\n",
    "\n",
    "nota2.set_title('Boxplot das notas no IMDb')\n",
    "nota2.set_ylabel('Nota')"
   ]
  },
  {
   "cell_type": "code",
   "execution_count": null,
   "metadata": {},
   "outputs": [],
   "source": [
    "nota3 = sns.boxplot(x=dados['Ano'],y=dados['Nota'], data=dados)\n",
    "\n",
    "nota3.set_title('Boxplot das notas no IMDb por ano de lançamento')"
   ]
  },
  {
   "cell_type": "code",
   "execution_count": null,
   "metadata": {},
   "outputs": [],
   "source": [
    "y = []\n",
    "coluna = []\n",
    "for i in range (24,dados.columns.size,1):\n",
    "    coluna.append(str(dados.columns[i]))\n",
    "    \n",
    "    aux = []\n",
    "    for j in range (0, len(dados[dados[coluna[-1]] == 1]['Nota']),1):\n",
    "        aux.append(dados[dados[coluna[-1]] == 1]['Nota'].values[j])\n",
    "        \n",
    "    y.append(aux)"
   ]
  },
  {
   "cell_type": "code",
   "execution_count": null,
   "metadata": {},
   "outputs": [],
   "source": [
    "colunas = {'Nota':[], 'Gênero':[]}\n",
    "df_aux = pd.DataFrame(colunas)\n",
    "\n",
    "for i in range(len(y)):\n",
    "    for val in y[i]:\n",
    "        linha = {'Nota':val, 'Gênero':coluna[i]}\n",
    "        df_aux = df_aux.append(linha, ignore_index=True)"
   ]
  },
  {
   "cell_type": "code",
   "execution_count": null,
   "metadata": {},
   "outputs": [],
   "source": [
    "df_aux ## PQ TA DANDO ERRO?"
   ]
  },
  {
   "cell_type": "code",
   "execution_count": null,
   "metadata": {},
   "outputs": [],
   "source": [
    "fig, ax = plt.subplots()\n",
    "nota4 = sns.boxplot(x='Gênero',y='Nota', data=df_aux)\n",
    "ax.tick_params(rotation=90)\n",
    "\n",
    "nota4.set_title('Boxplot das notas no IMDb por gênero')\n",
    "\n",
    "#fig, ax = plt.subplots()\n",
    "#sns.barplot(x = x, y = df['log_disaster'], palette=\"Blues_d\")\n",
    "#ax.tick_params(rotation=90)\n",
    "#ax.set_title('Número de Desastres por Ano')\n",
    "##ax.set_ylabel('Número de Desastres')\n",
    "#ax.set_xlabel('Ano')\n",
    "#fig.set_size_inches(20, 5)"
   ]
  },
  {
   "cell_type": "code",
   "execution_count": null,
   "metadata": {},
   "outputs": [],
   "source": [
    "#[\"Mystery\" in linha for linha in dados['Gênero']]\n",
    "#plt.boxplot(dados[dados['Mystery']==1]['Nota'].describe())#.plot()\n",
    "#plt.boxplot(dados[dados['Drama']==1]['Nota'].describe())#.plot()\n",
    "#dados[dados['Drama']==1]['Nota'].describe()#.plot()"
   ]
  },
  {
   "cell_type": "code",
   "execution_count": null,
   "metadata": {},
   "outputs": [],
   "source": [
    "#dados[dados['Drama']==1]['Nota'].count()"
   ]
  },
  {
   "cell_type": "code",
   "execution_count": null,
   "metadata": {},
   "outputs": [],
   "source": [
    "#type(dados['Gênero'].apply(lambda x: x)[0])"
   ]
  },
  {
   "cell_type": "code",
   "execution_count": null,
   "metadata": {},
   "outputs": [],
   "source": [
    "\n",
    "# Primeiramente: Fazer o count, ver a frequencia de cada série\n",
    "# Segundamente: Avaliar os grupos mais frequentes (Drama+Comedia)"
   ]
  },
  {
   "cell_type": "code",
   "execution_count": null,
   "metadata": {},
   "outputs": [],
   "source": [
    "dados.iloc[:, 24:].sum()\n",
    "dados.iloc[:, 24:].sum()*100/86"
   ]
  },
  {
   "cell_type": "markdown",
   "metadata": {},
   "source": [
    "### Nota do IMDB e número de votos por engajamento"
   ]
  },
  {
   "cell_type": "code",
   "execution_count": null,
   "metadata": {},
   "outputs": [],
   "source": [
    "#dados['Nota'] CountPre CountDurante CountPos CountTotal\n",
    "\n",
    "sns.scatterplot(data=dados, x=\"Nota\", y=\"CountTotal\")\n",
    "#sns.regplot(data=dados[dados['Nota']>4], x=\"Nota\", y=\"CountTotal\")\n",
    "\n",
    "#nota1.set_title('Histograma das notas no IMDb')\n",
    "#nota1.set_ylabel('Frequência')"
   ]
  },
  {
   "cell_type": "code",
   "execution_count": null,
   "metadata": {},
   "outputs": [],
   "source": [
    "sns.boxplot(data=dados, x=\"Nota\", y=\"País\")#, hue=dados['País'])\n"
   ]
  },
  {
   "cell_type": "code",
   "execution_count": null,
   "metadata": {},
   "outputs": [],
   "source": [
    "maiorespaises = dados[ (dados['País']==\"United States\") | (dados['País']==\"Brazil\") | (dados['País']==\"South Korea\") | (dados['País']==\"United Kingdom\") | (dados['País']==\"Germany\") | (dados['País']==\"India\")]\n",
    "sns.boxplot(data=maiorespaises, x=\"Nota\", y=\"País\")#, hue=dados['País'])\n"
   ]
  },
  {
   "cell_type": "code",
   "execution_count": null,
   "metadata": {},
   "outputs": [],
   "source": [
    "sns.boxplot(data=dados[dados['País'].str.contains(\",\")==False], x=\"Nota\", y=\"País\")#, hue=dados['País'])"
   ]
  },
  {
   "cell_type": "code",
   "execution_count": null,
   "metadata": {},
   "outputs": [],
   "source": [
    "sns.boxplot(data=dados, x=\"Episodios\", y=\"Nota\")"
   ]
  },
  {
   "cell_type": "code",
   "execution_count": null,
   "metadata": {},
   "outputs": [],
   "source": [
    "tipo1 = sns.boxplot(data=dados, x=\"Check\", y=\"Nota\")\n",
    "tipo1.set_title('Boxplot das notas de acordo com o tipo de série')\n",
    "tipo1.set_xlabel('Tipo de série')"
   ]
  },
  {
   "cell_type": "code",
   "execution_count": null,
   "metadata": {},
   "outputs": [],
   "source": [
    "sns.scatterplot(data=dados, x=\"Nota\", y=\"CountPre\")"
   ]
  },
  {
   "cell_type": "code",
   "execution_count": null,
   "metadata": {},
   "outputs": [],
   "source": [
    "sns.scatterplot(data=dados, x=\"Nota\", y=\"CountDurante\")"
   ]
  },
  {
   "cell_type": "code",
   "execution_count": null,
   "metadata": {},
   "outputs": [],
   "source": [
    "sns.scatterplot(data=dados, x=\"Nota\", y=\"CountPos\")"
   ]
  },
  {
   "cell_type": "code",
   "execution_count": null,
   "metadata": {},
   "outputs": [],
   "source": [
    "dados.corr(method='pearson')\n",
    "#dados.corr(method='spearman')"
   ]
  },
  {
   "cell_type": "code",
   "execution_count": null,
   "metadata": {},
   "outputs": [],
   "source": [
    "dados.corr(method='spearman')"
   ]
  },
  {
   "cell_type": "code",
   "execution_count": null,
   "metadata": {},
   "outputs": [],
   "source": [
    "#sns.scatterplot(data=dados, x=\"Ano\", y=\"CountTotal\") #countplot seria melhor?"
   ]
  },
  {
   "cell_type": "code",
   "execution_count": null,
   "metadata": {},
   "outputs": [],
   "source": [
    "#sns.scatterplot(data=dados, x=\"Ano\", y=\"Votos\")#ja fizemos o boxplot em baixo"
   ]
  },
  {
   "cell_type": "code",
   "execution_count": null,
   "metadata": {},
   "outputs": [],
   "source": [
    "sns.scatterplot(data=dados, x=\"Votos\", y=\"CountTotal\")"
   ]
  },
  {
   "cell_type": "code",
   "execution_count": null,
   "metadata": {},
   "outputs": [],
   "source": [
    "sns.scatterplot(data=dados, x=\"Nota\", y=\"Votos\")"
   ]
  },
  {
   "cell_type": "markdown",
   "metadata": {},
   "source": [
    "## Votos"
   ]
  },
  {
   "cell_type": "code",
   "execution_count": null,
   "metadata": {},
   "outputs": [],
   "source": [
    "# 120000 - 20000 - 2500\n",
    "votos1 = sns.histplot(data=dados, x=\"Votos\")#, log_scale=True)\n",
    "\n",
    "votos1.set_title('Histograma da quantidade de votos no IMDb')\n",
    "votos1.set_ylabel('Frequência')"
   ]
  },
  {
   "cell_type": "code",
   "execution_count": null,
   "metadata": {},
   "outputs": [],
   "source": [
    "votos2 = sns.histplot(data=dados[dados['Votos']<100000], x=\"Votos\")#, log_scale=True)\n",
    "\n",
    "votos2.set_title('Histograma da quantidade de votos no IMDb (<100.000)')\n",
    "votos2.set_ylabel('Frequência')"
   ]
  },
  {
   "cell_type": "code",
   "execution_count": null,
   "metadata": {},
   "outputs": [],
   "source": [
    "votos3 = sns.scatterplot(data=dados, x=\"Nota\", y=\"Votos\")\n",
    "#sns.regplot(data=dados[dados['Nota']>4], x=\"Nota\", y=\"Votos\")\n",
    "\n",
    "votos3.set_title('Diagrama de dispersão da nota e quantidade de votos no IMDb')\n"
   ]
  },
  {
   "cell_type": "code",
   "execution_count": null,
   "metadata": {},
   "outputs": [],
   "source": [
    "votos4 = sns.boxplot(data=dados, x=\"Ano\", y=\"Votos\")\n",
    "votos4.set_title('Boxplot da quantidade de votos no IMDb por ano de lançamento')"
   ]
  },
  {
   "cell_type": "code",
   "execution_count": null,
   "metadata": {},
   "outputs": [],
   "source": [
    "votos5 = sns.boxplot(data=dados, x=\"Votos\", y=\"País\")\n",
    "votos5.set_title('Boxplot da quantidade de votos por país de origem')"
   ]
  },
  {
   "cell_type": "code",
   "execution_count": null,
   "metadata": {},
   "outputs": [],
   "source": [
    "maiorespaises = dados[ (dados['País']==\"United States\") | (dados['País']==\"Brazil\") | (dados['País']==\"South Korea\") | (dados['País']==\"United Kingdom\") | (dados['País']==\"Germany\") | (dados['País']==\"India\")]\n",
    "votos5 = sns.boxplot(data=maiorespaises, x=\"Votos\", y=\"País\")\n",
    "votos5.set_title('Boxplot da quantidade de votos por país de origem (mais populares)')"
   ]
  },
  {
   "cell_type": "code",
   "execution_count": null,
   "metadata": {},
   "outputs": [],
   "source": [
    "votos5b = sns.boxplot(data=dados[dados['País'].str.contains(\",\")==False], x=\"Votos\", y=\"País\")\n",
    "votos5b.set_title('Boxplot da quantidade de votos por país de origem (mais populares)')\n"
   ]
  },
  {
   "cell_type": "code",
   "execution_count": null,
   "metadata": {},
   "outputs": [],
   "source": [
    "votos6 = sns.boxplot(data=dados, x=\"Episodios\", y=\"Votos\")\n",
    "votos6.set_title('Boxplot da quantidade de votos por número de episódios')"
   ]
  },
  {
   "cell_type": "code",
   "execution_count": null,
   "metadata": {},
   "outputs": [],
   "source": [
    "#sns.scatterplot(data=dados, x=\"user_reviews\", y=\"Votos\")\n",
    "votos7 = sns.regplot(data=dados, x=\"user_reviews\", y=\"Votos\")\n",
    "votos7.set_title('Diagrama de dispersão da quantidade de votos por quantidade de reviews dos usuários do IMDb')\n",
    "votos7.set_xlabel('Reviews dos usuários do IMDb')"
   ]
  },
  {
   "cell_type": "code",
   "execution_count": null,
   "metadata": {},
   "outputs": [],
   "source": [
    "#sns.scatterplot(data=dados, x=\"critic_reviews\", y=\"Votos\")\n",
    "votos8 = sns.regplot(data=dados, x=\"critic_reviews\", y=\"Votos\")\n",
    "votos8.set_title('Diagrama de dispersão da quantidade de votos por quantidade de reviews dos críticos do IMDb')\n",
    "votos8.set_xlabel('Reviews dos críticos do IMDb')"
   ]
  },
  {
   "cell_type": "markdown",
   "metadata": {},
   "source": [
    "# Duração"
   ]
  },
  {
   "cell_type": "code",
   "execution_count": null,
   "metadata": {},
   "outputs": [],
   "source": [
    "dura1 = sns.histplot(data=dados, x=\"Duração\")\n",
    "dura1.set_title('Histograma da duração média dos episódios por série')\n",
    "dura1.set_xlabel('Frequência')"
   ]
  },
  {
   "cell_type": "code",
   "execution_count": null,
   "metadata": {},
   "outputs": [],
   "source": [
    "dura2=sns.boxplot(data=dados, x=\"Duração\")\n",
    "dura2.set_title('Boxplot da duração média dos episódios por série')"
   ]
  },
  {
   "cell_type": "code",
   "execution_count": null,
   "metadata": {},
   "outputs": [],
   "source": [
    "sns.scatterplot(data=dados, x=\"Duração\", y=\"Votos\")"
   ]
  },
  {
   "cell_type": "code",
   "execution_count": null,
   "metadata": {},
   "outputs": [],
   "source": [
    "dura3=sns.boxplot(data=dados, x=\"Ano\", y=\"Duração\")\n",
    "dura3.set_title('Boxplot da duração média de episódios por ano de lançamento da série')"
   ]
  },
  {
   "cell_type": "code",
   "execution_count": null,
   "metadata": {},
   "outputs": [],
   "source": [
    "dura4=sns.boxplot(data=dados, x=\"Check\", y=\"Duração\")\n",
    "dura4.set_title('Boxplot da duração média de episódios por tipo de série')\n",
    "dura4.set_xlabel('Tipo de série')"
   ]
  },
  {
   "cell_type": "markdown",
   "metadata": {},
   "source": [
    "# Ano"
   ]
  },
  {
   "cell_type": "code",
   "execution_count": null,
   "metadata": {},
   "outputs": [],
   "source": [
    "ano1 = sns.countplot(data=dados, x=\"Ano\")# tratar (dividir duracao por numero de episodios para >100)\n",
    "ano1.set_title('Gráfico de barras do ano de lançamento das séries')\n",
    "ano1.set_ylabel('Frequência')"
   ]
  },
  {
   "cell_type": "code",
   "execution_count": null,
   "metadata": {},
   "outputs": [],
   "source": [
    "sns.boxplot(data=dados, x=\"Ano\")# tratar (dividir duracao por numero de episodios para >100)"
   ]
  },
  {
   "cell_type": "markdown",
   "metadata": {},
   "source": [
    "# Data de estréia"
   ]
  },
  {
   "cell_type": "code",
   "execution_count": null,
   "metadata": {},
   "outputs": [],
   "source": [
    "mes1 = sns.countplot(data=dados, x=\"mes\")\n",
    "mes1.set_title('Quantidade de séries por mês de lançamento')\n",
    "mes1.set_xlabel('Mês')\n",
    "mes1.set_ylabel('Frequência')"
   ]
  },
  {
   "cell_type": "markdown",
   "metadata": {},
   "source": [
    "# País"
   ]
  },
  {
   "cell_type": "code",
   "execution_count": null,
   "metadata": {},
   "outputs": [],
   "source": [
    "dados['País'].value_counts()"
   ]
  },
  {
   "cell_type": "code",
   "execution_count": null,
   "metadata": {},
   "outputs": [],
   "source": [
    "fig, ax = plt.subplots()\n",
    "sns.countplot(data=dados[dados['País'].str.contains(\",\")==False], x=\"País\")\n",
    "ax.tick_params(rotation=90)\n"
   ]
  },
  {
   "cell_type": "markdown",
   "metadata": {},
   "source": [
    "# Idiomas"
   ]
  },
  {
   "cell_type": "code",
   "execution_count": null,
   "metadata": {},
   "outputs": [],
   "source": [
    "dados['Idiomas'].value_counts()"
   ]
  },
  {
   "cell_type": "code",
   "execution_count": null,
   "metadata": {},
   "outputs": [],
   "source": [
    "sns.countplot(data=dados, x=\"Idiomas\", order=dados.Idiomas.value_counts().iloc[:7].index)\n",
    "\n",
    "#visCausaMorte = sns.countplot(x=\"CAUSABAS\", order=dados.CAUSABAS.value_counts().iloc[:10].index, data=dados, palette=\"Set1\")"
   ]
  },
  {
   "cell_type": "code",
   "execution_count": null,
   "metadata": {},
   "outputs": [],
   "source": [
    "fig, ax = plt.subplots()\n",
    "sns.countplot(data=dados[dados['Idiomas'].str.contains(\",\")==False], x=\"Idiomas\")\n",
    "ax.tick_params(rotation=90)"
   ]
  },
  {
   "cell_type": "markdown",
   "metadata": {},
   "source": [
    "# Episodios"
   ]
  },
  {
   "cell_type": "code",
   "execution_count": null,
   "metadata": {},
   "outputs": [],
   "source": [
    "epis1 = sns.countplot(data=dados, x=\"Episodios\")\n",
    "epis1.set_title('Gráfico de barras do número de episódios')\n",
    "epis1.set_ylabel('Frequência')"
   ]
  },
  {
   "cell_type": "code",
   "execution_count": null,
   "metadata": {},
   "outputs": [],
   "source": [
    "epis2 = sns.boxplot(data=dados, x=\"Check\", y=\"Episodios\")\n",
    "epis2.set_title('Boxplot do número de episódios por tipo de série')\n",
    "epis2.set_ylabel('Frequência')"
   ]
  },
  {
   "cell_type": "markdown",
   "metadata": {},
   "source": [
    "## Reviews de usuários"
   ]
  },
  {
   "cell_type": "code",
   "execution_count": null,
   "metadata": {},
   "outputs": [],
   "source": [
    "rev1 = sns.histplot(data=dados, x=\"user_reviews\")\n",
    "rev1.set_title('Histograma do número de reviews de usuários no IMDb')\n",
    "rev1.set_ylabel('Frequência')\n",
    "rev1.set_xlabel('Reviews dos usuários no IMDb')"
   ]
  },
  {
   "cell_type": "code",
   "execution_count": null,
   "metadata": {},
   "outputs": [],
   "source": [
    "rev2 = sns.boxplot(data=dados, x = \"Ano\",y=\"user_reviews\")\n",
    "rev2.set_title('Boxplot do número de reviews de usuários no IMDb por ano de lançamento')\n",
    "rev2.set_ylabel('Reviews dos usuários no IMDb')"
   ]
  },
  {
   "cell_type": "markdown",
   "metadata": {},
   "source": [
    "## Reviews de críticos"
   ]
  },
  {
   "cell_type": "code",
   "execution_count": null,
   "metadata": {},
   "outputs": [],
   "source": [
    "rev3 = sns.histplot(data=dados, x=\"critic_reviews\")\n",
    "\n",
    "rev3.set_title('Histograma do número de reviews de críticos no IMDb')\n",
    "rev3.set_xlabel('Reviews dos críticos no IMDb')\n",
    "rev3.set_ylabel('Frequência')"
   ]
  },
  {
   "cell_type": "code",
   "execution_count": null,
   "metadata": {},
   "outputs": [],
   "source": [
    "rev4 = sns.boxplot(data=dados, x = \"Ano\",y=\"critic_reviews\")\n",
    "\n",
    "rev4.set_title('Boxplot do número de reviews de críticos no IMDb por ano de lançamento')\n",
    "rev4.set_ylabel('Reviews dos críticos no IMDb')"
   ]
  },
  {
   "cell_type": "markdown",
   "metadata": {},
   "source": [
    "# Engajamento (counts)"
   ]
  },
  {
   "cell_type": "markdown",
   "metadata": {},
   "source": [
    "## Histogramas do números de tweets em difentes fases (Total, Pré, Durante, Pós)\n",
    "\n",
    "TODO: Agrupas esses gráficos 2x2"
   ]
  },
  {
   "cell_type": "code",
   "execution_count": null,
   "metadata": {},
   "outputs": [],
   "source": [
    "countTotal1 = sns.histplot(data=dados, x=\"CountTotal\")\n",
    "countTotal1.set(xlabel='Número total de tweets', ylabel='Número séries', title='Histograma Número total de Tweets - Todas fases')"
   ]
  },
  {
   "cell_type": "code",
   "execution_count": null,
   "metadata": {},
   "outputs": [],
   "source": [
    "countPre1 = sns.histplot(data=dados, x=\"CountPre\")\n",
    "countPre1.set(xlabel='Número total de tweets', ylabel='Número séries', title='Histograma Número total de Tweets - Fase Pré')"
   ]
  },
  {
   "cell_type": "code",
   "execution_count": null,
   "metadata": {},
   "outputs": [],
   "source": [
    "countDurante1 = sns.histplot(data=dados, x=\"CountDurante\")\n",
    "countDurante1.set(xlabel='Número total de tweets', ylabel='Número séries', title='Histograma Número total de Tweets - Fase Durante')\n"
   ]
  },
  {
   "cell_type": "code",
   "execution_count": null,
   "metadata": {},
   "outputs": [],
   "source": [
    "countPos1 = sns.histplot(data=dados, x=\"CountPos\")\n",
    "countPos1.set(xlabel='Número total de tweets', ylabel='Número séries', title='Histograma Número total de Tweets - Fase Pós')\n",
    "\n",
    "dados[dados.CountPos>100000]\n"
   ]
  },
  {
   "cell_type": "markdown",
   "metadata": {},
   "source": [
    "### Engajamento por ano (Total, Pré, Durante, Pós)\n",
    "\n",
    "TODO: Agrupar gráficos"
   ]
  },
  {
   "cell_type": "code",
   "execution_count": null,
   "metadata": {},
   "outputs": [],
   "source": [
    "countTotal2 = sns.boxplot(data=dados, x=\"Ano\", y=\"CountTotal\")\n",
    "countTotal2.set(xlabel='Ano', ylabel='Número tweets', title='Total de Tweets')"
   ]
  },
  {
   "cell_type": "code",
   "execution_count": null,
   "metadata": {},
   "outputs": [],
   "source": [
    "countPre2 = sns.boxplot(data=dados, x=\"Ano\", y=\"CountPre\")\n",
    "countPre2.set(xlabel='Ano', ylabel='Número tweets', title='Total de Tweets - Fase pré')\n"
   ]
  },
  {
   "cell_type": "code",
   "execution_count": null,
   "metadata": {},
   "outputs": [],
   "source": [
    "countDurante2 = sns.boxplot(data=dados, x=\"Ano\", y=\"CountDurante\")\n",
    "countDurante2.set(xlabel='Ano', ylabel='Número tweets', title='Total de Tweets - Fase Durante')"
   ]
  },
  {
   "cell_type": "code",
   "execution_count": null,
   "metadata": {},
   "outputs": [],
   "source": [
    "countPos2 = sns.boxplot(data=dados, x=\"Ano\", y=\"CountPos\")\n",
    "countPos2.set(xlabel='Ano', ylabel='Número tweets', title='Total de Tweets - Fase Pós')"
   ]
  },
  {
   "cell_type": "code",
   "execution_count": null,
   "metadata": {},
   "outputs": [],
   "source": [
    "dados[(dados.CountTotal>80000) & (dados.Ano == 2020) ]"
   ]
  },
  {
   "cell_type": "markdown",
   "metadata": {},
   "source": [
    "Aparentemente, a utilização do Twitter para comentar séries vem diminuindo ao longo dos anos com exceção de algumas séries:\n",
    "- Bridgeton (esperado já que foi uma das séries mais assistida da Netflix de todos os anos)\n",
    "- Julie and Phantoms (essa série parece estar errada de alguma forma -> ela não é famosa mas tem muito tweets)???"
   ]
  },
  {
   "cell_type": "code",
   "execution_count": null,
   "metadata": {},
   "outputs": [],
   "source": [
    "def getCount(tipocount):\n",
    "    y = []\n",
    "    coluna = []\n",
    "    for i in range (24,dados.columns.size,1):\n",
    "        coluna.append(str(dados.columns[i]))\n",
    "        \n",
    "        aux = []\n",
    "        for j in range (0, len(dados[dados[coluna[-1]] == 1][tipocount]),1):\n",
    "            aux.append(dados[dados[coluna[-1]] == 1][tipocount].values[j])\n",
    "            \n",
    "        y.append(aux)\n",
    "\n",
    "    colunas = {'Count':[], 'Gênero':[]}\n",
    "    df_aux = pd.DataFrame(colunas)\n",
    "\n",
    "    for i in range(len(y)):\n",
    "        for val in y[i]:\n",
    "            linha = {'Count':val, 'Gênero':coluna[i]}\n",
    "            df_aux = df_aux.append(linha, ignore_index=True)\n",
    "\n",
    "    return df_aux\n",
    "\n",
    "dfTotal = getCount(\"CountTotal\")\n",
    "\n"
   ]
  },
  {
   "cell_type": "code",
   "execution_count": null,
   "metadata": {},
   "outputs": [],
   "source": [
    "dfTotal"
   ]
  },
  {
   "cell_type": "markdown",
   "metadata": {},
   "source": [
    "### Número de Tweets vs. Gênero\n",
    "\n",
    "TODO: agrupar gráficos 4x4"
   ]
  },
  {
   "cell_type": "code",
   "execution_count": null,
   "metadata": {},
   "outputs": [],
   "source": [
    "fig, ax = plt.subplots()\n",
    "countTotal3 = sns.boxplot(x='Gênero',y='Count', data=dfTotal)\n",
    "countTotal3.set(xlabel='Gênero', ylabel='Número tweets', title='Total de Tweets')\n",
    "ax.tick_params(axis='x', rotation=90)"
   ]
  },
  {
   "cell_type": "code",
   "execution_count": null,
   "metadata": {},
   "outputs": [],
   "source": [
    "dfPre = getCount(\"CountPre\")\n",
    "fig, ax = plt.subplots()\n",
    "countPre3 = sns.boxplot(x='Gênero',y='Count', data=dfPre)\n",
    "countPre3.set(xlabel='Gênero', ylabel='Número tweets', title='Total de Tweets - Fase Pré')\n",
    "ax.tick_params(axis='x', rotation=90)"
   ]
  },
  {
   "cell_type": "code",
   "execution_count": null,
   "metadata": {},
   "outputs": [],
   "source": [
    "dfDurante = getCount(\"CountDurante\")\n",
    "fig, ax = plt.subplots()\n",
    "countDurante3 = sns.boxplot(x='Gênero',y='Count', data=dfDurante)\n",
    "countDurante3.set(xlabel='Gênero', ylabel='Número tweets', title='Total de Tweets - Fase Durante')\n",
    "ax.tick_params(axis='x', rotation=90)"
   ]
  },
  {
   "cell_type": "code",
   "execution_count": null,
   "metadata": {},
   "outputs": [],
   "source": [
    "dfPos = getCount(\"CountPos\")\n",
    "fig, ax = plt.subplots()\n",
    "countPos3 = sns.boxplot(x='Gênero',y='Count', data=dfPos)\n",
    "countPos3.set(xlabel='Gênero', ylabel='Número tweets', title='Total de Tweets - Fase Pós')\n",
    "ax.tick_params(axis='x', rotation=90)"
   ]
  },
  {
   "cell_type": "code",
   "execution_count": null,
   "metadata": {},
   "outputs": [],
   "source": [
    "fig, axes = plt.subplots(2, 2, figsize=(18, 12), sharey=True)\n",
    "fig.suptitle('Total de Tweets x Gênero', fontsize = 20)\n",
    "plt.subplots_adjust(hspace = .45, wspace = 0.1)\n",
    "\n",
    "sns.boxplot(ax=axes[0,0], x='Gênero',y='Count', data=dfTotal)\n",
    "axes[0,0].set(xlabel=None, ylabel=None, title='Todas as Fases')\n",
    "axes[0,0].tick_params(axis='x', rotation=90)\n",
    "\n",
    "dfPre = getCount(\"CountPre\")\n",
    "sns.boxplot(ax=axes[0,1], x='Gênero',y='Count', data=dfPre)\n",
    "axes[0,1].set(xlabel=None, ylabel=None, title='Fase Pré')\n",
    "axes[0,1].tick_params(axis='x', rotation=90)\n",
    "\n",
    "dfDurante = getCount(\"CountDurante\")\n",
    "sns.boxplot(ax=axes[1,0],x='Gênero',y='Count', data=dfDurante)\n",
    "axes[1,0].set(xlabel=None, ylabel=None, title='Fase Durante')\n",
    "axes[1,0].tick_params(axis='x', rotation=90)\n",
    "\n",
    "dfPos = getCount(\"CountPos\")\n",
    "sns.boxplot(ax=axes[1,1], x='Gênero',y='Count', data=dfPos)\n",
    "axes[1,1].set(xlabel=None, ylabel=None, title='Fase Pós')\n",
    "axes[1,1].tick_params(axis='x', rotation=90)\n"
   ]
  },
  {
   "cell_type": "markdown",
   "metadata": {},
   "source": [
    "### Número de tweets vs. mês de estréia"
   ]
  },
  {
   "cell_type": "code",
   "execution_count": null,
   "metadata": {},
   "outputs": [],
   "source": [
    "countTotal4 = sns.boxplot(data=dados, x=\"mes\", y=\"CountTotal\")\n",
    "countTotal4.set(xlabel='Gênero', ylabel='Número tweets', title='Boxplot Total de Tweets / mês')"
   ]
  },
  {
   "cell_type": "code",
   "execution_count": null,
   "metadata": {},
   "outputs": [],
   "source": [
    "countPre4 = sns.boxplot(data=dados, x=\"mes\", y=\"CountPre\")\n",
    "countPre4.set(xlabel='Gênero', ylabel='Número tweets', title='Boxplot Total de Tweets / mês - Fase pré')"
   ]
  },
  {
   "cell_type": "code",
   "execution_count": null,
   "metadata": {},
   "outputs": [],
   "source": [
    "countDurante4 = sns.boxplot(data=dados, x=\"mes\", y=\"CountDurante\")\n",
    "countDurante4.set(xlabel='Gênero', ylabel='Número tweets', title='Boxplot Total de Tweets / mês - Fase Durante')"
   ]
  },
  {
   "cell_type": "code",
   "execution_count": null,
   "metadata": {},
   "outputs": [],
   "source": [
    "sns.boxplot(data=dados, x=\"mes\", y=\"CountPos\")"
   ]
  },
  {
   "cell_type": "code",
   "execution_count": null,
   "metadata": {},
   "outputs": [],
   "source": [
    "sns.boxplot(data=dados, x=\"Check\", y=\"CountTotal\")"
   ]
  },
  {
   "cell_type": "code",
   "execution_count": null,
   "metadata": {},
   "outputs": [],
   "source": [
    "sns.boxplot(data=dados, x=\"Episodios\", y=\"CountTotal\")"
   ]
  },
  {
   "cell_type": "code",
   "execution_count": null,
   "metadata": {},
   "outputs": [],
   "source": [
    "fig, ax = plt.subplots()\n",
    "sns.boxplot(data=dados, x=\"País\", y=\"CountTotal\")\n",
    "ax.tick_params(rotation=90)"
   ]
  },
  {
   "cell_type": "code",
   "execution_count": null,
   "metadata": {},
   "outputs": [],
   "source": [
    "fig, ax = plt.subplots()\n",
    "sns.boxplot(data=dados, x=\"Idiomas\", y=\"CountTotal\")\n",
    "ax.tick_params(rotation=90)"
   ]
  },
  {
   "cell_type": "markdown",
   "metadata": {},
   "source": [
    "# Série Temporal do engajamento"
   ]
  },
  {
   "cell_type": "code",
   "execution_count": null,
   "metadata": {},
   "outputs": [],
   "source": []
  },
  {
   "cell_type": "markdown",
   "metadata": {},
   "source": [
    "### Número e duração de episódios por engajamento"
   ]
  },
  {
   "cell_type": "code",
   "execution_count": null,
   "metadata": {},
   "outputs": [],
   "source": [
    "sns.boxplot(data=dados, x=\"Episodios\", y=\"CountTotal\")"
   ]
  },
  {
   "cell_type": "code",
   "execution_count": null,
   "metadata": {},
   "outputs": [],
   "source": [
    "sns.scatterplot(data=dados, x=\"Duração\", y=\"CountTotal\")"
   ]
  },
  {
   "cell_type": "code",
   "execution_count": null,
   "metadata": {},
   "outputs": [],
   "source": [
    "dados[dados['Duração']>100] #corrigir, pegar a media por episodio (duracao/episodios)"
   ]
  },
  {
   "cell_type": "markdown",
   "metadata": {},
   "source": [
    "## Atores e engajamento"
   ]
  },
  {
   "cell_type": "code",
   "execution_count": null,
   "metadata": {},
   "outputs": [],
   "source": []
  },
  {
   "cell_type": "markdown",
   "metadata": {},
   "source": [
    "## Influência de engajamento anterior no posterior"
   ]
  },
  {
   "cell_type": "code",
   "execution_count": null,
   "metadata": {},
   "outputs": [],
   "source": [
    "sns.scatterplot(data=dados, x=\"CountPre\", y=\"CountDurante\")"
   ]
  },
  {
   "cell_type": "code",
   "execution_count": null,
   "metadata": {},
   "outputs": [],
   "source": [
    "sns.scatterplot(data=dados, x=\"CountDurante\", y=\"CountPos\")"
   ]
  },
  {
   "cell_type": "markdown",
   "metadata": {},
   "source": [
    "## Engajamento e genêro"
   ]
  },
  {
   "cell_type": "code",
   "execution_count": null,
   "metadata": {},
   "outputs": [],
   "source": [
    "# dados['Gênero'] = dados['Gênero'].apply(lambda x : x.split(\", \"))\n",
    "# dados['Gênero']"
   ]
  },
  {
   "cell_type": "code",
   "execution_count": null,
   "metadata": {},
   "outputs": [],
   "source": [
    "# pd.get_dummies(dados['Gênero'].apply(pd.Series).stack()).sum(level=0)\n",
    "# # Primeiramente: Fazer o count, ver a frequencia de cada série\n",
    "# Segundamente: Avaliar os grupos mais frequentes (Drama+Comedia)"
   ]
  },
  {
   "cell_type": "code",
   "execution_count": null,
   "metadata": {},
   "outputs": [],
   "source": []
  },
  {
   "cell_type": "markdown",
   "metadata": {},
   "source": [
    "## Censura e engajamento"
   ]
  },
  {
   "cell_type": "code",
   "execution_count": null,
   "metadata": {},
   "outputs": [],
   "source": []
  },
  {
   "cell_type": "markdown",
   "metadata": {},
   "source": [
    "## Reviews e engajamento"
   ]
  }
 ],
 "metadata": {
  "colab": {
   "collapsed_sections": [],
   "name": "projetoAnaliseExploratoria.ipynb",
   "provenance": []
  },
  "interpreter": {
   "hash": "0e1898d504e473bdd4635340539d41a5cecc72accb8598f6f0c7bcb5921af418"
  },
  "kernelspec": {
   "display_name": "Python 3 (ipykernel)",
   "language": "python",
   "name": "python3"
  },
  "language_info": {
   "codemirror_mode": {
    "name": "ipython",
    "version": 3
   },
   "file_extension": ".py",
   "mimetype": "text/x-python",
   "name": "python",
   "nbconvert_exporter": "python",
   "pygments_lexer": "ipython3",
   "version": "3.9.7"
  }
 },
 "nbformat": 4,
 "nbformat_minor": 1
}
