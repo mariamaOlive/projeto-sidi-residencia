{
 "cells": [
  {
   "cell_type": "markdown",
   "metadata": {},
   "source": [
    "# Bibliotecas"
   ]
  },
  {
   "cell_type": "code",
   "execution_count": 1,
   "metadata": {},
   "outputs": [],
   "source": [
    "import pandas as pd\n",
    "import seaborn as sns\n",
    "import matplotlib.pyplot as plt\n",
    "from sklearn.preprocessing import OneHotEncoder"
   ]
  },
  {
   "cell_type": "markdown",
   "metadata": {},
   "source": [
    "# Funções"
   ]
  },
  {
   "cell_type": "markdown",
   "metadata": {},
   "source": [
    "## Plot de 2 x 2"
   ]
  },
  {
   "cell_type": "code",
   "execution_count": 2,
   "metadata": {},
   "outputs": [],
   "source": [
    "def plot_2x2(titulo, dados1, dados2, dados3, dados4,\n",
    "                x1, y1 = \"CountTotal\", t1 ='Todas as Fases',\n",
    "                x2 = '', y2 = \"CountPre\", t2 ='Fase pré',\n",
    "                x3 = '', y3 = \"CountDurante\", t3 ='Fase Durante',\n",
    "                x4 = '', y4 = \"CountPos\", t4 ='Fase Pós',\n",
    "                rx = 0, tam_fig = (18,12), tipo = 'box', share = False):\n",
    "\n",
    "    if x2 == '':\n",
    "        x2 = x1\n",
    "    if x3 == '':\n",
    "        x3 = x1\n",
    "    if x4 == '':\n",
    "        x4 = x1\n",
    "\n",
    "    fig, axes = plt.subplots(2, 2, figsize=tam_fig, sharey=share)\n",
    "    fig.suptitle(titulo, fontsize = 20)\n",
    "    plt.subplots_adjust(hspace = .3, wspace = 0.1)\n",
    "    \n",
    "    if tipo == 'box':\n",
    "        sns.boxplot(ax=axes[0,0], data=dados1, x=x1, y=y1)\n",
    "        sns.set_palette(\"Set2\")\n",
    "        sns.boxplot(ax=axes[0,1], data=dados2, x=x2, y=y2)\n",
    "        sns.set_palette(\"Set2\")\n",
    "        sns.boxplot(ax=axes[1,0], data=dados3, x=x3, y=y3)\n",
    "        sns.set_palette(\"Set2\")\n",
    "        sns.boxplot(ax=axes[1,1], data=dados4, x=x4, y=y4)\n",
    "        sns.set_palette(\"Set2\")\n",
    "    elif tipo == 'count':\n",
    "        sns.countplot(ax=axes[0,0], data=dados1, x=x1, y=y1)\n",
    "        sns.set_palette(\"Set2\")\n",
    "        sns.countplot(ax=axes[0,1], data=dados2, x=x2, y=y2)\n",
    "        sns.set_palette(\"Set2\")\n",
    "        sns.countplot(ax=axes[1,0], data=dados3, x=x3, y=y3)\n",
    "        sns.set_palette(\"Set2\")\n",
    "        sns.countplot(ax=axes[1,1], data=dados4, x=x4, y=y4)\n",
    "        sns.set_palette(\"Set2\")\n",
    "    elif tipo == 'bar':\n",
    "        sns.barplot(ax=axes[0,0], data=dados1, x=x1, y=y1)\n",
    "        sns.set_palette(\"Set2\")\n",
    "        sns.barplot(ax=axes[0,1], data=dados2, x=x2, y=y2)\n",
    "        sns.set_palette(\"Set2\")\n",
    "        sns.barplot(ax=axes[1,0], data=dados3, x=x3, y=y3)\n",
    "        sns.set_palette(\"Set2\")\n",
    "        sns.barplot(ax=axes[1,1], data=dados4, x=x4, y=y4)\n",
    "        sns.set_palette(\"Set2\")\n",
    "    elif tipo == 'hist':\n",
    "        sns.histplot(ax=axes[0,0], data=dados1, x=x1)\n",
    "        sns.set_palette(\"Set2\")\n",
    "        sns.histplot(ax=axes[0,1], data=dados2, x=x2)\n",
    "        sns.set_palette(\"Set2\")\n",
    "        sns.histplot(ax=axes[1,0], data=dados3, x=x3)\n",
    "        sns.set_palette(\"Set2\")\n",
    "        sns.histplot(ax=axes[1,1], data=dados4, x=x4)\n",
    "        sns.set_palette(\"Set2\")\n",
    "    elif tipo == 'scatter':\n",
    "        sns.scatterplot(ax=axes[0,0], data=dados1, x=x1, y=y1)\n",
    "        sns.set_palette(\"Set2\")\n",
    "        sns.scatterplot(ax=axes[0,1], data=dados2, x=x2, y=y2)\n",
    "        sns.set_palette(\"Set2\")\n",
    "        sns.scatterplot(ax=axes[1,0], data=dados3, x=x3, y=y3)\n",
    "        sns.set_palette(\"Set2\")\n",
    "        sns.scatterplot(ax=axes[1,1], data=dados4, x=x4, y=y4)\n",
    "        sns.set_palette(\"Set2\")\n",
    "\n",
    "    axes[0,0].set(xlabel=None, ylabel=None, title=t1)\n",
    "    axes[0,0].tick_params(axis='x', rotation=rx)\n",
    "\n",
    "    axes[0,1].set(xlabel=None, ylabel=None, title=t2)\n",
    "    axes[0,1].tick_params(axis='x', rotation=rx)\n",
    "\n",
    "    axes[1,0].set(xlabel=None, ylabel=None, title=t3)\n",
    "    axes[1,0].tick_params(axis='x', rotation=rx)\n",
    "\n",
    "    axes[1,1].set(xlabel=None, ylabel=None, title=t4)\n",
    "    axes[1,1].tick_params(axis='x', rotation=rx)"
   ]
  },
  {
   "cell_type": "markdown",
   "metadata": {},
   "source": [
    "## get Count para Count Total e Gênero"
   ]
  },
  {
   "cell_type": "code",
   "execution_count": 3,
   "metadata": {},
   "outputs": [],
   "source": [
    "def getCount(tipocount):\n",
    "    y = []\n",
    "    coluna = []\n",
    "    for i in range (24,dados.columns.size,1):\n",
    "        coluna.append(str(dados.columns[i]))\n",
    "        \n",
    "        aux = []\n",
    "        for j in range (0, len(dados[dados[coluna[-1]] == 1][tipocount]),1):\n",
    "            aux.append(dados[dados[coluna[-1]] == 1][tipocount].values[j])\n",
    "            \n",
    "        y.append(aux)\n",
    "\n",
    "    colunas = {'Count':[], 'Gênero':[]}\n",
    "    df_aux = pd.DataFrame(colunas)\n",
    "\n",
    "    for i in range(len(y)):\n",
    "        for val in y[i]:\n",
    "            linha = {'Count':val, 'Gênero':coluna[i]}\n",
    "            df_aux = df_aux.append(linha, ignore_index=True)\n",
    "\n",
    "    return df_aux"
   ]
  },
  {
   "cell_type": "markdown",
   "metadata": {},
   "source": [
    "## getCount Parametrizado"
   ]
  },
  {
   "cell_type": "code",
   "execution_count": 4,
   "metadata": {},
   "outputs": [],
   "source": [
    "def getCountParam(dados, tipocount = 'Nota', nome_col1 = 'Nota', nome_col2 = 'Gênero', inicio = \"Action\", fim = \"Western\"):\n",
    "\n",
    "    lista_colunas = list(dados.columns)\n",
    "    index_primeiro_genero = lista_colunas.index(inicio)\n",
    "    index_ultimo_genero = lista_colunas.index(fim)\n",
    "    \n",
    "    y = []\n",
    "    coluna = []\n",
    "    for i in range (index_primeiro_genero,index_ultimo_genero+1,1):\n",
    "        coluna.append(str(dados.columns[i]))\n",
    "        \n",
    "        aux = []\n",
    "        for j in range (0, len(dados[dados[coluna[-1]] == 1][tipocount]),1):\n",
    "            aux.append(dados[dados[coluna[-1]] == 1][tipocount].values[j])\n",
    "            \n",
    "        y.append(aux)\n",
    "\n",
    "    colunas = {nome_col1:[], nome_col2:[]}\n",
    "    df_aux = pd.DataFrame(colunas)\n",
    "\n",
    "    for i in range(len(y)):\n",
    "        for val in y[i]:\n",
    "            linha = {nome_col1:val, nome_col2:coluna[i]}\n",
    "            df_aux = df_aux.append(linha, ignore_index=True)\n",
    "\n",
    "    return df_aux"
   ]
  },
  {
   "cell_type": "markdown",
   "metadata": {},
   "source": [
    "# Definição da amostra"
   ]
  },
  {
   "cell_type": "code",
   "execution_count": 5,
   "metadata": {},
   "outputs": [
    {
     "data": {
      "text/plain": [
       "97"
      ]
     },
     "execution_count": 5,
     "metadata": {},
     "output_type": "execute_result"
    }
   ],
   "source": [
    "popu = pd.read_csv(\"Popu_series.csv\", encoding = \"ISO-8859-1\")\n",
    "popu = popu.sample(frac=0.3, replace=False, random_state=195)\n",
    "len(popu)"
   ]
  },
  {
   "cell_type": "code",
   "execution_count": 6,
   "metadata": {},
   "outputs": [
    {
     "data": {
      "text/plain": [
       "146                            The Chosen One\n",
       "95                                    Osmosis\n",
       "173                                  Puerta 7\n",
       "106                           Holiday Secrets\n",
       "204                                Mindhunter\n",
       "                        ...                  \n",
       "28                              Sex Education\n",
       "230                          The English Game\n",
       "85                            Paava Kadhaigal\n",
       "233                                  Homemade\n",
       "264    Trailer Park Boys Out of the Park: USA\n",
       "Name: serie, Length: 97, dtype: object"
      ]
     },
     "execution_count": 6,
     "metadata": {},
     "output_type": "execute_result"
    }
   ],
   "source": [
    "popu = popu['serie']\n",
    "popu"
   ]
  },
  {
   "cell_type": "code",
   "execution_count": 7,
   "metadata": {},
   "outputs": [],
   "source": [
    "popu.to_csv(\"Amostra.csv\", index=False)"
   ]
  },
  {
   "cell_type": "markdown",
   "metadata": {},
   "source": [
    "# Análise Exploratória"
   ]
  },
  {
   "cell_type": "code",
   "execution_count": 8,
   "metadata": {},
   "outputs": [],
   "source": [
    "#imdb = pd.read_csv(\"imdb_series.csv\") REMOVER (arquivo da amostra antiga)\n",
    "imdb = pd.read_csv(\"Amostra_IMDB.csv\")\n",
    "twitter = pd.read_csv(\"series_dataset_count/dataset_count.csv\")\n",
    "reviews = pd.read_csv(\"UserReviewsCritic.csv\", sep=\";\")"
   ]
  },
  {
   "cell_type": "code",
   "execution_count": 9,
   "metadata": {},
   "outputs": [
    {
     "data": {
      "text/html": [
       "<div>\n",
       "<style scoped>\n",
       "    .dataframe tbody tr th:only-of-type {\n",
       "        vertical-align: middle;\n",
       "    }\n",
       "\n",
       "    .dataframe tbody tr th {\n",
       "        vertical-align: top;\n",
       "    }\n",
       "\n",
       "    .dataframe thead th {\n",
       "        text-align: right;\n",
       "    }\n",
       "</style>\n",
       "<table border=\"1\" class=\"dataframe\">\n",
       "  <thead>\n",
       "    <tr style=\"text-align: right;\">\n",
       "      <th></th>\n",
       "      <th>titulo</th>\n",
       "      <th>user_reviews</th>\n",
       "      <th>critic_reviews</th>\n",
       "    </tr>\n",
       "  </thead>\n",
       "  <tbody>\n",
       "    <tr>\n",
       "      <th>0</th>\n",
       "      <td>The Chosen One</td>\n",
       "      <td>27</td>\n",
       "      <td>5</td>\n",
       "    </tr>\n",
       "    <tr>\n",
       "      <th>1</th>\n",
       "      <td>Osmosis</td>\n",
       "      <td>50</td>\n",
       "      <td>10</td>\n",
       "    </tr>\n",
       "    <tr>\n",
       "      <th>2</th>\n",
       "      <td>Puerta 7</td>\n",
       "      <td>14</td>\n",
       "      <td>4</td>\n",
       "    </tr>\n",
       "    <tr>\n",
       "      <th>3</th>\n",
       "      <td>Holiday Secrets</td>\n",
       "      <td>7</td>\n",
       "      <td>5</td>\n",
       "    </tr>\n",
       "    <tr>\n",
       "      <th>4</th>\n",
       "      <td>Mindhunter</td>\n",
       "      <td>867</td>\n",
       "      <td>115</td>\n",
       "    </tr>\n",
       "  </tbody>\n",
       "</table>\n",
       "</div>"
      ],
      "text/plain": [
       "            titulo  user_reviews  critic_reviews\n",
       "0   The Chosen One            27               5\n",
       "1          Osmosis            50              10\n",
       "2         Puerta 7            14               4\n",
       "3  Holiday Secrets             7               5\n",
       "4       Mindhunter           867             115"
      ]
     },
     "execution_count": 9,
     "metadata": {},
     "output_type": "execute_result"
    }
   ],
   "source": [
    "reviews.head()"
   ]
  },
  {
   "cell_type": "code",
   "execution_count": 10,
   "metadata": {},
   "outputs": [],
   "source": [
    "twitter.dropna(inplace=True)"
   ]
  },
  {
   "cell_type": "code",
   "execution_count": 11,
   "metadata": {},
   "outputs": [
    {
     "data": {
      "text/html": [
       "<div>\n",
       "<style scoped>\n",
       "    .dataframe tbody tr th:only-of-type {\n",
       "        vertical-align: middle;\n",
       "    }\n",
       "\n",
       "    .dataframe tbody tr th {\n",
       "        vertical-align: top;\n",
       "    }\n",
       "\n",
       "    .dataframe thead th {\n",
       "        text-align: right;\n",
       "    }\n",
       "</style>\n",
       "<table border=\"1\" class=\"dataframe\">\n",
       "  <thead>\n",
       "    <tr style=\"text-align: right;\">\n",
       "      <th></th>\n",
       "      <th>Nome</th>\n",
       "      <th>DataEstreia</th>\n",
       "      <th>CountPre</th>\n",
       "      <th>CountDurante</th>\n",
       "      <th>CountPos</th>\n",
       "      <th>CountTotal</th>\n",
       "      <th>IMDBid</th>\n",
       "    </tr>\n",
       "  </thead>\n",
       "  <tbody>\n",
       "    <tr>\n",
       "      <th>0</th>\n",
       "      <td>The Chosen One</td>\n",
       "      <td>2019-06-28</td>\n",
       "      <td>419.0</td>\n",
       "      <td>472.0</td>\n",
       "      <td>1111.0</td>\n",
       "      <td>2002.0</td>\n",
       "      <td>9048368</td>\n",
       "    </tr>\n",
       "    <tr>\n",
       "      <th>1</th>\n",
       "      <td>Osmosis</td>\n",
       "      <td>2019-03-29</td>\n",
       "      <td>936.0</td>\n",
       "      <td>937.0</td>\n",
       "      <td>1959.0</td>\n",
       "      <td>3832.0</td>\n",
       "      <td>7043380</td>\n",
       "    </tr>\n",
       "    <tr>\n",
       "      <th>2</th>\n",
       "      <td>Puerta 7</td>\n",
       "      <td>2020-02-21</td>\n",
       "      <td>280.0</td>\n",
       "      <td>514.0</td>\n",
       "      <td>907.0</td>\n",
       "      <td>1701.0</td>\n",
       "      <td>9170386</td>\n",
       "    </tr>\n",
       "    <tr>\n",
       "      <th>3</th>\n",
       "      <td>Holiday Secrets</td>\n",
       "      <td>2019-11-20</td>\n",
       "      <td>13.0</td>\n",
       "      <td>49.0</td>\n",
       "      <td>93.0</td>\n",
       "      <td>155.0</td>\n",
       "      <td>11243536</td>\n",
       "    </tr>\n",
       "    <tr>\n",
       "      <th>4</th>\n",
       "      <td>Mindhunter</td>\n",
       "      <td>2017-10-13</td>\n",
       "      <td>4980.0</td>\n",
       "      <td>7459.0</td>\n",
       "      <td>30394.0</td>\n",
       "      <td>42833.0</td>\n",
       "      <td>5290382</td>\n",
       "    </tr>\n",
       "    <tr>\n",
       "      <th>...</th>\n",
       "      <td>...</td>\n",
       "      <td>...</td>\n",
       "      <td>...</td>\n",
       "      <td>...</td>\n",
       "      <td>...</td>\n",
       "      <td>...</td>\n",
       "      <td>...</td>\n",
       "    </tr>\n",
       "    <tr>\n",
       "      <th>92</th>\n",
       "      <td>Sex Education</td>\n",
       "      <td>2019-01-11</td>\n",
       "      <td>2204.0</td>\n",
       "      <td>13414.0</td>\n",
       "      <td>44564.0</td>\n",
       "      <td>60182.0</td>\n",
       "      <td>7767422</td>\n",
       "    </tr>\n",
       "    <tr>\n",
       "      <th>93</th>\n",
       "      <td>The English Game</td>\n",
       "      <td>2020-03-20</td>\n",
       "      <td>0.0</td>\n",
       "      <td>1.0</td>\n",
       "      <td>5.0</td>\n",
       "      <td>6.0</td>\n",
       "      <td>8403664</td>\n",
       "    </tr>\n",
       "    <tr>\n",
       "      <th>94</th>\n",
       "      <td>Paava Kadhaigal</td>\n",
       "      <td>2020-12-18</td>\n",
       "      <td>366.0</td>\n",
       "      <td>577.0</td>\n",
       "      <td>325.0</td>\n",
       "      <td>1268.0</td>\n",
       "      <td>13206988</td>\n",
       "    </tr>\n",
       "    <tr>\n",
       "      <th>95</th>\n",
       "      <td>Homemade</td>\n",
       "      <td>2020-06-30</td>\n",
       "      <td>142.0</td>\n",
       "      <td>180.0</td>\n",
       "      <td>232.0</td>\n",
       "      <td>554.0</td>\n",
       "      <td>12574336</td>\n",
       "    </tr>\n",
       "    <tr>\n",
       "      <th>96</th>\n",
       "      <td>Trailer Park Boys Out of the Park - USA</td>\n",
       "      <td>2017-11-24</td>\n",
       "      <td>530.0</td>\n",
       "      <td>180.0</td>\n",
       "      <td>1920.0</td>\n",
       "      <td>2630.0</td>\n",
       "      <td>5937754</td>\n",
       "    </tr>\n",
       "  </tbody>\n",
       "</table>\n",
       "<p>94 rows × 7 columns</p>\n",
       "</div>"
      ],
      "text/plain": [
       "                                       Nome DataEstreia  CountPre  \\\n",
       "0                            The Chosen One  2019-06-28     419.0   \n",
       "1                                   Osmosis  2019-03-29     936.0   \n",
       "2                                  Puerta 7  2020-02-21     280.0   \n",
       "3                           Holiday Secrets  2019-11-20      13.0   \n",
       "4                                Mindhunter  2017-10-13    4980.0   \n",
       "..                                      ...         ...       ...   \n",
       "92                            Sex Education  2019-01-11    2204.0   \n",
       "93                         The English Game  2020-03-20       0.0   \n",
       "94                          Paava Kadhaigal  2020-12-18     366.0   \n",
       "95                                 Homemade  2020-06-30     142.0   \n",
       "96  Trailer Park Boys Out of the Park - USA  2017-11-24     530.0   \n",
       "\n",
       "    CountDurante  CountPos  CountTotal    IMDBid  \n",
       "0          472.0    1111.0      2002.0   9048368  \n",
       "1          937.0    1959.0      3832.0   7043380  \n",
       "2          514.0     907.0      1701.0   9170386  \n",
       "3           49.0      93.0       155.0  11243536  \n",
       "4         7459.0   30394.0     42833.0   5290382  \n",
       "..           ...       ...         ...       ...  \n",
       "92       13414.0   44564.0     60182.0   7767422  \n",
       "93           1.0       5.0         6.0   8403664  \n",
       "94         577.0     325.0      1268.0  13206988  \n",
       "95         180.0     232.0       554.0  12574336  \n",
       "96         180.0    1920.0      2630.0   5937754  \n",
       "\n",
       "[94 rows x 7 columns]"
      ]
     },
     "execution_count": 11,
     "metadata": {},
     "output_type": "execute_result"
    }
   ],
   "source": [
    "twitter"
   ]
  },
  {
   "cell_type": "code",
   "execution_count": 12,
   "metadata": {},
   "outputs": [
    {
     "data": {
      "text/html": [
       "<div>\n",
       "<style scoped>\n",
       "    .dataframe tbody tr th:only-of-type {\n",
       "        vertical-align: middle;\n",
       "    }\n",
       "\n",
       "    .dataframe tbody tr th {\n",
       "        vertical-align: top;\n",
       "    }\n",
       "\n",
       "    .dataframe thead th {\n",
       "        text-align: right;\n",
       "    }\n",
       "</style>\n",
       "<table border=\"1\" class=\"dataframe\">\n",
       "  <thead>\n",
       "    <tr style=\"text-align: right;\">\n",
       "      <th></th>\n",
       "      <th>Titulo</th>\n",
       "      <th>Check</th>\n",
       "      <th>IMDBid</th>\n",
       "      <th>Nota</th>\n",
       "      <th>Votos</th>\n",
       "      <th>Elenco</th>\n",
       "      <th>Gênero</th>\n",
       "      <th>Duração</th>\n",
       "      <th>Reviews</th>\n",
       "      <th>Ano</th>\n",
       "      <th>Data de estréia</th>\n",
       "      <th>Roteiristas</th>\n",
       "      <th>Censura</th>\n",
       "      <th>País</th>\n",
       "      <th>Idiomas</th>\n",
       "      <th>Episodios</th>\n",
       "    </tr>\n",
       "  </thead>\n",
       "  <tbody>\n",
       "    <tr>\n",
       "      <th>0</th>\n",
       "      <td>The Chosen One</td>\n",
       "      <td>tv series</td>\n",
       "      <td>9048368</td>\n",
       "      <td>5.8</td>\n",
       "      <td>636.0</td>\n",
       "      <td>Renan Tenca, Paloma Bernardi, Gutto Szuster, P...</td>\n",
       "      <td>Mystery, Thriller</td>\n",
       "      <td>40.0</td>\n",
       "      <td>25.0</td>\n",
       "      <td>2019.0</td>\n",
       "      <td>2019-06-28</td>\n",
       "      <td>Pablo Cruz, Raphael Draccon, Raphael Draccon</td>\n",
       "      <td>Argentina:16, Brazil:16, Germany:16::(self-app...</td>\n",
       "      <td>Brazil</td>\n",
       "      <td>Portuguese</td>\n",
       "      <td>6.0</td>\n",
       "    </tr>\n",
       "    <tr>\n",
       "      <th>1</th>\n",
       "      <td>Osmosis</td>\n",
       "      <td>tv series</td>\n",
       "      <td>7043380</td>\n",
       "      <td>5.8</td>\n",
       "      <td>2851.0</td>\n",
       "      <td>Agathe Bonitzer, Hugo Becker, Gaël Kamilindi, ...</td>\n",
       "      <td>Romance, Sci-Fi</td>\n",
       "      <td>55.0</td>\n",
       "      <td>24.0</td>\n",
       "      <td>2019.0</td>\n",
       "      <td>2019-03-29</td>\n",
       "      <td>Gabriel Chiche, Louis Chiche, William Chiche</td>\n",
       "      <td>Brazil:16::(self-applied), France:13::(self-ap...</td>\n",
       "      <td>France</td>\n",
       "      <td>French</td>\n",
       "      <td>8.0</td>\n",
       "    </tr>\n",
       "    <tr>\n",
       "      <th>2</th>\n",
       "      <td>Puerta 7</td>\n",
       "      <td>tv series</td>\n",
       "      <td>9170386</td>\n",
       "      <td>5.7</td>\n",
       "      <td>516.0</td>\n",
       "      <td>Dolores Fonzi, Esteban Lamothe, Carlos Belloso...</td>\n",
       "      <td>Crime, Drama, Thriller</td>\n",
       "      <td>45.0</td>\n",
       "      <td>14.0</td>\n",
       "      <td>2020.0</td>\n",
       "      <td>2020-02-21</td>\n",
       "      <td>Patricio Vega, Martin Zimmerman, Martin Zimmerman</td>\n",
       "      <td>Argentina:18, Australia:M, Philippines:18+::(s...</td>\n",
       "      <td>Argentina</td>\n",
       "      <td>Spanish</td>\n",
       "      <td>8.0</td>\n",
       "    </tr>\n",
       "    <tr>\n",
       "      <th>3</th>\n",
       "      <td>Holiday Secrets</td>\n",
       "      <td>tv mini series</td>\n",
       "      <td>11243536</td>\n",
       "      <td>6.5</td>\n",
       "      <td>1032.0</td>\n",
       "      <td>Corinna Harfouch, Christiane Paul, Svenja Jung...</td>\n",
       "      <td>Drama</td>\n",
       "      <td>NaN</td>\n",
       "      <td>7.0</td>\n",
       "      <td>2019.0</td>\n",
       "      <td>2019-11-20</td>\n",
       "      <td>Katharina Eyssen</td>\n",
       "      <td>Argentina:13, Singapore:PG13</td>\n",
       "      <td>Germany</td>\n",
       "      <td>German</td>\n",
       "      <td>3.0</td>\n",
       "    </tr>\n",
       "    <tr>\n",
       "      <th>4</th>\n",
       "      <td>Mindhunter</td>\n",
       "      <td>tv series</td>\n",
       "      <td>5290382</td>\n",
       "      <td>8.6</td>\n",
       "      <td>246759.0</td>\n",
       "      <td>Jonathan Groff, Holt McCallany, Anna Torv, Son...</td>\n",
       "      <td>Crime, Drama, Thriller</td>\n",
       "      <td>60.0</td>\n",
       "      <td>25.0</td>\n",
       "      <td>2017.0</td>\n",
       "      <td>2017-10-13</td>\n",
       "      <td>John Douglas, Mark Olshaker, Joe Penhall</td>\n",
       "      <td>Argentina:16, Australia:MA15+::(Netflix self-r...</td>\n",
       "      <td>United States</td>\n",
       "      <td>English</td>\n",
       "      <td>10.0</td>\n",
       "    </tr>\n",
       "  </tbody>\n",
       "</table>\n",
       "</div>"
      ],
      "text/plain": [
       "            Titulo           Check    IMDBid  Nota     Votos  \\\n",
       "0   The Chosen One       tv series   9048368   5.8     636.0   \n",
       "1          Osmosis       tv series   7043380   5.8    2851.0   \n",
       "2         Puerta 7       tv series   9170386   5.7     516.0   \n",
       "3  Holiday Secrets  tv mini series  11243536   6.5    1032.0   \n",
       "4       Mindhunter       tv series   5290382   8.6  246759.0   \n",
       "\n",
       "                                              Elenco                  Gênero  \\\n",
       "0  Renan Tenca, Paloma Bernardi, Gutto Szuster, P...       Mystery, Thriller   \n",
       "1  Agathe Bonitzer, Hugo Becker, Gaël Kamilindi, ...         Romance, Sci-Fi   \n",
       "2  Dolores Fonzi, Esteban Lamothe, Carlos Belloso...  Crime, Drama, Thriller   \n",
       "3  Corinna Harfouch, Christiane Paul, Svenja Jung...                   Drama   \n",
       "4  Jonathan Groff, Holt McCallany, Anna Torv, Son...  Crime, Drama, Thriller   \n",
       "\n",
       "   Duração  Reviews     Ano Data de estréia  \\\n",
       "0     40.0     25.0  2019.0      2019-06-28   \n",
       "1     55.0     24.0  2019.0      2019-03-29   \n",
       "2     45.0     14.0  2020.0      2020-02-21   \n",
       "3      NaN      7.0  2019.0      2019-11-20   \n",
       "4     60.0     25.0  2017.0      2017-10-13   \n",
       "\n",
       "                                         Roteiristas  \\\n",
       "0       Pablo Cruz, Raphael Draccon, Raphael Draccon   \n",
       "1       Gabriel Chiche, Louis Chiche, William Chiche   \n",
       "2  Patricio Vega, Martin Zimmerman, Martin Zimmerman   \n",
       "3                                   Katharina Eyssen   \n",
       "4           John Douglas, Mark Olshaker, Joe Penhall   \n",
       "\n",
       "                                             Censura           País  \\\n",
       "0  Argentina:16, Brazil:16, Germany:16::(self-app...         Brazil   \n",
       "1  Brazil:16::(self-applied), France:13::(self-ap...         France   \n",
       "2  Argentina:18, Australia:M, Philippines:18+::(s...      Argentina   \n",
       "3                       Argentina:13, Singapore:PG13        Germany   \n",
       "4  Argentina:16, Australia:MA15+::(Netflix self-r...  United States   \n",
       "\n",
       "      Idiomas  Episodios  \n",
       "0  Portuguese        6.0  \n",
       "1      French        8.0  \n",
       "2     Spanish        8.0  \n",
       "3      German        3.0  \n",
       "4     English       10.0  "
      ]
     },
     "execution_count": 12,
     "metadata": {},
     "output_type": "execute_result"
    }
   ],
   "source": [
    "imdb.head()"
   ]
  },
  {
   "cell_type": "code",
   "execution_count": 13,
   "metadata": {},
   "outputs": [
    {
     "data": {
      "text/html": [
       "<div>\n",
       "<style scoped>\n",
       "    .dataframe tbody tr th:only-of-type {\n",
       "        vertical-align: middle;\n",
       "    }\n",
       "\n",
       "    .dataframe tbody tr th {\n",
       "        vertical-align: top;\n",
       "    }\n",
       "\n",
       "    .dataframe thead th {\n",
       "        text-align: right;\n",
       "    }\n",
       "</style>\n",
       "<table border=\"1\" class=\"dataframe\">\n",
       "  <thead>\n",
       "    <tr style=\"text-align: right;\">\n",
       "      <th></th>\n",
       "      <th>Titulo</th>\n",
       "      <th>Check</th>\n",
       "      <th>IMDBid</th>\n",
       "      <th>Nota</th>\n",
       "      <th>Votos</th>\n",
       "      <th>Elenco</th>\n",
       "      <th>Gênero</th>\n",
       "      <th>Duração</th>\n",
       "      <th>Reviews</th>\n",
       "      <th>Ano</th>\n",
       "      <th>...</th>\n",
       "      <th>Idiomas</th>\n",
       "      <th>Episodios</th>\n",
       "      <th>Nome</th>\n",
       "      <th>DataEstreia</th>\n",
       "      <th>CountPre</th>\n",
       "      <th>CountDurante</th>\n",
       "      <th>CountPos</th>\n",
       "      <th>CountTotal</th>\n",
       "      <th>user_reviews</th>\n",
       "      <th>critic_reviews</th>\n",
       "    </tr>\n",
       "  </thead>\n",
       "  <tbody>\n",
       "    <tr>\n",
       "      <th>0</th>\n",
       "      <td>The Chosen One</td>\n",
       "      <td>tv series</td>\n",
       "      <td>9048368</td>\n",
       "      <td>5.8</td>\n",
       "      <td>636.0</td>\n",
       "      <td>Renan Tenca, Paloma Bernardi, Gutto Szuster, P...</td>\n",
       "      <td>Mystery, Thriller</td>\n",
       "      <td>40.0</td>\n",
       "      <td>25.0</td>\n",
       "      <td>2019.0</td>\n",
       "      <td>...</td>\n",
       "      <td>Portuguese</td>\n",
       "      <td>6.0</td>\n",
       "      <td>The Chosen One</td>\n",
       "      <td>2019-06-28</td>\n",
       "      <td>419.0</td>\n",
       "      <td>472.0</td>\n",
       "      <td>1111.0</td>\n",
       "      <td>2002.0</td>\n",
       "      <td>27</td>\n",
       "      <td>5</td>\n",
       "    </tr>\n",
       "    <tr>\n",
       "      <th>1</th>\n",
       "      <td>Osmosis</td>\n",
       "      <td>tv series</td>\n",
       "      <td>7043380</td>\n",
       "      <td>5.8</td>\n",
       "      <td>2851.0</td>\n",
       "      <td>Agathe Bonitzer, Hugo Becker, Gaël Kamilindi, ...</td>\n",
       "      <td>Romance, Sci-Fi</td>\n",
       "      <td>55.0</td>\n",
       "      <td>24.0</td>\n",
       "      <td>2019.0</td>\n",
       "      <td>...</td>\n",
       "      <td>French</td>\n",
       "      <td>8.0</td>\n",
       "      <td>Osmosis</td>\n",
       "      <td>2019-03-29</td>\n",
       "      <td>936.0</td>\n",
       "      <td>937.0</td>\n",
       "      <td>1959.0</td>\n",
       "      <td>3832.0</td>\n",
       "      <td>50</td>\n",
       "      <td>10</td>\n",
       "    </tr>\n",
       "    <tr>\n",
       "      <th>2</th>\n",
       "      <td>Puerta 7</td>\n",
       "      <td>tv series</td>\n",
       "      <td>9170386</td>\n",
       "      <td>5.7</td>\n",
       "      <td>516.0</td>\n",
       "      <td>Dolores Fonzi, Esteban Lamothe, Carlos Belloso...</td>\n",
       "      <td>Crime, Drama, Thriller</td>\n",
       "      <td>45.0</td>\n",
       "      <td>14.0</td>\n",
       "      <td>2020.0</td>\n",
       "      <td>...</td>\n",
       "      <td>Spanish</td>\n",
       "      <td>8.0</td>\n",
       "      <td>Puerta 7</td>\n",
       "      <td>2020-02-21</td>\n",
       "      <td>280.0</td>\n",
       "      <td>514.0</td>\n",
       "      <td>907.0</td>\n",
       "      <td>1701.0</td>\n",
       "      <td>14</td>\n",
       "      <td>4</td>\n",
       "    </tr>\n",
       "    <tr>\n",
       "      <th>3</th>\n",
       "      <td>Holiday Secrets</td>\n",
       "      <td>tv mini series</td>\n",
       "      <td>11243536</td>\n",
       "      <td>6.5</td>\n",
       "      <td>1032.0</td>\n",
       "      <td>Corinna Harfouch, Christiane Paul, Svenja Jung...</td>\n",
       "      <td>Drama</td>\n",
       "      <td>NaN</td>\n",
       "      <td>7.0</td>\n",
       "      <td>2019.0</td>\n",
       "      <td>...</td>\n",
       "      <td>German</td>\n",
       "      <td>3.0</td>\n",
       "      <td>Holiday Secrets</td>\n",
       "      <td>2019-11-20</td>\n",
       "      <td>13.0</td>\n",
       "      <td>49.0</td>\n",
       "      <td>93.0</td>\n",
       "      <td>155.0</td>\n",
       "      <td>7</td>\n",
       "      <td>5</td>\n",
       "    </tr>\n",
       "    <tr>\n",
       "      <th>4</th>\n",
       "      <td>Mindhunter</td>\n",
       "      <td>tv series</td>\n",
       "      <td>5290382</td>\n",
       "      <td>8.6</td>\n",
       "      <td>246759.0</td>\n",
       "      <td>Jonathan Groff, Holt McCallany, Anna Torv, Son...</td>\n",
       "      <td>Crime, Drama, Thriller</td>\n",
       "      <td>60.0</td>\n",
       "      <td>25.0</td>\n",
       "      <td>2017.0</td>\n",
       "      <td>...</td>\n",
       "      <td>English</td>\n",
       "      <td>10.0</td>\n",
       "      <td>Mindhunter</td>\n",
       "      <td>2017-10-13</td>\n",
       "      <td>4980.0</td>\n",
       "      <td>7459.0</td>\n",
       "      <td>30394.0</td>\n",
       "      <td>42833.0</td>\n",
       "      <td>867</td>\n",
       "      <td>115</td>\n",
       "    </tr>\n",
       "  </tbody>\n",
       "</table>\n",
       "<p>5 rows × 24 columns</p>\n",
       "</div>"
      ],
      "text/plain": [
       "            Titulo           Check    IMDBid  Nota     Votos  \\\n",
       "0   The Chosen One       tv series   9048368   5.8     636.0   \n",
       "1          Osmosis       tv series   7043380   5.8    2851.0   \n",
       "2         Puerta 7       tv series   9170386   5.7     516.0   \n",
       "3  Holiday Secrets  tv mini series  11243536   6.5    1032.0   \n",
       "4       Mindhunter       tv series   5290382   8.6  246759.0   \n",
       "\n",
       "                                              Elenco                  Gênero  \\\n",
       "0  Renan Tenca, Paloma Bernardi, Gutto Szuster, P...       Mystery, Thriller   \n",
       "1  Agathe Bonitzer, Hugo Becker, Gaël Kamilindi, ...         Romance, Sci-Fi   \n",
       "2  Dolores Fonzi, Esteban Lamothe, Carlos Belloso...  Crime, Drama, Thriller   \n",
       "3  Corinna Harfouch, Christiane Paul, Svenja Jung...                   Drama   \n",
       "4  Jonathan Groff, Holt McCallany, Anna Torv, Son...  Crime, Drama, Thriller   \n",
       "\n",
       "   Duração  Reviews     Ano  ...     Idiomas Episodios             Nome  \\\n",
       "0     40.0     25.0  2019.0  ...  Portuguese       6.0   The Chosen One   \n",
       "1     55.0     24.0  2019.0  ...      French       8.0          Osmosis   \n",
       "2     45.0     14.0  2020.0  ...     Spanish       8.0         Puerta 7   \n",
       "3      NaN      7.0  2019.0  ...      German       3.0  Holiday Secrets   \n",
       "4     60.0     25.0  2017.0  ...     English      10.0       Mindhunter   \n",
       "\n",
       "  DataEstreia CountPre  CountDurante CountPos CountTotal  user_reviews  \\\n",
       "0  2019-06-28    419.0         472.0   1111.0     2002.0            27   \n",
       "1  2019-03-29    936.0         937.0   1959.0     3832.0            50   \n",
       "2  2020-02-21    280.0         514.0    907.0     1701.0            14   \n",
       "3  2019-11-20     13.0          49.0     93.0      155.0             7   \n",
       "4  2017-10-13   4980.0        7459.0  30394.0    42833.0           867   \n",
       "\n",
       "   critic_reviews  \n",
       "0               5  \n",
       "1              10  \n",
       "2               4  \n",
       "3               5  \n",
       "4             115  \n",
       "\n",
       "[5 rows x 24 columns]"
      ]
     },
     "execution_count": 13,
     "metadata": {},
     "output_type": "execute_result"
    }
   ],
   "source": [
    "reviews.rename(columns={\"titulo\":\"Titulo\"}, inplace=True)\n",
    "aux = pd.merge(imdb, twitter, on = \"IMDBid\")\n",
    "dados = pd.merge(aux, reviews, on = \"Titulo\")\n",
    "\n",
    "#dados.drop(dados[dados[\"Nome\"]==\"LoveDeathandRobots\"].index, inplace=True)\n",
    "dados.head()"
   ]
  },
  {
   "cell_type": "code",
   "execution_count": 14,
   "metadata": {},
   "outputs": [],
   "source": [
    "dados.drop(columns=\"Reviews\", inplace=True)"
   ]
  },
  {
   "cell_type": "code",
   "execution_count": 15,
   "metadata": {},
   "outputs": [],
   "source": [
    "indice = dados[dados['Duração']>100]['Duração'].index"
   ]
  },
  {
   "cell_type": "code",
   "execution_count": 16,
   "metadata": {},
   "outputs": [],
   "source": [
    "dados.loc[indice, \"Duração\"] = dados.loc[indice, \"Duração\"]/dados.loc[indice, \"Episodios\"]"
   ]
  },
  {
   "cell_type": "code",
   "execution_count": 17,
   "metadata": {},
   "outputs": [
    {
     "data": {
      "text/html": [
       "<div>\n",
       "<style scoped>\n",
       "    .dataframe tbody tr th:only-of-type {\n",
       "        vertical-align: middle;\n",
       "    }\n",
       "\n",
       "    .dataframe tbody tr th {\n",
       "        vertical-align: top;\n",
       "    }\n",
       "\n",
       "    .dataframe thead th {\n",
       "        text-align: right;\n",
       "    }\n",
       "</style>\n",
       "<table border=\"1\" class=\"dataframe\">\n",
       "  <thead>\n",
       "    <tr style=\"text-align: right;\">\n",
       "      <th></th>\n",
       "      <th>Titulo</th>\n",
       "      <th>Check</th>\n",
       "      <th>IMDBid</th>\n",
       "      <th>Nota</th>\n",
       "      <th>Votos</th>\n",
       "      <th>Elenco</th>\n",
       "      <th>Gênero</th>\n",
       "      <th>Duração</th>\n",
       "      <th>Ano</th>\n",
       "      <th>Data de estréia</th>\n",
       "      <th>...</th>\n",
       "      <th>Idiomas</th>\n",
       "      <th>Episodios</th>\n",
       "      <th>Nome</th>\n",
       "      <th>DataEstreia</th>\n",
       "      <th>CountPre</th>\n",
       "      <th>CountDurante</th>\n",
       "      <th>CountPos</th>\n",
       "      <th>CountTotal</th>\n",
       "      <th>user_reviews</th>\n",
       "      <th>critic_reviews</th>\n",
       "    </tr>\n",
       "  </thead>\n",
       "  <tbody>\n",
       "  </tbody>\n",
       "</table>\n",
       "<p>0 rows × 23 columns</p>\n",
       "</div>"
      ],
      "text/plain": [
       "Empty DataFrame\n",
       "Columns: [Titulo, Check, IMDBid, Nota, Votos, Elenco, Gênero, Duração, Ano, Data de estréia, Roteiristas, Censura, País, Idiomas, Episodios, Nome, DataEstreia, CountPre, CountDurante, CountPos, CountTotal, user_reviews, critic_reviews]\n",
       "Index: []\n",
       "\n",
       "[0 rows x 23 columns]"
      ]
     },
     "execution_count": 17,
     "metadata": {},
     "output_type": "execute_result"
    }
   ],
   "source": [
    "dados[dados['Duração']>100]"
   ]
  },
  {
   "cell_type": "code",
   "execution_count": 18,
   "metadata": {},
   "outputs": [],
   "source": [
    "dados['DataEstreia'] = pd.to_datetime(dados['DataEstreia'], format=\"%Y-%m-%d\", errors = 'coerce')\n",
    "dados['mes'] = pd.DatetimeIndex(dados['DataEstreia']).month"
   ]
  },
  {
   "cell_type": "markdown",
   "metadata": {},
   "source": [
    "LEMBRAR DE DIVIDIR O ENGAJAMENTO POR NUMERO DE DIAS!!"
   ]
  },
  {
   "cell_type": "code",
   "execution_count": 19,
   "metadata": {},
   "outputs": [],
   "source": [
    "diasPre = 75-3\n",
    "diasDurante = 7\n",
    "diasPos = 150-3\n",
    "diasTotal = 226\n",
    "dados['TaxaPre'] = dados['CountPre']/diasPre\n",
    "dados['TaxaDurante'] = dados['CountDurante']/diasDurante\n",
    "dados['TaxaPos'] = dados['CountPos']/diasPos\n",
    "dados['TaxaTotal'] = dados['CountTotal']/diasPos"
   ]
  },
  {
   "cell_type": "markdown",
   "metadata": {},
   "source": [
    "Removendo gênero inconsistente"
   ]
  },
  {
   "cell_type": "markdown",
   "metadata": {},
   "source": [
    "### Alterando o formato das variáveis"
   ]
  },
  {
   "cell_type": "code",
   "execution_count": 20,
   "metadata": {},
   "outputs": [],
   "source": [
    "dados[\"Ano\"] = dados[\"Ano\"].astype('int32')\n",
    "dados[\"Episodios\"] = dados[\"Episodios\"].astype('int32')\n",
    "#dados[\"Idiomas\"] = dados[\"Idiomas\"].astype('?')"
   ]
  },
  {
   "cell_type": "markdown",
   "metadata": {},
   "source": [
    "### Hot Encoding Gênero"
   ]
  },
  {
   "cell_type": "code",
   "execution_count": 21,
   "metadata": {},
   "outputs": [
    {
     "name": "stderr",
     "output_type": "stream",
     "text": [
      "C:\\Users\\Amamiya\\AppData\\Local\\Temp/ipykernel_15496/2750002669.py:2: FutureWarning: Using the level keyword in DataFrame and Series aggregations is deprecated and will be removed in a future version. Use groupby instead. df.sum(level=1) should use df.groupby(level=1).sum().\n",
      "  dummies = pd.get_dummies(dados['Gênero'].apply(pd.Series).stack()).sum(level=0)\n"
     ]
    }
   ],
   "source": [
    "dados['Gênero'] = dados['Gênero'].apply(lambda x : x.split(\", \"))\n",
    "dummies = pd.get_dummies(dados['Gênero'].apply(pd.Series).stack()).sum(level=0)\n",
    "dados = dados.join(dummies)"
   ]
  },
  {
   "cell_type": "code",
   "execution_count": 22,
   "metadata": {},
   "outputs": [],
   "source": [
    "dados.drop(columns=\"Short\",inplace=True)"
   ]
  },
  {
   "cell_type": "markdown",
   "metadata": {},
   "source": [
    "### Hot Encoding País"
   ]
  },
  {
   "cell_type": "code",
   "execution_count": 23,
   "metadata": {},
   "outputs": [
    {
     "name": "stderr",
     "output_type": "stream",
     "text": [
      "C:\\Users\\Amamiya\\AppData\\Local\\Temp/ipykernel_15496/424885695.py:2: FutureWarning: Using the level keyword in DataFrame and Series aggregations is deprecated and will be removed in a future version. Use groupby instead. df.sum(level=1) should use df.groupby(level=1).sum().\n",
      "  dummies = pd.get_dummies(dados['País'].apply(pd.Series).stack()).sum(level=0)\n"
     ]
    }
   ],
   "source": [
    "dados['País'] = dados['País'].apply(lambda x : x.split(\", \"))\n",
    "dummies = pd.get_dummies(dados['País'].apply(pd.Series).stack()).sum(level=0)\n",
    "dados = dados.join(dummies)"
   ]
  },
  {
   "cell_type": "markdown",
   "metadata": {},
   "source": [
    "### Hot Encoding Idioma"
   ]
  },
  {
   "cell_type": "code",
   "execution_count": 24,
   "metadata": {},
   "outputs": [],
   "source": [
    "#dados['Idiomas'] = dados['Idiomas'].apply(lambda x : x.split(\", \"))"
   ]
  },
  {
   "cell_type": "code",
   "execution_count": 25,
   "metadata": {},
   "outputs": [],
   "source": [
    "#dummies = pd.get_dummies(dados['Idiomas'].apply(pd.Series).stack()).sum(level=0)"
   ]
  },
  {
   "cell_type": "code",
   "execution_count": 26,
   "metadata": {},
   "outputs": [],
   "source": [
    "#dados = dados.join(dummies)"
   ]
  },
  {
   "cell_type": "markdown",
   "metadata": {},
   "source": [
    "# Análise Exploratória"
   ]
  },
  {
   "cell_type": "code",
   "execution_count": 27,
   "metadata": {},
   "outputs": [],
   "source": [
    "teste = dados[dados['Duração'].notna()]"
   ]
  },
  {
   "cell_type": "code",
   "execution_count": 28,
   "metadata": {},
   "outputs": [],
   "source": [
    "#dados.apply(lambda linha: linha['Duração'] if linha['Duração']<100 else linha['Duração']/linha['Episodios'])\n",
    "#dados.apply(lambda linha: print(linha[7]))\n",
    "#a = teste.apply(lambda linha: print(linha[0]))\n",
    "#dados['Duração']\n",
    "\n",
    "#duracao = dados['Duração']\n",
    "#epi = dados['Episodios']\n"
   ]
  },
  {
   "cell_type": "markdown",
   "metadata": {},
   "source": [
    "## Notas"
   ]
  },
  {
   "cell_type": "code",
   "execution_count": 29,
   "metadata": {},
   "outputs": [
    {
     "data": {
      "image/png": "[encoded data removed]",
      "text/plain": [
       "<Figure size 432x288 with 1 Axes>"
      ]
     },
     "metadata": {
      "needs_background": "light"
     },
     "output_type": "display_data"
    }
   ],
   "source": [
    "fig, ax = plt.subplots()\n",
    "sns.histplot(data = dados, x = \"Nota\")\n",
    "ax.set(xlabel = None, ylabel = 'Frequência', title = 'Histograma das notas no IMDb')\n",
    "ax.tick_params(axis = 'x', rotation = 0)"
   ]
  },
  {
   "cell_type": "code",
   "execution_count": 30,
   "metadata": {},
   "outputs": [],
   "source": [
    "#fig, ax = plt.subplots()\n",
    "#sns.boxplot(y=dados['Nota'], data=dados)\n",
    "#ax.set(xlabel = None, ylabel = None, title = 'Boxplot das Notas')\n",
    "#ax.tick_params(axis = 'x', rotation = 0)"
   ]
  },
  {
   "cell_type": "code",
   "execution_count": 31,
   "metadata": {},
   "outputs": [],
   "source": [
    "#fig, ax = plt.subplots()\n",
    "#sns.boxplot(x=dados['Ano'],y=dados['Nota'], data=dados)\n",
    "#ax.set(xlabel = None, ylabel = None, title = 'Boxplot das notas no IMDb por ano de lançamento')\n",
    "#ax.tick_params(axis = 'x', rotation = 0)\n",
    "\n",
    "#fig, ax = plt.subplots()\n",
    "#sns.boxplot(x='Ano', y='Nota', data=dados[dados['Ano']>2016])\n",
    "#ax.set_title('Boxplot das notas no IMDb por ano de lançamento (após 2016)')\n",
    "#ax.tick_params(axis = 'x', rotation = 0)"
   ]
  },
  {
   "cell_type": "code",
   "execution_count": 32,
   "metadata": {},
   "outputs": [
    {
     "data": {
      "image/png": "[encoded data removed]",
      "text/plain": [
       "<Figure size 1440x504 with 2 Axes>"
      ]
     },
     "metadata": {
      "needs_background": "light"
     },
     "output_type": "display_data"
    }
   ],
   "source": [
    "fig, axes = plt.subplots(1, 2, figsize=(20,7), sharey=False)\n",
    "fig.suptitle('', fontsize = 20)\n",
    "plt.subplots_adjust(hspace = .3, wspace = 0.1)\n",
    "\n",
    "sns.boxplot(ax=axes[0], x = dados['Ano'], y = dados['Nota'], data=dados)\n",
    "axes[0].set(xlabel=None, ylabel=None, title = 'Boxplot das notas no IMDb por ano de lançamento')\n",
    "axes[0].tick_params(axis = 'x', rotation = 90)\n",
    "\n",
    "sns.boxplot(ax=axes[1], x = 'Ano', y = 'Nota', data = dados[dados['Ano']>2016])\n",
    "axes[1].set(xlabel=None, ylabel=None, title = 'Boxplot das notas no IMDb por ano de lançamento (após 2016)')\n",
    "axes[1].tick_params(axis = 'x', rotation = 90)"
   ]
  },
  {
   "cell_type": "code",
   "execution_count": 33,
   "metadata": {},
   "outputs": [],
   "source": [
    "df_aux = getCountParam(dados)"
   ]
  },
  {
   "cell_type": "code",
   "execution_count": 34,
   "metadata": {},
   "outputs": [],
   "source": [
    "#fig, ax = plt.subplots()\n",
    "#sns.boxplot(x = 'Gênero', y = 'Nota', data = df_aux)\n",
    "#ax.set(xlabel = None, ylabel = None, title = 'Notas x Gênero')\n",
    "#ax.tick_params(rotation = 90)\n",
    "\n",
    "#fig, ax = plt.subplots()\n",
    "#sns.countplot(x = 'Gênero', data = df_aux)\n",
    "#ax.set(xlabel = None, ylabel = None)\n",
    "#ax.tick_params(rotation = 90)"
   ]
  },
  {
   "cell_type": "code",
   "execution_count": 35,
   "metadata": {},
   "outputs": [
    {
     "data": {
      "image/png": "[encoded data removed]",
      "text/plain": [
       "<Figure size 1440x360 with 2 Axes>"
      ]
     },
     "metadata": {
      "needs_background": "light"
     },
     "output_type": "display_data"
    }
   ],
   "source": [
    "fig, axes = plt.subplots(1, 2, figsize=(20,5), sharey=False)\n",
    "fig.suptitle('', fontsize = 20)\n",
    "plt.subplots_adjust(hspace = .3, wspace = 0.1)\n",
    "\n",
    "sns.boxplot(ax=axes[0], x = 'Gênero', y = 'Nota', data = df_aux)\n",
    "axes[0].set(xlabel=None, ylabel=None, title = 'Notas x Gênero')\n",
    "axes[0].tick_params(axis = 'x', rotation = 90)\n",
    "\n",
    "sns.countplot(ax=axes[1],x = 'Gênero', data = df_aux)\n",
    "axes[1].set(xlabel=None, ylabel=None)\n",
    "axes[1].tick_params(axis = 'x', rotation = 90)"
   ]
  },
  {
   "cell_type": "code",
   "execution_count": 36,
   "metadata": {},
   "outputs": [],
   "source": [
    "#dados.iloc[:, 24:].sum()\n",
    "#dados.iloc[:, 24:].sum()*100/86"
   ]
  },
  {
   "cell_type": "markdown",
   "metadata": {},
   "source": [
    "### Nota do IMDB e número de votos por engajamento"
   ]
  },
  {
   "cell_type": "markdown",
   "metadata": {},
   "source": [
    "to DO: agrupar 4x4 nota por engajamento (scatter)\n",
    "\n",
    "todos os count"
   ]
  },
  {
   "cell_type": "code",
   "execution_count": 37,
   "metadata": {},
   "outputs": [
    {
     "data": {
      "text/plain": [
       "<AxesSubplot:xlabel='Nota', ylabel='CountTotal'>"
      ]
     },
     "execution_count": 37,
     "metadata": {},
     "output_type": "execute_result"
    },
    {
     "data": {
      "image/png": "[encoded data removed]",
      "text/plain": [
       "<Figure size 432x288 with 1 Axes>"
      ]
     },
     "metadata": {
      "needs_background": "light"
     },
     "output_type": "display_data"
    }
   ],
   "source": [
    "#dados['Nota'] CountPre CountDurante CountPos CountTotal\n",
    "\n",
    "sns.scatterplot(data=dados, x=\"Nota\", y=\"CountTotal\")\n",
    "#sns.regplot(data=dados[dados['Nota']>4], x=\"Nota\", y=\"CountTotal\")\n",
    "\n",
    "#nota1.set_title('Histograma das notas no IMDb')\n",
    "#nota1.set_ylabel('Frequência')"
   ]
  },
  {
   "cell_type": "markdown",
   "metadata": {},
   "source": [
    "**VER QUAL O ERRO QUE TA DANDO AQUI**"
   ]
  },
  {
   "cell_type": "code",
   "execution_count": 38,
   "metadata": {},
   "outputs": [],
   "source": [
    "#sns.boxplot(data=dados, x=\"Nota\", y=\"País\")#, hue=dados['País'])"
   ]
  },
  {
   "cell_type": "code",
   "execution_count": 39,
   "metadata": {},
   "outputs": [],
   "source": [
    "#maiorespaises = dados[ (dados['País']==\"United States\") | (dados['País']==\"Brazil\") | (dados['País']==\"South Korea\") | (dados['País']==\"United Kingdom\") | (dados['País']==\"Germany\") | (dados['País']==\"India\")]\n",
    "#sns.boxplot(data=maiorespaises, x=\"Nota\", y=\"País\")#, hue=dados['País'])\n"
   ]
  },
  {
   "cell_type": "markdown",
   "metadata": {},
   "source": [
    "**DESCOMENTAR ACIMA**"
   ]
  },
  {
   "cell_type": "code",
   "execution_count": null,
   "metadata": {},
   "outputs": [],
   "source": []
  },
  {
   "cell_type": "code",
   "execution_count": null,
   "metadata": {},
   "outputs": [],
   "source": []
  },
  {
   "cell_type": "code",
   "execution_count": null,
   "metadata": {},
   "outputs": [],
   "source": []
  },
  {
   "cell_type": "code",
   "execution_count": null,
   "metadata": {},
   "outputs": [],
   "source": []
  },
  {
   "cell_type": "code",
   "execution_count": null,
   "metadata": {},
   "outputs": [],
   "source": []
  },
  {
   "cell_type": "code",
   "execution_count": null,
   "metadata": {},
   "outputs": [],
   "source": []
  },
  {
   "cell_type": "markdown",
   "metadata": {},
   "source": [
    "Usar o codigo de genero para pais (fazer one hot encoding antes)\n",
    "\n",
    "Não quer só a nota, quer outros atributos"
   ]
  },
  {
   "cell_type": "code",
   "execution_count": 40,
   "metadata": {},
   "outputs": [],
   "source": [
    "#y = []\n",
    "#coluna = []\n",
    "#for i in range (24,dados.columns.size,1):\n",
    "#    coluna.append(str(dados.columns[i]))\n",
    "#    \n",
    "#    aux = []\n",
    "#    for j in range (0, len(dados[dados[coluna[-1]] == 1]['Nota']),1):\n",
    "#        aux.append(dados[dados[coluna[-1]] == 1]['Nota'].values[j])\n",
    "#        \n",
    "#    y.append(aux)\n",
    "\n",
    "#colunas = {'Nota':[], 'Gênero':[]}\n",
    "#df_aux = pd.DataFrame(colunas)\n",
    "\n",
    "#for i in range(len(y)):\n",
    "#    for val in y[i]:\n",
    "#        linha = {'Nota':val, 'Gênero':coluna[i]}\n",
    "#        df_aux = df_aux.append(linha, ignore_index=True)"
   ]
  },
  {
   "cell_type": "markdown",
   "metadata": {},
   "source": [
    "**TA DANDO ERRO AQUI, DESCOMENTAR ABAIXO**"
   ]
  },
  {
   "cell_type": "code",
   "execution_count": 41,
   "metadata": {},
   "outputs": [],
   "source": [
    "#sns.boxplot(data=dados[dados['País'].str.contains(\",\")==False], x=\"Nota\", y=\"País\")#, hue=dados['País'])"
   ]
  },
  {
   "cell_type": "code",
   "execution_count": 42,
   "metadata": {},
   "outputs": [
    {
     "data": {
      "text/plain": [
       "<AxesSubplot:xlabel='Episodios', ylabel='count'>"
      ]
     },
     "execution_count": 42,
     "metadata": {},
     "output_type": "execute_result"
    },
    {
     "data": {
      "image/png": "[encoded data removed]",
      "text/plain": [
       "<Figure size 432x288 with 1 Axes>"
      ]
     },
     "metadata": {
      "needs_background": "light"
     },
     "output_type": "display_data"
    }
   ],
   "source": [
    "sns.countplot(data=dados, x=\"Episodios\")"
   ]
  },
  {
   "cell_type": "code",
   "execution_count": 43,
   "metadata": {},
   "outputs": [
    {
     "data": {
      "text/plain": [
       "<AxesSubplot:xlabel='Episodios', ylabel='Nota'>"
      ]
     },
     "execution_count": 43,
     "metadata": {},
     "output_type": "execute_result"
    },
    {
     "data": {
      "image/png": "[encoded data removed]",
      "text/plain": [
       "<Figure size 432x288 with 1 Axes>"
      ]
     },
     "metadata": {
      "needs_background": "light"
     },
     "output_type": "display_data"
    }
   ],
   "source": [
    "sns.boxplot(data=dados, x=\"Episodios\", y=\"Nota\")"
   ]
  },
  {
   "cell_type": "code",
   "execution_count": 44,
   "metadata": {},
   "outputs": [
    {
     "data": {
      "text/plain": [
       "Text(0.5, 0, 'Tipo de série')"
      ]
     },
     "execution_count": 44,
     "metadata": {},
     "output_type": "execute_result"
    },
    {
     "data": {
      "image/png": "[encoded data removed]",
      "text/plain": [
       "<Figure size 432x288 with 1 Axes>"
      ]
     },
     "metadata": {
      "needs_background": "light"
     },
     "output_type": "display_data"
    }
   ],
   "source": [
    "tipo1 = sns.boxplot(data=dados, x=\"Check\", y=\"Nota\")\n",
    "tipo1.set_title('Boxplot das notas de acordo com o tipo de série')\n",
    "tipo1.set_xlabel('Tipo de série')"
   ]
  },
  {
   "cell_type": "code",
   "execution_count": 45,
   "metadata": {},
   "outputs": [],
   "source": [
    "#sns.scatterplot(data=dados, x=\"Nota\", y=\"CountPre\")"
   ]
  },
  {
   "cell_type": "code",
   "execution_count": 46,
   "metadata": {},
   "outputs": [],
   "source": [
    "#sns.scatterplot(data=dados, x=\"Nota\", y=\"CountDurante\")"
   ]
  },
  {
   "cell_type": "code",
   "execution_count": 47,
   "metadata": {},
   "outputs": [],
   "source": [
    "#sns.scatterplot(data=dados, x=\"Nota\", y=\"CountPos\")"
   ]
  },
  {
   "cell_type": "code",
   "execution_count": 48,
   "metadata": {},
   "outputs": [],
   "source": [
    "#dados.corr(method='pearson')\n",
    "#dados.corr(method='spearman')"
   ]
  },
  {
   "cell_type": "code",
   "execution_count": 49,
   "metadata": {},
   "outputs": [],
   "source": [
    "#dados.corr(method='spearman')"
   ]
  },
  {
   "cell_type": "code",
   "execution_count": 50,
   "metadata": {},
   "outputs": [],
   "source": [
    "#sns.scatterplot(data=dados, x=\"Ano\", y=\"CountTotal\") #countplot seria melhor?"
   ]
  },
  {
   "cell_type": "code",
   "execution_count": 51,
   "metadata": {},
   "outputs": [],
   "source": [
    "#sns.scatterplot(data=dados, x=\"Ano\", y=\"Votos\")#ja fizemos o boxplot em baixo"
   ]
  },
  {
   "cell_type": "code",
   "execution_count": 52,
   "metadata": {},
   "outputs": [],
   "source": [
    "#sns.scatterplot(data=dados, x=\"Votos\", y=\"CountTotal\")"
   ]
  },
  {
   "cell_type": "code",
   "execution_count": 53,
   "metadata": {},
   "outputs": [],
   "source": [
    "#sns.scatterplot(data=dados, x=\"Nota\", y=\"Votos\")"
   ]
  },
  {
   "cell_type": "markdown",
   "metadata": {},
   "source": [
    "## Votos"
   ]
  },
  {
   "cell_type": "code",
   "execution_count": 54,
   "metadata": {},
   "outputs": [
    {
     "data": {
      "text/plain": [
       "Text(0, 0.5, 'Frequência')"
      ]
     },
     "execution_count": 54,
     "metadata": {},
     "output_type": "execute_result"
    },
    {
     "data": {
      "image/png": "[encoded data removed]",
      "text/plain": [
       "<Figure size 432x288 with 1 Axes>"
      ]
     },
     "metadata": {
      "needs_background": "light"
     },
     "output_type": "display_data"
    }
   ],
   "source": [
    "# 120000 - 20000 - 2500\n",
    "votos1 = sns.histplot(data=dados, x=\"Votos\")#, log_scale=True)\n",
    "\n",
    "votos1.set_title('Histograma da quantidade de votos no IMDb')\n",
    "votos1.set_ylabel('Frequência')"
   ]
  },
  {
   "cell_type": "code",
   "execution_count": 55,
   "metadata": {},
   "outputs": [
    {
     "data": {
      "text/plain": [
       "Text(0, 0.5, 'Frequência')"
      ]
     },
     "execution_count": 55,
     "metadata": {},
     "output_type": "execute_result"
    },
    {
     "data": {
      "image/png": "[encoded data removed]",
      "text/plain": [
       "<Figure size 432x288 with 1 Axes>"
      ]
     },
     "metadata": {
      "needs_background": "light"
     },
     "output_type": "display_data"
    }
   ],
   "source": [
    "votos2 = sns.histplot(data=dados[dados['Votos']<100000], x=\"Votos\")#, log_scale=True)\n",
    "\n",
    "votos2.set_title('Histograma da quantidade de votos no IMDb (<100.000)')\n",
    "votos2.set_ylabel('Frequência')"
   ]
  },
  {
   "cell_type": "code",
   "execution_count": 56,
   "metadata": {},
   "outputs": [
    {
     "data": {
      "text/plain": [
       "Text(0.5, 1.0, 'Diagrama de dispersão da nota e quantidade de votos no IMDb')"
      ]
     },
     "execution_count": 56,
     "metadata": {},
     "output_type": "execute_result"
    },
    {
     "data": {
      "image/png": "[encoded data removed]",
      "text/plain": [
       "<Figure size 432x288 with 1 Axes>"
      ]
     },
     "metadata": {
      "needs_background": "light"
     },
     "output_type": "display_data"
    }
   ],
   "source": [
    "votos3 = sns.scatterplot(data=dados, x=\"Nota\", y=\"Votos\")\n",
    "#sns.regplot(data=dados[dados['Nota']>4], x=\"Nota\", y=\"Votos\")\n",
    "\n",
    "votos3.set_title('Diagrama de dispersão da nota e quantidade de votos no IMDb')\n"
   ]
  },
  {
   "cell_type": "code",
   "execution_count": 57,
   "metadata": {},
   "outputs": [
    {
     "data": {
      "text/plain": [
       "Text(0.5, 1.0, 'Boxplot da quantidade de votos no IMDb por ano de lançamento')"
      ]
     },
     "execution_count": 57,
     "metadata": {},
     "output_type": "execute_result"
    },
    {
     "data": {
      "image/png": "[encoded data removed]",
      "text/plain": [
       "<Figure size 432x288 with 1 Axes>"
      ]
     },
     "metadata": {
      "needs_background": "light"
     },
     "output_type": "display_data"
    }
   ],
   "source": [
    "votos4 = sns.boxplot(data=dados, x=\"Ano\", y=\"Votos\")\n",
    "votos4.set_title('Boxplot da quantidade de votos no IMDb por ano de lançamento')"
   ]
  },
  {
   "cell_type": "code",
   "execution_count": 58,
   "metadata": {},
   "outputs": [
    {
     "ename": "TypeError",
     "evalue": "unhashable type: 'list'",
     "output_type": "error",
     "traceback": [
      "\u001b[1;31m---------------------------------------------------------------------------\u001b[0m",
      "\u001b[1;31mAttributeError\u001b[0m                            Traceback (most recent call last)",
      "\u001b[1;32mD:\\Programas\\Anaconda3\\lib\\site-packages\\seaborn\\_core.py\u001b[0m in \u001b[0;36mcategorical_order\u001b[1;34m(vector, order)\u001b[0m\n\u001b[0;32m   1478\u001b[0m             \u001b[1;32mtry\u001b[0m\u001b[1;33m:\u001b[0m\u001b[1;33m\u001b[0m\u001b[1;33m\u001b[0m\u001b[0m\n\u001b[1;32m-> 1479\u001b[1;33m                 \u001b[0morder\u001b[0m \u001b[1;33m=\u001b[0m \u001b[0mvector\u001b[0m\u001b[1;33m.\u001b[0m\u001b[0mcat\u001b[0m\u001b[1;33m.\u001b[0m\u001b[0mcategories\u001b[0m\u001b[1;33m\u001b[0m\u001b[1;33m\u001b[0m\u001b[0m\n\u001b[0m\u001b[0;32m   1480\u001b[0m             \u001b[1;32mexcept\u001b[0m \u001b[1;33m(\u001b[0m\u001b[0mTypeError\u001b[0m\u001b[1;33m,\u001b[0m \u001b[0mAttributeError\u001b[0m\u001b[1;33m)\u001b[0m\u001b[1;33m:\u001b[0m\u001b[1;33m\u001b[0m\u001b[1;33m\u001b[0m\u001b[0m\n",
      "\u001b[1;32mD:\\Programas\\Anaconda3\\lib\\site-packages\\pandas\\core\\generic.py\u001b[0m in \u001b[0;36m__getattr__\u001b[1;34m(self, name)\u001b[0m\n\u001b[0;32m   5486\u001b[0m             \u001b[1;32mreturn\u001b[0m \u001b[0mself\u001b[0m\u001b[1;33m[\u001b[0m\u001b[0mname\u001b[0m\u001b[1;33m]\u001b[0m\u001b[1;33m\u001b[0m\u001b[1;33m\u001b[0m\u001b[0m\n\u001b[1;32m-> 5487\u001b[1;33m         \u001b[1;32mreturn\u001b[0m \u001b[0mobject\u001b[0m\u001b[1;33m.\u001b[0m\u001b[0m__getattribute__\u001b[0m\u001b[1;33m(\u001b[0m\u001b[0mself\u001b[0m\u001b[1;33m,\u001b[0m \u001b[0mname\u001b[0m\u001b[1;33m)\u001b[0m\u001b[1;33m\u001b[0m\u001b[1;33m\u001b[0m\u001b[0m\n\u001b[0m\u001b[0;32m   5488\u001b[0m \u001b[1;33m\u001b[0m\u001b[0m\n",
      "\u001b[1;32mD:\\Programas\\Anaconda3\\lib\\site-packages\\pandas\\core\\accessor.py\u001b[0m in \u001b[0;36m__get__\u001b[1;34m(self, obj, cls)\u001b[0m\n\u001b[0;32m    180\u001b[0m             \u001b[1;32mreturn\u001b[0m \u001b[0mself\u001b[0m\u001b[1;33m.\u001b[0m\u001b[0m_accessor\u001b[0m\u001b[1;33m\u001b[0m\u001b[1;33m\u001b[0m\u001b[0m\n\u001b[1;32m--> 181\u001b[1;33m         \u001b[0maccessor_obj\u001b[0m \u001b[1;33m=\u001b[0m \u001b[0mself\u001b[0m\u001b[1;33m.\u001b[0m\u001b[0m_accessor\u001b[0m\u001b[1;33m(\u001b[0m\u001b[0mobj\u001b[0m\u001b[1;33m)\u001b[0m\u001b[1;33m\u001b[0m\u001b[1;33m\u001b[0m\u001b[0m\n\u001b[0m\u001b[0;32m    182\u001b[0m         \u001b[1;31m# Replace the property with the accessor object. Inspired by:\u001b[0m\u001b[1;33m\u001b[0m\u001b[1;33m\u001b[0m\u001b[1;33m\u001b[0m\u001b[0m\n",
      "\u001b[1;32mD:\\Programas\\Anaconda3\\lib\\site-packages\\pandas\\core\\arrays\\categorical.py\u001b[0m in \u001b[0;36m__init__\u001b[1;34m(self, data)\u001b[0m\n\u001b[0;32m   2599\u001b[0m     \u001b[1;32mdef\u001b[0m \u001b[0m__init__\u001b[0m\u001b[1;33m(\u001b[0m\u001b[0mself\u001b[0m\u001b[1;33m,\u001b[0m \u001b[0mdata\u001b[0m\u001b[1;33m)\u001b[0m\u001b[1;33m:\u001b[0m\u001b[1;33m\u001b[0m\u001b[1;33m\u001b[0m\u001b[0m\n\u001b[1;32m-> 2600\u001b[1;33m         \u001b[0mself\u001b[0m\u001b[1;33m.\u001b[0m\u001b[0m_validate\u001b[0m\u001b[1;33m(\u001b[0m\u001b[0mdata\u001b[0m\u001b[1;33m)\u001b[0m\u001b[1;33m\u001b[0m\u001b[1;33m\u001b[0m\u001b[0m\n\u001b[0m\u001b[0;32m   2601\u001b[0m         \u001b[0mself\u001b[0m\u001b[1;33m.\u001b[0m\u001b[0m_parent\u001b[0m \u001b[1;33m=\u001b[0m \u001b[0mdata\u001b[0m\u001b[1;33m.\u001b[0m\u001b[0mvalues\u001b[0m\u001b[1;33m\u001b[0m\u001b[1;33m\u001b[0m\u001b[0m\n",
      "\u001b[1;32mD:\\Programas\\Anaconda3\\lib\\site-packages\\pandas\\core\\arrays\\categorical.py\u001b[0m in \u001b[0;36m_validate\u001b[1;34m(data)\u001b[0m\n\u001b[0;32m   2608\u001b[0m         \u001b[1;32mif\u001b[0m \u001b[1;32mnot\u001b[0m \u001b[0mis_categorical_dtype\u001b[0m\u001b[1;33m(\u001b[0m\u001b[0mdata\u001b[0m\u001b[1;33m.\u001b[0m\u001b[0mdtype\u001b[0m\u001b[1;33m)\u001b[0m\u001b[1;33m:\u001b[0m\u001b[1;33m\u001b[0m\u001b[1;33m\u001b[0m\u001b[0m\n\u001b[1;32m-> 2609\u001b[1;33m             \u001b[1;32mraise\u001b[0m \u001b[0mAttributeError\u001b[0m\u001b[1;33m(\u001b[0m\u001b[1;34m\"Can only use .cat accessor with a 'category' dtype\"\u001b[0m\u001b[1;33m)\u001b[0m\u001b[1;33m\u001b[0m\u001b[1;33m\u001b[0m\u001b[0m\n\u001b[0m\u001b[0;32m   2610\u001b[0m \u001b[1;33m\u001b[0m\u001b[0m\n",
      "\u001b[1;31mAttributeError\u001b[0m: Can only use .cat accessor with a 'category' dtype",
      "\nDuring handling of the above exception, another exception occurred:\n",
      "\u001b[1;31mTypeError\u001b[0m                                 Traceback (most recent call last)",
      "\u001b[1;32m~\\AppData\\Local\\Temp/ipykernel_15496/2495807058.py\u001b[0m in \u001b[0;36m<module>\u001b[1;34m\u001b[0m\n\u001b[1;32m----> 1\u001b[1;33m \u001b[0mvotos5\u001b[0m \u001b[1;33m=\u001b[0m \u001b[0msns\u001b[0m\u001b[1;33m.\u001b[0m\u001b[0mboxplot\u001b[0m\u001b[1;33m(\u001b[0m\u001b[0mdata\u001b[0m\u001b[1;33m=\u001b[0m\u001b[0mdados\u001b[0m\u001b[1;33m,\u001b[0m \u001b[0mx\u001b[0m\u001b[1;33m=\u001b[0m\u001b[1;34m\"Votos\"\u001b[0m\u001b[1;33m,\u001b[0m \u001b[0my\u001b[0m\u001b[1;33m=\u001b[0m\u001b[1;34m\"País\"\u001b[0m\u001b[1;33m)\u001b[0m\u001b[1;33m\u001b[0m\u001b[1;33m\u001b[0m\u001b[0m\n\u001b[0m\u001b[0;32m      2\u001b[0m \u001b[0mvotos5\u001b[0m\u001b[1;33m.\u001b[0m\u001b[0mset_title\u001b[0m\u001b[1;33m(\u001b[0m\u001b[1;34m'Boxplot da quantidade de votos por país de origem'\u001b[0m\u001b[1;33m)\u001b[0m\u001b[1;33m\u001b[0m\u001b[1;33m\u001b[0m\u001b[0m\n",
      "\u001b[1;32mD:\\Programas\\Anaconda3\\lib\\site-packages\\seaborn\\_decorators.py\u001b[0m in \u001b[0;36minner_f\u001b[1;34m(*args, **kwargs)\u001b[0m\n\u001b[0;32m     44\u001b[0m             )\n\u001b[0;32m     45\u001b[0m         \u001b[0mkwargs\u001b[0m\u001b[1;33m.\u001b[0m\u001b[0mupdate\u001b[0m\u001b[1;33m(\u001b[0m\u001b[1;33m{\u001b[0m\u001b[0mk\u001b[0m\u001b[1;33m:\u001b[0m \u001b[0marg\u001b[0m \u001b[1;32mfor\u001b[0m \u001b[0mk\u001b[0m\u001b[1;33m,\u001b[0m \u001b[0marg\u001b[0m \u001b[1;32min\u001b[0m \u001b[0mzip\u001b[0m\u001b[1;33m(\u001b[0m\u001b[0msig\u001b[0m\u001b[1;33m.\u001b[0m\u001b[0mparameters\u001b[0m\u001b[1;33m,\u001b[0m \u001b[0margs\u001b[0m\u001b[1;33m)\u001b[0m\u001b[1;33m}\u001b[0m\u001b[1;33m)\u001b[0m\u001b[1;33m\u001b[0m\u001b[1;33m\u001b[0m\u001b[0m\n\u001b[1;32m---> 46\u001b[1;33m         \u001b[1;32mreturn\u001b[0m \u001b[0mf\u001b[0m\u001b[1;33m(\u001b[0m\u001b[1;33m**\u001b[0m\u001b[0mkwargs\u001b[0m\u001b[1;33m)\u001b[0m\u001b[1;33m\u001b[0m\u001b[1;33m\u001b[0m\u001b[0m\n\u001b[0m\u001b[0;32m     47\u001b[0m     \u001b[1;32mreturn\u001b[0m \u001b[0minner_f\u001b[0m\u001b[1;33m\u001b[0m\u001b[1;33m\u001b[0m\u001b[0m\n\u001b[0;32m     48\u001b[0m \u001b[1;33m\u001b[0m\u001b[0m\n",
      "\u001b[1;32mD:\\Programas\\Anaconda3\\lib\\site-packages\\seaborn\\categorical.py\u001b[0m in \u001b[0;36mboxplot\u001b[1;34m(x, y, hue, data, order, hue_order, orient, color, palette, saturation, width, dodge, fliersize, linewidth, whis, ax, **kwargs)\u001b[0m\n\u001b[0;32m   2241\u001b[0m ):\n\u001b[0;32m   2242\u001b[0m \u001b[1;33m\u001b[0m\u001b[0m\n\u001b[1;32m-> 2243\u001b[1;33m     plotter = _BoxPlotter(x, y, hue, data, order, hue_order,\n\u001b[0m\u001b[0;32m   2244\u001b[0m                           \u001b[0morient\u001b[0m\u001b[1;33m,\u001b[0m \u001b[0mcolor\u001b[0m\u001b[1;33m,\u001b[0m \u001b[0mpalette\u001b[0m\u001b[1;33m,\u001b[0m \u001b[0msaturation\u001b[0m\u001b[1;33m,\u001b[0m\u001b[1;33m\u001b[0m\u001b[1;33m\u001b[0m\u001b[0m\n\u001b[0;32m   2245\u001b[0m                           width, dodge, fliersize, linewidth)\n",
      "\u001b[1;32mD:\\Programas\\Anaconda3\\lib\\site-packages\\seaborn\\categorical.py\u001b[0m in \u001b[0;36m__init__\u001b[1;34m(self, x, y, hue, data, order, hue_order, orient, color, palette, saturation, width, dodge, fliersize, linewidth)\u001b[0m\n\u001b[0;32m    404\u001b[0m                  width, dodge, fliersize, linewidth):\n\u001b[0;32m    405\u001b[0m \u001b[1;33m\u001b[0m\u001b[0m\n\u001b[1;32m--> 406\u001b[1;33m         \u001b[0mself\u001b[0m\u001b[1;33m.\u001b[0m\u001b[0mestablish_variables\u001b[0m\u001b[1;33m(\u001b[0m\u001b[0mx\u001b[0m\u001b[1;33m,\u001b[0m \u001b[0my\u001b[0m\u001b[1;33m,\u001b[0m \u001b[0mhue\u001b[0m\u001b[1;33m,\u001b[0m \u001b[0mdata\u001b[0m\u001b[1;33m,\u001b[0m \u001b[0morient\u001b[0m\u001b[1;33m,\u001b[0m \u001b[0morder\u001b[0m\u001b[1;33m,\u001b[0m \u001b[0mhue_order\u001b[0m\u001b[1;33m)\u001b[0m\u001b[1;33m\u001b[0m\u001b[1;33m\u001b[0m\u001b[0m\n\u001b[0m\u001b[0;32m    407\u001b[0m         \u001b[0mself\u001b[0m\u001b[1;33m.\u001b[0m\u001b[0mestablish_colors\u001b[0m\u001b[1;33m(\u001b[0m\u001b[0mcolor\u001b[0m\u001b[1;33m,\u001b[0m \u001b[0mpalette\u001b[0m\u001b[1;33m,\u001b[0m \u001b[0msaturation\u001b[0m\u001b[1;33m)\u001b[0m\u001b[1;33m\u001b[0m\u001b[1;33m\u001b[0m\u001b[0m\n\u001b[0;32m    408\u001b[0m \u001b[1;33m\u001b[0m\u001b[0m\n",
      "\u001b[1;32mD:\\Programas\\Anaconda3\\lib\\site-packages\\seaborn\\categorical.py\u001b[0m in \u001b[0;36mestablish_variables\u001b[1;34m(self, x, y, hue, data, orient, order, hue_order, units)\u001b[0m\n\u001b[0;32m    201\u001b[0m \u001b[1;33m\u001b[0m\u001b[0m\n\u001b[0;32m    202\u001b[0m                 \u001b[1;31m# Get the order on the categorical axis\u001b[0m\u001b[1;33m\u001b[0m\u001b[1;33m\u001b[0m\u001b[1;33m\u001b[0m\u001b[0m\n\u001b[1;32m--> 203\u001b[1;33m                 \u001b[0mgroup_names\u001b[0m \u001b[1;33m=\u001b[0m \u001b[0mcategorical_order\u001b[0m\u001b[1;33m(\u001b[0m\u001b[0mgroups\u001b[0m\u001b[1;33m,\u001b[0m \u001b[0morder\u001b[0m\u001b[1;33m)\u001b[0m\u001b[1;33m\u001b[0m\u001b[1;33m\u001b[0m\u001b[0m\n\u001b[0m\u001b[0;32m    204\u001b[0m \u001b[1;33m\u001b[0m\u001b[0m\n\u001b[0;32m    205\u001b[0m                 \u001b[1;31m# Group the numeric data\u001b[0m\u001b[1;33m\u001b[0m\u001b[1;33m\u001b[0m\u001b[1;33m\u001b[0m\u001b[0m\n",
      "\u001b[1;32mD:\\Programas\\Anaconda3\\lib\\site-packages\\seaborn\\_core.py\u001b[0m in \u001b[0;36mcategorical_order\u001b[1;34m(vector, order)\u001b[0m\n\u001b[0;32m   1481\u001b[0m \u001b[1;33m\u001b[0m\u001b[0m\n\u001b[0;32m   1482\u001b[0m                 \u001b[1;32mtry\u001b[0m\u001b[1;33m:\u001b[0m\u001b[1;33m\u001b[0m\u001b[1;33m\u001b[0m\u001b[0m\n\u001b[1;32m-> 1483\u001b[1;33m                     \u001b[0morder\u001b[0m \u001b[1;33m=\u001b[0m \u001b[0mvector\u001b[0m\u001b[1;33m.\u001b[0m\u001b[0munique\u001b[0m\u001b[1;33m(\u001b[0m\u001b[1;33m)\u001b[0m\u001b[1;33m\u001b[0m\u001b[1;33m\u001b[0m\u001b[0m\n\u001b[0m\u001b[0;32m   1484\u001b[0m                 \u001b[1;32mexcept\u001b[0m \u001b[0mAttributeError\u001b[0m\u001b[1;33m:\u001b[0m\u001b[1;33m\u001b[0m\u001b[1;33m\u001b[0m\u001b[0m\n\u001b[0;32m   1485\u001b[0m                     \u001b[0morder\u001b[0m \u001b[1;33m=\u001b[0m \u001b[0mpd\u001b[0m\u001b[1;33m.\u001b[0m\u001b[0munique\u001b[0m\u001b[1;33m(\u001b[0m\u001b[0mvector\u001b[0m\u001b[1;33m)\u001b[0m\u001b[1;33m\u001b[0m\u001b[1;33m\u001b[0m\u001b[0m\n",
      "\u001b[1;32mD:\\Programas\\Anaconda3\\lib\\site-packages\\pandas\\core\\series.py\u001b[0m in \u001b[0;36munique\u001b[1;34m(self)\u001b[0m\n\u001b[0;32m   2037\u001b[0m         \u001b[0mCategories\u001b[0m \u001b[1;33m(\u001b[0m\u001b[1;36m3\u001b[0m\u001b[1;33m,\u001b[0m \u001b[0mobject\u001b[0m\u001b[1;33m)\u001b[0m\u001b[1;33m:\u001b[0m \u001b[1;33m[\u001b[0m\u001b[1;34m'a'\u001b[0m \u001b[1;33m<\u001b[0m \u001b[1;34m'b'\u001b[0m \u001b[1;33m<\u001b[0m \u001b[1;34m'c'\u001b[0m\u001b[1;33m]\u001b[0m\u001b[1;33m\u001b[0m\u001b[1;33m\u001b[0m\u001b[0m\n\u001b[0;32m   2038\u001b[0m         \"\"\"\n\u001b[1;32m-> 2039\u001b[1;33m         \u001b[1;32mreturn\u001b[0m \u001b[0msuper\u001b[0m\u001b[1;33m(\u001b[0m\u001b[1;33m)\u001b[0m\u001b[1;33m.\u001b[0m\u001b[0munique\u001b[0m\u001b[1;33m(\u001b[0m\u001b[1;33m)\u001b[0m\u001b[1;33m\u001b[0m\u001b[1;33m\u001b[0m\u001b[0m\n\u001b[0m\u001b[0;32m   2040\u001b[0m \u001b[1;33m\u001b[0m\u001b[0m\n\u001b[0;32m   2041\u001b[0m     \u001b[1;33m@\u001b[0m\u001b[0moverload\u001b[0m\u001b[1;33m\u001b[0m\u001b[1;33m\u001b[0m\u001b[0m\n",
      "\u001b[1;32mD:\\Programas\\Anaconda3\\lib\\site-packages\\pandas\\core\\base.py\u001b[0m in \u001b[0;36munique\u001b[1;34m(self)\u001b[0m\n\u001b[0;32m    977\u001b[0m                     \u001b[0mresult\u001b[0m \u001b[1;33m=\u001b[0m \u001b[0mnp\u001b[0m\u001b[1;33m.\u001b[0m\u001b[0masarray\u001b[0m\u001b[1;33m(\u001b[0m\u001b[0mresult\u001b[0m\u001b[1;33m)\u001b[0m\u001b[1;33m\u001b[0m\u001b[1;33m\u001b[0m\u001b[0m\n\u001b[0;32m    978\u001b[0m         \u001b[1;32melse\u001b[0m\u001b[1;33m:\u001b[0m\u001b[1;33m\u001b[0m\u001b[1;33m\u001b[0m\u001b[0m\n\u001b[1;32m--> 979\u001b[1;33m             \u001b[0mresult\u001b[0m \u001b[1;33m=\u001b[0m \u001b[0munique1d\u001b[0m\u001b[1;33m(\u001b[0m\u001b[0mvalues\u001b[0m\u001b[1;33m)\u001b[0m\u001b[1;33m\u001b[0m\u001b[1;33m\u001b[0m\u001b[0m\n\u001b[0m\u001b[0;32m    980\u001b[0m \u001b[1;33m\u001b[0m\u001b[0m\n\u001b[0;32m    981\u001b[0m         \u001b[1;32mreturn\u001b[0m \u001b[0mresult\u001b[0m\u001b[1;33m\u001b[0m\u001b[1;33m\u001b[0m\u001b[0m\n",
      "\u001b[1;32mD:\\Programas\\Anaconda3\\lib\\site-packages\\pandas\\core\\algorithms.py\u001b[0m in \u001b[0;36munique\u001b[1;34m(values)\u001b[0m\n\u001b[0;32m    429\u001b[0m \u001b[1;33m\u001b[0m\u001b[0m\n\u001b[0;32m    430\u001b[0m     \u001b[0mtable\u001b[0m \u001b[1;33m=\u001b[0m \u001b[0mhtable\u001b[0m\u001b[1;33m(\u001b[0m\u001b[0mlen\u001b[0m\u001b[1;33m(\u001b[0m\u001b[0mvalues\u001b[0m\u001b[1;33m)\u001b[0m\u001b[1;33m)\u001b[0m\u001b[1;33m\u001b[0m\u001b[1;33m\u001b[0m\u001b[0m\n\u001b[1;32m--> 431\u001b[1;33m     \u001b[0muniques\u001b[0m \u001b[1;33m=\u001b[0m \u001b[0mtable\u001b[0m\u001b[1;33m.\u001b[0m\u001b[0munique\u001b[0m\u001b[1;33m(\u001b[0m\u001b[0mvalues\u001b[0m\u001b[1;33m)\u001b[0m\u001b[1;33m\u001b[0m\u001b[1;33m\u001b[0m\u001b[0m\n\u001b[0m\u001b[0;32m    432\u001b[0m     \u001b[0muniques\u001b[0m \u001b[1;33m=\u001b[0m \u001b[0m_reconstruct_data\u001b[0m\u001b[1;33m(\u001b[0m\u001b[0muniques\u001b[0m\u001b[1;33m,\u001b[0m \u001b[0moriginal\u001b[0m\u001b[1;33m.\u001b[0m\u001b[0mdtype\u001b[0m\u001b[1;33m,\u001b[0m \u001b[0moriginal\u001b[0m\u001b[1;33m)\u001b[0m\u001b[1;33m\u001b[0m\u001b[1;33m\u001b[0m\u001b[0m\n\u001b[0;32m    433\u001b[0m     \u001b[1;32mreturn\u001b[0m \u001b[0muniques\u001b[0m\u001b[1;33m\u001b[0m\u001b[1;33m\u001b[0m\u001b[0m\n",
      "\u001b[1;32mpandas\\_libs\\hashtable_class_helper.pxi\u001b[0m in \u001b[0;36mpandas._libs.hashtable.PyObjectHashTable.unique\u001b[1;34m()\u001b[0m\n",
      "\u001b[1;32mpandas\\_libs\\hashtable_class_helper.pxi\u001b[0m in \u001b[0;36mpandas._libs.hashtable.PyObjectHashTable._unique\u001b[1;34m()\u001b[0m\n",
      "\u001b[1;31mTypeError\u001b[0m: unhashable type: 'list'"
     ]
    }
   ],
   "source": [
    "votos5 = sns.boxplot(data=dados, x=\"Votos\", y=\"País\")\n",
    "votos5.set_title('Boxplot da quantidade de votos por país de origem')"
   ]
  },
  {
   "cell_type": "code",
   "execution_count": null,
   "metadata": {},
   "outputs": [],
   "source": [
    "maiorespaises = dados[ (dados['País']==\"United States\") | (dados['País']==\"Brazil\") | (dados['País']==\"South Korea\") | (dados['País']==\"United Kingdom\") | (dados['País']==\"Germany\") | (dados['País']==\"India\")]\n",
    "votos5 = sns.boxplot(data=maiorespaises, x=\"Votos\", y=\"País\")\n",
    "votos5.set_title('Boxplot da quantidade de votos por país de origem (mais populares)')"
   ]
  },
  {
   "cell_type": "code",
   "execution_count": null,
   "metadata": {},
   "outputs": [],
   "source": [
    "votos5b = sns.boxplot(data=dados[dados['País'].str.contains(\",\")==False], x=\"Votos\", y=\"País\")\n",
    "votos5b.set_title('Boxplot da quantidade de votos por país de origem (mais populares)')\n"
   ]
  },
  {
   "cell_type": "code",
   "execution_count": null,
   "metadata": {},
   "outputs": [],
   "source": [
    "votos6 = sns.boxplot(data=dados, x=\"Episodios\", y=\"Votos\")\n",
    "votos6.set_title('Boxplot da quantidade de votos por número de episódios')"
   ]
  },
  {
   "cell_type": "code",
   "execution_count": null,
   "metadata": {},
   "outputs": [],
   "source": [
    "#sns.scatterplot(data=dados, x=\"user_reviews\", y=\"Votos\")\n",
    "votos7 = sns.regplot(data=dados, x=\"user_reviews\", y=\"Votos\")\n",
    "votos7.set_title('Diagrama de dispersão da quantidade de votos por quantidade de reviews dos usuários do IMDb')\n",
    "votos7.set_xlabel('Reviews dos usuários do IMDb')"
   ]
  },
  {
   "cell_type": "code",
   "execution_count": null,
   "metadata": {},
   "outputs": [],
   "source": [
    "#sns.scatterplot(data=dados, x=\"critic_reviews\", y=\"Votos\")\n",
    "votos8 = sns.regplot(data=dados, x=\"critic_reviews\", y=\"Votos\")\n",
    "votos8.set_title('Diagrama de dispersão da quantidade de votos por quantidade de reviews dos críticos do IMDb')\n",
    "votos8.set_xlabel('Reviews dos críticos do IMDb')"
   ]
  },
  {
   "cell_type": "markdown",
   "metadata": {},
   "source": [
    "## Duração"
   ]
  },
  {
   "cell_type": "code",
   "execution_count": null,
   "metadata": {},
   "outputs": [],
   "source": [
    "dura1 = sns.histplot(data=dados, x=\"Duração\")\n",
    "dura1.set_title('Histograma da duração média dos episódios por série')\n",
    "dura1.set_ylabel('Frequência')"
   ]
  },
  {
   "cell_type": "code",
   "execution_count": null,
   "metadata": {},
   "outputs": [],
   "source": [
    "#dura2=sns.boxplot(data=dados, x=\"Duração\")\n",
    "#dura2.set_title('Boxplot da duração média dos episódios por série')"
   ]
  },
  {
   "cell_type": "code",
   "execution_count": null,
   "metadata": {},
   "outputs": [],
   "source": [
    "sns.scatterplot(data=dados, x=\"Duração\", y=\"Votos\")"
   ]
  },
  {
   "cell_type": "code",
   "execution_count": null,
   "metadata": {},
   "outputs": [],
   "source": [
    "dura3=sns.boxplot(data=dados, x=\"Ano\", y=\"Duração\")\n",
    "dura3.set_title('Boxplot da duração média de episódios por ano de lançamento da série')"
   ]
  },
  {
   "cell_type": "code",
   "execution_count": null,
   "metadata": {},
   "outputs": [],
   "source": [
    "dura4=sns.boxplot(data=dados, x=\"Check\", y=\"Duração\")\n",
    "dura4.set_title('Boxplot da duração média de episódios por tipo de série')\n",
    "dura4.set_xlabel('Tipo de série')"
   ]
  },
  {
   "cell_type": "markdown",
   "metadata": {},
   "source": [
    "## Ano"
   ]
  },
  {
   "cell_type": "code",
   "execution_count": null,
   "metadata": {},
   "outputs": [],
   "source": [
    "ano1 = sns.countplot(data=dados, x=\"Ano\")# tratar (dividir duracao por numero de episodios para >100)\n",
    "ano1.set_title('Gráfico de barras do ano de lançamento das séries')\n",
    "ano1.set_ylabel('Frequência')"
   ]
  },
  {
   "cell_type": "code",
   "execution_count": null,
   "metadata": {},
   "outputs": [],
   "source": [
    "#sns.boxplot(data=dados, x=\"Ano\")# tratar (dividir duracao por numero de episodios para >100)"
   ]
  },
  {
   "cell_type": "markdown",
   "metadata": {},
   "source": [
    "## Data de estréia"
   ]
  },
  {
   "cell_type": "code",
   "execution_count": null,
   "metadata": {},
   "outputs": [],
   "source": [
    "mes1 = sns.countplot(data=dados, x=\"mes\")\n",
    "mes1.set_title('Quantidade de séries por mês de lançamento')\n",
    "mes1.set_xlabel('Mês')\n",
    "mes1.set_ylabel('Frequência')"
   ]
  },
  {
   "cell_type": "markdown",
   "metadata": {},
   "source": [
    "## País"
   ]
  },
  {
   "cell_type": "code",
   "execution_count": null,
   "metadata": {},
   "outputs": [],
   "source": [
    "dados['País'].value_counts()"
   ]
  },
  {
   "cell_type": "code",
   "execution_count": null,
   "metadata": {},
   "outputs": [],
   "source": [
    "fig, ax = plt.subplots()\n",
    "sns.countplot(data=dados[dados['País'].str.contains(\",\")==False], x=\"País\")\n",
    "ax.tick_params(rotation=90)\n"
   ]
  },
  {
   "cell_type": "markdown",
   "metadata": {},
   "source": [
    "## Idiomas"
   ]
  },
  {
   "cell_type": "code",
   "execution_count": null,
   "metadata": {},
   "outputs": [],
   "source": [
    "dados['Idiomas'].value_counts()"
   ]
  },
  {
   "cell_type": "code",
   "execution_count": null,
   "metadata": {},
   "outputs": [],
   "source": [
    "sns.countplot(data=dados, x=\"Idiomas\", order=dados.Idiomas.value_counts().iloc[:7].index)\n",
    "\n",
    "#visCausaMorte = sns.countplot(x=\"CAUSABAS\", order=dados.CAUSABAS.value_counts().iloc[:10].index, data=dados, palette=\"Set1\")"
   ]
  },
  {
   "cell_type": "code",
   "execution_count": null,
   "metadata": {},
   "outputs": [],
   "source": [
    "fig, ax = plt.subplots()\n",
    "sns.countplot(data=dados[dados['Idiomas'].str.contains(\",\")==False], x=\"Idiomas\")\n",
    "ax.tick_params(rotation=90)"
   ]
  },
  {
   "cell_type": "markdown",
   "metadata": {},
   "source": [
    "## Episódios"
   ]
  },
  {
   "cell_type": "code",
   "execution_count": null,
   "metadata": {},
   "outputs": [],
   "source": [
    "epis1 = sns.countplot(data=dados, x=\"Episodios\")\n",
    "epis1.set_title('Gráfico de barras do número de episódios')\n",
    "epis1.set_ylabel('Frequência')"
   ]
  },
  {
   "cell_type": "code",
   "execution_count": null,
   "metadata": {},
   "outputs": [],
   "source": [
    "epis2 = sns.boxplot(data=dados, x=\"Check\", y=\"Episodios\")\n",
    "epis2.set_title('Boxplot do número de episódios por tipo de série')\n",
    "epis2.set_ylabel('Frequência')"
   ]
  },
  {
   "cell_type": "markdown",
   "metadata": {},
   "source": [
    "## Reviews de usuários"
   ]
  },
  {
   "cell_type": "code",
   "execution_count": null,
   "metadata": {},
   "outputs": [],
   "source": [
    "rev1 = sns.histplot(data=dados, x=\"user_reviews\")\n",
    "rev1.set_title('Histograma do número de reviews de usuários no IMDb')\n",
    "rev1.set_ylabel('Frequência')\n",
    "rev1.set_xlabel('Reviews dos usuários no IMDb')"
   ]
  },
  {
   "cell_type": "code",
   "execution_count": null,
   "metadata": {},
   "outputs": [],
   "source": [
    "rev2 = sns.boxplot(data=dados, x = \"Ano\",y=\"user_reviews\")\n",
    "rev2.set_title('Boxplot do número de reviews de usuários no IMDb por ano de lançamento')\n",
    "rev2.set_ylabel('Reviews dos usuários no IMDb')"
   ]
  },
  {
   "cell_type": "markdown",
   "metadata": {},
   "source": [
    "## Reviews de críticos"
   ]
  },
  {
   "cell_type": "code",
   "execution_count": null,
   "metadata": {},
   "outputs": [],
   "source": [
    "rev3 = sns.histplot(data=dados, x=\"critic_reviews\")\n",
    "\n",
    "rev3.set_title('Histograma do número de reviews de críticos no IMDb')\n",
    "rev3.set_xlabel('Reviews dos críticos no IMDb')\n",
    "rev3.set_ylabel('Frequência')"
   ]
  },
  {
   "cell_type": "code",
   "execution_count": null,
   "metadata": {},
   "outputs": [],
   "source": [
    "rev4 = sns.boxplot(data=dados, x = \"Ano\",y=\"critic_reviews\")\n",
    "\n",
    "rev4.set_title('Boxplot do número de reviews de críticos no IMDb por ano de lançamento')\n",
    "rev4.set_ylabel('Reviews dos críticos no IMDb')"
   ]
  },
  {
   "cell_type": "markdown",
   "metadata": {},
   "source": [
    "# Engajamento (counts)"
   ]
  },
  {
   "cell_type": "markdown",
   "metadata": {},
   "source": [
    "## Histogramas do números de tweets em difentes fases (Total, Pré, Durante, Pós)"
   ]
  },
  {
   "cell_type": "code",
   "execution_count": null,
   "metadata": {},
   "outputs": [],
   "source": [
    "tit = \"Histograma Número total de Tweets\"\n",
    "x1 = \"CountTotal\"\n",
    "x2 = \"CountPre\"\n",
    "x3 = \"CountDurante\"\n",
    "x4 = \"CountPos\"\n",
    "dado1 = dado2 = dado3 = dado4 = dados\n",
    "\n",
    "plot_2x2(tit, dado1, dado2, dado3, dado4, x1, x2 = x2, x3 = x3, x4 = x4, tipo = 'hist')"
   ]
  },
  {
   "cell_type": "markdown",
   "metadata": {},
   "source": [
    "## Total de Tweets x Ano"
   ]
  },
  {
   "cell_type": "code",
   "execution_count": null,
   "metadata": {},
   "outputs": [],
   "source": [
    "tit = \"Total de Tweets x Ano\"\n",
    "x1 = \"Ano\"\n",
    "dado1 = dado2 = dado3 = dado4 = dados\n",
    "\n",
    "plot_2x2(tit, dado1, dado2, dado3, dado4, x1)"
   ]
  },
  {
   "cell_type": "markdown",
   "metadata": {},
   "source": [
    "## Total de Tweets x Gênero"
   ]
  },
  {
   "cell_type": "code",
   "execution_count": null,
   "metadata": {},
   "outputs": [],
   "source": [
    "tit = 'Total de Tweets x Gênero'\n",
    "x1 = 'Gênero'\n",
    "y1 = 'Count'\n",
    "dfTotal = getCountParam(dados, tipocount = \"CountTotal\", nome_col1 = 'Count')     #dfTotal = getCount(\"CountTotal\")\n",
    "dfPre = getCountParam(dados, tipocount = \"CountPre\", nome_col1 = 'Count')         #dfPre = getCount(\"CountPre\")\n",
    "dfDurante = getCountParam(dados, tipocount = \"CountDurante\", nome_col1 = 'Count') #dfDurante = getCount(\"CountDurante\")\n",
    "dfPos = getCountParam(dados, tipocount = \"CountPos\", nome_col1 = 'Count')         #dfPos = getCount(\"CountPos\")\n",
    "\n",
    "plot_2x2(tit, dfTotal, dfPre, dfDurante, dfPos, x1, y1, y2 = y1, y3 = y1, y4 = y1, rx = 90, share = True)"
   ]
  },
  {
   "cell_type": "markdown",
   "metadata": {},
   "source": [
    "## Total de Tweets x Mês de Estréia"
   ]
  },
  {
   "cell_type": "code",
   "execution_count": null,
   "metadata": {},
   "outputs": [],
   "source": [
    "tit = 'Total de Tweets x Mês de Estréia'\n",
    "x1 = \"mes\"\n",
    "dado1 = dado2 = dado3 = dado4 = dados\n",
    "\n",
    "plot_2x2(tit, dado1, dado2, dado3, dado4, x1)"
   ]
  },
  {
   "cell_type": "markdown",
   "metadata": {},
   "source": [
    "## Total de Tweets x Tipo da Série"
   ]
  },
  {
   "cell_type": "code",
   "execution_count": null,
   "metadata": {},
   "outputs": [],
   "source": [
    "tit = 'Total de Tweets x Tipo da Série'\n",
    "x1 = \"Check\"\n",
    "dado1 = dado2 = dado3 = dado4 = dados\n",
    "\n",
    "plot_2x2(tit, dado1, dado2, dado3, dado4, x1)"
   ]
  },
  {
   "cell_type": "markdown",
   "metadata": {},
   "source": [
    "## Total de Tweets x Episódios"
   ]
  },
  {
   "cell_type": "code",
   "execution_count": null,
   "metadata": {},
   "outputs": [],
   "source": [
    "tit = 'Total de Tweets x Episódios'\n",
    "x1 = \"Episodios\"\n",
    "dado1 = dado2 = dado3 = dado4 = dados\n",
    "\n",
    "plot_2x2(tit, dado1, dado2, dado3, dado4, x1)"
   ]
  },
  {
   "cell_type": "markdown",
   "metadata": {},
   "source": [
    "## Total de Tweets x País"
   ]
  },
  {
   "cell_type": "code",
   "execution_count": null,
   "metadata": {},
   "outputs": [],
   "source": [
    "tit = 'Total de Tweets x País'\n",
    "x1 = 'País'\n",
    "y1 = 'Count'\n",
    "dfTotal = getCountParam(dados, tipocount = \"CountTotal\", nome_col1 = 'Count', nome_col2 = 'País', inicio = \"Argentina\", fim = \"United States\")\n",
    "dfPre = getCountParam(dados, tipocount = \"CountPre\", nome_col1 = 'Count', nome_col2 = 'País', inicio = \"Argentina\", fim = \"United States\")\n",
    "dfDurante = getCountParam(dados, tipocount = \"CountDurante\", nome_col1 = 'Count', nome_col2 = 'País', inicio = \"Argentina\", fim = \"United States\")\n",
    "dfPos = getCountParam(dados, tipocount = \"CountPos\", nome_col1 = 'Count', nome_col2 = 'País', inicio = \"Argentina\", fim = \"United States\")\n",
    "\n",
    "plot_2x2(tit, dfTotal, dfPre, dfDurante, dfPos, x1, y1, y2 = y1, y3 = y1, y4 = y1, rx = 90, share = False)"
   ]
  },
  {
   "cell_type": "code",
   "execution_count": null,
   "metadata": {},
   "outputs": [],
   "source": [
    "#Os países não estão separados\n",
    "#tit = 'Total de Tweets x País'\n",
    "#x1 = \"País\"\n",
    "#dado1 = dado2 = dado3 = dado4 = dados\n",
    "\n",
    "#plot_2x2(tit, dado1, dado2, dado3, dado4, x1, rx = 90)"
   ]
  },
  {
   "cell_type": "markdown",
   "metadata": {},
   "source": [
    "## [!] Total de Tweets x Idiomas"
   ]
  },
  {
   "cell_type": "code",
   "execution_count": null,
   "metadata": {},
   "outputs": [],
   "source": [
    "tit = 'Total de Tweets x Idiomas'\n",
    "x1 = \"Idiomas\"\n",
    "dado1 = dado2 = dado3 = dado4 = dados\n",
    "\n",
    "plot_2x2(tit, dado1, dado2, dado3, dado4, x1, rx = 90)"
   ]
  },
  {
   "cell_type": "markdown",
   "metadata": {},
   "source": [
    "# Série Temporal do engajamento"
   ]
  },
  {
   "cell_type": "code",
   "execution_count": null,
   "metadata": {},
   "outputs": [],
   "source": []
  },
  {
   "cell_type": "markdown",
   "metadata": {},
   "source": [
    "### Número e duração de episódios por engajamento"
   ]
  },
  {
   "cell_type": "code",
   "execution_count": null,
   "metadata": {},
   "outputs": [],
   "source": [
    "sns.boxplot(data=dados, x=\"Episodios\", y=\"CountTotal\")"
   ]
  },
  {
   "cell_type": "code",
   "execution_count": null,
   "metadata": {},
   "outputs": [],
   "source": [
    "sns.scatterplot(data=dados, x=\"Duração\", y=\"CountTotal\")"
   ]
  },
  {
   "cell_type": "code",
   "execution_count": null,
   "metadata": {},
   "outputs": [],
   "source": [
    "dados[dados['Duração']>100] #corrigir, pegar a media por episodio (duracao/episodios)"
   ]
  },
  {
   "cell_type": "markdown",
   "metadata": {},
   "source": [
    "## Atores e engajamento"
   ]
  },
  {
   "cell_type": "code",
   "execution_count": null,
   "metadata": {},
   "outputs": [],
   "source": []
  },
  {
   "cell_type": "markdown",
   "metadata": {},
   "source": [
    "## Influência de engajamento anterior no posterior"
   ]
  },
  {
   "cell_type": "code",
   "execution_count": null,
   "metadata": {},
   "outputs": [],
   "source": [
    "sns.scatterplot(data=dados, x=\"CountPre\", y=\"CountDurante\")"
   ]
  },
  {
   "cell_type": "code",
   "execution_count": null,
   "metadata": {},
   "outputs": [],
   "source": [
    "sns.scatterplot(data=dados, x=\"CountDurante\", y=\"CountPos\")"
   ]
  },
  {
   "cell_type": "markdown",
   "metadata": {},
   "source": [
    "## Engajamento e genêro"
   ]
  },
  {
   "cell_type": "code",
   "execution_count": null,
   "metadata": {},
   "outputs": [],
   "source": [
    "# dados['Gênero'] = dados['Gênero'].apply(lambda x : x.split(\", \"))\n",
    "# dados['Gênero']"
   ]
  },
  {
   "cell_type": "code",
   "execution_count": null,
   "metadata": {},
   "outputs": [],
   "source": [
    "# pd.get_dummies(dados['Gênero'].apply(pd.Series).stack()).sum(level=0)\n",
    "# # Primeiramente: Fazer o count, ver a frequencia de cada série\n",
    "# Segundamente: Avaliar os grupos mais frequentes (Drama+Comedia)"
   ]
  },
  {
   "cell_type": "code",
   "execution_count": null,
   "metadata": {},
   "outputs": [],
   "source": []
  },
  {
   "cell_type": "markdown",
   "metadata": {},
   "source": [
    "## Censura e engajamento"
   ]
  },
  {
   "cell_type": "code",
   "execution_count": null,
   "metadata": {},
   "outputs": [],
   "source": []
  },
  {
   "cell_type": "markdown",
   "metadata": {},
   "source": [
    "## Reviews e engajamento"
   ]
  },
  {
   "cell_type": "code",
   "execution_count": null,
   "metadata": {},
   "outputs": [],
   "source": [
    "tit = \"Total de Tweets x User Reviews\"\n",
    "x1 = \"user_reviews\"\n",
    "tipo_plot = 'scatter'\n",
    "dado1 = dado2 = dado3 = dado4 = dados\n",
    "\n",
    "plot_2x2(tit, dado1, dado2, dado3, dado4, x1, rx = 0, tipo = tipo_plot)"
   ]
  },
  {
   "cell_type": "code",
   "execution_count": null,
   "metadata": {},
   "outputs": [],
   "source": [
    "tit = \"Total de Tweets x Critic Reviews\"\n",
    "x1 = \"critic_reviews\"\n",
    "tipo_plot = 'scatter'\n",
    "dado1 = dado2 = dado3 = dado4 = dados\n",
    "\n",
    "plot_2x2(tit, dado1, dado2, dado3, dado4, x1, rx = 0, tipo = tipo_plot)"
   ]
  },
  {
   "cell_type": "markdown",
   "metadata": {},
   "source": [
    "### Nota"
   ]
  },
  {
   "cell_type": "code",
   "execution_count": null,
   "metadata": {},
   "outputs": [],
   "source": [
    "tit = \"Total de Tweets x Nota\"\n",
    "x1 = \"Nota\"\n",
    "tipo_plot = 'scatter'\n",
    "dado1 = dado2 = dado3 = dado4 = dados\n",
    "\n",
    "plot_2x2(tit, dado1, dado2, dado3, dado4, x1, rx = 0, tipo = tipo_plot)"
   ]
  },
  {
   "cell_type": "markdown",
   "metadata": {},
   "source": [
    "### Votos"
   ]
  },
  {
   "cell_type": "code",
   "execution_count": null,
   "metadata": {},
   "outputs": [],
   "source": [
    "tit = \"Total de Tweets x Votos\"\n",
    "x1 = \"Votos\"\n",
    "tipo_plot = 'scatter'\n",
    "dado1 = dado2 = dado3 = dado4 = dados\n",
    "\n",
    "plot_2x2(tit, dado1, dado2, dado3, dado4, x1, rx = 0, tipo = tipo_plot)"
   ]
  }
 ],
 "metadata": {
  "colab": {
   "collapsed_sections": [],
   "name": "projetoAnaliseExploratoria.ipynb",
   "provenance": []
  },
  "interpreter": {
   "hash": "0e1898d504e473bdd4635340539d41a5cecc72accb8598f6f0c7bcb5921af418"
  },
  "kernelspec": {
   "display_name": "Python 3 (ipykernel)",
   "language": "python",
   "name": "python3"
  },
  "language_info": {
   "codemirror_mode": {
    "name": "ipython",
    "version": 3
   },
   "file_extension": ".py",
   "mimetype": "text/x-python",
   "name": "python",
   "nbconvert_exporter": "python",
   "pygments_lexer": "ipython3",
   "version": "3.8.8"
  }
 },
 "nbformat": 4,
 "nbformat_minor": 1
}
