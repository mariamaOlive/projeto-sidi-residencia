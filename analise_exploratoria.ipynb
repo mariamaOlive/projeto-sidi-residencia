{
 "cells": [
  {
   "cell_type": "code",
   "execution_count": 169,
   "metadata": {},
   "outputs": [],
   "source": [
    "import pandas as pd\n",
    "import seaborn as sns\n",
    "import matplotlib.pyplot as plt\n",
    "from sklearn.preprocessing import OneHotEncoder"
   ]
  },
  {
   "cell_type": "markdown",
   "metadata": {},
   "source": [
    "# Definição da amostra"
   ]
  },
  {
   "cell_type": "code",
   "execution_count": 170,
   "metadata": {},
   "outputs": [
    {
     "data": {
      "text/plain": [
       "97"
      ]
     },
     "execution_count": 170,
     "metadata": {},
     "output_type": "execute_result"
    }
   ],
   "source": [
    "popu = pd.read_csv(\"Popu_series.csv\")\n",
    "popu = popu.sample(frac=0.3, replace=False, random_state=195)\n",
    "len(popu)"
   ]
  },
  {
   "cell_type": "code",
   "execution_count": 171,
   "metadata": {},
   "outputs": [
    {
     "data": {
      "text/plain": [
       "146                            The Chosen One\n",
       "95                                    Osmosis\n",
       "173                                  Puerta 7\n",
       "106                           Holiday Secrets\n",
       "204                                Mindhunter\n",
       "                        ...                  \n",
       "28                              Sex Education\n",
       "230                          The English Game\n",
       "85                            Paava Kadhaigal\n",
       "233                                  Homemade\n",
       "264    Trailer Park Boys Out of the Park: USA\n",
       "Name: serie, Length: 97, dtype: object"
      ]
     },
     "execution_count": 171,
     "metadata": {},
     "output_type": "execute_result"
    }
   ],
   "source": [
    "popu = popu['serie']\n",
    "popu"
   ]
  },
  {
   "cell_type": "code",
   "execution_count": 172,
   "metadata": {},
   "outputs": [],
   "source": [
    "popu.to_csv(\"Amostra.csv\", index=False)"
   ]
  },
  {
   "cell_type": "markdown",
   "metadata": {},
   "source": [
    "# Análise Exploratória"
   ]
  },
  {
   "cell_type": "code",
   "execution_count": 173,
   "metadata": {},
   "outputs": [],
   "source": [
    "#imdb = pd.read_csv(\"imdb_series.csv\") REMOVER (arquivo da amostra antiga)\n",
    "imdb = pd.read_csv(\"Amostra_IMDB.csv\")\n",
    "twitter = pd.read_csv(\"series_dataset_count/dataset_count.csv\")\n",
    "reviews = pd.read_csv(\"UserReviewsCritic.csv\", sep=\";\")"
   ]
  },
  {
   "cell_type": "code",
   "execution_count": 174,
   "metadata": {},
   "outputs": [
    {
     "data": {
      "text/html": [
       "<div>\n",
       "<style scoped>\n",
       "    .dataframe tbody tr th:only-of-type {\n",
       "        vertical-align: middle;\n",
       "    }\n",
       "\n",
       "    .dataframe tbody tr th {\n",
       "        vertical-align: top;\n",
       "    }\n",
       "\n",
       "    .dataframe thead th {\n",
       "        text-align: right;\n",
       "    }\n",
       "</style>\n",
       "<table border=\"1\" class=\"dataframe\">\n",
       "  <thead>\n",
       "    <tr style=\"text-align: right;\">\n",
       "      <th></th>\n",
       "      <th>Titulo</th>\n",
       "      <th>user_reviews</th>\n",
       "      <th>critic_reviews</th>\n",
       "    </tr>\n",
       "  </thead>\n",
       "  <tbody>\n",
       "    <tr>\n",
       "      <th>0</th>\n",
       "      <td>The Chosen One</td>\n",
       "      <td>27</td>\n",
       "      <td>5</td>\n",
       "    </tr>\n",
       "    <tr>\n",
       "      <th>1</th>\n",
       "      <td>Osmosis</td>\n",
       "      <td>50</td>\n",
       "      <td>10</td>\n",
       "    </tr>\n",
       "    <tr>\n",
       "      <th>2</th>\n",
       "      <td>Puerta 7</td>\n",
       "      <td>14</td>\n",
       "      <td>4</td>\n",
       "    </tr>\n",
       "    <tr>\n",
       "      <th>3</th>\n",
       "      <td>Holiday Secrets</td>\n",
       "      <td>7</td>\n",
       "      <td>5</td>\n",
       "    </tr>\n",
       "    <tr>\n",
       "      <th>4</th>\n",
       "      <td>Mindhunter</td>\n",
       "      <td>867</td>\n",
       "      <td>115</td>\n",
       "    </tr>\n",
       "  </tbody>\n",
       "</table>\n",
       "</div>"
      ],
      "text/plain": [
       "            Titulo  user_reviews  critic_reviews\n",
       "0   The Chosen One            27               5\n",
       "1          Osmosis            50              10\n",
       "2         Puerta 7            14               4\n",
       "3  Holiday Secrets             7               5\n",
       "4       Mindhunter           867             115"
      ]
     },
     "execution_count": 174,
     "metadata": {},
     "output_type": "execute_result"
    }
   ],
   "source": [
    "reviews.head()"
   ]
  },
  {
   "cell_type": "code",
   "execution_count": 175,
   "metadata": {},
   "outputs": [],
   "source": [
    "twitter.dropna(inplace=True)"
   ]
  },
  {
   "cell_type": "code",
   "execution_count": 176,
   "metadata": {},
   "outputs": [
    {
     "data": {
      "text/html": [
       "<div>\n",
       "<style scoped>\n",
       "    .dataframe tbody tr th:only-of-type {\n",
       "        vertical-align: middle;\n",
       "    }\n",
       "\n",
       "    .dataframe tbody tr th {\n",
       "        vertical-align: top;\n",
       "    }\n",
       "\n",
       "    .dataframe thead th {\n",
       "        text-align: right;\n",
       "    }\n",
       "</style>\n",
       "<table border=\"1\" class=\"dataframe\">\n",
       "  <thead>\n",
       "    <tr style=\"text-align: right;\">\n",
       "      <th></th>\n",
       "      <th>Nome</th>\n",
       "      <th>DataEstreia</th>\n",
       "      <th>CountPre</th>\n",
       "      <th>CountDurante</th>\n",
       "      <th>CountPos</th>\n",
       "      <th>CountTotal</th>\n",
       "      <th>IMDBid</th>\n",
       "    </tr>\n",
       "  </thead>\n",
       "  <tbody>\n",
       "    <tr>\n",
       "      <th>0</th>\n",
       "      <td>The Chosen One</td>\n",
       "      <td>2019-06-28</td>\n",
       "      <td>419.0</td>\n",
       "      <td>472.0</td>\n",
       "      <td>1111.0</td>\n",
       "      <td>2002.0</td>\n",
       "      <td>9048368</td>\n",
       "    </tr>\n",
       "    <tr>\n",
       "      <th>1</th>\n",
       "      <td>Osmosis</td>\n",
       "      <td>2019-03-29</td>\n",
       "      <td>936.0</td>\n",
       "      <td>937.0</td>\n",
       "      <td>1959.0</td>\n",
       "      <td>3832.0</td>\n",
       "      <td>7043380</td>\n",
       "    </tr>\n",
       "    <tr>\n",
       "      <th>2</th>\n",
       "      <td>Puerta 7</td>\n",
       "      <td>2020-02-21</td>\n",
       "      <td>280.0</td>\n",
       "      <td>514.0</td>\n",
       "      <td>907.0</td>\n",
       "      <td>1701.0</td>\n",
       "      <td>9170386</td>\n",
       "    </tr>\n",
       "    <tr>\n",
       "      <th>3</th>\n",
       "      <td>Holiday Secrets</td>\n",
       "      <td>2019-11-20</td>\n",
       "      <td>13.0</td>\n",
       "      <td>49.0</td>\n",
       "      <td>93.0</td>\n",
       "      <td>155.0</td>\n",
       "      <td>11243536</td>\n",
       "    </tr>\n",
       "    <tr>\n",
       "      <th>4</th>\n",
       "      <td>Mindhunter</td>\n",
       "      <td>2017-10-13</td>\n",
       "      <td>4980.0</td>\n",
       "      <td>7459.0</td>\n",
       "      <td>30394.0</td>\n",
       "      <td>42833.0</td>\n",
       "      <td>5290382</td>\n",
       "    </tr>\n",
       "    <tr>\n",
       "      <th>...</th>\n",
       "      <td>...</td>\n",
       "      <td>...</td>\n",
       "      <td>...</td>\n",
       "      <td>...</td>\n",
       "      <td>...</td>\n",
       "      <td>...</td>\n",
       "      <td>...</td>\n",
       "    </tr>\n",
       "    <tr>\n",
       "      <th>92</th>\n",
       "      <td>Sex Education</td>\n",
       "      <td>2019-01-11</td>\n",
       "      <td>2204.0</td>\n",
       "      <td>13414.0</td>\n",
       "      <td>44564.0</td>\n",
       "      <td>60182.0</td>\n",
       "      <td>7767422</td>\n",
       "    </tr>\n",
       "    <tr>\n",
       "      <th>93</th>\n",
       "      <td>The English Game</td>\n",
       "      <td>2020-03-20</td>\n",
       "      <td>0.0</td>\n",
       "      <td>1.0</td>\n",
       "      <td>5.0</td>\n",
       "      <td>6.0</td>\n",
       "      <td>8403664</td>\n",
       "    </tr>\n",
       "    <tr>\n",
       "      <th>94</th>\n",
       "      <td>Paava Kadhaigal</td>\n",
       "      <td>2020-12-18</td>\n",
       "      <td>366.0</td>\n",
       "      <td>577.0</td>\n",
       "      <td>325.0</td>\n",
       "      <td>1268.0</td>\n",
       "      <td>13206988</td>\n",
       "    </tr>\n",
       "    <tr>\n",
       "      <th>95</th>\n",
       "      <td>Homemade</td>\n",
       "      <td>2020-06-30</td>\n",
       "      <td>142.0</td>\n",
       "      <td>180.0</td>\n",
       "      <td>232.0</td>\n",
       "      <td>554.0</td>\n",
       "      <td>12574336</td>\n",
       "    </tr>\n",
       "    <tr>\n",
       "      <th>96</th>\n",
       "      <td>Trailer Park Boys Out of the Park - USA</td>\n",
       "      <td>2017-11-24</td>\n",
       "      <td>530.0</td>\n",
       "      <td>180.0</td>\n",
       "      <td>1920.0</td>\n",
       "      <td>2630.0</td>\n",
       "      <td>5937754</td>\n",
       "    </tr>\n",
       "  </tbody>\n",
       "</table>\n",
       "<p>94 rows × 7 columns</p>\n",
       "</div>"
      ],
      "text/plain": [
       "                                       Nome DataEstreia  CountPre  \\\n",
       "0                            The Chosen One  2019-06-28     419.0   \n",
       "1                                   Osmosis  2019-03-29     936.0   \n",
       "2                                  Puerta 7  2020-02-21     280.0   \n",
       "3                           Holiday Secrets  2019-11-20      13.0   \n",
       "4                                Mindhunter  2017-10-13    4980.0   \n",
       "..                                      ...         ...       ...   \n",
       "92                            Sex Education  2019-01-11    2204.0   \n",
       "93                         The English Game  2020-03-20       0.0   \n",
       "94                          Paava Kadhaigal  2020-12-18     366.0   \n",
       "95                                 Homemade  2020-06-30     142.0   \n",
       "96  Trailer Park Boys Out of the Park - USA  2017-11-24     530.0   \n",
       "\n",
       "    CountDurante  CountPos  CountTotal    IMDBid  \n",
       "0          472.0    1111.0      2002.0   9048368  \n",
       "1          937.0    1959.0      3832.0   7043380  \n",
       "2          514.0     907.0      1701.0   9170386  \n",
       "3           49.0      93.0       155.0  11243536  \n",
       "4         7459.0   30394.0     42833.0   5290382  \n",
       "..           ...       ...         ...       ...  \n",
       "92       13414.0   44564.0     60182.0   7767422  \n",
       "93           1.0       5.0         6.0   8403664  \n",
       "94         577.0     325.0      1268.0  13206988  \n",
       "95         180.0     232.0       554.0  12574336  \n",
       "96         180.0    1920.0      2630.0   5937754  \n",
       "\n",
       "[94 rows x 7 columns]"
      ]
     },
     "execution_count": 176,
     "metadata": {},
     "output_type": "execute_result"
    }
   ],
   "source": [
    "twitter"
   ]
  },
  {
   "cell_type": "code",
   "execution_count": 177,
   "metadata": {},
   "outputs": [
    {
     "data": {
      "text/html": [
       "<div>\n",
       "<style scoped>\n",
       "    .dataframe tbody tr th:only-of-type {\n",
       "        vertical-align: middle;\n",
       "    }\n",
       "\n",
       "    .dataframe tbody tr th {\n",
       "        vertical-align: top;\n",
       "    }\n",
       "\n",
       "    .dataframe thead th {\n",
       "        text-align: right;\n",
       "    }\n",
       "</style>\n",
       "<table border=\"1\" class=\"dataframe\">\n",
       "  <thead>\n",
       "    <tr style=\"text-align: right;\">\n",
       "      <th></th>\n",
       "      <th>Titulo</th>\n",
       "      <th>Check</th>\n",
       "      <th>IMDBid</th>\n",
       "      <th>Nota</th>\n",
       "      <th>Votos</th>\n",
       "      <th>Elenco</th>\n",
       "      <th>Gênero</th>\n",
       "      <th>Duração</th>\n",
       "      <th>Reviews</th>\n",
       "      <th>Ano</th>\n",
       "      <th>Data de estréia</th>\n",
       "      <th>Roteiristas</th>\n",
       "      <th>Censura</th>\n",
       "      <th>País</th>\n",
       "      <th>Idiomas</th>\n",
       "      <th>Episodios</th>\n",
       "    </tr>\n",
       "  </thead>\n",
       "  <tbody>\n",
       "    <tr>\n",
       "      <th>0</th>\n",
       "      <td>The Chosen One</td>\n",
       "      <td>tv series</td>\n",
       "      <td>9048368</td>\n",
       "      <td>5.8</td>\n",
       "      <td>636.0</td>\n",
       "      <td>Renan Tenca, Paloma Bernardi, Gutto Szuster, P...</td>\n",
       "      <td>Mystery, Thriller</td>\n",
       "      <td>40.0</td>\n",
       "      <td>25.0</td>\n",
       "      <td>2019.0</td>\n",
       "      <td>2019-06-28</td>\n",
       "      <td>Pablo Cruz, Raphael Draccon, Raphael Draccon</td>\n",
       "      <td>Argentina:16, Brazil:16, Germany:16::(self-app...</td>\n",
       "      <td>Brazil</td>\n",
       "      <td>Portuguese</td>\n",
       "      <td>6.0</td>\n",
       "    </tr>\n",
       "    <tr>\n",
       "      <th>1</th>\n",
       "      <td>Osmosis</td>\n",
       "      <td>tv series</td>\n",
       "      <td>7043380</td>\n",
       "      <td>5.8</td>\n",
       "      <td>2851.0</td>\n",
       "      <td>Agathe Bonitzer, Hugo Becker, Gaël Kamilindi, ...</td>\n",
       "      <td>Romance, Sci-Fi</td>\n",
       "      <td>55.0</td>\n",
       "      <td>24.0</td>\n",
       "      <td>2019.0</td>\n",
       "      <td>2019-03-29</td>\n",
       "      <td>Gabriel Chiche, Louis Chiche, William Chiche</td>\n",
       "      <td>Brazil:16::(self-applied), France:13::(self-ap...</td>\n",
       "      <td>France</td>\n",
       "      <td>French</td>\n",
       "      <td>8.0</td>\n",
       "    </tr>\n",
       "    <tr>\n",
       "      <th>2</th>\n",
       "      <td>Puerta 7</td>\n",
       "      <td>tv series</td>\n",
       "      <td>9170386</td>\n",
       "      <td>5.7</td>\n",
       "      <td>516.0</td>\n",
       "      <td>Dolores Fonzi, Esteban Lamothe, Carlos Belloso...</td>\n",
       "      <td>Crime, Drama, Thriller</td>\n",
       "      <td>45.0</td>\n",
       "      <td>14.0</td>\n",
       "      <td>2020.0</td>\n",
       "      <td>2020-02-21</td>\n",
       "      <td>Patricio Vega, Martin Zimmerman, Martin Zimmerman</td>\n",
       "      <td>Argentina:18, Australia:M, Philippines:18+::(s...</td>\n",
       "      <td>Argentina</td>\n",
       "      <td>Spanish</td>\n",
       "      <td>8.0</td>\n",
       "    </tr>\n",
       "    <tr>\n",
       "      <th>3</th>\n",
       "      <td>Holiday Secrets</td>\n",
       "      <td>tv mini series</td>\n",
       "      <td>11243536</td>\n",
       "      <td>6.5</td>\n",
       "      <td>1032.0</td>\n",
       "      <td>Corinna Harfouch, Christiane Paul, Svenja Jung...</td>\n",
       "      <td>Drama</td>\n",
       "      <td>NaN</td>\n",
       "      <td>7.0</td>\n",
       "      <td>2019.0</td>\n",
       "      <td>2019-11-20</td>\n",
       "      <td>Katharina Eyssen</td>\n",
       "      <td>Argentina:13, Singapore:PG13</td>\n",
       "      <td>Germany</td>\n",
       "      <td>German</td>\n",
       "      <td>3.0</td>\n",
       "    </tr>\n",
       "    <tr>\n",
       "      <th>4</th>\n",
       "      <td>Mindhunter</td>\n",
       "      <td>tv series</td>\n",
       "      <td>5290382</td>\n",
       "      <td>8.6</td>\n",
       "      <td>246759.0</td>\n",
       "      <td>Jonathan Groff, Holt McCallany, Anna Torv, Son...</td>\n",
       "      <td>Crime, Drama, Thriller</td>\n",
       "      <td>60.0</td>\n",
       "      <td>25.0</td>\n",
       "      <td>2017.0</td>\n",
       "      <td>2017-10-13</td>\n",
       "      <td>John Douglas, Mark Olshaker, Joe Penhall</td>\n",
       "      <td>Argentina:16, Australia:MA15+::(Netflix self-r...</td>\n",
       "      <td>United States</td>\n",
       "      <td>English</td>\n",
       "      <td>10.0</td>\n",
       "    </tr>\n",
       "  </tbody>\n",
       "</table>\n",
       "</div>"
      ],
      "text/plain": [
       "            Titulo           Check    IMDBid  Nota     Votos  \\\n",
       "0   The Chosen One       tv series   9048368   5.8     636.0   \n",
       "1          Osmosis       tv series   7043380   5.8    2851.0   \n",
       "2         Puerta 7       tv series   9170386   5.7     516.0   \n",
       "3  Holiday Secrets  tv mini series  11243536   6.5    1032.0   \n",
       "4       Mindhunter       tv series   5290382   8.6  246759.0   \n",
       "\n",
       "                                              Elenco                  Gênero  \\\n",
       "0  Renan Tenca, Paloma Bernardi, Gutto Szuster, P...       Mystery, Thriller   \n",
       "1  Agathe Bonitzer, Hugo Becker, Gaël Kamilindi, ...         Romance, Sci-Fi   \n",
       "2  Dolores Fonzi, Esteban Lamothe, Carlos Belloso...  Crime, Drama, Thriller   \n",
       "3  Corinna Harfouch, Christiane Paul, Svenja Jung...                   Drama   \n",
       "4  Jonathan Groff, Holt McCallany, Anna Torv, Son...  Crime, Drama, Thriller   \n",
       "\n",
       "   Duração  Reviews     Ano Data de estréia  \\\n",
       "0     40.0     25.0  2019.0      2019-06-28   \n",
       "1     55.0     24.0  2019.0      2019-03-29   \n",
       "2     45.0     14.0  2020.0      2020-02-21   \n",
       "3      NaN      7.0  2019.0      2019-11-20   \n",
       "4     60.0     25.0  2017.0      2017-10-13   \n",
       "\n",
       "                                         Roteiristas  \\\n",
       "0       Pablo Cruz, Raphael Draccon, Raphael Draccon   \n",
       "1       Gabriel Chiche, Louis Chiche, William Chiche   \n",
       "2  Patricio Vega, Martin Zimmerman, Martin Zimmerman   \n",
       "3                                   Katharina Eyssen   \n",
       "4           John Douglas, Mark Olshaker, Joe Penhall   \n",
       "\n",
       "                                             Censura           País  \\\n",
       "0  Argentina:16, Brazil:16, Germany:16::(self-app...         Brazil   \n",
       "1  Brazil:16::(self-applied), France:13::(self-ap...         France   \n",
       "2  Argentina:18, Australia:M, Philippines:18+::(s...      Argentina   \n",
       "3                       Argentina:13, Singapore:PG13        Germany   \n",
       "4  Argentina:16, Australia:MA15+::(Netflix self-r...  United States   \n",
       "\n",
       "      Idiomas  Episodios  \n",
       "0  Portuguese        6.0  \n",
       "1      French        8.0  \n",
       "2     Spanish        8.0  \n",
       "3      German        3.0  \n",
       "4     English       10.0  "
      ]
     },
     "execution_count": 177,
     "metadata": {},
     "output_type": "execute_result"
    }
   ],
   "source": [
    "imdb.head()"
   ]
  },
  {
   "cell_type": "code",
   "execution_count": 178,
   "metadata": {},
   "outputs": [
    {
     "data": {
      "text/html": [
       "<div>\n",
       "<style scoped>\n",
       "    .dataframe tbody tr th:only-of-type {\n",
       "        vertical-align: middle;\n",
       "    }\n",
       "\n",
       "    .dataframe tbody tr th {\n",
       "        vertical-align: top;\n",
       "    }\n",
       "\n",
       "    .dataframe thead th {\n",
       "        text-align: right;\n",
       "    }\n",
       "</style>\n",
       "<table border=\"1\" class=\"dataframe\">\n",
       "  <thead>\n",
       "    <tr style=\"text-align: right;\">\n",
       "      <th></th>\n",
       "      <th>Titulo</th>\n",
       "      <th>Check</th>\n",
       "      <th>IMDBid</th>\n",
       "      <th>Nota</th>\n",
       "      <th>Votos</th>\n",
       "      <th>Elenco</th>\n",
       "      <th>Gênero</th>\n",
       "      <th>Duração</th>\n",
       "      <th>Reviews</th>\n",
       "      <th>Ano</th>\n",
       "      <th>...</th>\n",
       "      <th>Idiomas</th>\n",
       "      <th>Episodios</th>\n",
       "      <th>Nome</th>\n",
       "      <th>DataEstreia</th>\n",
       "      <th>CountPre</th>\n",
       "      <th>CountDurante</th>\n",
       "      <th>CountPos</th>\n",
       "      <th>CountTotal</th>\n",
       "      <th>user_reviews</th>\n",
       "      <th>critic_reviews</th>\n",
       "    </tr>\n",
       "  </thead>\n",
       "  <tbody>\n",
       "    <tr>\n",
       "      <th>0</th>\n",
       "      <td>The Chosen One</td>\n",
       "      <td>tv series</td>\n",
       "      <td>9048368</td>\n",
       "      <td>5.8</td>\n",
       "      <td>636.0</td>\n",
       "      <td>Renan Tenca, Paloma Bernardi, Gutto Szuster, P...</td>\n",
       "      <td>Mystery, Thriller</td>\n",
       "      <td>40.0</td>\n",
       "      <td>25.0</td>\n",
       "      <td>2019.0</td>\n",
       "      <td>...</td>\n",
       "      <td>Portuguese</td>\n",
       "      <td>6.0</td>\n",
       "      <td>The Chosen One</td>\n",
       "      <td>2019-06-28</td>\n",
       "      <td>419.0</td>\n",
       "      <td>472.0</td>\n",
       "      <td>1111.0</td>\n",
       "      <td>2002.0</td>\n",
       "      <td>27</td>\n",
       "      <td>5</td>\n",
       "    </tr>\n",
       "    <tr>\n",
       "      <th>1</th>\n",
       "      <td>Osmosis</td>\n",
       "      <td>tv series</td>\n",
       "      <td>7043380</td>\n",
       "      <td>5.8</td>\n",
       "      <td>2851.0</td>\n",
       "      <td>Agathe Bonitzer, Hugo Becker, Gaël Kamilindi, ...</td>\n",
       "      <td>Romance, Sci-Fi</td>\n",
       "      <td>55.0</td>\n",
       "      <td>24.0</td>\n",
       "      <td>2019.0</td>\n",
       "      <td>...</td>\n",
       "      <td>French</td>\n",
       "      <td>8.0</td>\n",
       "      <td>Osmosis</td>\n",
       "      <td>2019-03-29</td>\n",
       "      <td>936.0</td>\n",
       "      <td>937.0</td>\n",
       "      <td>1959.0</td>\n",
       "      <td>3832.0</td>\n",
       "      <td>50</td>\n",
       "      <td>10</td>\n",
       "    </tr>\n",
       "    <tr>\n",
       "      <th>2</th>\n",
       "      <td>Puerta 7</td>\n",
       "      <td>tv series</td>\n",
       "      <td>9170386</td>\n",
       "      <td>5.7</td>\n",
       "      <td>516.0</td>\n",
       "      <td>Dolores Fonzi, Esteban Lamothe, Carlos Belloso...</td>\n",
       "      <td>Crime, Drama, Thriller</td>\n",
       "      <td>45.0</td>\n",
       "      <td>14.0</td>\n",
       "      <td>2020.0</td>\n",
       "      <td>...</td>\n",
       "      <td>Spanish</td>\n",
       "      <td>8.0</td>\n",
       "      <td>Puerta 7</td>\n",
       "      <td>2020-02-21</td>\n",
       "      <td>280.0</td>\n",
       "      <td>514.0</td>\n",
       "      <td>907.0</td>\n",
       "      <td>1701.0</td>\n",
       "      <td>14</td>\n",
       "      <td>4</td>\n",
       "    </tr>\n",
       "    <tr>\n",
       "      <th>3</th>\n",
       "      <td>Holiday Secrets</td>\n",
       "      <td>tv mini series</td>\n",
       "      <td>11243536</td>\n",
       "      <td>6.5</td>\n",
       "      <td>1032.0</td>\n",
       "      <td>Corinna Harfouch, Christiane Paul, Svenja Jung...</td>\n",
       "      <td>Drama</td>\n",
       "      <td>NaN</td>\n",
       "      <td>7.0</td>\n",
       "      <td>2019.0</td>\n",
       "      <td>...</td>\n",
       "      <td>German</td>\n",
       "      <td>3.0</td>\n",
       "      <td>Holiday Secrets</td>\n",
       "      <td>2019-11-20</td>\n",
       "      <td>13.0</td>\n",
       "      <td>49.0</td>\n",
       "      <td>93.0</td>\n",
       "      <td>155.0</td>\n",
       "      <td>7</td>\n",
       "      <td>5</td>\n",
       "    </tr>\n",
       "    <tr>\n",
       "      <th>4</th>\n",
       "      <td>Mindhunter</td>\n",
       "      <td>tv series</td>\n",
       "      <td>5290382</td>\n",
       "      <td>8.6</td>\n",
       "      <td>246759.0</td>\n",
       "      <td>Jonathan Groff, Holt McCallany, Anna Torv, Son...</td>\n",
       "      <td>Crime, Drama, Thriller</td>\n",
       "      <td>60.0</td>\n",
       "      <td>25.0</td>\n",
       "      <td>2017.0</td>\n",
       "      <td>...</td>\n",
       "      <td>English</td>\n",
       "      <td>10.0</td>\n",
       "      <td>Mindhunter</td>\n",
       "      <td>2017-10-13</td>\n",
       "      <td>4980.0</td>\n",
       "      <td>7459.0</td>\n",
       "      <td>30394.0</td>\n",
       "      <td>42833.0</td>\n",
       "      <td>867</td>\n",
       "      <td>115</td>\n",
       "    </tr>\n",
       "  </tbody>\n",
       "</table>\n",
       "<p>5 rows × 24 columns</p>\n",
       "</div>"
      ],
      "text/plain": [
       "            Titulo           Check    IMDBid  Nota     Votos  \\\n",
       "0   The Chosen One       tv series   9048368   5.8     636.0   \n",
       "1          Osmosis       tv series   7043380   5.8    2851.0   \n",
       "2         Puerta 7       tv series   9170386   5.7     516.0   \n",
       "3  Holiday Secrets  tv mini series  11243536   6.5    1032.0   \n",
       "4       Mindhunter       tv series   5290382   8.6  246759.0   \n",
       "\n",
       "                                              Elenco                  Gênero  \\\n",
       "0  Renan Tenca, Paloma Bernardi, Gutto Szuster, P...       Mystery, Thriller   \n",
       "1  Agathe Bonitzer, Hugo Becker, Gaël Kamilindi, ...         Romance, Sci-Fi   \n",
       "2  Dolores Fonzi, Esteban Lamothe, Carlos Belloso...  Crime, Drama, Thriller   \n",
       "3  Corinna Harfouch, Christiane Paul, Svenja Jung...                   Drama   \n",
       "4  Jonathan Groff, Holt McCallany, Anna Torv, Son...  Crime, Drama, Thriller   \n",
       "\n",
       "   Duração  Reviews     Ano  ...     Idiomas Episodios             Nome  \\\n",
       "0     40.0     25.0  2019.0  ...  Portuguese       6.0   The Chosen One   \n",
       "1     55.0     24.0  2019.0  ...      French       8.0          Osmosis   \n",
       "2     45.0     14.0  2020.0  ...     Spanish       8.0         Puerta 7   \n",
       "3      NaN      7.0  2019.0  ...      German       3.0  Holiday Secrets   \n",
       "4     60.0     25.0  2017.0  ...     English      10.0       Mindhunter   \n",
       "\n",
       "  DataEstreia CountPre  CountDurante CountPos CountTotal  user_reviews  \\\n",
       "0  2019-06-28    419.0         472.0   1111.0     2002.0            27   \n",
       "1  2019-03-29    936.0         937.0   1959.0     3832.0            50   \n",
       "2  2020-02-21    280.0         514.0    907.0     1701.0            14   \n",
       "3  2019-11-20     13.0          49.0     93.0      155.0             7   \n",
       "4  2017-10-13   4980.0        7459.0  30394.0    42833.0           867   \n",
       "\n",
       "   critic_reviews  \n",
       "0               5  \n",
       "1              10  \n",
       "2               4  \n",
       "3               5  \n",
       "4             115  \n",
       "\n",
       "[5 rows x 24 columns]"
      ]
     },
     "execution_count": 178,
     "metadata": {},
     "output_type": "execute_result"
    }
   ],
   "source": [
    "reviews.rename(columns={\"titulo\":\"Titulo\"}, inplace=True)\n",
    "aux = pd.merge(imdb, twitter, on = \"IMDBid\")\n",
    "dados = pd.merge(aux, reviews, on = \"Titulo\")\n",
    "\n",
    "#dados.drop(dados[dados[\"Nome\"]==\"LoveDeathandRobots\"].index, inplace=True)\n",
    "dados.head()"
   ]
  },
  {
   "cell_type": "code",
   "execution_count": 179,
   "metadata": {},
   "outputs": [],
   "source": [
    "dados.drop(columns=\"Reviews\", inplace=True)"
   ]
  },
  {
   "cell_type": "code",
   "execution_count": 180,
   "metadata": {},
   "outputs": [],
   "source": [
    "indice = dados[dados['Duração']>100]['Duração'].index"
   ]
  },
  {
   "cell_type": "code",
   "execution_count": 181,
   "metadata": {},
   "outputs": [],
   "source": [
    "dados.loc[indice, \"Duração\"] = dados.loc[indice, \"Duração\"]/dados.loc[indice, \"Episodios\"]"
   ]
  },
  {
   "cell_type": "code",
   "execution_count": 182,
   "metadata": {},
   "outputs": [
    {
     "data": {
      "text/html": [
       "<div>\n",
       "<style scoped>\n",
       "    .dataframe tbody tr th:only-of-type {\n",
       "        vertical-align: middle;\n",
       "    }\n",
       "\n",
       "    .dataframe tbody tr th {\n",
       "        vertical-align: top;\n",
       "    }\n",
       "\n",
       "    .dataframe thead th {\n",
       "        text-align: right;\n",
       "    }\n",
       "</style>\n",
       "<table border=\"1\" class=\"dataframe\">\n",
       "  <thead>\n",
       "    <tr style=\"text-align: right;\">\n",
       "      <th></th>\n",
       "      <th>Titulo</th>\n",
       "      <th>Check</th>\n",
       "      <th>IMDBid</th>\n",
       "      <th>Nota</th>\n",
       "      <th>Votos</th>\n",
       "      <th>Elenco</th>\n",
       "      <th>Gênero</th>\n",
       "      <th>Duração</th>\n",
       "      <th>Ano</th>\n",
       "      <th>Data de estréia</th>\n",
       "      <th>...</th>\n",
       "      <th>Idiomas</th>\n",
       "      <th>Episodios</th>\n",
       "      <th>Nome</th>\n",
       "      <th>DataEstreia</th>\n",
       "      <th>CountPre</th>\n",
       "      <th>CountDurante</th>\n",
       "      <th>CountPos</th>\n",
       "      <th>CountTotal</th>\n",
       "      <th>user_reviews</th>\n",
       "      <th>critic_reviews</th>\n",
       "    </tr>\n",
       "  </thead>\n",
       "  <tbody>\n",
       "  </tbody>\n",
       "</table>\n",
       "<p>0 rows × 23 columns</p>\n",
       "</div>"
      ],
      "text/plain": [
       "Empty DataFrame\n",
       "Columns: [Titulo, Check, IMDBid, Nota, Votos, Elenco, Gênero, Duração, Ano, Data de estréia, Roteiristas, Censura, País, Idiomas, Episodios, Nome, DataEstreia, CountPre, CountDurante, CountPos, CountTotal, user_reviews, critic_reviews]\n",
       "Index: []\n",
       "\n",
       "[0 rows x 23 columns]"
      ]
     },
     "execution_count": 182,
     "metadata": {},
     "output_type": "execute_result"
    }
   ],
   "source": [
    "dados[dados['Duração']>100]"
   ]
  },
  {
   "cell_type": "code",
   "execution_count": 183,
   "metadata": {},
   "outputs": [],
   "source": [
    "dados['Data de estréia'] = pd.to_datetime(dados['Data de estréia'], format=\"%Y-%m-%d\", errors = 'coerce')\n",
    "dados['mes'] = pd.DatetimeIndex(dados['Data de estréia']).month"
   ]
  },
  {
   "cell_type": "markdown",
   "metadata": {},
   "source": [
    "# Análise Exploratória"
   ]
  },
  {
   "cell_type": "code",
   "execution_count": 184,
   "metadata": {},
   "outputs": [],
   "source": [
    "teste = dados[dados['Duração'].notna()]"
   ]
  },
  {
   "cell_type": "code",
   "execution_count": 202,
   "metadata": {},
   "outputs": [],
   "source": [
    "#dados.apply(lambda linha: linha['Duração'] if linha['Duração']<100 else linha['Duração']/linha['Episodios'])\n",
    "#dados.apply(lambda linha: print(linha[7]))\n",
    "#a = teste.apply(lambda linha: print(linha[0]))\n",
    "#dados['Duração']\n",
    "\n",
    "#duracao = dados['Duração']\n",
    "#epi = dados['Episodios']\n"
   ]
  },
  {
   "cell_type": "code",
   "execution_count": null,
   "metadata": {},
   "outputs": [
    {
     "data": {
      "text/plain": [
       "0     False\n",
       "1     False\n",
       "2     False\n",
       "3      True\n",
       "4     False\n",
       "      ...  \n",
       "81    False\n",
       "82    False\n",
       "83    False\n",
       "84    False\n",
       "85    False\n",
       "Name: Duração, Length: 86, dtype: bool"
      ]
     },
     "execution_count": 58,
     "metadata": {},
     "output_type": "execute_result"
    }
   ],
   "source": []
  },
  {
   "cell_type": "markdown",
   "metadata": {},
   "source": [
    "## Nota"
   ]
  },
  {
   "cell_type": "code",
   "execution_count": null,
   "metadata": {},
   "outputs": [
    {
     "data": {
      "text/plain": [
       "<AxesSubplot:xlabel='Nota', ylabel='Count'>"
      ]
     },
     "execution_count": 11,
     "metadata": {},
     "output_type": "execute_result"
    },
    {
     "data": {
      "image/png": "[encoded data removed]",
      "text/plain": [
       "<Figure size 432x288 with 1 Axes>"
      ]
     },
     "metadata": {
      "needs_background": "light"
     },
     "output_type": "display_data"
    }
   ],
   "source": [
    "sns.histplot(data=dados, x=\"Nota\")"
   ]
  },
  {
   "cell_type": "code",
   "execution_count": null,
   "metadata": {},
   "outputs": [
    {
     "data": {
      "text/plain": [
       "<AxesSubplot:ylabel='Nota'>"
      ]
     },
     "execution_count": 12,
     "metadata": {},
     "output_type": "execute_result"
    },
    {
     "data": {
      "image/png": "[encoded data removed]",
      "text/plain": [
       "<Figure size 432x288 with 1 Axes>"
      ]
     },
     "metadata": {
      "needs_background": "light"
     },
     "output_type": "display_data"
    }
   ],
   "source": [
    "sns.boxplot(y=dados['Nota'], data=dados)"
   ]
  },
  {
   "cell_type": "code",
   "execution_count": null,
   "metadata": {},
   "outputs": [],
   "source": [
    "dados.groupby"
   ]
  },
  {
   "cell_type": "code",
   "execution_count": null,
   "metadata": {},
   "outputs": [
    {
     "data": {
      "text/plain": [
       "<AxesSubplot:xlabel='Ano', ylabel='Nota'>"
      ]
     },
     "execution_count": 13,
     "metadata": {},
     "output_type": "execute_result"
    },
    {
     "data": {
      "image/png": "[encoded data removed]",
      "text/plain": [
       "<Figure size 432x288 with 1 Axes>"
      ]
     },
     "metadata": {
      "needs_background": "light"
     },
     "output_type": "display_data"
    }
   ],
   "source": [
    "sns.boxplot(x=dados['Ano'],y=dados['Nota'], data=dados)"
   ]
  },
  {
   "cell_type": "code",
   "execution_count": null,
   "metadata": {},
   "outputs": [],
   "source": [
    "y = []\n",
    "coluna = []\n",
    "for i in range (24,dados.columns.size,1):\n",
    "    coluna.append(str(dados.columns[i]))\n",
    "    \n",
    "    aux = []\n",
    "    for j in range (0, len(dados[dados[coluna[-1]] == 1]['Nota']),1):\n",
    "        aux.append(dados[dados[coluna[-1]] == 1]['Nota'].values[j])\n",
    "        \n",
    "    y.append(aux)"
   ]
  },
  {
   "cell_type": "code",
   "execution_count": null,
   "metadata": {},
   "outputs": [],
   "source": [
    "colunas = {'Nota':[], 'Gênero':[]}\n",
    "df_aux = pd.DataFrame(colunas)\n",
    "\n",
    "for i in range(len(y)):\n",
    "    for val in y[i]:\n",
    "        linha = {'Nota':val, 'Gênero':coluna[i]}\n",
    "        df_aux = df_aux.append(linha, ignore_index=True)"
   ]
  },
  {
   "cell_type": "code",
   "execution_count": null,
   "metadata": {},
   "outputs": [
    {
     "data": {
      "text/html": [
       "<div>\n",
       "<style scoped>\n",
       "    .dataframe tbody tr th:only-of-type {\n",
       "        vertical-align: middle;\n",
       "    }\n",
       "\n",
       "    .dataframe tbody tr th {\n",
       "        vertical-align: top;\n",
       "    }\n",
       "\n",
       "    .dataframe thead th {\n",
       "        text-align: right;\n",
       "    }\n",
       "</style>\n",
       "<table border=\"1\" class=\"dataframe\">\n",
       "  <thead>\n",
       "    <tr style=\"text-align: right;\">\n",
       "      <th></th>\n",
       "      <th>Nota</th>\n",
       "      <th>Gênero</th>\n",
       "    </tr>\n",
       "  </thead>\n",
       "  <tbody>\n",
       "    <tr>\n",
       "      <th>0</th>\n",
       "      <td>7.3</td>\n",
       "      <td>Adventure</td>\n",
       "    </tr>\n",
       "    <tr>\n",
       "      <th>1</th>\n",
       "      <td>8.5</td>\n",
       "      <td>Adventure</td>\n",
       "    </tr>\n",
       "    <tr>\n",
       "      <th>2</th>\n",
       "      <td>7.4</td>\n",
       "      <td>Adventure</td>\n",
       "    </tr>\n",
       "    <tr>\n",
       "      <th>3</th>\n",
       "      <td>6.8</td>\n",
       "      <td>Adventure</td>\n",
       "    </tr>\n",
       "    <tr>\n",
       "      <th>4</th>\n",
       "      <td>6.8</td>\n",
       "      <td>Adventure</td>\n",
       "    </tr>\n",
       "    <tr>\n",
       "      <th>...</th>\n",
       "      <td>...</td>\n",
       "      <td>...</td>\n",
       "    </tr>\n",
       "    <tr>\n",
       "      <th>224</th>\n",
       "      <td>7.4</td>\n",
       "      <td>Thriller</td>\n",
       "    </tr>\n",
       "    <tr>\n",
       "      <th>225</th>\n",
       "      <td>7.4</td>\n",
       "      <td>Thriller</td>\n",
       "    </tr>\n",
       "    <tr>\n",
       "      <th>226</th>\n",
       "      <td>7.6</td>\n",
       "      <td>Thriller</td>\n",
       "    </tr>\n",
       "    <tr>\n",
       "      <th>227</th>\n",
       "      <td>7.5</td>\n",
       "      <td>Western</td>\n",
       "    </tr>\n",
       "    <tr>\n",
       "      <th>228</th>\n",
       "      <td>8.3</td>\n",
       "      <td>Western</td>\n",
       "    </tr>\n",
       "  </tbody>\n",
       "</table>\n",
       "<p>229 rows × 2 columns</p>\n",
       "</div>"
      ],
      "text/plain": [
       "     Nota     Gênero\n",
       "0     7.3  Adventure\n",
       "1     8.5  Adventure\n",
       "2     7.4  Adventure\n",
       "3     6.8  Adventure\n",
       "4     6.8  Adventure\n",
       "..    ...        ...\n",
       "224   7.4   Thriller\n",
       "225   7.4   Thriller\n",
       "226   7.6   Thriller\n",
       "227   7.5    Western\n",
       "228   8.3    Western\n",
       "\n",
       "[229 rows x 2 columns]"
      ]
     },
     "execution_count": 100,
     "metadata": {},
     "output_type": "execute_result"
    }
   ],
   "source": [
    "df_aux"
   ]
  },
  {
   "cell_type": "code",
   "execution_count": null,
   "metadata": {},
   "outputs": [
    {
     "data": {
      "image/png": "[encoded data removed]",
      "text/plain": [
       "<Figure size 432x288 with 1 Axes>"
      ]
     },
     "metadata": {
      "needs_background": "light"
     },
     "output_type": "display_data"
    }
   ],
   "source": [
    "fig, ax = plt.subplots()\n",
    "sns.boxplot(x='Gênero',y='Nota', data=df_aux)\n",
    "ax.tick_params(rotation=90)\n",
    "\n",
    "#fig, ax = plt.subplots()\n",
    "#sns.barplot(x = x, y = df['log_disaster'], palette=\"Blues_d\")\n",
    "#ax.tick_params(rotation=90)\n",
    "#ax.set_title('Número de Desastres por Ano')\n",
    "##ax.set_ylabel('Número de Desastres')\n",
    "#ax.set_xlabel('Ano')\n",
    "#fig.set_size_inches(20, 5)"
   ]
  },
  {
   "cell_type": "code",
   "execution_count": null,
   "metadata": {},
   "outputs": [],
   "source": [
    "#[\"Mystery\" in linha for linha in dados['Gênero']]\n",
    "#plt.boxplot(dados[dados['Mystery']==1]['Nota'].describe())#.plot()\n",
    "#plt.boxplot(dados[dados['Drama']==1]['Nota'].describe())#.plot()\n",
    "#dados[dados['Drama']==1]['Nota'].describe()#.plot()"
   ]
  },
  {
   "cell_type": "code",
   "execution_count": null,
   "metadata": {},
   "outputs": [
    {
     "data": {
      "text/plain": [
       "69"
      ]
     },
     "execution_count": 87,
     "metadata": {},
     "output_type": "execute_result"
    }
   ],
   "source": [
    "#dados[dados['Drama']==1]['Nota'].count()"
   ]
  },
  {
   "cell_type": "code",
   "execution_count": null,
   "metadata": {},
   "outputs": [
    {
     "data": {
      "text/plain": [
       "list"
      ]
     },
     "execution_count": 78,
     "metadata": {},
     "output_type": "execute_result"
    }
   ],
   "source": [
    "#type(dados['Gênero'].apply(lambda x: x)[0])"
   ]
  },
  {
   "cell_type": "code",
   "execution_count": null,
   "metadata": {},
   "outputs": [],
   "source": [
    "#dados['Gênero'] = dados['Gênero'].apply(lambda x : x.split(\", \"))\n",
    "#dados['Gênero']\n"
   ]
  },
  {
   "cell_type": "code",
   "execution_count": null,
   "metadata": {},
   "outputs": [],
   "source": [
    "dummies = pd.get_dummies(dados['Gênero'].apply(pd.Series).stack()).sum(level=0)\n",
    "# Primeiramente: Fazer o count, ver a frequencia de cada série\n",
    "# Segundamente: Avaliar os grupos mais frequentes (Drama+Comedia)"
   ]
  },
  {
   "cell_type": "code",
   "execution_count": null,
   "metadata": {},
   "outputs": [
    {
     "data": {
      "text/plain": [
       "86"
      ]
     },
     "execution_count": 16,
     "metadata": {},
     "output_type": "execute_result"
    }
   ],
   "source": [
    "len(dados)"
   ]
  },
  {
   "cell_type": "code",
   "execution_count": null,
   "metadata": {},
   "outputs": [],
   "source": [
    "dados = dados.join(dummies)"
   ]
  },
  {
   "cell_type": "code",
   "execution_count": null,
   "metadata": {},
   "outputs": [],
   "source": [
    "#dados[colunas = 25:45].equals(dummies)"
   ]
  },
  {
   "cell_type": "code",
   "execution_count": null,
   "metadata": {},
   "outputs": [
    {
     "data": {
      "text/plain": [
       "Action       12.790698\n",
       "Adventure     5.813953\n",
       "Biography     2.325581\n",
       "Comedy       39.534884\n",
       "Crime        27.906977\n",
       "Drama        80.232558\n",
       "Family        2.325581\n",
       "Fantasy      13.953488\n",
       "History       2.325581\n",
       "Horror        8.139535\n",
       "Music         3.488372\n",
       "Musical       3.488372\n",
       "Mystery      17.441860\n",
       "Romance      10.465116\n",
       "Sci-Fi       11.627907\n",
       "Short         1.162791\n",
       "Sport         2.325581\n",
       "Thriller     31.395349\n",
       "Western       2.325581\n",
       "dtype: float64"
      ]
     },
     "execution_count": 23,
     "metadata": {},
     "output_type": "execute_result"
    }
   ],
   "source": [
    "dados.iloc[:, 24:].sum()\n",
    "dados.iloc[:, 24:].sum()*100/86"
   ]
  },
  {
   "cell_type": "code",
   "execution_count": null,
   "metadata": {},
   "outputs": [
    {
     "data": {
      "text/plain": [
       "Index(['Titulo', 'Check', 'IMDBid', 'Nota', 'Votos', 'Elenco', 'Gênero',\n",
       "       'Duração', 'Reviews', 'Ano', 'Data de estréia', 'Roteiristas',\n",
       "       'Censura', 'País', 'Idiomas', 'Episodios', 'Nome', 'DataEstreia',\n",
       "       'CountPre', 'CountDurante', 'CountPos', 'CountTotal', 'user_reviews',\n",
       "       'critic_reviews', 'Action', 'Adventure', 'Biography', 'Comedy', 'Crime',\n",
       "       'Drama', 'Family', 'Fantasy', 'History', 'Horror', 'Music', 'Musical',\n",
       "       'Mystery', 'Romance', 'Sci-Fi', 'Short', 'Sport', 'Thriller',\n",
       "       'Western'],\n",
       "      dtype='object')"
      ]
     },
     "execution_count": 21,
     "metadata": {},
     "output_type": "execute_result"
    }
   ],
   "source": [
    "dados.columns"
   ]
  },
  {
   "cell_type": "code",
   "execution_count": null,
   "metadata": {},
   "outputs": [
    {
     "data": {
      "text/plain": [
       "'Action'"
      ]
     },
     "execution_count": 22,
     "metadata": {},
     "output_type": "execute_result"
    }
   ],
   "source": [
    "dados.columns[24]"
   ]
  },
  {
   "cell_type": "markdown",
   "metadata": {},
   "source": [
    "### Nota do IMDB e número de votos por engajamento por engajamento"
   ]
  },
  {
   "cell_type": "code",
   "execution_count": null,
   "metadata": {},
   "outputs": [],
   "source": [
    "#dados['Nota'] CountPre CountDurante CountPos CountTotal\n",
    "\n",
    "sns.scatterplot(data=dado, x=\"Nota\", y=\"CountTotal\")"
   ]
  },
  {
   "cell_type": "code",
   "execution_count": null,
   "metadata": {},
   "outputs": [],
   "source": [
    "sns.scatterplot(data=dados, x=\"Nota\", y=\"CountTotal\")#, hue=dados['País'])"
   ]
  },
  {
   "cell_type": "code",
   "execution_count": null,
   "metadata": {},
   "outputs": [],
   "source": [
    "sns.boxplot(data=dados, x=\"Nota\", y=\"País\")#, hue=dados['País'])"
   ]
  },
  {
   "cell_type": "code",
   "execution_count": null,
   "metadata": {},
   "outputs": [],
   "source": [
    "sns.boxplot(data=dados, x=\"Episodios\", y=\"Nota\")"
   ]
  },
  {
   "cell_type": "code",
   "execution_count": null,
   "metadata": {},
   "outputs": [],
   "source": [
    "sns.boxplot(data=dados, x=\"Check\", y=\"Nota\")"
   ]
  },
  {
   "cell_type": "code",
   "execution_count": null,
   "metadata": {},
   "outputs": [],
   "source": [
    "sns.scatterplot(data=dados, x=\"Nota\", y=\"CountPre\")"
   ]
  },
  {
   "cell_type": "code",
   "execution_count": null,
   "metadata": {},
   "outputs": [],
   "source": [
    "sns.scatterplot(data=dados, x=\"Nota\", y=\"CountDurante\")"
   ]
  },
  {
   "cell_type": "code",
   "execution_count": null,
   "metadata": {},
   "outputs": [],
   "source": [
    "sns.scatterplot(data=dados, x=\"Nota\", y=\"CountPos\")"
   ]
  },
  {
   "cell_type": "code",
   "execution_count": null,
   "metadata": {},
   "outputs": [
    {
     "data": {
      "text/html": [
       "<div>\n",
       "<style scoped>\n",
       "    .dataframe tbody tr th:only-of-type {\n",
       "        vertical-align: middle;\n",
       "    }\n",
       "\n",
       "    .dataframe tbody tr th {\n",
       "        vertical-align: top;\n",
       "    }\n",
       "\n",
       "    .dataframe thead th {\n",
       "        text-align: right;\n",
       "    }\n",
       "</style>\n",
       "<table border=\"1\" class=\"dataframe\">\n",
       "  <thead>\n",
       "    <tr style=\"text-align: right;\">\n",
       "      <th></th>\n",
       "      <th>IMDBid</th>\n",
       "      <th>Nota</th>\n",
       "      <th>Votos</th>\n",
       "      <th>Duração</th>\n",
       "      <th>Ano</th>\n",
       "      <th>Episodios</th>\n",
       "      <th>CountPre</th>\n",
       "      <th>CountDurante</th>\n",
       "      <th>CountPos</th>\n",
       "      <th>CountTotal</th>\n",
       "      <th>...</th>\n",
       "      <th>Horror</th>\n",
       "      <th>Music</th>\n",
       "      <th>Musical</th>\n",
       "      <th>Mystery</th>\n",
       "      <th>Romance</th>\n",
       "      <th>Sci-Fi</th>\n",
       "      <th>Short</th>\n",
       "      <th>Sport</th>\n",
       "      <th>Thriller</th>\n",
       "      <th>Western</th>\n",
       "    </tr>\n",
       "  </thead>\n",
       "  <tbody>\n",
       "    <tr>\n",
       "      <th>IMDBid</th>\n",
       "      <td>1.000000</td>\n",
       "      <td>-0.438873</td>\n",
       "      <td>-0.543804</td>\n",
       "      <td>-0.219106</td>\n",
       "      <td>0.852411</td>\n",
       "      <td>-0.384553</td>\n",
       "      <td>-0.479329</td>\n",
       "      <td>-0.596080</td>\n",
       "      <td>-0.364468</td>\n",
       "      <td>-0.482506</td>\n",
       "      <td>...</td>\n",
       "      <td>0.103555</td>\n",
       "      <td>-0.021814</td>\n",
       "      <td>0.107694</td>\n",
       "      <td>0.002316</td>\n",
       "      <td>0.164807</td>\n",
       "      <td>-0.336371</td>\n",
       "      <td>-0.000389</td>\n",
       "      <td>0.003843</td>\n",
       "      <td>-0.010006</td>\n",
       "      <td>-0.216646</td>\n",
       "    </tr>\n",
       "    <tr>\n",
       "      <th>Nota</th>\n",
       "      <td>-0.438873</td>\n",
       "      <td>1.000000</td>\n",
       "      <td>0.481724</td>\n",
       "      <td>0.243358</td>\n",
       "      <td>-0.410434</td>\n",
       "      <td>0.070388</td>\n",
       "      <td>0.206121</td>\n",
       "      <td>0.405380</td>\n",
       "      <td>0.476275</td>\n",
       "      <td>0.476569</td>\n",
       "      <td>...</td>\n",
       "      <td>-0.136808</td>\n",
       "      <td>0.001835</td>\n",
       "      <td>0.063598</td>\n",
       "      <td>0.001119</td>\n",
       "      <td>-0.243512</td>\n",
       "      <td>0.006120</td>\n",
       "      <td>0.020623</td>\n",
       "      <td>0.062757</td>\n",
       "      <td>-0.015175</td>\n",
       "      <td>0.112885</td>\n",
       "    </tr>\n",
       "    <tr>\n",
       "      <th>Votos</th>\n",
       "      <td>-0.543804</td>\n",
       "      <td>0.481724</td>\n",
       "      <td>1.000000</td>\n",
       "      <td>0.262867</td>\n",
       "      <td>-0.559226</td>\n",
       "      <td>0.147458</td>\n",
       "      <td>0.467113</td>\n",
       "      <td>0.740705</td>\n",
       "      <td>0.636127</td>\n",
       "      <td>0.712633</td>\n",
       "      <td>...</td>\n",
       "      <td>-0.044052</td>\n",
       "      <td>-0.088508</td>\n",
       "      <td>-0.086997</td>\n",
       "      <td>0.099417</td>\n",
       "      <td>-0.111138</td>\n",
       "      <td>0.247586</td>\n",
       "      <td>-0.050138</td>\n",
       "      <td>-0.051163</td>\n",
       "      <td>0.100023</td>\n",
       "      <td>0.020435</td>\n",
       "    </tr>\n",
       "    <tr>\n",
       "      <th>Duração</th>\n",
       "      <td>-0.219106</td>\n",
       "      <td>0.243358</td>\n",
       "      <td>0.262867</td>\n",
       "      <td>1.000000</td>\n",
       "      <td>-0.136125</td>\n",
       "      <td>-0.276558</td>\n",
       "      <td>0.232535</td>\n",
       "      <td>0.309825</td>\n",
       "      <td>0.328476</td>\n",
       "      <td>0.338625</td>\n",
       "      <td>...</td>\n",
       "      <td>0.099983</td>\n",
       "      <td>0.079319</td>\n",
       "      <td>-0.024514</td>\n",
       "      <td>0.311941</td>\n",
       "      <td>0.064691</td>\n",
       "      <td>0.231598</td>\n",
       "      <td>NaN</td>\n",
       "      <td>0.029710</td>\n",
       "      <td>0.339066</td>\n",
       "      <td>0.027897</td>\n",
       "    </tr>\n",
       "    <tr>\n",
       "      <th>Ano</th>\n",
       "      <td>0.852411</td>\n",
       "      <td>-0.410434</td>\n",
       "      <td>-0.559226</td>\n",
       "      <td>-0.136125</td>\n",
       "      <td>1.000000</td>\n",
       "      <td>-0.417665</td>\n",
       "      <td>-0.408439</td>\n",
       "      <td>-0.507547</td>\n",
       "      <td>-0.304749</td>\n",
       "      <td>-0.406723</td>\n",
       "      <td>...</td>\n",
       "      <td>0.051782</td>\n",
       "      <td>0.099924</td>\n",
       "      <td>0.142466</td>\n",
       "      <td>0.035879</td>\n",
       "      <td>0.128689</td>\n",
       "      <td>-0.239543</td>\n",
       "      <td>0.081279</td>\n",
       "      <td>0.115629</td>\n",
       "      <td>0.019166</td>\n",
       "      <td>-0.246916</td>\n",
       "    </tr>\n",
       "    <tr>\n",
       "      <th>Episodios</th>\n",
       "      <td>-0.384553</td>\n",
       "      <td>0.070388</td>\n",
       "      <td>0.147458</td>\n",
       "      <td>-0.276558</td>\n",
       "      <td>-0.417665</td>\n",
       "      <td>1.000000</td>\n",
       "      <td>0.191909</td>\n",
       "      <td>0.160133</td>\n",
       "      <td>0.119649</td>\n",
       "      <td>0.157592</td>\n",
       "      <td>...</td>\n",
       "      <td>-0.041929</td>\n",
       "      <td>-0.023769</td>\n",
       "      <td>-0.065916</td>\n",
       "      <td>-0.108413</td>\n",
       "      <td>-0.080638</td>\n",
       "      <td>-0.001122</td>\n",
       "      <td>0.046553</td>\n",
       "      <td>-0.036395</td>\n",
       "      <td>-0.009591</td>\n",
       "      <td>0.245815</td>\n",
       "    </tr>\n",
       "    <tr>\n",
       "      <th>CountPre</th>\n",
       "      <td>-0.479329</td>\n",
       "      <td>0.206121</td>\n",
       "      <td>0.467113</td>\n",
       "      <td>0.232535</td>\n",
       "      <td>-0.408439</td>\n",
       "      <td>0.191909</td>\n",
       "      <td>1.000000</td>\n",
       "      <td>0.774767</td>\n",
       "      <td>0.423803</td>\n",
       "      <td>0.659854</td>\n",
       "      <td>...</td>\n",
       "      <td>0.000555</td>\n",
       "      <td>-0.012927</td>\n",
       "      <td>-0.059889</td>\n",
       "      <td>-0.001368</td>\n",
       "      <td>0.004977</td>\n",
       "      <td>0.448281</td>\n",
       "      <td>-0.030019</td>\n",
       "      <td>-0.057721</td>\n",
       "      <td>0.176628</td>\n",
       "      <td>0.008721</td>\n",
       "    </tr>\n",
       "    <tr>\n",
       "      <th>CountDurante</th>\n",
       "      <td>-0.596080</td>\n",
       "      <td>0.405380</td>\n",
       "      <td>0.740705</td>\n",
       "      <td>0.309825</td>\n",
       "      <td>-0.507547</td>\n",
       "      <td>0.160133</td>\n",
       "      <td>0.774767</td>\n",
       "      <td>1.000000</td>\n",
       "      <td>0.624508</td>\n",
       "      <td>0.813774</td>\n",
       "      <td>...</td>\n",
       "      <td>-0.003724</td>\n",
       "      <td>-0.060946</td>\n",
       "      <td>-0.085040</td>\n",
       "      <td>0.035970</td>\n",
       "      <td>-0.085937</td>\n",
       "      <td>0.376173</td>\n",
       "      <td>-0.023458</td>\n",
       "      <td>-0.078038</td>\n",
       "      <td>0.075205</td>\n",
       "      <td>-0.000911</td>\n",
       "    </tr>\n",
       "    <tr>\n",
       "      <th>CountPos</th>\n",
       "      <td>-0.364468</td>\n",
       "      <td>0.476275</td>\n",
       "      <td>0.636127</td>\n",
       "      <td>0.328476</td>\n",
       "      <td>-0.304749</td>\n",
       "      <td>0.119649</td>\n",
       "      <td>0.423803</td>\n",
       "      <td>0.624508</td>\n",
       "      <td>1.000000</td>\n",
       "      <td>0.952900</td>\n",
       "      <td>...</td>\n",
       "      <td>-0.061725</td>\n",
       "      <td>-0.097131</td>\n",
       "      <td>0.272465</td>\n",
       "      <td>0.091022</td>\n",
       "      <td>-0.050722</td>\n",
       "      <td>0.217217</td>\n",
       "      <td>-0.042465</td>\n",
       "      <td>-0.034404</td>\n",
       "      <td>0.033697</td>\n",
       "      <td>-0.024843</td>\n",
       "    </tr>\n",
       "    <tr>\n",
       "      <th>CountTotal</th>\n",
       "      <td>-0.482506</td>\n",
       "      <td>0.476569</td>\n",
       "      <td>0.712633</td>\n",
       "      <td>0.338625</td>\n",
       "      <td>-0.406723</td>\n",
       "      <td>0.157592</td>\n",
       "      <td>0.659854</td>\n",
       "      <td>0.813774</td>\n",
       "      <td>0.952900</td>\n",
       "      <td>1.000000</td>\n",
       "      <td>...</td>\n",
       "      <td>-0.046781</td>\n",
       "      <td>-0.087370</td>\n",
       "      <td>0.175210</td>\n",
       "      <td>0.075075</td>\n",
       "      <td>-0.054442</td>\n",
       "      <td>0.322016</td>\n",
       "      <td>-0.042076</td>\n",
       "      <td>-0.052287</td>\n",
       "      <td>0.073267</td>\n",
       "      <td>-0.017131</td>\n",
       "    </tr>\n",
       "    <tr>\n",
       "      <th>user_reviews</th>\n",
       "      <td>-0.301997</td>\n",
       "      <td>0.351861</td>\n",
       "      <td>0.671408</td>\n",
       "      <td>0.233545</td>\n",
       "      <td>-0.218032</td>\n",
       "      <td>0.048742</td>\n",
       "      <td>0.358995</td>\n",
       "      <td>0.479688</td>\n",
       "      <td>0.573044</td>\n",
       "      <td>0.592375</td>\n",
       "      <td>...</td>\n",
       "      <td>0.125792</td>\n",
       "      <td>-0.093726</td>\n",
       "      <td>-0.083001</td>\n",
       "      <td>0.316068</td>\n",
       "      <td>-0.075711</td>\n",
       "      <td>0.301720</td>\n",
       "      <td>-0.058112</td>\n",
       "      <td>-0.042493</td>\n",
       "      <td>0.208300</td>\n",
       "      <td>0.036857</td>\n",
       "    </tr>\n",
       "    <tr>\n",
       "      <th>critic_reviews</th>\n",
       "      <td>-0.529820</td>\n",
       "      <td>0.428520</td>\n",
       "      <td>0.906763</td>\n",
       "      <td>0.303765</td>\n",
       "      <td>-0.466299</td>\n",
       "      <td>0.119927</td>\n",
       "      <td>0.631771</td>\n",
       "      <td>0.766159</td>\n",
       "      <td>0.608712</td>\n",
       "      <td>0.727899</td>\n",
       "      <td>...</td>\n",
       "      <td>0.065665</td>\n",
       "      <td>-0.047531</td>\n",
       "      <td>-0.123953</td>\n",
       "      <td>0.205042</td>\n",
       "      <td>-0.099998</td>\n",
       "      <td>0.374486</td>\n",
       "      <td>-0.017546</td>\n",
       "      <td>-0.054462</td>\n",
       "      <td>0.208183</td>\n",
       "      <td>-0.018154</td>\n",
       "    </tr>\n",
       "    <tr>\n",
       "      <th>Action</th>\n",
       "      <td>-0.167972</td>\n",
       "      <td>0.084126</td>\n",
       "      <td>0.058375</td>\n",
       "      <td>0.179212</td>\n",
       "      <td>-0.133708</td>\n",
       "      <td>0.037020</td>\n",
       "      <td>0.276220</td>\n",
       "      <td>0.168898</td>\n",
       "      <td>-0.030946</td>\n",
       "      <td>0.062493</td>\n",
       "      <td>...</td>\n",
       "      <td>0.013325</td>\n",
       "      <td>-0.072809</td>\n",
       "      <td>-0.072809</td>\n",
       "      <td>0.007468</td>\n",
       "      <td>-0.017193</td>\n",
       "      <td>0.295517</td>\n",
       "      <td>-0.041539</td>\n",
       "      <td>-0.059094</td>\n",
       "      <td>0.116016</td>\n",
       "      <td>0.171909</td>\n",
       "    </tr>\n",
       "    <tr>\n",
       "      <th>Adventure</th>\n",
       "      <td>-0.038347</td>\n",
       "      <td>0.036478</td>\n",
       "      <td>-0.045778</td>\n",
       "      <td>0.045956</td>\n",
       "      <td>0.086108</td>\n",
       "      <td>-0.075125</td>\n",
       "      <td>0.040295</td>\n",
       "      <td>0.060529</td>\n",
       "      <td>0.191105</td>\n",
       "      <td>0.162594</td>\n",
       "      <td>...</td>\n",
       "      <td>-0.073957</td>\n",
       "      <td>-0.047235</td>\n",
       "      <td>0.223579</td>\n",
       "      <td>-0.114198</td>\n",
       "      <td>-0.084941</td>\n",
       "      <td>0.219900</td>\n",
       "      <td>0.436564</td>\n",
       "      <td>-0.038337</td>\n",
       "      <td>-0.168073</td>\n",
       "      <td>-0.038337</td>\n",
       "    </tr>\n",
       "    <tr>\n",
       "      <th>Biography</th>\n",
       "      <td>-0.026398</td>\n",
       "      <td>0.112885</td>\n",
       "      <td>0.036718</td>\n",
       "      <td>0.162386</td>\n",
       "      <td>0.063837</td>\n",
       "      <td>-0.113361</td>\n",
       "      <td>0.030115</td>\n",
       "      <td>0.237835</td>\n",
       "      <td>0.078096</td>\n",
       "      <td>0.112280</td>\n",
       "      <td>...</td>\n",
       "      <td>-0.045932</td>\n",
       "      <td>0.391143</td>\n",
       "      <td>-0.029336</td>\n",
       "      <td>-0.070924</td>\n",
       "      <td>-0.052753</td>\n",
       "      <td>-0.055972</td>\n",
       "      <td>-0.016737</td>\n",
       "      <td>-0.023810</td>\n",
       "      <td>-0.104383</td>\n",
       "      <td>-0.023810</td>\n",
       "    </tr>\n",
       "    <tr>\n",
       "      <th>Comedy</th>\n",
       "      <td>0.105260</td>\n",
       "      <td>-0.098643</td>\n",
       "      <td>-0.171266</td>\n",
       "      <td>-0.557037</td>\n",
       "      <td>0.047153</td>\n",
       "      <td>0.086074</td>\n",
       "      <td>-0.173495</td>\n",
       "      <td>-0.167404</td>\n",
       "      <td>-0.065632</td>\n",
       "      <td>-0.115283</td>\n",
       "      <td>...</td>\n",
       "      <td>-0.153723</td>\n",
       "      <td>-0.024115</td>\n",
       "      <td>0.235117</td>\n",
       "      <td>-0.308994</td>\n",
       "      <td>0.112025</td>\n",
       "      <td>-0.219122</td>\n",
       "      <td>0.134138</td>\n",
       "      <td>-0.124771</td>\n",
       "      <td>-0.495763</td>\n",
       "      <td>0.033028</td>\n",
       "    </tr>\n",
       "    <tr>\n",
       "      <th>Crime</th>\n",
       "      <td>-0.146700</td>\n",
       "      <td>0.272695</td>\n",
       "      <td>0.160989</td>\n",
       "      <td>0.238040</td>\n",
       "      <td>-0.125461</td>\n",
       "      <td>-0.051923</td>\n",
       "      <td>0.211087</td>\n",
       "      <td>0.193566</td>\n",
       "      <td>0.053319</td>\n",
       "      <td>0.118379</td>\n",
       "      <td>...</td>\n",
       "      <td>-0.090396</td>\n",
       "      <td>-0.118285</td>\n",
       "      <td>0.023000</td>\n",
       "      <td>0.192238</td>\n",
       "      <td>-0.212709</td>\n",
       "      <td>0.016926</td>\n",
       "      <td>-0.067484</td>\n",
       "      <td>-0.096003</td>\n",
       "      <td>0.305273</td>\n",
       "      <td>-0.096003</td>\n",
       "    </tr>\n",
       "    <tr>\n",
       "      <th>Drama</th>\n",
       "      <td>-0.008157</td>\n",
       "      <td>0.373570</td>\n",
       "      <td>0.149367</td>\n",
       "      <td>0.239742</td>\n",
       "      <td>0.020056</td>\n",
       "      <td>-0.018854</td>\n",
       "      <td>0.060155</td>\n",
       "      <td>0.096248</td>\n",
       "      <td>0.204098</td>\n",
       "      <td>0.183251</td>\n",
       "      <td>...</td>\n",
       "      <td>-0.065806</td>\n",
       "      <td>0.094367</td>\n",
       "      <td>0.094367</td>\n",
       "      <td>0.074260</td>\n",
       "      <td>0.074312</td>\n",
       "      <td>-0.093202</td>\n",
       "      <td>0.053838</td>\n",
       "      <td>0.076591</td>\n",
       "      <td>0.147041</td>\n",
       "      <td>0.076591</td>\n",
       "    </tr>\n",
       "    <tr>\n",
       "      <th>Family</th>\n",
       "      <td>0.046446</td>\n",
       "      <td>0.121239</td>\n",
       "      <td>-0.066069</td>\n",
       "      <td>NaN</td>\n",
       "      <td>0.115629</td>\n",
       "      <td>0.040571</td>\n",
       "      <td>-0.040712</td>\n",
       "      <td>-0.031489</td>\n",
       "      <td>0.390848</td>\n",
       "      <td>0.278120</td>\n",
       "      <td>...</td>\n",
       "      <td>-0.045932</td>\n",
       "      <td>-0.029336</td>\n",
       "      <td>0.391143</td>\n",
       "      <td>-0.070924</td>\n",
       "      <td>-0.052753</td>\n",
       "      <td>-0.055972</td>\n",
       "      <td>0.702935</td>\n",
       "      <td>-0.023810</td>\n",
       "      <td>-0.104383</td>\n",
       "      <td>-0.023810</td>\n",
       "    </tr>\n",
       "    <tr>\n",
       "      <th>Fantasy</th>\n",
       "      <td>0.029713</td>\n",
       "      <td>-0.007014</td>\n",
       "      <td>-0.062778</td>\n",
       "      <td>0.220667</td>\n",
       "      <td>0.053961</td>\n",
       "      <td>-0.028027</td>\n",
       "      <td>0.005788</td>\n",
       "      <td>0.084905</td>\n",
       "      <td>0.187946</td>\n",
       "      <td>0.158778</td>\n",
       "      <td>...</td>\n",
       "      <td>0.125578</td>\n",
       "      <td>-0.076559</td>\n",
       "      <td>0.106332</td>\n",
       "      <td>0.080207</td>\n",
       "      <td>-0.137674</td>\n",
       "      <td>0.272668</td>\n",
       "      <td>-0.043678</td>\n",
       "      <td>-0.062137</td>\n",
       "      <td>-0.055492</td>\n",
       "      <td>-0.062137</td>\n",
       "    </tr>\n",
       "    <tr>\n",
       "      <th>History</th>\n",
       "      <td>-0.058441</td>\n",
       "      <td>0.171367</td>\n",
       "      <td>0.046335</td>\n",
       "      <td>0.209687</td>\n",
       "      <td>0.063837</td>\n",
       "      <td>-0.190328</td>\n",
       "      <td>-0.014633</td>\n",
       "      <td>0.192454</td>\n",
       "      <td>0.065959</td>\n",
       "      <td>0.085678</td>\n",
       "      <td>...</td>\n",
       "      <td>-0.045932</td>\n",
       "      <td>-0.029336</td>\n",
       "      <td>-0.029336</td>\n",
       "      <td>-0.070924</td>\n",
       "      <td>-0.052753</td>\n",
       "      <td>-0.055972</td>\n",
       "      <td>-0.016737</td>\n",
       "      <td>0.488095</td>\n",
       "      <td>-0.104383</td>\n",
       "      <td>-0.023810</td>\n",
       "    </tr>\n",
       "    <tr>\n",
       "      <th>Horror</th>\n",
       "      <td>0.103555</td>\n",
       "      <td>-0.136808</td>\n",
       "      <td>-0.044052</td>\n",
       "      <td>0.099983</td>\n",
       "      <td>0.051782</td>\n",
       "      <td>-0.041929</td>\n",
       "      <td>0.000555</td>\n",
       "      <td>-0.003724</td>\n",
       "      <td>-0.061725</td>\n",
       "      <td>-0.046781</td>\n",
       "      <td>...</td>\n",
       "      <td>1.000000</td>\n",
       "      <td>-0.056592</td>\n",
       "      <td>-0.056592</td>\n",
       "      <td>0.199367</td>\n",
       "      <td>0.037153</td>\n",
       "      <td>0.024680</td>\n",
       "      <td>-0.032287</td>\n",
       "      <td>-0.045932</td>\n",
       "      <td>0.348399</td>\n",
       "      <td>-0.045932</td>\n",
       "    </tr>\n",
       "    <tr>\n",
       "      <th>Music</th>\n",
       "      <td>-0.021814</td>\n",
       "      <td>0.001835</td>\n",
       "      <td>-0.088508</td>\n",
       "      <td>0.079319</td>\n",
       "      <td>0.099924</td>\n",
       "      <td>-0.023769</td>\n",
       "      <td>-0.012927</td>\n",
       "      <td>-0.060946</td>\n",
       "      <td>-0.097131</td>\n",
       "      <td>-0.087370</td>\n",
       "      <td>...</td>\n",
       "      <td>-0.056592</td>\n",
       "      <td>1.000000</td>\n",
       "      <td>0.309237</td>\n",
       "      <td>-0.087385</td>\n",
       "      <td>-0.064998</td>\n",
       "      <td>-0.068963</td>\n",
       "      <td>-0.020621</td>\n",
       "      <td>-0.029336</td>\n",
       "      <td>-0.128611</td>\n",
       "      <td>-0.029336</td>\n",
       "    </tr>\n",
       "    <tr>\n",
       "      <th>Musical</th>\n",
       "      <td>0.107694</td>\n",
       "      <td>0.063598</td>\n",
       "      <td>-0.086997</td>\n",
       "      <td>-0.024514</td>\n",
       "      <td>0.142466</td>\n",
       "      <td>-0.065916</td>\n",
       "      <td>-0.059889</td>\n",
       "      <td>-0.085040</td>\n",
       "      <td>0.272465</td>\n",
       "      <td>0.175210</td>\n",
       "      <td>...</td>\n",
       "      <td>-0.056592</td>\n",
       "      <td>0.309237</td>\n",
       "      <td>1.000000</td>\n",
       "      <td>-0.087385</td>\n",
       "      <td>-0.064998</td>\n",
       "      <td>-0.068963</td>\n",
       "      <td>-0.020621</td>\n",
       "      <td>-0.029336</td>\n",
       "      <td>-0.128611</td>\n",
       "      <td>-0.029336</td>\n",
       "    </tr>\n",
       "    <tr>\n",
       "      <th>Mystery</th>\n",
       "      <td>0.002316</td>\n",
       "      <td>0.001119</td>\n",
       "      <td>0.099417</td>\n",
       "      <td>0.311941</td>\n",
       "      <td>0.035879</td>\n",
       "      <td>-0.108413</td>\n",
       "      <td>-0.001368</td>\n",
       "      <td>0.035970</td>\n",
       "      <td>0.091022</td>\n",
       "      <td>0.075075</td>\n",
       "      <td>...</td>\n",
       "      <td>0.199367</td>\n",
       "      <td>-0.087385</td>\n",
       "      <td>-0.087385</td>\n",
       "      <td>1.000000</td>\n",
       "      <td>-0.057037</td>\n",
       "      <td>0.215635</td>\n",
       "      <td>-0.049855</td>\n",
       "      <td>-0.070924</td>\n",
       "      <td>0.481376</td>\n",
       "      <td>-0.070924</td>\n",
       "    </tr>\n",
       "    <tr>\n",
       "      <th>Romance</th>\n",
       "      <td>0.164807</td>\n",
       "      <td>-0.243512</td>\n",
       "      <td>-0.111138</td>\n",
       "      <td>0.064691</td>\n",
       "      <td>0.128689</td>\n",
       "      <td>-0.080638</td>\n",
       "      <td>0.004977</td>\n",
       "      <td>-0.085937</td>\n",
       "      <td>-0.050722</td>\n",
       "      <td>-0.054442</td>\n",
       "      <td>...</td>\n",
       "      <td>0.037153</td>\n",
       "      <td>-0.064998</td>\n",
       "      <td>-0.064998</td>\n",
       "      <td>-0.057037</td>\n",
       "      <td>1.000000</td>\n",
       "      <td>0.112990</td>\n",
       "      <td>-0.037082</td>\n",
       "      <td>-0.052753</td>\n",
       "      <td>-0.149426</td>\n",
       "      <td>-0.052753</td>\n",
       "    </tr>\n",
       "    <tr>\n",
       "      <th>Sci-Fi</th>\n",
       "      <td>-0.336371</td>\n",
       "      <td>0.006120</td>\n",
       "      <td>0.247586</td>\n",
       "      <td>0.231598</td>\n",
       "      <td>-0.239543</td>\n",
       "      <td>-0.001122</td>\n",
       "      <td>0.448281</td>\n",
       "      <td>0.376173</td>\n",
       "      <td>0.217217</td>\n",
       "      <td>0.322016</td>\n",
       "      <td>...</td>\n",
       "      <td>0.024680</td>\n",
       "      <td>-0.068963</td>\n",
       "      <td>-0.068963</td>\n",
       "      <td>0.215635</td>\n",
       "      <td>0.112990</td>\n",
       "      <td>1.000000</td>\n",
       "      <td>-0.039344</td>\n",
       "      <td>-0.055972</td>\n",
       "      <td>0.145414</td>\n",
       "      <td>-0.055972</td>\n",
       "    </tr>\n",
       "    <tr>\n",
       "      <th>Short</th>\n",
       "      <td>-0.000389</td>\n",
       "      <td>0.020623</td>\n",
       "      <td>-0.050138</td>\n",
       "      <td>NaN</td>\n",
       "      <td>0.081279</td>\n",
       "      <td>0.046553</td>\n",
       "      <td>-0.030019</td>\n",
       "      <td>-0.023458</td>\n",
       "      <td>-0.042465</td>\n",
       "      <td>-0.042076</td>\n",
       "      <td>...</td>\n",
       "      <td>-0.032287</td>\n",
       "      <td>-0.020621</td>\n",
       "      <td>-0.020621</td>\n",
       "      <td>-0.049855</td>\n",
       "      <td>-0.037082</td>\n",
       "      <td>-0.039344</td>\n",
       "      <td>1.000000</td>\n",
       "      <td>-0.016737</td>\n",
       "      <td>-0.073375</td>\n",
       "      <td>-0.016737</td>\n",
       "    </tr>\n",
       "    <tr>\n",
       "      <th>Sport</th>\n",
       "      <td>0.003843</td>\n",
       "      <td>0.062757</td>\n",
       "      <td>-0.051163</td>\n",
       "      <td>0.029710</td>\n",
       "      <td>0.115629</td>\n",
       "      <td>-0.036395</td>\n",
       "      <td>-0.057721</td>\n",
       "      <td>-0.078038</td>\n",
       "      <td>-0.034404</td>\n",
       "      <td>-0.052287</td>\n",
       "      <td>...</td>\n",
       "      <td>-0.045932</td>\n",
       "      <td>-0.029336</td>\n",
       "      <td>-0.029336</td>\n",
       "      <td>-0.070924</td>\n",
       "      <td>-0.052753</td>\n",
       "      <td>-0.055972</td>\n",
       "      <td>-0.016737</td>\n",
       "      <td>1.000000</td>\n",
       "      <td>-0.104383</td>\n",
       "      <td>-0.023810</td>\n",
       "    </tr>\n",
       "    <tr>\n",
       "      <th>Thriller</th>\n",
       "      <td>-0.010006</td>\n",
       "      <td>-0.015175</td>\n",
       "      <td>0.100023</td>\n",
       "      <td>0.339066</td>\n",
       "      <td>0.019166</td>\n",
       "      <td>-0.009591</td>\n",
       "      <td>0.176628</td>\n",
       "      <td>0.075205</td>\n",
       "      <td>0.033697</td>\n",
       "      <td>0.073267</td>\n",
       "      <td>...</td>\n",
       "      <td>0.348399</td>\n",
       "      <td>-0.128611</td>\n",
       "      <td>-0.128611</td>\n",
       "      <td>0.481376</td>\n",
       "      <td>-0.149426</td>\n",
       "      <td>0.145414</td>\n",
       "      <td>-0.073375</td>\n",
       "      <td>-0.104383</td>\n",
       "      <td>1.000000</td>\n",
       "      <td>-0.104383</td>\n",
       "    </tr>\n",
       "    <tr>\n",
       "      <th>Western</th>\n",
       "      <td>-0.216646</td>\n",
       "      <td>0.112885</td>\n",
       "      <td>0.020435</td>\n",
       "      <td>0.027897</td>\n",
       "      <td>-0.246916</td>\n",
       "      <td>0.245815</td>\n",
       "      <td>0.008721</td>\n",
       "      <td>-0.000911</td>\n",
       "      <td>-0.024843</td>\n",
       "      <td>-0.017131</td>\n",
       "      <td>...</td>\n",
       "      <td>-0.045932</td>\n",
       "      <td>-0.029336</td>\n",
       "      <td>-0.029336</td>\n",
       "      <td>-0.070924</td>\n",
       "      <td>-0.052753</td>\n",
       "      <td>-0.055972</td>\n",
       "      <td>-0.016737</td>\n",
       "      <td>-0.023810</td>\n",
       "      <td>-0.104383</td>\n",
       "      <td>1.000000</td>\n",
       "    </tr>\n",
       "  </tbody>\n",
       "</table>\n",
       "<p>31 rows × 31 columns</p>\n",
       "</div>"
      ],
      "text/plain": [
       "                  IMDBid      Nota     Votos   Duração       Ano  Episodios  \\\n",
       "IMDBid          1.000000 -0.438873 -0.543804 -0.219106  0.852411  -0.384553   \n",
       "Nota           -0.438873  1.000000  0.481724  0.243358 -0.410434   0.070388   \n",
       "Votos          -0.543804  0.481724  1.000000  0.262867 -0.559226   0.147458   \n",
       "Duração        -0.219106  0.243358  0.262867  1.000000 -0.136125  -0.276558   \n",
       "Ano             0.852411 -0.410434 -0.559226 -0.136125  1.000000  -0.417665   \n",
       "Episodios      -0.384553  0.070388  0.147458 -0.276558 -0.417665   1.000000   \n",
       "CountPre       -0.479329  0.206121  0.467113  0.232535 -0.408439   0.191909   \n",
       "CountDurante   -0.596080  0.405380  0.740705  0.309825 -0.507547   0.160133   \n",
       "CountPos       -0.364468  0.476275  0.636127  0.328476 -0.304749   0.119649   \n",
       "CountTotal     -0.482506  0.476569  0.712633  0.338625 -0.406723   0.157592   \n",
       "user_reviews   -0.301997  0.351861  0.671408  0.233545 -0.218032   0.048742   \n",
       "critic_reviews -0.529820  0.428520  0.906763  0.303765 -0.466299   0.119927   \n",
       "Action         -0.167972  0.084126  0.058375  0.179212 -0.133708   0.037020   \n",
       "Adventure      -0.038347  0.036478 -0.045778  0.045956  0.086108  -0.075125   \n",
       "Biography      -0.026398  0.112885  0.036718  0.162386  0.063837  -0.113361   \n",
       "Comedy          0.105260 -0.098643 -0.171266 -0.557037  0.047153   0.086074   \n",
       "Crime          -0.146700  0.272695  0.160989  0.238040 -0.125461  -0.051923   \n",
       "Drama          -0.008157  0.373570  0.149367  0.239742  0.020056  -0.018854   \n",
       "Family          0.046446  0.121239 -0.066069       NaN  0.115629   0.040571   \n",
       "Fantasy         0.029713 -0.007014 -0.062778  0.220667  0.053961  -0.028027   \n",
       "History        -0.058441  0.171367  0.046335  0.209687  0.063837  -0.190328   \n",
       "Horror          0.103555 -0.136808 -0.044052  0.099983  0.051782  -0.041929   \n",
       "Music          -0.021814  0.001835 -0.088508  0.079319  0.099924  -0.023769   \n",
       "Musical         0.107694  0.063598 -0.086997 -0.024514  0.142466  -0.065916   \n",
       "Mystery         0.002316  0.001119  0.099417  0.311941  0.035879  -0.108413   \n",
       "Romance         0.164807 -0.243512 -0.111138  0.064691  0.128689  -0.080638   \n",
       "Sci-Fi         -0.336371  0.006120  0.247586  0.231598 -0.239543  -0.001122   \n",
       "Short          -0.000389  0.020623 -0.050138       NaN  0.081279   0.046553   \n",
       "Sport           0.003843  0.062757 -0.051163  0.029710  0.115629  -0.036395   \n",
       "Thriller       -0.010006 -0.015175  0.100023  0.339066  0.019166  -0.009591   \n",
       "Western        -0.216646  0.112885  0.020435  0.027897 -0.246916   0.245815   \n",
       "\n",
       "                CountPre  CountDurante  CountPos  CountTotal  ...    Horror  \\\n",
       "IMDBid         -0.479329     -0.596080 -0.364468   -0.482506  ...  0.103555   \n",
       "Nota            0.206121      0.405380  0.476275    0.476569  ... -0.136808   \n",
       "Votos           0.467113      0.740705  0.636127    0.712633  ... -0.044052   \n",
       "Duração         0.232535      0.309825  0.328476    0.338625  ...  0.099983   \n",
       "Ano            -0.408439     -0.507547 -0.304749   -0.406723  ...  0.051782   \n",
       "Episodios       0.191909      0.160133  0.119649    0.157592  ... -0.041929   \n",
       "CountPre        1.000000      0.774767  0.423803    0.659854  ...  0.000555   \n",
       "CountDurante    0.774767      1.000000  0.624508    0.813774  ... -0.003724   \n",
       "CountPos        0.423803      0.624508  1.000000    0.952900  ... -0.061725   \n",
       "CountTotal      0.659854      0.813774  0.952900    1.000000  ... -0.046781   \n",
       "user_reviews    0.358995      0.479688  0.573044    0.592375  ...  0.125792   \n",
       "critic_reviews  0.631771      0.766159  0.608712    0.727899  ...  0.065665   \n",
       "Action          0.276220      0.168898 -0.030946    0.062493  ...  0.013325   \n",
       "Adventure       0.040295      0.060529  0.191105    0.162594  ... -0.073957   \n",
       "Biography       0.030115      0.237835  0.078096    0.112280  ... -0.045932   \n",
       "Comedy         -0.173495     -0.167404 -0.065632   -0.115283  ... -0.153723   \n",
       "Crime           0.211087      0.193566  0.053319    0.118379  ... -0.090396   \n",
       "Drama           0.060155      0.096248  0.204098    0.183251  ... -0.065806   \n",
       "Family         -0.040712     -0.031489  0.390848    0.278120  ... -0.045932   \n",
       "Fantasy         0.005788      0.084905  0.187946    0.158778  ...  0.125578   \n",
       "History        -0.014633      0.192454  0.065959    0.085678  ... -0.045932   \n",
       "Horror          0.000555     -0.003724 -0.061725   -0.046781  ...  1.000000   \n",
       "Music          -0.012927     -0.060946 -0.097131   -0.087370  ... -0.056592   \n",
       "Musical        -0.059889     -0.085040  0.272465    0.175210  ... -0.056592   \n",
       "Mystery        -0.001368      0.035970  0.091022    0.075075  ...  0.199367   \n",
       "Romance         0.004977     -0.085937 -0.050722   -0.054442  ...  0.037153   \n",
       "Sci-Fi          0.448281      0.376173  0.217217    0.322016  ...  0.024680   \n",
       "Short          -0.030019     -0.023458 -0.042465   -0.042076  ... -0.032287   \n",
       "Sport          -0.057721     -0.078038 -0.034404   -0.052287  ... -0.045932   \n",
       "Thriller        0.176628      0.075205  0.033697    0.073267  ...  0.348399   \n",
       "Western         0.008721     -0.000911 -0.024843   -0.017131  ... -0.045932   \n",
       "\n",
       "                   Music   Musical   Mystery   Romance    Sci-Fi     Short  \\\n",
       "IMDBid         -0.021814  0.107694  0.002316  0.164807 -0.336371 -0.000389   \n",
       "Nota            0.001835  0.063598  0.001119 -0.243512  0.006120  0.020623   \n",
       "Votos          -0.088508 -0.086997  0.099417 -0.111138  0.247586 -0.050138   \n",
       "Duração         0.079319 -0.024514  0.311941  0.064691  0.231598       NaN   \n",
       "Ano             0.099924  0.142466  0.035879  0.128689 -0.239543  0.081279   \n",
       "Episodios      -0.023769 -0.065916 -0.108413 -0.080638 -0.001122  0.046553   \n",
       "CountPre       -0.012927 -0.059889 -0.001368  0.004977  0.448281 -0.030019   \n",
       "CountDurante   -0.060946 -0.085040  0.035970 -0.085937  0.376173 -0.023458   \n",
       "CountPos       -0.097131  0.272465  0.091022 -0.050722  0.217217 -0.042465   \n",
       "CountTotal     -0.087370  0.175210  0.075075 -0.054442  0.322016 -0.042076   \n",
       "user_reviews   -0.093726 -0.083001  0.316068 -0.075711  0.301720 -0.058112   \n",
       "critic_reviews -0.047531 -0.123953  0.205042 -0.099998  0.374486 -0.017546   \n",
       "Action         -0.072809 -0.072809  0.007468 -0.017193  0.295517 -0.041539   \n",
       "Adventure      -0.047235  0.223579 -0.114198 -0.084941  0.219900  0.436564   \n",
       "Biography       0.391143 -0.029336 -0.070924 -0.052753 -0.055972 -0.016737   \n",
       "Comedy         -0.024115  0.235117 -0.308994  0.112025 -0.219122  0.134138   \n",
       "Crime          -0.118285  0.023000  0.192238 -0.212709  0.016926 -0.067484   \n",
       "Drama           0.094367  0.094367  0.074260  0.074312 -0.093202  0.053838   \n",
       "Family         -0.029336  0.391143 -0.070924 -0.052753 -0.055972  0.702935   \n",
       "Fantasy        -0.076559  0.106332  0.080207 -0.137674  0.272668 -0.043678   \n",
       "History        -0.029336 -0.029336 -0.070924 -0.052753 -0.055972 -0.016737   \n",
       "Horror         -0.056592 -0.056592  0.199367  0.037153  0.024680 -0.032287   \n",
       "Music           1.000000  0.309237 -0.087385 -0.064998 -0.068963 -0.020621   \n",
       "Musical         0.309237  1.000000 -0.087385 -0.064998 -0.068963 -0.020621   \n",
       "Mystery        -0.087385 -0.087385  1.000000 -0.057037  0.215635 -0.049855   \n",
       "Romance        -0.064998 -0.064998 -0.057037  1.000000  0.112990 -0.037082   \n",
       "Sci-Fi         -0.068963 -0.068963  0.215635  0.112990  1.000000 -0.039344   \n",
       "Short          -0.020621 -0.020621 -0.049855 -0.037082 -0.039344  1.000000   \n",
       "Sport          -0.029336 -0.029336 -0.070924 -0.052753 -0.055972 -0.016737   \n",
       "Thriller       -0.128611 -0.128611  0.481376 -0.149426  0.145414 -0.073375   \n",
       "Western        -0.029336 -0.029336 -0.070924 -0.052753 -0.055972 -0.016737   \n",
       "\n",
       "                   Sport  Thriller   Western  \n",
       "IMDBid          0.003843 -0.010006 -0.216646  \n",
       "Nota            0.062757 -0.015175  0.112885  \n",
       "Votos          -0.051163  0.100023  0.020435  \n",
       "Duração         0.029710  0.339066  0.027897  \n",
       "Ano             0.115629  0.019166 -0.246916  \n",
       "Episodios      -0.036395 -0.009591  0.245815  \n",
       "CountPre       -0.057721  0.176628  0.008721  \n",
       "CountDurante   -0.078038  0.075205 -0.000911  \n",
       "CountPos       -0.034404  0.033697 -0.024843  \n",
       "CountTotal     -0.052287  0.073267 -0.017131  \n",
       "user_reviews   -0.042493  0.208300  0.036857  \n",
       "critic_reviews -0.054462  0.208183 -0.018154  \n",
       "Action         -0.059094  0.116016  0.171909  \n",
       "Adventure      -0.038337 -0.168073 -0.038337  \n",
       "Biography      -0.023810 -0.104383 -0.023810  \n",
       "Comedy         -0.124771 -0.495763  0.033028  \n",
       "Crime          -0.096003  0.305273 -0.096003  \n",
       "Drama           0.076591  0.147041  0.076591  \n",
       "Family         -0.023810 -0.104383 -0.023810  \n",
       "Fantasy        -0.062137 -0.055492 -0.062137  \n",
       "History         0.488095 -0.104383 -0.023810  \n",
       "Horror         -0.045932  0.348399 -0.045932  \n",
       "Music          -0.029336 -0.128611 -0.029336  \n",
       "Musical        -0.029336 -0.128611 -0.029336  \n",
       "Mystery        -0.070924  0.481376 -0.070924  \n",
       "Romance        -0.052753 -0.149426 -0.052753  \n",
       "Sci-Fi         -0.055972  0.145414 -0.055972  \n",
       "Short          -0.016737 -0.073375 -0.016737  \n",
       "Sport           1.000000 -0.104383 -0.023810  \n",
       "Thriller       -0.104383  1.000000 -0.104383  \n",
       "Western        -0.023810 -0.104383  1.000000  \n",
       "\n",
       "[31 rows x 31 columns]"
      ]
     },
     "execution_count": 113,
     "metadata": {},
     "output_type": "execute_result"
    }
   ],
   "source": [
    "dados.corr(method='pearson')\n",
    "#dados.corr(method='spearman')"
   ]
  },
  {
   "cell_type": "code",
   "execution_count": null,
   "metadata": {},
   "outputs": [],
   "source": [
    "dados.corr(method='spearman')"
   ]
  },
  {
   "cell_type": "code",
   "execution_count": null,
   "metadata": {},
   "outputs": [],
   "source": [
    "sns.scatterplot(data=dados, x=\"Ano\", y=\"CountTotal\")"
   ]
  },
  {
   "cell_type": "code",
   "execution_count": null,
   "metadata": {},
   "outputs": [],
   "source": [
    "sns.scatterplot(data=dados, x=\"Ano\", y=\"Votos\")"
   ]
  },
  {
   "cell_type": "code",
   "execution_count": null,
   "metadata": {},
   "outputs": [],
   "source": [
    "dados[dados['Ano']==2013]"
   ]
  },
  {
   "cell_type": "code",
   "execution_count": null,
   "metadata": {},
   "outputs": [],
   "source": [
    "sns.scatterplot(data=dados, x=\"Votos\", y=\"CountTotal\")"
   ]
  },
  {
   "cell_type": "code",
   "execution_count": null,
   "metadata": {},
   "outputs": [],
   "source": [
    "sns.scatterplot(data=dados, x=\"Nota\", y=\"Votos\")"
   ]
  },
  {
   "cell_type": "markdown",
   "metadata": {},
   "source": [
    "## Votos"
   ]
  },
  {
   "cell_type": "code",
   "execution_count": null,
   "metadata": {},
   "outputs": [
    {
     "data": {
      "text/plain": [
       "<AxesSubplot:xlabel='Votos', ylabel='Count'>"
      ]
     },
     "execution_count": 32,
     "metadata": {},
     "output_type": "execute_result"
    },
    {
     "data": {
      "image/png": "[encoded data removed]",
      "text/plain": [
       "<Figure size 432x288 with 1 Axes>"
      ]
     },
     "metadata": {
      "needs_background": "light"
     },
     "output_type": "display_data"
    }
   ],
   "source": [
    "# 120000 - 20000 - 2500\n",
    "sns.histplot(data=dados, x=\"Votos\")#, log_scale=True)"
   ]
  },
  {
   "cell_type": "code",
   "execution_count": null,
   "metadata": {},
   "outputs": [
    {
     "data": {
      "text/plain": [
       "<AxesSubplot:ylabel='Votos'>"
      ]
     },
     "execution_count": 25,
     "metadata": {},
     "output_type": "execute_result"
    },
    {
     "data": {
      "image/png": "[encoded data removed]",
      "text/plain": [
       "<Figure size 432x288 with 1 Axes>"
      ]
     },
     "metadata": {
      "needs_background": "light"
     },
     "output_type": "display_data"
    }
   ],
   "source": [
    "sns.boxplot(data=dados[dados[\"Votos\"] < 100000], y='Votos')"
   ]
  },
  {
   "cell_type": "code",
   "execution_count": null,
   "metadata": {},
   "outputs": [
    {
     "data": {
      "text/plain": [
       "<AxesSubplot:xlabel='Nota', ylabel='Votos'>"
      ]
     },
     "execution_count": 26,
     "metadata": {},
     "output_type": "execute_result"
    },
    {
     "data": {
      "image/png": "[encoded data removed]",
      "text/plain": [
       "<Figure size 432x288 with 1 Axes>"
      ]
     },
     "metadata": {
      "needs_background": "light"
     },
     "output_type": "display_data"
    }
   ],
   "source": [
    "sns.scatterplot(data=dados, x=\"Nota\", y=\"Votos\")"
   ]
  },
  {
   "cell_type": "code",
   "execution_count": null,
   "metadata": {},
   "outputs": [
    {
     "data": {
      "text/plain": [
       "<AxesSubplot:xlabel='Ano', ylabel='Votos'>"
      ]
     },
     "execution_count": 27,
     "metadata": {},
     "output_type": "execute_result"
    },
    {
     "data": {
      "image/png": "[encoded data removed]",
      "text/plain": [
       "<Figure size 432x288 with 1 Axes>"
      ]
     },
     "metadata": {
      "needs_background": "light"
     },
     "output_type": "display_data"
    }
   ],
   "source": [
    "sns.boxplot(data=dados, x=\"Ano\", y=\"Votos\")"
   ]
  },
  {
   "cell_type": "code",
   "execution_count": null,
   "metadata": {},
   "outputs": [
    {
     "data": {
      "text/plain": [
       "<AxesSubplot:xlabel='Votos', ylabel='País'>"
      ]
     },
     "execution_count": 28,
     "metadata": {},
     "output_type": "execute_result"
    },
    {
     "data": {
      "image/png": "[encoded data removed]",
      "text/plain": [
       "<Figure size 432x288 with 1 Axes>"
      ]
     },
     "metadata": {
      "needs_background": "light"
     },
     "output_type": "display_data"
    }
   ],
   "source": [
    "sns.boxplot(data=dados, x=\"Votos\", y=\"País\")"
   ]
  },
  {
   "cell_type": "code",
   "execution_count": null,
   "metadata": {},
   "outputs": [
    {
     "data": {
      "text/plain": [
       "<AxesSubplot:xlabel='Episodios', ylabel='Votos'>"
      ]
     },
     "execution_count": 29,
     "metadata": {},
     "output_type": "execute_result"
    },
    {
     "data": {
      "image/png": "[encoded data removed]",
      "text/plain": [
       "<Figure size 432x288 with 1 Axes>"
      ]
     },
     "metadata": {
      "needs_background": "light"
     },
     "output_type": "display_data"
    }
   ],
   "source": [
    "sns.boxplot(data=dados, x=\"Episodios\", y=\"Votos\")"
   ]
  },
  {
   "cell_type": "code",
   "execution_count": null,
   "metadata": {},
   "outputs": [
    {
     "data": {
      "text/plain": [
       "<AxesSubplot:xlabel='user_reviews', ylabel='Votos'>"
      ]
     },
     "execution_count": 30,
     "metadata": {},
     "output_type": "execute_result"
    },
    {
     "data": {
      "image/png": "[encoded data removed]",
      "text/plain": [
       "<Figure size 432x288 with 1 Axes>"
      ]
     },
     "metadata": {
      "needs_background": "light"
     },
     "output_type": "display_data"
    }
   ],
   "source": [
    "sns.scatterplot(data=dados, x=\"user_reviews\", y=\"Votos\")"
   ]
  },
  {
   "cell_type": "code",
   "execution_count": null,
   "metadata": {},
   "outputs": [
    {
     "data": {
      "text/plain": [
       "<AxesSubplot:xlabel='critic_reviews', ylabel='Votos'>"
      ]
     },
     "execution_count": 31,
     "metadata": {},
     "output_type": "execute_result"
    },
    {
     "data": {
      "image/png": "[encoded data removed]",
      "text/plain": [
       "<Figure size 432x288 with 1 Axes>"
      ]
     },
     "metadata": {
      "needs_background": "light"
     },
     "output_type": "display_data"
    }
   ],
   "source": [
    "sns.scatterplot(data=dados, x=\"critic_reviews\", y=\"Votos\")"
   ]
  },
  {
   "cell_type": "markdown",
   "metadata": {},
   "source": [
    "# Duração"
   ]
  },
  {
   "cell_type": "code",
   "execution_count": null,
   "metadata": {},
   "outputs": [
    {
     "data": {
      "text/plain": [
       "<AxesSubplot:xlabel='Duração', ylabel='Count'>"
      ]
     },
     "execution_count": 107,
     "metadata": {},
     "output_type": "execute_result"
    },
    {
     "data": {
      "image/png": "[encoded data removed]",
      "text/plain": [
       "<Figure size 432x288 with 1 Axes>"
      ]
     },
     "metadata": {
      "needs_background": "light"
     },
     "output_type": "display_data"
    }
   ],
   "source": [
    "sns.histplot(data=dados, x=\"Duração\")# tratar (dividir duracao por numero de episodios para >100)"
   ]
  },
  {
   "cell_type": "code",
   "execution_count": null,
   "metadata": {},
   "outputs": [
    {
     "data": {
      "text/plain": [
       "<AxesSubplot:xlabel='Duração'>"
      ]
     },
     "execution_count": 109,
     "metadata": {},
     "output_type": "execute_result"
    },
    {
     "data": {
      "image/png": "[encoded data removed]",
      "text/plain": [
       "<Figure size 432x288 with 1 Axes>"
      ]
     },
     "metadata": {
      "needs_background": "light"
     },
     "output_type": "display_data"
    }
   ],
   "source": [
    "sns.boxplot(data=dados, x=\"Duração\")# tratar (dividir duracao por numero de episodios para >100)"
   ]
  },
  {
   "cell_type": "code",
   "execution_count": null,
   "metadata": {},
   "outputs": [
    {
     "data": {
      "text/plain": [
       "<AxesSubplot:xlabel='Duração', ylabel='Votos'>"
      ]
     },
     "execution_count": 111,
     "metadata": {},
     "output_type": "execute_result"
    },
    {
     "data": {
      "image/png": "[encoded data removed]",
      "text/plain": [
       "<Figure size 432x288 with 1 Axes>"
      ]
     },
     "metadata": {
      "needs_background": "light"
     },
     "output_type": "display_data"
    }
   ],
   "source": [
    "sns.scatterplot(data=dados, x=\"Duração\", y=\"Votos\")"
   ]
  },
  {
   "cell_type": "code",
   "execution_count": null,
   "metadata": {},
   "outputs": [
    {
     "data": {
      "text/plain": [
       "<AxesSubplot:xlabel='Ano', ylabel='Duração'>"
      ]
     },
     "execution_count": 112,
     "metadata": {},
     "output_type": "execute_result"
    },
    {
     "data": {
      "image/png": "[encoded data removed]",
      "text/plain": [
       "<Figure size 432x288 with 1 Axes>"
      ]
     },
     "metadata": {
      "needs_background": "light"
     },
     "output_type": "display_data"
    }
   ],
   "source": [
    "sns.boxplot(data=dados, x=\"Ano\", y=\"Duração\")"
   ]
  },
  {
   "cell_type": "code",
   "execution_count": null,
   "metadata": {},
   "outputs": [
    {
     "data": {
      "text/plain": [
       "<AxesSubplot:xlabel='Check', ylabel='Duração'>"
      ]
     },
     "execution_count": 147,
     "metadata": {},
     "output_type": "execute_result"
    },
    {
     "data": {
      "image/png": "[encoded data removed]",
      "text/plain": [
       "<Figure size 432x288 with 1 Axes>"
      ]
     },
     "metadata": {
      "needs_background": "light"
     },
     "output_type": "display_data"
    }
   ],
   "source": [
    "sns.boxplot(data=dados, x=\"Check\", y=\"Duração\")"
   ]
  },
  {
   "cell_type": "markdown",
   "metadata": {},
   "source": [
    "# Ano"
   ]
  },
  {
   "cell_type": "code",
   "execution_count": null,
   "metadata": {},
   "outputs": [
    {
     "data": {
      "text/plain": [
       "<AxesSubplot:xlabel='Ano', ylabel='Count'>"
      ]
     },
     "execution_count": 116,
     "metadata": {},
     "output_type": "execute_result"
    },
    {
     "data": {
      "image/png": "[encoded data removed]",
      "text/plain": [
       "<Figure size 432x288 with 1 Axes>"
      ]
     },
     "metadata": {
      "needs_background": "light"
     },
     "output_type": "display_data"
    }
   ],
   "source": [
    "sns.histplot(data=dados, x=\"Ano\")# tratar (dividir duracao por numero de episodios para >100)"
   ]
  },
  {
   "cell_type": "code",
   "execution_count": null,
   "metadata": {},
   "outputs": [
    {
     "data": {
      "text/plain": [
       "<AxesSubplot:xlabel='Ano'>"
      ]
     },
     "execution_count": 117,
     "metadata": {},
     "output_type": "execute_result"
    },
    {
     "data": {
      "image/png": "[encoded data removed]",
      "text/plain": [
       "<Figure size 432x288 with 1 Axes>"
      ]
     },
     "metadata": {
      "needs_background": "light"
     },
     "output_type": "display_data"
    }
   ],
   "source": [
    "sns.boxplot(data=dados, x=\"Ano\")# tratar (dividir duracao por numero de episodios para >100)"
   ]
  },
  {
   "cell_type": "markdown",
   "metadata": {},
   "source": [
    "# Data de estréia"
   ]
  },
  {
   "cell_type": "code",
   "execution_count": null,
   "metadata": {},
   "outputs": [
    {
     "data": {
      "text/plain": [
       "<AxesSubplot:xlabel='mes', ylabel='count'>"
      ]
     },
     "execution_count": 139,
     "metadata": {},
     "output_type": "execute_result"
    },
    {
     "data": {
      "image/png": "[encoded data removed]",
      "text/plain": [
       "<Figure size 432x288 with 1 Axes>"
      ]
     },
     "metadata": {
      "needs_background": "light"
     },
     "output_type": "display_data"
    }
   ],
   "source": [
    "sns.countplot(data=dados, x=\"mes\")"
   ]
  },
  {
   "cell_type": "markdown",
   "metadata": {},
   "source": [
    "# País"
   ]
  },
  {
   "cell_type": "code",
   "execution_count": null,
   "metadata": {},
   "outputs": [
    {
     "data": {
      "text/plain": [
       "United States                                     34\n",
       "Germany                                            5\n",
       "South Korea                                        5\n",
       "Brazil                                             5\n",
       "United Kingdom                                     5\n",
       "India                                              4\n",
       "Turkey                                             2\n",
       "Spain                                              2\n",
       "Mexico, United States                              2\n",
       "Japan                                              2\n",
       "France                                             2\n",
       "Colombia                                           2\n",
       "Taiwan                                             2\n",
       "Mexico                                             2\n",
       "Sweden                                             1\n",
       "Argentina                                          1\n",
       "India, United States                               1\n",
       "Chile, Italy                                       1\n",
       "Lebanon                                            1\n",
       "Egypt                                              1\n",
       "United Kingdom, Germany, United States, France     1\n",
       "Denmark, United States                             1\n",
       "Australia                                          1\n",
       "Germany, United States                             1\n",
       "United States, United Kingdom                      1\n",
       "Italy                                              1\n",
       "Name: País, dtype: int64"
      ]
     },
     "execution_count": 145,
     "metadata": {},
     "output_type": "execute_result"
    }
   ],
   "source": [
    "dados['País'].value_counts()"
   ]
  },
  {
   "cell_type": "code",
   "execution_count": null,
   "metadata": {},
   "outputs": [
    {
     "data": {
      "image/png": "[encoded data removed]",
      "text/plain": [
       "<Figure size 432x288 with 1 Axes>"
      ]
     },
     "metadata": {
      "needs_background": "light"
     },
     "output_type": "display_data"
    }
   ],
   "source": [
    "fig, ax = plt.subplots()\n",
    "sns.countplot(data=dados, x=\"País\")\n",
    "ax.tick_params(rotation=90)\n"
   ]
  },
  {
   "cell_type": "markdown",
   "metadata": {},
   "source": [
    "# Idiomas"
   ]
  },
  {
   "cell_type": "code",
   "execution_count": null,
   "metadata": {},
   "outputs": [
    {
     "data": {
      "text/plain": [
       "English                                              42\n",
       "Spanish                                               7\n",
       "Portuguese                                            5\n",
       "Korean                                                4\n",
       "German                                                4\n",
       "Hindi                                                 3\n",
       "French                                                2\n",
       "Japanese                                              1\n",
       "Mandarin, English                                     1\n",
       "Swedish                                               1\n",
       "Mandarin, Min Nan                                     1\n",
       "German, English, Yiddish, Arabic, Polish, Russian     1\n",
       "Turkish, Arabic, Kurdish                              1\n",
       "Tamil                                                 1\n",
       "French, English                                       1\n",
       "Italian                                               1\n",
       "Danish                                                1\n",
       "English, Italian, Spanish                             1\n",
       "English, Japanese                                     1\n",
       "Arabic, Turkish, English                              1\n",
       "German, English                                       1\n",
       "Arabic                                                1\n",
       "Turkish                                               1\n",
       "Name: Idiomas, dtype: int64"
      ]
     },
     "execution_count": 135,
     "metadata": {},
     "output_type": "execute_result"
    }
   ],
   "source": [
    "dados['Idiomas'].value_counts()"
   ]
  },
  {
   "cell_type": "code",
   "execution_count": null,
   "metadata": {},
   "outputs": [
    {
     "data": {
      "text/plain": [
       "<AxesSubplot:xlabel='Idiomas', ylabel='count'>"
      ]
     },
     "execution_count": 144,
     "metadata": {},
     "output_type": "execute_result"
    },
    {
     "data": {
      "image/png": "[encoded data removed]",
      "text/plain": [
       "<Figure size 432x288 with 1 Axes>"
      ]
     },
     "metadata": {
      "needs_background": "light"
     },
     "output_type": "display_data"
    }
   ],
   "source": [
    "sns.countplot(data=dados, x=\"Idiomas\", order=dados.Idiomas.value_counts().iloc[:7].index)\n",
    "\n",
    "#visCausaMorte = sns.countplot(x=\"CAUSABAS\", order=dados.CAUSABAS.value_counts().iloc[:10].index, data=dados, palette=\"Set1\")"
   ]
  },
  {
   "cell_type": "markdown",
   "metadata": {},
   "source": [
    "# Episodios"
   ]
  },
  {
   "cell_type": "code",
   "execution_count": null,
   "metadata": {},
   "outputs": [
    {
     "data": {
      "text/plain": [
       "<AxesSubplot:xlabel='Episodios', ylabel='Count'>"
      ]
     },
     "execution_count": 125,
     "metadata": {},
     "output_type": "execute_result"
    },
    {
     "data": {
      "image/png": "[encoded data removed]",
      "text/plain": [
       "<Figure size 432x288 with 1 Axes>"
      ]
     },
     "metadata": {
      "needs_background": "light"
     },
     "output_type": "display_data"
    }
   ],
   "source": [
    "sns.histplot(data=dados, x=\"Episodios\")# tratar (dividir duracao por numero de episodios para >100)"
   ]
  },
  {
   "cell_type": "code",
   "execution_count": null,
   "metadata": {},
   "outputs": [
    {
     "data": {
      "text/plain": [
       "<AxesSubplot:xlabel='Check', ylabel='Episodios'>"
      ]
     },
     "execution_count": 146,
     "metadata": {},
     "output_type": "execute_result"
    },
    {
     "data": {
      "image/png": "[encoded data removed]",
      "text/plain": [
       "<Figure size 432x288 with 1 Axes>"
      ]
     },
     "metadata": {
      "needs_background": "light"
     },
     "output_type": "display_data"
    }
   ],
   "source": [
    "sns.boxplot(data=dados, x=\"Check\", y=\"Episodios\")"
   ]
  },
  {
   "cell_type": "markdown",
   "metadata": {},
   "source": [
    "## Reviews de usuários"
   ]
  },
  {
   "cell_type": "code",
   "execution_count": null,
   "metadata": {},
   "outputs": [
    {
     "data": {
      "text/plain": [
       "<AxesSubplot:xlabel='user_reviews', ylabel='Count'>"
      ]
     },
     "execution_count": 148,
     "metadata": {},
     "output_type": "execute_result"
    },
    {
     "data": {
      "image/png": "[encoded data removed]",
      "text/plain": [
       "<Figure size 432x288 with 1 Axes>"
      ]
     },
     "metadata": {
      "needs_background": "light"
     },
     "output_type": "display_data"
    }
   ],
   "source": [
    "sns.histplot(data=dados, x=\"user_reviews\")"
   ]
  },
  {
   "cell_type": "code",
   "execution_count": null,
   "metadata": {},
   "outputs": [
    {
     "data": {
      "text/plain": [
       "<AxesSubplot:xlabel='Ano', ylabel='user_reviews'>"
      ]
     },
     "execution_count": 150,
     "metadata": {},
     "output_type": "execute_result"
    },
    {
     "data": {
      "image/png": "[encoded data removed]",
      "text/plain": [
       "<Figure size 432x288 with 1 Axes>"
      ]
     },
     "metadata": {
      "needs_background": "light"
     },
     "output_type": "display_data"
    }
   ],
   "source": [
    "sns.boxplot(data=dados, x = \"Ano\",y=\"user_reviews\")"
   ]
  },
  {
   "cell_type": "markdown",
   "metadata": {},
   "source": [
    "## Reviews de críticos"
   ]
  },
  {
   "cell_type": "code",
   "execution_count": null,
   "metadata": {},
   "outputs": [
    {
     "data": {
      "text/plain": [
       "<AxesSubplot:xlabel='critic_reviews', ylabel='Count'>"
      ]
     },
     "execution_count": 149,
     "metadata": {},
     "output_type": "execute_result"
    },
    {
     "data": {
      "image/png": "[encoded data removed]",
      "text/plain": [
       "<Figure size 432x288 with 1 Axes>"
      ]
     },
     "metadata": {
      "needs_background": "light"
     },
     "output_type": "display_data"
    }
   ],
   "source": [
    "sns.histplot(data=dados, x=\"critic_reviews\")"
   ]
  },
  {
   "cell_type": "code",
   "execution_count": null,
   "metadata": {},
   "outputs": [
    {
     "data": {
      "text/plain": [
       "<AxesSubplot:xlabel='Ano', ylabel='critic_reviews'>"
      ]
     },
     "execution_count": 151,
     "metadata": {},
     "output_type": "execute_result"
    },
    {
     "data": {
      "image/png": "[encoded data removed]",
      "text/plain": [
       "<Figure size 432x288 with 1 Axes>"
      ]
     },
     "metadata": {
      "needs_background": "light"
     },
     "output_type": "display_data"
    }
   ],
   "source": [
    "sns.boxplot(data=dados, x = \"Ano\",y=\"critic_reviews\")"
   ]
  },
  {
   "cell_type": "markdown",
   "metadata": {},
   "source": [
    "# Engajamento (counts)"
   ]
  },
  {
   "cell_type": "code",
   "execution_count": null,
   "metadata": {},
   "outputs": [
    {
     "data": {
      "text/plain": [
       "<AxesSubplot:xlabel='CountTotal', ylabel='Count'>"
      ]
     },
     "execution_count": 152,
     "metadata": {},
     "output_type": "execute_result"
    },
    {
     "data": {
      "image/png": "[encoded data removed]",
      "text/plain": [
       "<Figure size 432x288 with 1 Axes>"
      ]
     },
     "metadata": {
      "needs_background": "light"
     },
     "output_type": "display_data"
    }
   ],
   "source": [
    "sns.histplot(data=dados, x=\"CountTotal\")"
   ]
  },
  {
   "cell_type": "code",
   "execution_count": null,
   "metadata": {},
   "outputs": [
    {
     "data": {
      "text/plain": [
       "<AxesSubplot:xlabel='CountPre', ylabel='Count'>"
      ]
     },
     "execution_count": 153,
     "metadata": {},
     "output_type": "execute_result"
    },
    {
     "data": {
      "image/png": "[encoded data removed]",
      "text/plain": [
       "<Figure size 432x288 with 1 Axes>"
      ]
     },
     "metadata": {
      "needs_background": "light"
     },
     "output_type": "display_data"
    }
   ],
   "source": [
    "sns.histplot(data=dados, x=\"CountPre\")"
   ]
  },
  {
   "cell_type": "code",
   "execution_count": null,
   "metadata": {},
   "outputs": [
    {
     "data": {
      "text/plain": [
       "<AxesSubplot:xlabel='CountDurante', ylabel='Count'>"
      ]
     },
     "execution_count": 154,
     "metadata": {},
     "output_type": "execute_result"
    },
    {
     "data": {
      "image/png": "[encoded data removed]",
      "text/plain": [
       "<Figure size 432x288 with 1 Axes>"
      ]
     },
     "metadata": {
      "needs_background": "light"
     },
     "output_type": "display_data"
    }
   ],
   "source": [
    "sns.histplot(data=dados, x=\"CountDurante\")"
   ]
  },
  {
   "cell_type": "code",
   "execution_count": null,
   "metadata": {},
   "outputs": [
    {
     "data": {
      "text/plain": [
       "<AxesSubplot:xlabel='CountPos', ylabel='Count'>"
      ]
     },
     "execution_count": 155,
     "metadata": {},
     "output_type": "execute_result"
    },
    {
     "data": {
      "image/png": "[encoded data removed]",
      "text/plain": [
       "<Figure size 432x288 with 1 Axes>"
      ]
     },
     "metadata": {
      "needs_background": "light"
     },
     "output_type": "display_data"
    }
   ],
   "source": [
    "sns.histplot(data=dados, x=\"CountPos\")"
   ]
  },
  {
   "cell_type": "code",
   "execution_count": null,
   "metadata": {},
   "outputs": [
    {
     "data": {
      "text/plain": [
       "<AxesSubplot:xlabel='Ano', ylabel='CountTotal'>"
      ]
     },
     "execution_count": 157,
     "metadata": {},
     "output_type": "execute_result"
    },
    {
     "data": {
      "image/png": "[encoded data removed]",
      "text/plain": [
       "<Figure size 432x288 with 1 Axes>"
      ]
     },
     "metadata": {
      "needs_background": "light"
     },
     "output_type": "display_data"
    }
   ],
   "source": [
    "sns.boxplot(data=dados, x=\"Ano\", y=\"CountTotal\")"
   ]
  },
  {
   "cell_type": "code",
   "execution_count": null,
   "metadata": {},
   "outputs": [],
   "source": [
    "def getCount(tipocount):\n",
    "    y = []\n",
    "    coluna = []\n",
    "    for i in range (24,dados.columns.size,1):\n",
    "        coluna.append(str(dados.columns[i]))\n",
    "        \n",
    "        aux = []\n",
    "        for j in range (0, len(dados[dados[coluna[-1]] == 1][tipocount]),1):\n",
    "            aux.append(dados[dados[coluna[-1]] == 1][tipocount].values[j])\n",
    "            \n",
    "        y.append(aux)\n",
    "\n",
    "    colunas = {'Count':[], 'Gênero':[]}\n",
    "    df_aux = pd.DataFrame(colunas)\n",
    "\n",
    "    for i in range(len(y)):\n",
    "        for val in y[i]:\n",
    "            linha = {'Count':val, 'Gênero':coluna[i]}\n",
    "            df_aux = df_aux.append(linha, ignore_index=True)\n",
    "\n",
    "    return df_aux\n",
    "\n",
    "dfTotal = getCount(\"CountTotal\")\n",
    "\n"
   ]
  },
  {
   "cell_type": "code",
   "execution_count": null,
   "metadata": {},
   "outputs": [
    {
     "data": {
      "text/html": [
       "<div>\n",
       "<style scoped>\n",
       "    .dataframe tbody tr th:only-of-type {\n",
       "        vertical-align: middle;\n",
       "    }\n",
       "\n",
       "    .dataframe tbody tr th {\n",
       "        vertical-align: top;\n",
       "    }\n",
       "\n",
       "    .dataframe thead th {\n",
       "        text-align: right;\n",
       "    }\n",
       "</style>\n",
       "<table border=\"1\" class=\"dataframe\">\n",
       "  <thead>\n",
       "    <tr style=\"text-align: right;\">\n",
       "      <th></th>\n",
       "      <th>Count</th>\n",
       "      <th>Gênero</th>\n",
       "    </tr>\n",
       "  </thead>\n",
       "  <tbody>\n",
       "    <tr>\n",
       "      <th>0</th>\n",
       "      <td>39694.0</td>\n",
       "      <td>Adventure</td>\n",
       "    </tr>\n",
       "    <tr>\n",
       "      <th>1</th>\n",
       "      <td>117117.0</td>\n",
       "      <td>Adventure</td>\n",
       "    </tr>\n",
       "    <tr>\n",
       "      <th>2</th>\n",
       "      <td>7560.0</td>\n",
       "      <td>Adventure</td>\n",
       "    </tr>\n",
       "    <tr>\n",
       "      <th>3</th>\n",
       "      <td>459.0</td>\n",
       "      <td>Adventure</td>\n",
       "    </tr>\n",
       "    <tr>\n",
       "      <th>4</th>\n",
       "      <td>3311.0</td>\n",
       "      <td>Adventure</td>\n",
       "    </tr>\n",
       "    <tr>\n",
       "      <th>...</th>\n",
       "      <td>...</td>\n",
       "      <td>...</td>\n",
       "    </tr>\n",
       "    <tr>\n",
       "      <th>229</th>\n",
       "      <td>19642.0</td>\n",
       "      <td>mes</td>\n",
       "    </tr>\n",
       "    <tr>\n",
       "      <th>230</th>\n",
       "      <td>17568.0</td>\n",
       "      <td>mes</td>\n",
       "    </tr>\n",
       "    <tr>\n",
       "      <th>231</th>\n",
       "      <td>1659.0</td>\n",
       "      <td>mes</td>\n",
       "    </tr>\n",
       "    <tr>\n",
       "      <th>232</th>\n",
       "      <td>32659.0</td>\n",
       "      <td>mes</td>\n",
       "    </tr>\n",
       "    <tr>\n",
       "      <th>233</th>\n",
       "      <td>60182.0</td>\n",
       "      <td>mes</td>\n",
       "    </tr>\n",
       "  </tbody>\n",
       "</table>\n",
       "<p>234 rows × 2 columns</p>\n",
       "</div>"
      ],
      "text/plain": [
       "        Count     Gênero\n",
       "0     39694.0  Adventure\n",
       "1    117117.0  Adventure\n",
       "2      7560.0  Adventure\n",
       "3       459.0  Adventure\n",
       "4      3311.0  Adventure\n",
       "..        ...        ...\n",
       "229   19642.0        mes\n",
       "230   17568.0        mes\n",
       "231    1659.0        mes\n",
       "232   32659.0        mes\n",
       "233   60182.0        mes\n",
       "\n",
       "[234 rows x 2 columns]"
      ]
     },
     "execution_count": 163,
     "metadata": {},
     "output_type": "execute_result"
    }
   ],
   "source": [
    "dfTotal"
   ]
  },
  {
   "cell_type": "code",
   "execution_count": null,
   "metadata": {},
   "outputs": [
    {
     "data": {
      "image/png": "[encoded data removed]",
      "text/plain": [
       "<Figure size 432x288 with 1 Axes>"
      ]
     },
     "metadata": {
      "needs_background": "light"
     },
     "output_type": "display_data"
    }
   ],
   "source": [
    "fig, ax = plt.subplots()\n",
    "sns.boxplot(x='Gênero',y='Count', data=dfTotal)\n",
    "ax.tick_params(rotation=90)"
   ]
  },
  {
   "cell_type": "code",
   "execution_count": null,
   "metadata": {},
   "outputs": [
    {
     "data": {
      "image/png": "[encoded data removed]",
      "text/plain": [
       "<Figure size 432x288 with 1 Axes>"
      ]
     },
     "metadata": {
      "needs_background": "light"
     },
     "output_type": "display_data"
    }
   ],
   "source": [
    "dfPre = getCount(\"CountPre\")\n",
    "fig, ax = plt.subplots()\n",
    "sns.boxplot(x='Gênero',y='Count', data=dfPre)\n",
    "ax.tick_params(rotation=90)"
   ]
  },
  {
   "cell_type": "code",
   "execution_count": null,
   "metadata": {},
   "outputs": [
    {
     "data": {
      "image/png": "[encoded data removed]",
      "text/plain": [
       "<Figure size 432x288 with 1 Axes>"
      ]
     },
     "metadata": {
      "needs_background": "light"
     },
     "output_type": "display_data"
    }
   ],
   "source": [
    "dfDurante = getCount(\"CountDurante\")\n",
    "fig, ax = plt.subplots()\n",
    "sns.boxplot(x='Gênero',y='Count', data=dfDurante)\n",
    "ax.tick_params(rotation=90)"
   ]
  },
  {
   "cell_type": "code",
   "execution_count": null,
   "metadata": {},
   "outputs": [
    {
     "data": {
      "image/png": "[encoded data removed]",
      "text/plain": [
       "<Figure size 432x288 with 1 Axes>"
      ]
     },
     "metadata": {
      "needs_background": "light"
     },
     "output_type": "display_data"
    }
   ],
   "source": [
    "dfPos = getCount(\"CountPos\")\n",
    "fig, ax = plt.subplots()\n",
    "sns.boxplot(x='Gênero',y='Count', data=dfPos)\n",
    "ax.tick_params(rotation=90)"
   ]
  },
  {
   "cell_type": "code",
   "execution_count": 186,
   "metadata": {},
   "outputs": [
    {
     "data": {
      "text/plain": [
       "<AxesSubplot:xlabel='mes', ylabel='CountTotal'>"
      ]
     },
     "execution_count": 186,
     "metadata": {},
     "output_type": "execute_result"
    },
    {
     "data": {
      "image/png": "[encoded data removed]",
      "text/plain": [
       "<Figure size 432x288 with 1 Axes>"
      ]
     },
     "metadata": {
      "needs_background": "light"
     },
     "output_type": "display_data"
    }
   ],
   "source": [
    "sns.boxplot(data=dados, x=\"mes\", y=\"CountTotal\")"
   ]
  },
  {
   "cell_type": "code",
   "execution_count": 187,
   "metadata": {},
   "outputs": [
    {
     "data": {
      "text/plain": [
       "<AxesSubplot:xlabel='mes', ylabel='CountPre'>"
      ]
     },
     "execution_count": 187,
     "metadata": {},
     "output_type": "execute_result"
    },
    {
     "data": {
      "image/png": "[encoded data removed]",
      "text/plain": [
       "<Figure size 432x288 with 1 Axes>"
      ]
     },
     "metadata": {
      "needs_background": "light"
     },
     "output_type": "display_data"
    }
   ],
   "source": [
    "sns.boxplot(data=dados, x=\"mes\", y=\"CountPre\")"
   ]
  },
  {
   "cell_type": "code",
   "execution_count": 191,
   "metadata": {},
   "outputs": [
    {
     "data": {
      "text/plain": [
       "<AxesSubplot:xlabel='mes', ylabel='CountDurante'>"
      ]
     },
     "execution_count": 191,
     "metadata": {},
     "output_type": "execute_result"
    },
    {
     "data": {
      "image/png": "[encoded data removed]",
      "text/plain": [
       "<Figure size 432x288 with 1 Axes>"
      ]
     },
     "metadata": {
      "needs_background": "light"
     },
     "output_type": "display_data"
    }
   ],
   "source": [
    "sns.boxplot(data=dados, x=\"mes\", y=\"CountDurante\")\n"
   ]
  },
  {
   "cell_type": "code",
   "execution_count": 190,
   "metadata": {},
   "outputs": [
    {
     "data": {
      "text/plain": [
       "<AxesSubplot:xlabel='mes', ylabel='CountPos'>"
      ]
     },
     "execution_count": 190,
     "metadata": {},
     "output_type": "execute_result"
    },
    {
     "data": {
      "image/png": "[encoded data removed]",
      "text/plain": [
       "<Figure size 432x288 with 1 Axes>"
      ]
     },
     "metadata": {
      "needs_background": "light"
     },
     "output_type": "display_data"
    }
   ],
   "source": [
    "sns.boxplot(data=dados, x=\"mes\", y=\"CountPos\")"
   ]
  },
  {
   "cell_type": "code",
   "execution_count": 193,
   "metadata": {},
   "outputs": [
    {
     "data": {
      "text/plain": [
       "<AxesSubplot:xlabel='Check', ylabel='CountTotal'>"
      ]
     },
     "execution_count": 193,
     "metadata": {},
     "output_type": "execute_result"
    },
    {
     "data": {
      "image/png": "[encoded data removed]",
      "text/plain": [
       "<Figure size 432x288 with 1 Axes>"
      ]
     },
     "metadata": {
      "needs_background": "light"
     },
     "output_type": "display_data"
    }
   ],
   "source": [
    "sns.boxplot(data=dados, x=\"Check\", y=\"CountTotal\")"
   ]
  },
  {
   "cell_type": "code",
   "execution_count": 194,
   "metadata": {},
   "outputs": [
    {
     "data": {
      "text/plain": [
       "<AxesSubplot:xlabel='Episodios', ylabel='CountTotal'>"
      ]
     },
     "execution_count": 194,
     "metadata": {},
     "output_type": "execute_result"
    },
    {
     "data": {
      "image/png": "[encoded data removed]",
      "text/plain": [
       "<Figure size 432x288 with 1 Axes>"
      ]
     },
     "metadata": {
      "needs_background": "light"
     },
     "output_type": "display_data"
    }
   ],
   "source": [
    "sns.boxplot(data=dados, x=\"Episodios\", y=\"CountTotal\")"
   ]
  },
  {
   "cell_type": "code",
   "execution_count": 201,
   "metadata": {},
   "outputs": [
    {
     "data": {
      "image/png": "[encoded data removed]",
      "text/plain": [
       "<Figure size 432x288 with 1 Axes>"
      ]
     },
     "metadata": {
      "needs_background": "light"
     },
     "output_type": "display_data"
    }
   ],
   "source": [
    "fig, ax = plt.subplots()\n",
    "sns.boxplot(data=dados, x=\"País\", y=\"CountTotal\")\n",
    "ax.tick_params(rotation=90)"
   ]
  },
  {
   "cell_type": "code",
   "execution_count": 200,
   "metadata": {},
   "outputs": [
    {
     "data": {
      "image/png": "[encoded data removed]",
      "text/plain": [
       "<Figure size 432x288 with 1 Axes>"
      ]
     },
     "metadata": {
      "needs_background": "light"
     },
     "output_type": "display_data"
    }
   ],
   "source": [
    "fig, ax = plt.subplots()\n",
    "sns.boxplot(data=dados, x=\"Idiomas\", y=\"CountTotal\")\n",
    "ax.tick_params(rotation=90)"
   ]
  },
  {
   "cell_type": "markdown",
   "metadata": {},
   "source": [
    "# Série Temporal do engajamento"
   ]
  },
  {
   "cell_type": "code",
   "execution_count": null,
   "metadata": {},
   "outputs": [],
   "source": []
  },
  {
   "cell_type": "markdown",
   "metadata": {},
   "source": [
    "### Número e duração de episódios por engajamento"
   ]
  },
  {
   "cell_type": "code",
   "execution_count": 206,
   "metadata": {},
   "outputs": [
    {
     "data": {
      "text/plain": [
       "<AxesSubplot:xlabel='Episodios', ylabel='CountTotal'>"
      ]
     },
     "execution_count": 206,
     "metadata": {},
     "output_type": "execute_result"
    },
    {
     "data": {
      "image/png": "[encoded data removed]",
      "text/plain": [
       "<Figure size 432x288 with 1 Axes>"
      ]
     },
     "metadata": {
      "needs_background": "light"
     },
     "output_type": "display_data"
    }
   ],
   "source": [
    "#sns.boxplot(data=dados, x=\"Episodios\", y=\"CountTotal\")"
   ]
  },
  {
   "cell_type": "code",
   "execution_count": 207,
   "metadata": {},
   "outputs": [
    {
     "data": {
      "text/plain": [
       "<AxesSubplot:xlabel='Duração', ylabel='CountTotal'>"
      ]
     },
     "execution_count": 207,
     "metadata": {},
     "output_type": "execute_result"
    },
    {
     "data": {
      "image/png": "[encoded data removed]",
      "text/plain": [
       "<Figure size 432x288 with 1 Axes>"
      ]
     },
     "metadata": {
      "needs_background": "light"
     },
     "output_type": "display_data"
    }
   ],
   "source": [
    "#sns.boxplot(data=dados, x=\"Duração\", y=\"CountTotal\")"
   ]
  },
  {
   "cell_type": "code",
   "execution_count": 205,
   "metadata": {},
   "outputs": [
    {
     "data": {
      "text/html": [
       "<div>\n",
       "<style scoped>\n",
       "    .dataframe tbody tr th:only-of-type {\n",
       "        vertical-align: middle;\n",
       "    }\n",
       "\n",
       "    .dataframe tbody tr th {\n",
       "        vertical-align: top;\n",
       "    }\n",
       "\n",
       "    .dataframe thead th {\n",
       "        text-align: right;\n",
       "    }\n",
       "</style>\n",
       "<table border=\"1\" class=\"dataframe\">\n",
       "  <thead>\n",
       "    <tr style=\"text-align: right;\">\n",
       "      <th></th>\n",
       "      <th>Titulo</th>\n",
       "      <th>Check</th>\n",
       "      <th>IMDBid</th>\n",
       "      <th>Nota</th>\n",
       "      <th>Votos</th>\n",
       "      <th>Elenco</th>\n",
       "      <th>Gênero</th>\n",
       "      <th>Duração</th>\n",
       "      <th>Ano</th>\n",
       "      <th>Data de estréia</th>\n",
       "      <th>...</th>\n",
       "      <th>Episodios</th>\n",
       "      <th>Nome</th>\n",
       "      <th>DataEstreia</th>\n",
       "      <th>CountPre</th>\n",
       "      <th>CountDurante</th>\n",
       "      <th>CountPos</th>\n",
       "      <th>CountTotal</th>\n",
       "      <th>user_reviews</th>\n",
       "      <th>critic_reviews</th>\n",
       "      <th>mes</th>\n",
       "    </tr>\n",
       "  </thead>\n",
       "  <tbody>\n",
       "  </tbody>\n",
       "</table>\n",
       "<p>0 rows × 24 columns</p>\n",
       "</div>"
      ],
      "text/plain": [
       "Empty DataFrame\n",
       "Columns: [Titulo, Check, IMDBid, Nota, Votos, Elenco, Gênero, Duração, Ano, Data de estréia, Roteiristas, Censura, País, Idiomas, Episodios, Nome, DataEstreia, CountPre, CountDurante, CountPos, CountTotal, user_reviews, critic_reviews, mes]\n",
       "Index: []\n",
       "\n",
       "[0 rows x 24 columns]"
      ]
     },
     "execution_count": 205,
     "metadata": {},
     "output_type": "execute_result"
    }
   ],
   "source": [
    "dados[dados['Duração']>100] #corrigir, pegar a media por episodio (duracao/episodios)"
   ]
  },
  {
   "cell_type": "markdown",
   "metadata": {},
   "source": [
    "## Atores e engajamento"
   ]
  },
  {
   "cell_type": "code",
   "execution_count": null,
   "metadata": {},
   "outputs": [],
   "source": []
  },
  {
   "cell_type": "markdown",
   "metadata": {},
   "source": [
    "## Influência de engajamento anterior no posterior"
   ]
  },
  {
   "cell_type": "code",
   "execution_count": null,
   "metadata": {},
   "outputs": [],
   "source": [
    "sns.scatterplot(data=dados, x=\"CountPre\", y=\"CountDurante\")"
   ]
  },
  {
   "cell_type": "code",
   "execution_count": null,
   "metadata": {},
   "outputs": [],
   "source": [
    "sns.scatterplot(data=dados[dados['Titulo']!=\"Stranger Things\"], x=\"CountDurante\", y=\"CountPos\")"
   ]
  },
  {
   "cell_type": "markdown",
   "metadata": {},
   "source": [
    "## Engajamento e genêro"
   ]
  },
  {
   "cell_type": "code",
   "execution_count": null,
   "metadata": {},
   "outputs": [],
   "source": [
    "dados['Gênero'] = dados['Gênero'].apply(lambda x : x.split(\", \"))\n",
    "dados['Gênero']"
   ]
  },
  {
   "cell_type": "code",
   "execution_count": null,
   "metadata": {},
   "outputs": [],
   "source": [
    "pd.get_dummies(dados['Gênero'].apply(pd.Series).stack()).sum(level=0)\n",
    "# Primeiramente: Fazer o count, ver a frequencia de cada série\n",
    "# Segundamente: Avaliar os grupos mais frequentes (Drama+Comedia)"
   ]
  },
  {
   "cell_type": "code",
   "execution_count": null,
   "metadata": {},
   "outputs": [],
   "source": []
  },
  {
   "cell_type": "markdown",
   "metadata": {},
   "source": [
    "## Censura e engajamento"
   ]
  },
  {
   "cell_type": "code",
   "execution_count": null,
   "metadata": {},
   "outputs": [],
   "source": []
  },
  {
   "cell_type": "markdown",
   "metadata": {},
   "source": [
    "## Reviews e engajamento"
   ]
  }
 ],
 "metadata": {
  "colab": {
   "collapsed_sections": [],
   "name": "projetoAnaliseExploratoria.ipynb",
   "provenance": []
  },
  "interpreter": {
   "hash": "0e1898d504e473bdd4635340539d41a5cecc72accb8598f6f0c7bcb5921af418"
  },
  "kernelspec": {
   "display_name": "Python 3 (ipykernel)",
   "language": "python",
   "name": "python3"
  },
  "language_info": {
   "codemirror_mode": {
    "name": "ipython",
    "version": 3
   },
   "file_extension": ".py",
   "mimetype": "text/x-python",
   "name": "python",
   "nbconvert_exporter": "python",
   "pygments_lexer": "ipython3",
   "version": "3.8.8"
  }
 },
 "nbformat": 4,
 "nbformat_minor": 1
}
