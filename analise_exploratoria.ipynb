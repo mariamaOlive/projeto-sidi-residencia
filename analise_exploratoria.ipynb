{
 "cells": [
  {
   "cell_type": "code",
   "execution_count": null,
   "metadata": {},
   "outputs": [],
   "source": [
    "import pandas as pd\n",
    "import seaborn as sns\n",
    "import matplotlib.pyplot as plt\n",
    "from sklearn.preprocessing import OneHotEncoder"
   ]
  },
  {
   "cell_type": "markdown",
   "metadata": {},
   "source": [
    "# Definição da amostra"
   ]
  },
  {
   "cell_type": "code",
   "execution_count": null,
   "metadata": {},
   "outputs": [],
   "source": [
    "popu = pd.read_csv(\"Popu_series.csv\")\n",
    "popu = popu.sample(frac=0.3, replace=False, random_state=195)\n",
    "len(popu)"
   ]
  },
  {
   "cell_type": "code",
   "execution_count": null,
   "metadata": {},
   "outputs": [],
   "source": [
    "popu = popu['serie']\n",
    "popu"
   ]
  },
  {
   "cell_type": "code",
   "execution_count": null,
   "metadata": {},
   "outputs": [],
   "source": [
    "popu.to_csv(\"Amostra.csv\", index=False)"
   ]
  },
  {
   "cell_type": "markdown",
   "metadata": {},
   "source": [
    "# Análise Exploratória"
   ]
  },
  {
   "cell_type": "code",
   "execution_count": null,
   "metadata": {},
   "outputs": [],
   "source": [
    "#imdb = pd.read_csv(\"imdb_series.csv\") REMOVER (arquivo da amostra antiga)\n",
    "imdb = pd.read_csv(\"Amostra_IMDB.csv\")\n",
    "twitter = pd.read_csv(\"series_dataset_count/dataset_count.csv\")\n",
    "reviews = pd.read_csv(\"UserReviewsCritic.csv\", sep=\";\")"
   ]
  },
  {
   "cell_type": "code",
   "execution_count": null,
   "metadata": {},
   "outputs": [],
   "source": [
    "reviews.head()"
   ]
  },
  {
   "cell_type": "code",
   "execution_count": null,
   "metadata": {},
   "outputs": [],
   "source": [
    "twitter.dropna(inplace=True)"
   ]
  },
  {
   "cell_type": "code",
   "execution_count": null,
   "metadata": {},
   "outputs": [],
   "source": [
    "twitter"
   ]
  },
  {
   "cell_type": "code",
   "execution_count": null,
   "metadata": {},
   "outputs": [],
   "source": [
    "imdb.head()"
   ]
  },
  {
   "cell_type": "code",
   "execution_count": null,
   "metadata": {},
   "outputs": [],
   "source": [
    "reviews.rename(columns={\"titulo\":\"Titulo\"}, inplace=True)\n",
    "aux = pd.merge(imdb, twitter, on = \"IMDBid\")\n",
    "dados = pd.merge(aux, reviews, on = \"Titulo\")\n",
    "\n",
    "#dados.drop(dados[dados[\"Nome\"]==\"LoveDeathandRobots\"].index, inplace=True)\n",
    "dados.head()"
   ]
  },
  {
   "cell_type": "code",
   "execution_count": null,
   "metadata": {},
   "outputs": [],
   "source": [
    "dados.drop(columns=\"Reviews\", inplace=True)"
   ]
  },
  {
   "cell_type": "code",
   "execution_count": null,
   "metadata": {},
   "outputs": [],
   "source": [
    "indice = dados[dados['Duração']>100]['Duração'].index"
   ]
  },
  {
   "cell_type": "code",
   "execution_count": null,
   "metadata": {},
   "outputs": [],
   "source": [
    "dados.loc[indice, \"Duração\"] = dados.loc[indice, \"Duração\"]/dados.loc[indice, \"Episodios\"]"
   ]
  },
  {
   "cell_type": "code",
   "execution_count": null,
   "metadata": {},
   "outputs": [],
   "source": [
    "dados[dados['Duração']>100]"
   ]
  },
  {
   "cell_type": "code",
   "execution_count": null,
   "metadata": {},
   "outputs": [],
   "source": [
    "dados['Data de estréia'] = pd.to_datetime(dados['Data de estréia'], format=\"%Y-%m-%d\", errors = 'coerce')\n",
    "dados['mes'] = pd.DatetimeIndex(dados['Data de estréia']).month"
   ]
  },
  {
   "cell_type": "markdown",
   "metadata": {},
   "source": [
    "LEMBRAR DE DIVIDIR O ENGAJAMENTO POR NUMERO DE DIAS!!"
   ]
  },
  {
   "cell_type": "code",
   "execution_count": null,
   "metadata": {},
   "outputs": [],
   "source": [
    "dados['CountPre']/qtddiaspre\n",
    "# Pre = \n",
    "# Durante = \n",
    "# Pos = "
   ]
  },
  {
   "cell_type": "markdown",
   "metadata": {},
   "source": [
    "# Análise Exploratória"
   ]
  },
  {
   "cell_type": "code",
   "execution_count": null,
   "metadata": {},
   "outputs": [],
   "source": [
    "teste = dados[dados['Duração'].notna()]"
   ]
  },
  {
   "cell_type": "code",
   "execution_count": null,
   "metadata": {},
   "outputs": [],
   "source": [
    "#dados.apply(lambda linha: linha['Duração'] if linha['Duração']<100 else linha['Duração']/linha['Episodios'])\n",
    "#dados.apply(lambda linha: print(linha[7]))\n",
    "#a = teste.apply(lambda linha: print(linha[0]))\n",
    "#dados['Duração']\n",
    "\n",
    "#duracao = dados['Duração']\n",
    "#epi = dados['Episodios']\n"
   ]
  },
  {
   "cell_type": "code",
   "execution_count": null,
   "metadata": {},
   "outputs": [],
   "source": []
  },
  {
   "cell_type": "markdown",
   "metadata": {},
   "source": [
    "## Nota"
   ]
  },
  {
   "cell_type": "code",
   "execution_count": null,
   "metadata": {},
   "outputs": [],
   "source": [
    "nota1 = sns.histplot(data=dados, x=\"Nota\")\n",
    "\n",
    "nota1.set_title('Histograma das notas no IMDb')\n",
    "nota1.set_ylabel('Frequência')"
   ]
  },
  {
   "cell_type": "code",
   "execution_count": null,
   "metadata": {},
   "outputs": [],
   "source": [
    "nota2 = sns.boxplot(y=dados['Nota'], data=dados)\n",
    "\n",
    "nota2.set_title('Boxplot das notas no IMDb')\n",
    "nota2.set_ylabel('Nota')"
   ]
  },
  {
   "cell_type": "code",
   "execution_count": null,
   "metadata": {},
   "outputs": [],
   "source": [
    "nota3 = sns.boxplot(x=dados['Ano'],y=dados['Nota'], data=dados)\n",
    "\n",
    "nota3.set_title('Boxplot das notas no IMDb por ano de lançamento')"
   ]
  },
  {
   "cell_type": "code",
   "execution_count": null,
   "metadata": {},
   "outputs": [],
   "source": [
    "y = []\n",
    "coluna = []\n",
    "for i in range (24,dados.columns.size,1):\n",
    "    coluna.append(str(dados.columns[i]))\n",
    "    \n",
    "    aux = []\n",
    "    for j in range (0, len(dados[dados[coluna[-1]] == 1]['Nota']),1):\n",
    "        aux.append(dados[dados[coluna[-1]] == 1]['Nota'].values[j])\n",
    "        \n",
    "    y.append(aux)"
   ]
  },
  {
   "cell_type": "code",
   "execution_count": null,
   "metadata": {},
   "outputs": [],
   "source": [
    "colunas = {'Nota':[], 'Gênero':[]}\n",
    "df_aux = pd.DataFrame(colunas)\n",
    "\n",
    "for i in range(len(y)):\n",
    "    for val in y[i]:\n",
    "        linha = {'Nota':val, 'Gênero':coluna[i]}\n",
    "        df_aux = df_aux.append(linha, ignore_index=True)"
   ]
  },
  {
   "cell_type": "code",
   "execution_count": null,
   "metadata": {},
   "outputs": [],
   "source": [
    "df_aux ## PQ TA DANDO ERRO?"
   ]
  },
  {
   "cell_type": "code",
   "execution_count": null,
   "metadata": {},
   "outputs": [],
   "source": [
    "fig, ax = plt.subplots()\n",
    "sns.boxplot(x='Gênero',y='Nota', data=df_aux)\n",
    "ax.tick_params(rotation=90)\n",
    "\n",
    "#fig, ax = plt.subplots()\n",
    "#sns.barplot(x = x, y = df['log_disaster'], palette=\"Blues_d\")\n",
    "#ax.tick_params(rotation=90)\n",
    "#ax.set_title('Número de Desastres por Ano')\n",
    "##ax.set_ylabel('Número de Desastres')\n",
    "#ax.set_xlabel('Ano')\n",
    "#fig.set_size_inches(20, 5)"
   ]
  },
  {
   "cell_type": "code",
   "execution_count": null,
   "metadata": {},
   "outputs": [],
   "source": [
    "#[\"Mystery\" in linha for linha in dados['Gênero']]\n",
    "#plt.boxplot(dados[dados['Mystery']==1]['Nota'].describe())#.plot()\n",
    "#plt.boxplot(dados[dados['Drama']==1]['Nota'].describe())#.plot()\n",
    "#dados[dados['Drama']==1]['Nota'].describe()#.plot()"
   ]
  },
  {
   "cell_type": "code",
   "execution_count": null,
   "metadata": {},
   "outputs": [],
   "source": [
    "#dados[dados['Drama']==1]['Nota'].count()"
   ]
  },
  {
   "cell_type": "code",
   "execution_count": null,
   "metadata": {},
   "outputs": [],
   "source": [
    "#type(dados['Gênero'].apply(lambda x: x)[0])"
   ]
  },
  {
   "cell_type": "code",
   "execution_count": null,
   "metadata": {},
   "outputs": [],
   "source": [
    "#dados['Gênero'] = dados['Gênero'].apply(lambda x : x.split(\", \"))\n",
    "#dados['Gênero']\n"
   ]
  },
  {
   "cell_type": "code",
   "execution_count": null,
   "metadata": {},
   "outputs": [],
   "source": [
    "dummies = pd.get_dummies(dados['Gênero'].apply(pd.Series).stack()).sum(level=0)\n",
    "# Primeiramente: Fazer o count, ver a frequencia de cada série\n",
    "# Segundamente: Avaliar os grupos mais frequentes (Drama+Comedia)"
   ]
  },
  {
   "cell_type": "code",
   "execution_count": null,
   "metadata": {},
   "outputs": [],
   "source": [
    "len(dados)"
   ]
  },
  {
   "cell_type": "code",
   "execution_count": null,
   "metadata": {},
   "outputs": [],
   "source": [
    "dados = dados.join(dummies)"
   ]
  },
  {
   "cell_type": "code",
   "execution_count": null,
   "metadata": {},
   "outputs": [],
   "source": [
    "#dados[colunas = 25:45].equals(dummies)"
   ]
  },
  {
   "cell_type": "code",
   "execution_count": null,
   "metadata": {},
   "outputs": [],
   "source": [
    "dados.iloc[:, 24:].sum()\n",
    "dados.iloc[:, 24:].sum()*100/86"
   ]
  },
  {
   "cell_type": "code",
   "execution_count": null,
   "metadata": {},
   "outputs": [],
   "source": [
    "dados.columns"
   ]
  },
  {
   "cell_type": "code",
   "execution_count": null,
   "metadata": {},
   "outputs": [],
   "source": [
    "dados.columns[24]"
   ]
  },
  {
   "cell_type": "markdown",
   "metadata": {},
   "source": [
    "### Nota do IMDB e número de votos por engajamento por engajamento"
   ]
  },
  {
   "cell_type": "code",
   "execution_count": null,
   "metadata": {},
   "outputs": [],
   "source": [
    "#dados['Nota'] CountPre CountDurante CountPos CountTotal\n",
    "\n",
    "sns.scatterplot(data=dados[dados['Nota']>4], x=\"Nota\", y=\"CountTotal\")\n",
    "#sns.regplot(data=dados[dados['Nota']>4], x=\"Nota\", y=\"CountTotal\")\n",
    "\n",
    "#nota1.set_title('Histograma das notas no IMDb')\n",
    "#nota1.set_ylabel('Frequência')"
   ]
  },
  {
   "cell_type": "code",
   "execution_count": null,
   "metadata": {},
   "outputs": [],
   "source": [
    "sns.scatterplot(data=dados, x=\"Nota\", y=\"CountTotal\")#, hue=dados['País'])"
   ]
  },
  {
   "cell_type": "code",
   "execution_count": null,
   "metadata": {},
   "outputs": [],
   "source": [
    "sns.boxplot(data=dados, x=\"Nota\", y=\"País\")#, hue=dados['País'])"
   ]
  },
  {
   "cell_type": "code",
   "execution_count": null,
   "metadata": {},
   "outputs": [],
   "source": [
    "sns.boxplot(data=dados, x=\"Episodios\", y=\"Nota\")"
   ]
  },
  {
   "cell_type": "code",
   "execution_count": null,
   "metadata": {},
   "outputs": [],
   "source": [
    "sns.boxplot(data=dados, x=\"Check\", y=\"Nota\")"
   ]
  },
  {
   "cell_type": "code",
   "execution_count": null,
   "metadata": {},
   "outputs": [],
   "source": [
    "sns.scatterplot(data=dados, x=\"Nota\", y=\"CountPre\")"
   ]
  },
  {
   "cell_type": "code",
   "execution_count": null,
   "metadata": {},
   "outputs": [],
   "source": [
    "sns.scatterplot(data=dados, x=\"Nota\", y=\"CountDurante\")"
   ]
  },
  {
   "cell_type": "code",
   "execution_count": null,
   "metadata": {},
   "outputs": [],
   "source": [
    "sns.scatterplot(data=dados, x=\"Nota\", y=\"CountPos\")"
   ]
  },
  {
   "cell_type": "code",
   "execution_count": null,
   "metadata": {},
   "outputs": [],
   "source": [
    "dados.corr(method='pearson')\n",
    "#dados.corr(method='spearman')"
   ]
  },
  {
   "cell_type": "code",
   "execution_count": null,
   "metadata": {},
   "outputs": [],
   "source": [
    "dados.corr(method='spearman')"
   ]
  },
  {
   "cell_type": "code",
   "execution_count": null,
   "metadata": {},
   "outputs": [],
   "source": [
    "sns.scatterplot(data=dados, x=\"Ano\", y=\"CountTotal\")"
   ]
  },
  {
   "cell_type": "code",
   "execution_count": null,
   "metadata": {},
   "outputs": [],
   "source": [
    "sns.scatterplot(data=dados, x=\"Ano\", y=\"Votos\")"
   ]
  },
  {
   "cell_type": "code",
   "execution_count": null,
   "metadata": {},
   "outputs": [],
   "source": [
    "dados[dados['Ano']==2013]"
   ]
  },
  {
   "cell_type": "code",
   "execution_count": null,
   "metadata": {},
   "outputs": [],
   "source": [
    "sns.scatterplot(data=dados, x=\"Votos\", y=\"CountTotal\")"
   ]
  },
  {
   "cell_type": "code",
   "execution_count": null,
   "metadata": {},
   "outputs": [],
   "source": [
    "sns.scatterplot(data=dados, x=\"Nota\", y=\"Votos\")"
   ]
  },
  {
   "cell_type": "markdown",
   "metadata": {},
   "source": [
    "## Votos"
   ]
  },
  {
   "cell_type": "code",
   "execution_count": null,
   "metadata": {},
   "outputs": [],
   "source": [
    "# 120000 - 20000 - 2500\n",
    "votos1 = sns.histplot(data=dados, x=\"Votos\")#, log_scale=True)\n",
    "\n",
    "votos1.set_title('Histograma da quantidade de votos no IMDb')\n",
    "votos1.set_ylabel('Frequência')"
   ]
  },
  {
   "cell_type": "code",
   "execution_count": null,
   "metadata": {},
   "outputs": [],
   "source": [
    "votos2 = sns.histplot(data=dados[dados['Votos']<100000], x=\"Votos\")#, log_scale=True)\n",
    "\n",
    "votos2.set_title('Histograma da quantidade de votos no IMDb (<100.000)')\n",
    "votos2.set_ylabel('Frequência')"
   ]
  },
  {
   "cell_type": "code",
   "execution_count": null,
   "metadata": {},
   "outputs": [],
   "source": [
    "votos3 = sns.scatterplot(data=dados, x=\"Nota\", y=\"Votos\")\n",
    "#sns.regplot(data=dados[dados['Nota']>4], x=\"Nota\", y=\"Votos\")\n",
    "\n",
    "votos3.set_title('Diagrama de dispersão da nota e quantidade de votos no IMDb')\n"
   ]
  },
  {
   "cell_type": "code",
   "execution_count": null,
   "metadata": {},
   "outputs": [],
   "source": [
    "votos4 = sns.boxplot(data=dados, x=\"Ano\", y=\"Votos\")\n",
    "votos4.set_title('Boxplot da quantidade de votos no IMDb por ano de lançamento')"
   ]
  },
  {
   "cell_type": "code",
   "execution_count": null,
   "metadata": {},
   "outputs": [],
   "source": [
    "votos5 = sns.boxplot(data=dados, x=\"Votos\", y=\"País\")\n",
    "votos5.set_title('Boxplot da quantidade de votos por país de origem')"
   ]
  },
  {
   "cell_type": "code",
   "execution_count": null,
   "metadata": {},
   "outputs": [],
   "source": [
    "maiorespaises = dados[ (dados['País']==\"United States\") | (dados['País']==\"Brazil\") | (dados['País']==\"South Korea\") | (dados['País']==\"United Kingdom\") | (dados['País']==\"Germany\") | (dados['País']==\"India\")]\n",
    "votos5 = sns.boxplot(data=maiorespaises, x=\"Votos\", y=\"País\")\n",
    "votos5.set_title('Boxplot da quantidade de votos por país de origem (mais populares)')"
   ]
  },
  {
   "cell_type": "code",
   "execution_count": null,
   "metadata": {},
   "outputs": [],
   "source": [
    "votos6 = sns.boxplot(data=dados, x=\"Episodios\", y=\"Votos\")\n",
    "votos6.set_title('Boxplot da quantidade de votos por número de episódios')"
   ]
  },
  {
   "cell_type": "code",
   "execution_count": null,
   "metadata": {},
   "outputs": [],
   "source": [
    "#sns.scatterplot(data=dados, x=\"user_reviews\", y=\"Votos\")\n",
    "votos7 = sns.regplot(data=dados, x=\"user_reviews\", y=\"Votos\")\n",
    "votos7.set_title('Diagrama de dispersão da quantidade de votos por quantidade de reviews dos usuários do IMDb')\n",
    "votos7.set_xlabel('Reviews dos usuários do IMDb')"
   ]
  },
  {
   "cell_type": "code",
   "execution_count": null,
   "metadata": {},
   "outputs": [],
   "source": [
    "#sns.scatterplot(data=dados, x=\"critic_reviews\", y=\"Votos\")\n",
    "votos8 = sns.regplot(data=dados, x=\"critic_reviews\", y=\"Votos\")\n",
    "votos8.set_title('Diagrama de dispersão da quantidade de votos por quantidade de reviews dos críticos do IMDb')\n",
    "votos8.set_xlabel('Reviews dos críticos do IMDb')"
   ]
  },
  {
   "cell_type": "markdown",
   "metadata": {},
   "source": [
    "# Duração"
   ]
  },
  {
   "cell_type": "code",
   "execution_count": null,
   "metadata": {},
   "outputs": [],
   "source": [
    "dura1 = sns.histplot(data=dados, x=\"Duração\")\n",
    "dura1.set_title('Histograma da duração média dos episódios por série')\n",
    "dura1.set_xlabel('Frequência')"
   ]
  },
  {
   "cell_type": "code",
   "execution_count": null,
   "metadata": {},
   "outputs": [],
   "source": [
    "dura2=sns.boxplot(data=dados, x=\"Duração\")\n",
    "dura2.set_title('Boxplot da duração média dos episódios por série')"
   ]
  },
  {
   "cell_type": "code",
   "execution_count": null,
   "metadata": {},
   "outputs": [],
   "source": [
    "sns.scatterplot(data=dados, x=\"Duração\", y=\"Votos\")"
   ]
  },
  {
   "cell_type": "code",
   "execution_count": null,
   "metadata": {},
   "outputs": [],
   "source": [
    "dura3=sns.boxplot(data=dados, x=\"Ano\", y=\"Duração\")\n",
    "dura3.set_title('Boxplot da duração média de episódios por ano de lançamento da série')"
   ]
  },
  {
   "cell_type": "code",
   "execution_count": null,
   "metadata": {},
   "outputs": [],
   "source": [
    "dura4=sns.boxplot(data=dados, x=\"Check\", y=\"Duração\")\n",
    "dura4.set_title('Boxplot da duração média de episódios por tipo de série')\n",
    "dura4.set_xlabel('Tipo de série')"
   ]
  },
  {
   "cell_type": "markdown",
   "metadata": {},
   "source": [
    "# Ano"
   ]
  },
  {
   "cell_type": "code",
   "execution_count": null,
   "metadata": {},
   "outputs": [],
   "source": [
    "sns.histplot(data=dados, x=\"Ano\")# tratar (dividir duracao por numero de episodios para >100)"
   ]
  },
  {
   "cell_type": "code",
   "execution_count": null,
   "metadata": {},
   "outputs": [],
   "source": [
    "sns.boxplot(data=dados, x=\"Ano\")# tratar (dividir duracao por numero de episodios para >100)"
   ]
  },
  {
   "cell_type": "markdown",
   "metadata": {},
   "source": [
    "# Data de estréia"
   ]
  },
  {
   "cell_type": "code",
   "execution_count": null,
   "metadata": {},
   "outputs": [],
   "source": [
    "sns.countplot(data=dados, x=\"mes\")"
   ]
  },
  {
   "cell_type": "markdown",
   "metadata": {},
   "source": [
    "# País"
   ]
  },
  {
   "cell_type": "code",
   "execution_count": null,
   "metadata": {},
   "outputs": [],
   "source": [
    "dados['País'].value_counts()"
   ]
  },
  {
   "cell_type": "code",
   "execution_count": null,
   "metadata": {},
   "outputs": [],
   "source": [
    "fig, ax = plt.subplots()\n",
    "sns.countplot(data=dados, x=\"País\")\n",
    "ax.tick_params(rotation=90)\n"
   ]
  },
  {
   "cell_type": "markdown",
   "metadata": {},
   "source": [
    "# Idiomas"
   ]
  },
  {
   "cell_type": "code",
   "execution_count": null,
   "metadata": {},
   "outputs": [],
   "source": [
    "dados['Idiomas'].value_counts()"
   ]
  },
  {
   "cell_type": "code",
   "execution_count": null,
   "metadata": {},
   "outputs": [],
   "source": [
    "sns.countplot(data=dados, x=\"Idiomas\", order=dados.Idiomas.value_counts().iloc[:7].index)\n",
    "\n",
    "#visCausaMorte = sns.countplot(x=\"CAUSABAS\", order=dados.CAUSABAS.value_counts().iloc[:10].index, data=dados, palette=\"Set1\")"
   ]
  },
  {
   "cell_type": "markdown",
   "metadata": {},
   "source": [
    "# Episodios"
   ]
  },
  {
   "cell_type": "code",
   "execution_count": null,
   "metadata": {},
   "outputs": [],
   "source": [
    "sns.histplot(data=dados, x=\"Episodios\")# tratar (dividir duracao por numero de episodios para >100)"
   ]
  },
  {
   "cell_type": "code",
   "execution_count": null,
   "metadata": {},
   "outputs": [],
   "source": [
    "sns.boxplot(data=dados, x=\"Check\", y=\"Episodios\")"
   ]
  },
  {
   "cell_type": "markdown",
   "metadata": {},
   "source": [
    "## Reviews de usuários"
   ]
  },
  {
   "cell_type": "code",
   "execution_count": null,
   "metadata": {},
   "outputs": [],
   "source": [
    "sns.histplot(data=dados, x=\"user_reviews\")"
   ]
  },
  {
   "cell_type": "code",
   "execution_count": null,
   "metadata": {},
   "outputs": [],
   "source": [
    "sns.boxplot(data=dados, x = \"Ano\",y=\"user_reviews\")"
   ]
  },
  {
   "cell_type": "markdown",
   "metadata": {},
   "source": [
    "## Reviews de críticos"
   ]
  },
  {
   "cell_type": "code",
   "execution_count": null,
   "metadata": {},
   "outputs": [],
   "source": [
    "sns.histplot(data=dados, x=\"critic_reviews\")"
   ]
  },
  {
   "cell_type": "code",
   "execution_count": null,
   "metadata": {},
   "outputs": [],
   "source": [
    "sns.boxplot(data=dados, x = \"Ano\",y=\"critic_reviews\")"
   ]
  },
  {
   "cell_type": "markdown",
   "metadata": {},
   "source": [
    "# Engajamento (counts)"
   ]
  },
  {
   "cell_type": "code",
   "execution_count": null,
   "metadata": {},
   "outputs": [],
   "source": [
    "sns.histplot(data=dados, x=\"CountTotal\")"
   ]
  },
  {
   "cell_type": "code",
   "execution_count": null,
   "metadata": {},
   "outputs": [],
   "source": [
    "sns.histplot(data=dados, x=\"CountPre\")"
   ]
  },
  {
   "cell_type": "code",
   "execution_count": null,
   "metadata": {},
   "outputs": [],
   "source": [
    "sns.histplot(data=dados, x=\"CountDurante\")"
   ]
  },
  {
   "cell_type": "code",
   "execution_count": null,
   "metadata": {},
   "outputs": [],
   "source": [
    "sns.histplot(data=dados, x=\"CountPos\")"
   ]
  },
  {
   "cell_type": "code",
   "execution_count": null,
   "metadata": {},
   "outputs": [],
   "source": [
    "sns.boxplot(data=dados, x=\"Ano\", y=\"CountTotal\")"
   ]
  },
  {
   "cell_type": "code",
   "execution_count": null,
   "metadata": {},
   "outputs": [],
   "source": [
    "def getCount(tipocount):\n",
    "    y = []\n",
    "    coluna = []\n",
    "    for i in range (24,dados.columns.size,1):\n",
    "        coluna.append(str(dados.columns[i]))\n",
    "        \n",
    "        aux = []\n",
    "        for j in range (0, len(dados[dados[coluna[-1]] == 1][tipocount]),1):\n",
    "            aux.append(dados[dados[coluna[-1]] == 1][tipocount].values[j])\n",
    "            \n",
    "        y.append(aux)\n",
    "\n",
    "    colunas = {'Count':[], 'Gênero':[]}\n",
    "    df_aux = pd.DataFrame(colunas)\n",
    "\n",
    "    for i in range(len(y)):\n",
    "        for val in y[i]:\n",
    "            linha = {'Count':val, 'Gênero':coluna[i]}\n",
    "            df_aux = df_aux.append(linha, ignore_index=True)\n",
    "\n",
    "    return df_aux\n",
    "\n",
    "dfTotal = getCount(\"CountTotal\")\n",
    "\n"
   ]
  },
  {
   "cell_type": "code",
   "execution_count": null,
   "metadata": {},
   "outputs": [],
   "source": [
    "dfTotal"
   ]
  },
  {
   "cell_type": "code",
   "execution_count": null,
   "metadata": {},
   "outputs": [],
   "source": [
    "fig, ax = plt.subplots()\n",
    "sns.boxplot(x='Gênero',y='Count', data=dfTotal)\n",
    "ax.tick_params(rotation=90)"
   ]
  },
  {
   "cell_type": "code",
   "execution_count": null,
   "metadata": {},
   "outputs": [],
   "source": [
    "dfPre = getCount(\"CountPre\")\n",
    "fig, ax = plt.subplots()\n",
    "sns.boxplot(x='Gênero',y='Count', data=dfPre)\n",
    "ax.tick_params(rotation=90)"
   ]
  },
  {
   "cell_type": "code",
   "execution_count": null,
   "metadata": {},
   "outputs": [],
   "source": [
    "dfDurante = getCount(\"CountDurante\")\n",
    "fig, ax = plt.subplots()\n",
    "sns.boxplot(x='Gênero',y='Count', data=dfDurante)\n",
    "ax.tick_params(rotation=90)"
   ]
  },
  {
   "cell_type": "code",
   "execution_count": null,
   "metadata": {},
   "outputs": [],
   "source": [
    "dfPos = getCount(\"CountPos\")\n",
    "fig, ax = plt.subplots()\n",
    "sns.boxplot(x='Gênero',y='Count', data=dfPos)\n",
    "ax.tick_params(rotation=90)"
   ]
  },
  {
   "cell_type": "code",
   "execution_count": null,
   "metadata": {},
   "outputs": [],
   "source": [
    "sns.boxplot(data=dados, x=\"mes\", y=\"CountTotal\")"
   ]
  },
  {
   "cell_type": "code",
   "execution_count": null,
   "metadata": {},
   "outputs": [],
   "source": [
    "sns.boxplot(data=dados, x=\"mes\", y=\"CountPre\")"
   ]
  },
  {
   "cell_type": "code",
   "execution_count": null,
   "metadata": {},
   "outputs": [],
   "source": [
    "sns.boxplot(data=dados, x=\"mes\", y=\"CountDurante\")\n"
   ]
  },
  {
   "cell_type": "code",
   "execution_count": null,
   "metadata": {},
   "outputs": [],
   "source": [
    "sns.boxplot(data=dados, x=\"mes\", y=\"CountPos\")"
   ]
  },
  {
   "cell_type": "code",
   "execution_count": null,
   "metadata": {},
   "outputs": [],
   "source": [
    "sns.boxplot(data=dados, x=\"Check\", y=\"CountTotal\")"
   ]
  },
  {
   "cell_type": "code",
   "execution_count": null,
   "metadata": {},
   "outputs": [],
   "source": [
    "sns.boxplot(data=dados, x=\"Episodios\", y=\"CountTotal\")"
   ]
  },
  {
   "cell_type": "code",
   "execution_count": null,
   "metadata": {},
   "outputs": [],
   "source": [
    "fig, ax = plt.subplots()\n",
    "sns.boxplot(data=dados, x=\"País\", y=\"CountTotal\")\n",
    "ax.tick_params(rotation=90)"
   ]
  },
  {
   "cell_type": "code",
   "execution_count": null,
   "metadata": {},
   "outputs": [],
   "source": [
    "fig, ax = plt.subplots()\n",
    "sns.boxplot(data=dados, x=\"Idiomas\", y=\"CountTotal\")\n",
    "ax.tick_params(rotation=90)"
   ]
  },
  {
   "cell_type": "markdown",
   "metadata": {},
   "source": [
    "# Série Temporal do engajamento"
   ]
  },
  {
   "cell_type": "code",
   "execution_count": null,
   "metadata": {},
   "outputs": [],
   "source": []
  },
  {
   "cell_type": "markdown",
   "metadata": {},
   "source": [
    "### Número e duração de episódios por engajamento"
   ]
  },
  {
   "cell_type": "code",
   "execution_count": null,
   "metadata": {},
   "outputs": [],
   "source": [
    "#sns.boxplot(data=dados, x=\"Episodios\", y=\"CountTotal\")"
   ]
  },
  {
   "cell_type": "code",
   "execution_count": null,
   "metadata": {},
   "outputs": [],
   "source": [
    "#sns.boxplot(data=dados, x=\"Duração\", y=\"CountTotal\")"
   ]
  },
  {
   "cell_type": "code",
   "execution_count": null,
   "metadata": {},
   "outputs": [],
   "source": [
    "dados[dados['Duração']>100] #corrigir, pegar a media por episodio (duracao/episodios)"
   ]
  },
  {
   "cell_type": "markdown",
   "metadata": {},
   "source": [
    "## Atores e engajamento"
   ]
  },
  {
   "cell_type": "code",
   "execution_count": null,
   "metadata": {},
   "outputs": [],
   "source": []
  },
  {
   "cell_type": "markdown",
   "metadata": {},
   "source": [
    "## Influência de engajamento anterior no posterior"
   ]
  },
  {
   "cell_type": "code",
   "execution_count": null,
   "metadata": {},
   "outputs": [],
   "source": [
    "sns.scatterplot(data=dados, x=\"CountPre\", y=\"CountDurante\")"
   ]
  },
  {
   "cell_type": "code",
   "execution_count": null,
   "metadata": {},
   "outputs": [],
   "source": [
    "sns.scatterplot(data=dados[dados['Titulo']!=\"Stranger Things\"], x=\"CountDurante\", y=\"CountPos\")"
   ]
  },
  {
   "cell_type": "markdown",
   "metadata": {},
   "source": [
    "## Engajamento e genêro"
   ]
  },
  {
   "cell_type": "code",
   "execution_count": null,
   "metadata": {},
   "outputs": [],
   "source": [
    "dados['Gênero'] = dados['Gênero'].apply(lambda x : x.split(\", \"))\n",
    "dados['Gênero']"
   ]
  },
  {
   "cell_type": "code",
   "execution_count": null,
   "metadata": {},
   "outputs": [],
   "source": [
    "pd.get_dummies(dados['Gênero'].apply(pd.Series).stack()).sum(level=0)\n",
    "# Primeiramente: Fazer o count, ver a frequencia de cada série\n",
    "# Segundamente: Avaliar os grupos mais frequentes (Drama+Comedia)"
   ]
  },
  {
   "cell_type": "code",
   "execution_count": null,
   "metadata": {},
   "outputs": [],
   "source": []
  },
  {
   "cell_type": "markdown",
   "metadata": {},
   "source": [
    "## Censura e engajamento"
   ]
  },
  {
   "cell_type": "code",
   "execution_count": null,
   "metadata": {},
   "outputs": [],
   "source": []
  },
  {
   "cell_type": "markdown",
   "metadata": {},
   "source": [
    "## Reviews e engajamento"
   ]
  }
 ],
 "metadata": {
  "colab": {
   "collapsed_sections": [],
   "name": "projetoAnaliseExploratoria.ipynb",
   "provenance": []
  },
  "interpreter": {
   "hash": "0e1898d504e473bdd4635340539d41a5cecc72accb8598f6f0c7bcb5921af418"
  },
  "kernelspec": {
   "display_name": "Python 3 (ipykernel)",
   "language": "python",
   "name": "python3"
  },
  "language_info": {
   "codemirror_mode": {
    "name": "ipython",
    "version": 3
   },
   "file_extension": ".py",
   "mimetype": "text/x-python",
   "name": "python",
   "nbconvert_exporter": "python",
   "pygments_lexer": "ipython3",
   "version": "3.8.8"
  }
 },
 "nbformat": 4,
 "nbformat_minor": 1
}
