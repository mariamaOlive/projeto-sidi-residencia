{
 "cells": [
  {
   "cell_type": "markdown",
   "metadata": {},
   "source": [
    "# Bibliotecas"
   ]
  },
  {
   "cell_type": "code",
   "execution_count": null,
   "metadata": {},
   "outputs": [],
   "source": [
    "import pandas as pd\n",
    "import numpy as np\n",
    "import seaborn as sns\n",
    "import matplotlib.pyplot as plt\n",
    "from sklearn.preprocessing import OneHotEncoder"
   ]
  },
  {
   "cell_type": "markdown",
   "metadata": {},
   "source": [
    "# Funções"
   ]
  },
  {
   "cell_type": "markdown",
   "metadata": {},
   "source": [
    "## Plot de 2 x 2"
   ]
  },
  {
   "cell_type": "code",
   "execution_count": null,
   "metadata": {},
   "outputs": [],
   "source": [
    "def plot_2x2(titulo, dados1, dados2, dados3, dados4,\n",
    "                x1, y1 = \"CountTotal\", t1 ='Todas as Fases',\n",
    "                x2 = '', y2 = \"CountPre\", t2 ='Fase pré',\n",
    "                x3 = '', y3 = \"CountDurante\", t3 ='Fase Durante',\n",
    "                x4 = '', y4 = \"CountPos\", t4 ='Fase Pós',\n",
    "                rx = 0, tam_fig = (18,12), tipo = 'box', share = False):\n",
    "\n",
    "    if x2 == '':\n",
    "        x2 = x1\n",
    "    if x3 == '':\n",
    "        x3 = x1\n",
    "    if x4 == '':\n",
    "        x4 = x1\n",
    "\n",
    "    fig, axes = plt.subplots(2, 2, figsize=tam_fig, sharey=share)\n",
    "    fig.suptitle(titulo, fontsize = 20)\n",
    "    plt.subplots_adjust(hspace = .3, wspace = 0.1)\n",
    "    \n",
    "    if tipo == 'box':\n",
    "        sns.boxplot(ax=axes[0,0], data=dados1, x=x1, y=y1)\n",
    "        sns.set_palette(\"Set2\")\n",
    "        sns.boxplot(ax=axes[0,1], data=dados2, x=x2, y=y2)\n",
    "        sns.set_palette(\"Set2\")\n",
    "        sns.boxplot(ax=axes[1,0], data=dados3, x=x3, y=y3)\n",
    "        sns.set_palette(\"Set2\")\n",
    "        sns.boxplot(ax=axes[1,1], data=dados4, x=x4, y=y4)\n",
    "        sns.set_palette(\"Set2\")\n",
    "    elif tipo == 'count':\n",
    "        sns.countplot(ax=axes[0,0], data=dados1, x=x1, y=y1)\n",
    "        sns.set_palette(\"Set2\")\n",
    "        sns.countplot(ax=axes[0,1], data=dados2, x=x2, y=y2)\n",
    "        sns.set_palette(\"Set2\")\n",
    "        sns.countplot(ax=axes[1,0], data=dados3, x=x3, y=y3)\n",
    "        sns.set_palette(\"Set2\")\n",
    "        sns.countplot(ax=axes[1,1], data=dados4, x=x4, y=y4)\n",
    "        sns.set_palette(\"Set2\")\n",
    "    elif tipo == 'bar':\n",
    "        sns.barplot(ax=axes[0,0], data=dados1, x=x1, y=y1)\n",
    "        sns.set_palette(\"Set2\")\n",
    "        sns.barplot(ax=axes[0,1], data=dados2, x=x2, y=y2)\n",
    "        sns.set_palette(\"Set2\")\n",
    "        sns.barplot(ax=axes[1,0], data=dados3, x=x3, y=y3)\n",
    "        sns.set_palette(\"Set2\")\n",
    "        sns.barplot(ax=axes[1,1], data=dados4, x=x4, y=y4)\n",
    "        sns.set_palette(\"Set2\")\n",
    "    elif tipo == 'hist':\n",
    "        sns.histplot(ax=axes[0,0], data=dados1, x=x1)\n",
    "        sns.set_palette(\"Set2\")\n",
    "        sns.histplot(ax=axes[0,1], data=dados2, x=x2)\n",
    "        sns.set_palette(\"Set2\")\n",
    "        sns.histplot(ax=axes[1,0], data=dados3, x=x3)\n",
    "        sns.set_palette(\"Set2\")\n",
    "        sns.histplot(ax=axes[1,1], data=dados4, x=x4)\n",
    "        sns.set_palette(\"Set2\")\n",
    "    elif tipo == 'scatter':\n",
    "        sns.scatterplot(ax=axes[0,0], data=dados1, x=x1, y=y1)\n",
    "        sns.set_palette(\"Set2\")\n",
    "        sns.scatterplot(ax=axes[0,1], data=dados2, x=x2, y=y2)\n",
    "        sns.set_palette(\"Set2\")\n",
    "        sns.scatterplot(ax=axes[1,0], data=dados3, x=x3, y=y3)\n",
    "        sns.set_palette(\"Set2\")\n",
    "        sns.scatterplot(ax=axes[1,1], data=dados4, x=x4, y=y4)\n",
    "        sns.set_palette(\"Set2\")\n",
    "\n",
    "    axes[0,0].set(xlabel=None, ylabel=None, title=t1)\n",
    "    axes[0,0].tick_params(axis='x', rotation=rx)\n",
    "\n",
    "    axes[0,1].set(xlabel=None, ylabel=None, title=t2)\n",
    "    axes[0,1].tick_params(axis='x', rotation=rx)\n",
    "\n",
    "    axes[1,0].set(xlabel=None, ylabel=None, title=t3)\n",
    "    axes[1,0].tick_params(axis='x', rotation=rx)\n",
    "\n",
    "    axes[1,1].set(xlabel=None, ylabel=None, title=t4)\n",
    "    axes[1,1].tick_params(axis='x', rotation=rx)"
   ]
  },
  {
   "cell_type": "markdown",
   "metadata": {},
   "source": [
    "## get Count para Count Total e Gênero"
   ]
  },
  {
   "cell_type": "code",
   "execution_count": null,
   "metadata": {},
   "outputs": [],
   "source": [
    "def getCount(tipocount):\n",
    "    y = []\n",
    "    coluna = []\n",
    "    for i in range (24,dados.columns.size,1):\n",
    "        coluna.append(str(dados.columns[i]))\n",
    "        \n",
    "        aux = []\n",
    "        for j in range (0, len(dados[dados[coluna[-1]] == 1][tipocount]),1):\n",
    "            aux.append(dados[dados[coluna[-1]] == 1][tipocount].values[j])\n",
    "            \n",
    "        y.append(aux)\n",
    "\n",
    "    colunas = {'Count':[], 'Gênero':[]}\n",
    "    df_aux = pd.DataFrame(colunas)\n",
    "\n",
    "    for i in range(len(y)):\n",
    "        for val in y[i]:\n",
    "            linha = {'Count':val, 'Gênero':coluna[i]}\n",
    "            df_aux = df_aux.append(linha, ignore_index=True)\n",
    "\n",
    "    return df_aux"
   ]
  },
  {
   "cell_type": "markdown",
   "metadata": {},
   "source": [
    "## getCount Parametrizado"
   ]
  },
  {
   "cell_type": "code",
   "execution_count": null,
   "metadata": {},
   "outputs": [],
   "source": [
    "def getCountParam(dados, tipocount = 'Nota', nome_col1 = 'Nota', nome_col2 = 'Gênero', inicio = \"Action\", fim = \"Western\"):\n",
    "\n",
    "    lista_colunas = list(dados.columns)\n",
    "    index_primeiro_genero = lista_colunas.index(inicio)\n",
    "    index_ultimo_genero = lista_colunas.index(fim)\n",
    "    \n",
    "    y = []\n",
    "    coluna = []\n",
    "    for i in range (index_primeiro_genero,index_ultimo_genero+1,1):\n",
    "        coluna.append(str(dados.columns[i]))\n",
    "        \n",
    "        aux = []\n",
    "        for j in range (0, len(dados[dados[coluna[-1]] == 1][tipocount]),1):\n",
    "            aux.append(dados[dados[coluna[-1]] == 1][tipocount].values[j])\n",
    "            \n",
    "        y.append(aux)\n",
    "\n",
    "    colunas = {nome_col1:[], nome_col2:[]}\n",
    "    df_aux = pd.DataFrame(colunas)\n",
    "\n",
    "    for i in range(len(y)):\n",
    "        for val in y[i]:\n",
    "            linha = {nome_col1:val, nome_col2:coluna[i]}\n",
    "            df_aux = df_aux.append(linha, ignore_index=True)\n",
    "\n",
    "    return df_aux"
   ]
  },
  {
   "cell_type": "markdown",
   "metadata": {},
   "source": [
    "# Definição da amostra"
   ]
  },
  {
   "cell_type": "code",
   "execution_count": null,
   "metadata": {},
   "outputs": [],
   "source": [
    "popu = pd.read_csv(\"Popu_series.csv\", encoding = \"ISO-8859-1\")\n",
    "popu = popu.sample(frac=0.3, replace=False, random_state=195)\n",
    "len(popu)"
   ]
  },
  {
   "cell_type": "code",
   "execution_count": null,
   "metadata": {},
   "outputs": [],
   "source": [
    "popu = popu['serie']\n",
    "popu"
   ]
  },
  {
   "cell_type": "code",
   "execution_count": null,
   "metadata": {},
   "outputs": [],
   "source": [
    "popu.to_csv(\"Amostra.csv\", index=False)"
   ]
  },
  {
   "cell_type": "markdown",
   "metadata": {},
   "source": [
    "# Lendo arquivos"
   ]
  },
  {
   "cell_type": "code",
   "execution_count": null,
   "metadata": {},
   "outputs": [],
   "source": [
    "imdb = pd.read_csv(\"Amostra_IMDB.csv\")\n",
    "twitter = pd.read_csv(\"series_dataset_count/dataset_count.csv\")\n",
    "reviews = pd.read_csv(\"UserReviewsCritic.csv\", sep=\";\")"
   ]
  },
  {
   "cell_type": "markdown",
   "metadata": {},
   "source": [
    "# Tratamento dos Dados"
   ]
  },
  {
   "cell_type": "markdown",
   "metadata": {},
   "source": [
    "## Twitter"
   ]
  },
  {
   "cell_type": "markdown",
   "metadata": {},
   "source": [
    "### Dropando dados nulos"
   ]
  },
  {
   "cell_type": "code",
   "execution_count": null,
   "metadata": {},
   "outputs": [],
   "source": [
    "twitter.dropna(inplace=True)\n",
    "twitter"
   ]
  },
  {
   "cell_type": "markdown",
   "metadata": {},
   "source": [
    "## Reviews"
   ]
  },
  {
   "cell_type": "markdown",
   "metadata": {},
   "source": [
    "### Renomeando Colunas"
   ]
  },
  {
   "cell_type": "code",
   "execution_count": null,
   "metadata": {},
   "outputs": [],
   "source": [
    "reviews.rename(columns={\"titulo\":\"Titulo\"}, inplace=True)"
   ]
  },
  {
   "cell_type": "markdown",
   "metadata": {},
   "source": [
    "## IMDb"
   ]
  },
  {
   "cell_type": "code",
   "execution_count": null,
   "metadata": {},
   "outputs": [],
   "source": [
    "#imdb.head()"
   ]
  },
  {
   "cell_type": "markdown",
   "metadata": {},
   "source": [
    "# Dataframe Final - IMDb + Twitter + Reviews"
   ]
  },
  {
   "cell_type": "code",
   "execution_count": null,
   "metadata": {},
   "outputs": [],
   "source": [
    "aux = pd.merge(imdb, twitter, on = \"IMDBid\")\n",
    "dados = pd.merge(aux, reviews, on = \"Titulo\")\n",
    "del(aux)\n",
    "\n",
    "dados.head(2)"
   ]
  },
  {
   "cell_type": "markdown",
   "metadata": {},
   "source": [
    "## Tratamento"
   ]
  },
  {
   "cell_type": "markdown",
   "metadata": {},
   "source": [
    "### Apagando a coluna Reviews"
   ]
  },
  {
   "cell_type": "code",
   "execution_count": null,
   "metadata": {},
   "outputs": [],
   "source": [
    "dados.drop(columns=\"Reviews\", inplace=True)"
   ]
  },
  {
   "cell_type": "markdown",
   "metadata": {},
   "source": [
    "### Checando a duração"
   ]
  },
  {
   "cell_type": "markdown",
   "metadata": {},
   "source": [
    "**Algumas séries vem a duração total. Por isso, é preciso dividir a duração total pelo número de episódios**"
   ]
  },
  {
   "cell_type": "code",
   "execution_count": null,
   "metadata": {},
   "outputs": [],
   "source": [
    "indice = dados[dados['Duração']>100]['Duração'].index\n",
    "dados.loc[indice, \"Duração\"] = dados.loc[indice, \"Duração\"]/dados.loc[indice, \"Episodios\"]"
   ]
  },
  {
   "cell_type": "code",
   "execution_count": null,
   "metadata": {},
   "outputs": [],
   "source": [
    "dados[dados['Duração']>100]"
   ]
  },
  {
   "cell_type": "markdown",
   "metadata": {},
   "source": [
    "### Alterando o formato das variáveis"
   ]
  },
  {
   "cell_type": "code",
   "execution_count": null,
   "metadata": {},
   "outputs": [],
   "source": [
    "dados[\"Ano\"] = dados[\"Ano\"].astype('int32')\n",
    "dados[\"Episodios\"] = dados[\"Episodios\"].astype('int32')"
   ]
  },
  {
   "cell_type": "markdown",
   "metadata": {},
   "source": [
    "**Formatando as colunas de data**"
   ]
  },
  {
   "cell_type": "code",
   "execution_count": null,
   "metadata": {},
   "outputs": [],
   "source": [
    "dados['DataEstreia'] = pd.to_datetime(dados['DataEstreia'], format=\"%Y-%m-%d\", errors = 'coerce')\n",
    "dados['mes'] = pd.DatetimeIndex(dados['DataEstreia']).month"
   ]
  },
  {
   "cell_type": "markdown",
   "metadata": {},
   "source": [
    "### Hot Encoding Gênero"
   ]
  },
  {
   "cell_type": "code",
   "execution_count": null,
   "metadata": {},
   "outputs": [],
   "source": [
    "dados['Gênero'] = dados['Gênero'].apply(lambda x : x.split(\", \"))\n",
    "dummies = pd.get_dummies(dados['Gênero'].apply(pd.Series).stack()).sum(level=0)\n",
    "dados = dados.join(dummies)"
   ]
  },
  {
   "cell_type": "markdown",
   "metadata": {},
   "source": [
    "**Início: Action**\n",
    "\n",
    "**Fim: Western**"
   ]
  },
  {
   "cell_type": "code",
   "execution_count": null,
   "metadata": {},
   "outputs": [],
   "source": [
    "dados.drop(columns=\"Short\",inplace=True)"
   ]
  },
  {
   "cell_type": "markdown",
   "metadata": {},
   "source": [
    "### Hot Encoding País"
   ]
  },
  {
   "cell_type": "code",
   "execution_count": null,
   "metadata": {},
   "outputs": [],
   "source": [
    "dados['País'] = dados['País'].apply(lambda x : x.split(\", \"))\n",
    "dummies = pd.get_dummies(dados['País'].apply(pd.Series).stack()).sum(level=0)\n",
    "dados = dados.join(dummies)"
   ]
  },
  {
   "cell_type": "markdown",
   "metadata": {},
   "source": [
    "**Início: Argentina**\n",
    "\n",
    "**Fim: United States**"
   ]
  },
  {
   "cell_type": "markdown",
   "metadata": {},
   "source": [
    "### Hot Encoding Idioma"
   ]
  },
  {
   "cell_type": "markdown",
   "metadata": {},
   "source": [
    "**Idioma tem alguns valores NaN**\n",
    "\n",
    "**Isso causa erro na hora de fazer o Hot Encoding**"
   ]
  },
  {
   "cell_type": "code",
   "execution_count": null,
   "metadata": {},
   "outputs": [],
   "source": [
    "for i in range(len(dados)):\n",
    "    if dados['Idiomas'][i] != dados['Idiomas'][i]:\n",
    "        dados['Idiomas'][i] = 'Outros'\n",
    "        \n",
    "dados['Idiomas'] = dados['Idiomas'].apply(lambda x : x.split(\", \"))\n",
    "dummies = pd.get_dummies(dados['Idiomas'].apply(pd.Series).stack()).sum(level=0)\n",
    "dados = dados.join(dummies)"
   ]
  },
  {
   "cell_type": "markdown",
   "metadata": {},
   "source": [
    "**Início: Arabic**\n",
    "\n",
    "**Fim: Yiddish**"
   ]
  },
  {
   "cell_type": "markdown",
   "metadata": {},
   "source": [
    "# Análise Exploratória"
   ]
  },
  {
   "cell_type": "code",
   "execution_count": null,
   "metadata": {},
   "outputs": [],
   "source": [
    "diasPre = 75-3\n",
    "diasDurante = 7\n",
    "diasPos = 150-3\n",
    "diasTotal = diasPre + diasDurante + diasPos"
   ]
  },
  {
   "cell_type": "code",
   "execution_count": null,
   "metadata": {},
   "outputs": [],
   "source": [
    "dados['TaxaPre'] = dados['CountPre']/diasPre\n",
    "dados['TaxaDurante'] = dados['CountDurante']/diasDurante\n",
    "dados['TaxaPos'] = dados['CountPos']/diasPos\n",
    "dados['TaxaTotal'] = dados['CountTotal']/diasPos"
   ]
  },
  {
   "cell_type": "markdown",
   "metadata": {},
   "source": [
    "## Correlação"
   ]
  },
  {
   "cell_type": "markdown",
   "metadata": {},
   "source": [
    "### Pearson"
   ]
  },
  {
   "cell_type": "code",
   "execution_count": null,
   "metadata": {},
   "outputs": [],
   "source": [
    "dados.corr(method='pearson')"
   ]
  },
  {
   "cell_type": "markdown",
   "metadata": {},
   "source": [
    "### Spearman"
   ]
  },
  {
   "cell_type": "code",
   "execution_count": null,
   "metadata": {},
   "outputs": [],
   "source": [
    "dados.corr(method='spearman')"
   ]
  },
  {
   "cell_type": "code",
   "execution_count": null,
   "metadata": {},
   "outputs": [],
   "source": [
    "dadoscorr = dados[['Nota', 'Votos', 'Duração', 'Episodios', 'user_reviews', 'critic_reviews', 'CountTotal', 'CountPre', 'CountDurante', 'CountPos']]\n",
    "correlation_mat = dadoscorr.corr(method=\"pearson\")\n",
    "\n",
    "heatcorr = sns.heatmap(correlation_mat, annot = True)\n",
    "heatcorr.set_title(\"Matriz de Correlação de Pearson\")\n",
    "\n",
    "plt.show()"
   ]
  },
  {
   "cell_type": "markdown",
   "metadata": {},
   "source": [
    "## Nota"
   ]
  },
  {
   "cell_type": "code",
   "execution_count": null,
   "metadata": {},
   "outputs": [],
   "source": [
    "fig, axes = plt.subplots(1, 2, figsize=(15,5), sharey=False)\n",
    "fig.suptitle('', fontsize = 20)\n",
    "plt.subplots_adjust(hspace = .3, wspace = 0.1)\n",
    "\n",
    "sns.histplot(ax=axes[0], x = \"Nota\", data = dados)\n",
    "sns.set_palette(\"Set2\")\n",
    "axes[0].set(xlabel = None, ylabel = None, title = 'Histograma das Notas no IMDb')\n",
    "axes[0].tick_params(axis='x', rotation = 0)\n",
    "\n",
    "sns.boxplot(ax=axes[1], y = 'Nota', data = dados)\n",
    "sns.set_palette(\"Set2\")\n",
    "axes[1].set(xlabel = None, ylabel = None, title = 'Boxplot das Notas')\n",
    "axes[1].tick_params(axis='x', rotation = 0)"
   ]
  },
  {
   "cell_type": "markdown",
   "metadata": {},
   "source": [
    "### Nota x Ano de Lançamento"
   ]
  },
  {
   "cell_type": "code",
   "execution_count": null,
   "metadata": {},
   "outputs": [],
   "source": [
    "fig, axes = plt.subplots(1, 2, figsize=(20,7), sharey=False)\n",
    "fig.suptitle('', fontsize = 20)\n",
    "plt.subplots_adjust(hspace = .3, wspace = 0.1)\n",
    "\n",
    "sns.boxplot(ax=axes[0], x = dados['Ano'], y = dados['Nota'], data=dados)\n",
    "sns.set_palette(\"Set2\")\n",
    "axes[0].set(xlabel=None, ylabel=None, title = 'Boxplot das Notas no IMDb por Ano de Lançamento')\n",
    "axes[0].tick_params(axis = 'x', rotation = 90)\n",
    "\n",
    "sns.boxplot(ax=axes[1], x = 'Ano', y = 'Nota', data = dados[dados['Ano']>2016])\n",
    "sns.set_palette(\"Set2\")\n",
    "axes[1].set(xlabel=None, ylabel=None, title = 'Boxplot das Notas no IMDb por Ano de Lançamento (após 2016)')\n",
    "axes[1].tick_params(axis = 'x', rotation = 90)"
   ]
  },
  {
   "cell_type": "markdown",
   "metadata": {},
   "source": [
    "### Nota x Gênero"
   ]
  },
  {
   "cell_type": "code",
   "execution_count": null,
   "metadata": {},
   "outputs": [],
   "source": [
    "df_aux = getCountParam(dados)"
   ]
  },
  {
   "cell_type": "code",
   "execution_count": null,
   "metadata": {},
   "outputs": [],
   "source": [
    "fig, axes = plt.subplots(1, 2, figsize=(20,5), sharey=False)\n",
    "fig.suptitle('', fontsize = 20)\n",
    "plt.subplots_adjust(hspace = .3, wspace = 0.1)\n",
    "\n",
    "sns.set_palette(\"Set2\")\n",
    "sns.boxplot(ax=axes[0], x = 'Gênero', y = 'Nota', data = df_aux)\n",
    "axes[0].set(xlabel=None, ylabel=None, title = 'Notas x Gênero')\n",
    "axes[0].tick_params(axis = 'x', rotation = 90)\n",
    "\n",
    "sns.set_palette(\"Set2\")\n",
    "sns.countplot(ax=axes[1],x = 'Gênero', data = df_aux)\n",
    "axes[1].set(xlabel=None, ylabel=None, title = 'Quantidade x Gênero')\n",
    "axes[1].tick_params(axis = 'x', rotation = 90)"
   ]
  },
  {
   "cell_type": "markdown",
   "metadata": {},
   "source": [
    "### Nota x Número Total de Tweets"
   ]
  },
  {
   "cell_type": "code",
   "execution_count": null,
   "metadata": {},
   "outputs": [],
   "source": [
    "tit = \"Número Total de Tweets x Nota\"\n",
    "x1 = \"Nota\"\n",
    "x2 = x3 = x4 = x1\n",
    "dado1 = dado2 = dado3 = dado4 = dados\n",
    "\n",
    "plot_2x2(tit, dado1, dado2, dado3, dado4, x1, x2 = x2, x3 = x3, x4 = x4, tipo = 'scatter')"
   ]
  },
  {
   "cell_type": "markdown",
   "metadata": {},
   "source": [
    "### Nota x País"
   ]
  },
  {
   "cell_type": "code",
   "execution_count": null,
   "metadata": {},
   "outputs": [],
   "source": [
    "df_aux = getCountParam(dados, nome_col2 = 'País', inicio = \"Argentina\", fim = \"United States\")"
   ]
  },
  {
   "cell_type": "code",
   "execution_count": null,
   "metadata": {},
   "outputs": [],
   "source": [
    "fig, ax = plt.subplots()\n",
    "sns.set_palette(\"Set2\")\n",
    "sns.scatterplot(x=\"País\",y=\"Nota\", data=df_aux)\n",
    "ax.set(xlabel = None, ylabel = None, title = \"Nota x País\")\n",
    "ax.tick_params(axis = 'x', rotation = 90)"
   ]
  },
  {
   "cell_type": "markdown",
   "metadata": {},
   "source": [
    "### Nota x Episódios"
   ]
  },
  {
   "cell_type": "code",
   "execution_count": null,
   "metadata": {},
   "outputs": [],
   "source": [
    "#fig, ax = plt.subplots()\n",
    "#sns.scatterplot(x=\"Episodios\",y=\"Nota\", data=dados)\n",
    "#ax.set(xlabel = None, ylabel = None, title = \"Nota x Episódios\")\n",
    "#ax.tick_params(axis = 'x', rotation = 90)"
   ]
  },
  {
   "cell_type": "code",
   "execution_count": null,
   "metadata": {},
   "outputs": [],
   "source": [
    "fig, axes = plt.subplots(1, 2, figsize=(20,5), sharey=False)\n",
    "fig.suptitle('', fontsize = 20)\n",
    "plt.subplots_adjust(hspace = .3, wspace = 0.1)\n",
    "\n",
    "sns.set_palette(\"Set2\")\n",
    "sns.boxplot(ax=axes[0], x = \"Episodios\", y = \"Nota\", data = dados)\n",
    "axes[0].set(xlabel=None, ylabel=None, title = 'Nota x Episódios')\n",
    "axes[0].tick_params(axis = 'x', rotation = 0)\n",
    "\n",
    "sns.set_palette(\"Set2\")\n",
    "sns.countplot(ax=axes[1], x = \"Episodios\", data = dados)\n",
    "axes[1].set(xlabel=None, ylabel=None, title = 'Quantidade x Episódios')\n",
    "axes[1].tick_params(axis = 'x', rotation = 0)"
   ]
  },
  {
   "cell_type": "markdown",
   "metadata": {},
   "source": [
    "## Tipo de Série"
   ]
  },
  {
   "cell_type": "code",
   "execution_count": null,
   "metadata": {},
   "outputs": [],
   "source": [
    "fig, axes = plt.subplots(1, 2, figsize=(20,6), sharey=False)\n",
    "fig.suptitle('', fontsize = 20)\n",
    "plt.subplots_adjust(hspace = .3, wspace = 0.1)\n",
    "\n",
    "sns.set_palette(\"Set2\")\n",
    "sns.boxplot(ax=axes[0], x = \"Check\", y = \"Nota\", data = dados)\n",
    "axes[0].set(xlabel = 'Tipo de série', ylabel = None, title = \"Boxplot das Notas de Acordo com o Tipo de Série\")\n",
    "axes[0].tick_params(axis = 'x', rotation = 0)\n",
    "\n",
    "sns.set_palette(\"Set2\")\n",
    "sns.countplot(ax=axes[1], x = \"Check\", data = dados)\n",
    "axes[1].set(xlabel=None, ylabel=None, title = 'Quantidade x Tipo de Série')\n",
    "axes[1].tick_params(axis = 'x', rotation = 0)"
   ]
  },
  {
   "cell_type": "markdown",
   "metadata": {},
   "source": [
    "### Tipo de Série x Votos"
   ]
  },
  {
   "cell_type": "code",
   "execution_count": null,
   "metadata": {},
   "outputs": [],
   "source": [
    "fig, ax = plt.subplots()\n",
    "sns.set_palette(\"Set2\")\n",
    "sns.boxplot(x = \"Check\", y = \"Votos\", data = dados)\n",
    "ax.set(xlabel = None, ylabel = None, title = \"Tipo de Série x Votos\")\n",
    "ax.tick_params(axis = 'x', rotation = 0)"
   ]
  },
  {
   "cell_type": "markdown",
   "metadata": {},
   "source": [
    "### Tipo de Série x Duração"
   ]
  },
  {
   "cell_type": "code",
   "execution_count": null,
   "metadata": {},
   "outputs": [],
   "source": [
    "fig, ax = plt.subplots()\n",
    "sns.set_palette(\"Set2\")\n",
    "sns.boxplot(x = \"Check\", y = \"Duração\", data = dados)\n",
    "ax.set(xlabel = None, ylabel = None, title = \"Tipo de Série x Duração\")\n",
    "ax.tick_params(axis = 'x', rotation = 0)"
   ]
  },
  {
   "cell_type": "markdown",
   "metadata": {},
   "source": [
    "### Tipo de Série x Número de Episódios"
   ]
  },
  {
   "cell_type": "code",
   "execution_count": null,
   "metadata": {},
   "outputs": [],
   "source": [
    "fig, ax = plt.subplots()\n",
    "sns.set_palette(\"Set2\")\n",
    "sns.boxplot(x = \"Check\", y = \"Episodios\", data = dados)\n",
    "ax.set(xlabel = None, ylabel = None, title = \"Tipo de Série x Número de Episódios\")\n",
    "ax.tick_params(axis = 'x', rotation = 0)"
   ]
  },
  {
   "cell_type": "markdown",
   "metadata": {},
   "source": [
    "## Votos"
   ]
  },
  {
   "cell_type": "code",
   "execution_count": null,
   "metadata": {},
   "outputs": [],
   "source": [
    "fig, axes = plt.subplots(1, 2, figsize=(15,5), sharey=False)\n",
    "fig.suptitle('', fontsize = 20)\n",
    "plt.subplots_adjust(hspace = .3, wspace = 0.1)\n",
    "\n",
    "sns.histplot(ax=axes[0], x = \"Votos\", data = dados)\n",
    "sns.set_palette(\"Set2\")\n",
    "axes[0].set(xlabel = None, ylabel = None, title = 'Histograma da Quantidade de Votos no IMDb')\n",
    "axes[0].tick_params(axis='x', rotation = 0)\n",
    "\n",
    "sns.histplot(ax=axes[1], x = \"Votos\", data = dados[dados['Votos']<100000])\n",
    "sns.set_palette(\"Set2\")\n",
    "axes[1].set(xlabel = None, ylabel = None, title = 'Boxplot da Quantidade de Votos ( < 100.000 )')\n",
    "axes[1].tick_params(axis='x', rotation = 0)"
   ]
  },
  {
   "cell_type": "markdown",
   "metadata": {},
   "source": [
    "### Votos x Nota"
   ]
  },
  {
   "cell_type": "code",
   "execution_count": null,
   "metadata": {},
   "outputs": [],
   "source": [
    "fig, ax = plt.subplots()\n",
    "sns.set_palette(\"Set2\")\n",
    "sns.scatterplot(x = \"Nota\", y = \"Votos\", data = dados)\n",
    "ax.set(xlabel = None, ylabel = None, title = \"Nota x Votos\")\n",
    "ax.tick_params(axis = 'x', rotation = 0)"
   ]
  },
  {
   "cell_type": "markdown",
   "metadata": {},
   "source": [
    "### Votos x Ano"
   ]
  },
  {
   "cell_type": "code",
   "execution_count": null,
   "metadata": {},
   "outputs": [],
   "source": [
    "fig, ax = plt.subplots()\n",
    "sns.set_palette(\"Set2\")\n",
    "sns.boxplot(x = \"Ano\", y = \"Votos\", data = dados)\n",
    "ax.set(xlabel = None, ylabel = None, title = \"Nota x Votos\")\n",
    "ax.tick_params(axis = 'x', rotation = 0)"
   ]
  },
  {
   "cell_type": "markdown",
   "metadata": {},
   "source": [
    "### Votos x País"
   ]
  },
  {
   "cell_type": "code",
   "execution_count": null,
   "metadata": {},
   "outputs": [],
   "source": [
    "df_aux = getCountParam(dados, tipocount = 'Votos', nome_col1 = 'Votos', nome_col2 = 'País', inicio = \"Argentina\", fim = \"United States\")"
   ]
  },
  {
   "cell_type": "code",
   "execution_count": null,
   "metadata": {},
   "outputs": [],
   "source": [
    "fig, ax = plt.subplots()\n",
    "sns.set_palette(\"Set2\")\n",
    "sns.scatterplot(x = \"País\", y = \"Votos\", data=df_aux)\n",
    "ax.set(xlabel = None, ylabel = None, title = \"Votos x País\")\n",
    "ax.tick_params(axis = 'x', rotation = 90)"
   ]
  },
  {
   "cell_type": "markdown",
   "metadata": {},
   "source": [
    "### Votos x Número de Episódios"
   ]
  },
  {
   "cell_type": "code",
   "execution_count": null,
   "metadata": {},
   "outputs": [],
   "source": [
    "fig, ax = plt.subplots()\n",
    "sns.set_palette(\"Set2\")\n",
    "sns.boxplot(x = \"Episodios\", y = \"Votos\", data = dados)\n",
    "ax.set(xlabel = None, ylabel = None, title = \"Votos x Número de Episódios\")\n",
    "ax.tick_params(axis = 'x', rotation = 0)"
   ]
  },
  {
   "cell_type": "markdown",
   "metadata": {},
   "source": [
    "### Votos x Reviews"
   ]
  },
  {
   "cell_type": "code",
   "execution_count": null,
   "metadata": {},
   "outputs": [],
   "source": [
    "fig, axes = plt.subplots(1, 2, figsize=(15,5), sharey=False)\n",
    "fig.suptitle('', fontsize = 20)\n",
    "plt.subplots_adjust(hspace = .3, wspace = 0.1)\n",
    "\n",
    "sns.regplot(ax=axes[0], x = \"user_reviews\", y=\"Votos\", data = dados)\n",
    "sns.set_palette(\"Set2\")\n",
    "axes[0].set(xlabel = None, ylabel = None, title = 'Votos x Reviews de Usuários do IMDb')\n",
    "axes[0].tick_params(axis='x', rotation = 0)\n",
    "\n",
    "sns.regplot(ax=axes[1], x = \"critic_reviews\", y=\"Votos\", data = dados)\n",
    "sns.set_palette(\"Set2\")\n",
    "axes[1].set(xlabel = None, ylabel = None, title = 'Votos x Reviews de Críticos do IMDb')\n",
    "axes[1].tick_params(axis='x', rotation = 0)"
   ]
  },
  {
   "cell_type": "markdown",
   "metadata": {},
   "source": [
    "## Duração"
   ]
  },
  {
   "cell_type": "code",
   "execution_count": null,
   "metadata": {},
   "outputs": [],
   "source": [
    "fig, ax = plt.subplots()\n",
    "sns.set_palette(\"Set2\")\n",
    "sns.histplot(x = \"Duração\", data = dados)\n",
    "ax.set(xlabel = None, ylabel = None, title = 'Histograma da Dração Média dos Episódios por Série')\n",
    "ax.tick_params(axis = 'x', rotation = 0)"
   ]
  },
  {
   "cell_type": "markdown",
   "metadata": {},
   "source": [
    "### Duração x Votos"
   ]
  },
  {
   "cell_type": "code",
   "execution_count": null,
   "metadata": {},
   "outputs": [],
   "source": [
    "fig, ax = plt.subplots()\n",
    "sns.set_palette(\"Set2\")\n",
    "sns.scatterplot(data=dados, x=\"Duração\", y=\"Votos\")\n",
    "ax.set(xlabel = None, ylabel = None, title = 'Duração x Votos')\n",
    "ax.tick_params(axis = 'x', rotation = 0)"
   ]
  },
  {
   "cell_type": "markdown",
   "metadata": {},
   "source": [
    "### Duração x Ano"
   ]
  },
  {
   "cell_type": "code",
   "execution_count": null,
   "metadata": {},
   "outputs": [],
   "source": [
    "fig, ax = plt.subplots()\n",
    "sns.set_palette(\"Set2\")\n",
    "sns.boxplot(data=dados,  x = \"Ano\", y = \"Duração\")\n",
    "ax.set(xlabel = None, ylabel = None, title = 'Duração x Ano')\n",
    "ax.tick_params(axis = 'x', rotation = 0)"
   ]
  },
  {
   "cell_type": "markdown",
   "metadata": {},
   "source": [
    "## Ano"
   ]
  },
  {
   "cell_type": "code",
   "execution_count": null,
   "metadata": {},
   "outputs": [],
   "source": [
    "fig, ax = plt.subplots()\n",
    "sns.set_palette(\"Set2\")\n",
    "sns.countplot(data=dados,  x = \"Ano\")\n",
    "ax.set(xlabel = None, ylabel = None, title = 'Ano de Lançamento x Quantidade')\n",
    "ax.tick_params(axis = 'x', rotation = 0)"
   ]
  },
  {
   "cell_type": "markdown",
   "metadata": {},
   "source": [
    "## Data de estréia"
   ]
  },
  {
   "cell_type": "code",
   "execution_count": null,
   "metadata": {},
   "outputs": [],
   "source": [
    "fig, ax = plt.subplots()\n",
    "sns.set_palette(\"Set2\")\n",
    "sns.countplot(data=dados,  x = \"mes\")\n",
    "ax.set(xlabel = None, ylabel = None, title = 'Mês de Estreia x Quantidade')\n",
    "ax.tick_params(axis = 'x', rotation = 0)"
   ]
  },
  {
   "cell_type": "markdown",
   "metadata": {},
   "source": [
    "## País"
   ]
  },
  {
   "cell_type": "code",
   "execution_count": null,
   "metadata": {},
   "outputs": [],
   "source": [
    "df_aux = getCountParam(dados, tipocount = 'Votos', nome_col1 = 'Votos', nome_col2 = 'País', inicio = \"Argentina\", fim = \"United States\")"
   ]
  },
  {
   "cell_type": "code",
   "execution_count": null,
   "metadata": {},
   "outputs": [],
   "source": [
    "fig, ax = plt.subplots()\n",
    "sns.set_palette(\"Set2\")\n",
    "sns.countplot(data = df_aux,  x = \"País\")\n",
    "ax.set(xlabel = None, ylabel = None, title = 'País x Quantidade')\n",
    "ax.tick_params(axis = 'x', rotation = 90)"
   ]
  },
  {
   "cell_type": "markdown",
   "metadata": {},
   "source": [
    "## Idiomas"
   ]
  },
  {
   "cell_type": "code",
   "execution_count": null,
   "metadata": {},
   "outputs": [],
   "source": [
    "df_aux = getCountParam(dados, tipocount = 'Votos', nome_col1 = 'Votos',\n",
    "                       nome_col2 = 'Idiomas', inicio = \"Arabic\", fim = \"Yiddish\")"
   ]
  },
  {
   "cell_type": "code",
   "execution_count": null,
   "metadata": {},
   "outputs": [],
   "source": [
    "fig, ax = plt.subplots()\n",
    "sns.set_palette(\"Set2\")\n",
    "sns.countplot(data = df_aux,  x = \"Idiomas\")\n",
    "ax.set(xlabel = None, ylabel = None, title = 'Idiomas x Quantidade')\n",
    "ax.tick_params(axis = 'x', rotation = 90)"
   ]
  },
  {
   "cell_type": "markdown",
   "metadata": {},
   "source": [
    "## Número de Episódios"
   ]
  },
  {
   "cell_type": "code",
   "execution_count": null,
   "metadata": {},
   "outputs": [],
   "source": [
    "fig, ax = plt.subplots()\n",
    "sns.set_palette(\"Set2\")\n",
    "sns.countplot(data = dados,  x = \"Episodios\")\n",
    "ax.set(xlabel = None, ylabel = None, title = 'Número de Episódios x Quantidade')\n",
    "ax.tick_params(axis = 'x', rotation = 0)"
   ]
  },
  {
   "cell_type": "markdown",
   "metadata": {},
   "source": [
    "## Reviews de Usuários"
   ]
  },
  {
   "cell_type": "code",
   "execution_count": null,
   "metadata": {},
   "outputs": [],
   "source": [
    "fig, ax = plt.subplots()\n",
    "sns.set_palette(\"Set2\")\n",
    "sns.histplot(x = \"user_reviews\", data = dados)\n",
    "ax.set(xlabel = None, ylabel = None, title = 'Histograma do Número de Reviews de Usuários no IMDb')\n",
    "ax.tick_params(axis = 'x', rotation = 0)"
   ]
  },
  {
   "cell_type": "markdown",
   "metadata": {},
   "source": [
    "### Reviews de Usuários x Ano"
   ]
  },
  {
   "cell_type": "code",
   "execution_count": null,
   "metadata": {},
   "outputs": [],
   "source": [
    "fig, ax = plt.subplots()\n",
    "sns.set_palette(\"Set2\")\n",
    "sns.boxplot(data=dados,  x = \"Ano\", y = \"user_reviews\")\n",
    "ax.set(xlabel = None, ylabel = None, title = ' Número de Reviews de Usuários x Ano')\n",
    "ax.tick_params(axis = 'x', rotation = 0)"
   ]
  },
  {
   "cell_type": "markdown",
   "metadata": {},
   "source": [
    "### Reviews de Usuários x Tipo de Série"
   ]
  },
  {
   "cell_type": "code",
   "execution_count": null,
   "metadata": {},
   "outputs": [],
   "source": [
    "fig, ax = plt.subplots()\n",
    "sns.set_palette(\"Set2\")\n",
    "sns.boxplot(data=dados,  x = \"Check\", y = \"user_reviews\")\n",
    "ax.set(xlabel = None, ylabel = None, title = ' Número de Reviews de Usuários x Tipo de Série')\n",
    "ax.tick_params(axis = 'x', rotation = 0)"
   ]
  },
  {
   "cell_type": "markdown",
   "metadata": {},
   "source": [
    "## Reviews de Críticos"
   ]
  },
  {
   "cell_type": "code",
   "execution_count": null,
   "metadata": {},
   "outputs": [],
   "source": [
    "fig, ax = plt.subplots()\n",
    "sns.set_palette(\"Set2\")\n",
    "sns.histplot(x = \"critic_reviews\", data = dados)\n",
    "ax.set(xlabel = None, ylabel = None, title = 'Histograma do Número de Reviews de Críticos no IMDb')\n",
    "ax.tick_params(axis = 'x', rotation = 0)"
   ]
  },
  {
   "cell_type": "markdown",
   "metadata": {},
   "source": [
    "### Reviews de Críticos x Ano"
   ]
  },
  {
   "cell_type": "code",
   "execution_count": null,
   "metadata": {},
   "outputs": [],
   "source": [
    "fig, ax = plt.subplots()\n",
    "sns.set_palette(\"Set2\")\n",
    "sns.boxplot(data=dados,  x = \"Ano\", y = \"critic_reviews\")\n",
    "ax.set(xlabel = None, ylabel = None, title = 'Histograma do Número de Reviews de Críticos x Ano')\n",
    "ax.tick_params(axis = 'x', rotation = 0)"
   ]
  },
  {
   "cell_type": "markdown",
   "metadata": {},
   "source": [
    "### Reviews de Críticos x Tipo de Série"
   ]
  },
  {
   "cell_type": "code",
   "execution_count": null,
   "metadata": {},
   "outputs": [],
   "source": [
    "fig, ax = plt.subplots()\n",
    "sns.set_palette(\"Set2\")\n",
    "sns.boxplot(data=dados,  x = \"Check\", y = \"critic_reviews\")\n",
    "ax.set(xlabel = None, ylabel = None, title = ' Número de Reviews de Críticos x Tipo de Série')\n",
    "ax.tick_params(axis = 'x', rotation = 0)"
   ]
  },
  {
   "cell_type": "markdown",
   "metadata": {},
   "source": [
    "## Agrupando alguns gráficos"
   ]
  },
  {
   "cell_type": "code",
   "execution_count": null,
   "metadata": {},
   "outputs": [],
   "source": [
    "titulo = 'Métricas do IMDb de Acordo com o Ano de Lançamento'\n",
    "x1 = \"Ano\"\n",
    "y1 = \"Nota\"\n",
    "y2 = \"Votos\"\n",
    "y3 = \"user_reviews\"\n",
    "y4 = \"critic_reviews\"\n",
    "t1 = 'Notas'\n",
    "t2 = 'Quantidade de Votos'\n",
    "t3 = 'Reviews de Usuários'\n",
    "t4 = 'Reviews de Críticos'\n",
    "\n",
    "plot_2x2(titulo, dados, dados, dados, dados,\n",
    "                x1, y1 = y1, t1 = t1,\n",
    "                x2 = '', y2 = y2, t2 = t2,\n",
    "                x3 = '', y3 = y3, t3 = t3,\n",
    "                x4 = '', y4 = y4, t4 = t4)"
   ]
  },
  {
   "cell_type": "code",
   "execution_count": null,
   "metadata": {},
   "outputs": [],
   "source": [
    "titulo = 'Métricas do IMDb por Tipo de Série'\n",
    "x1 = \"Check\"\n",
    "y1 = \"Nota\"\n",
    "y2 = \"Votos\"\n",
    "y3 = \"user_reviews\"\n",
    "y4 = \"critic_reviews\"\n",
    "t1 = 'Notas'\n",
    "t2 = 'Quantidade de Votos'\n",
    "t3 = 'Reviews de Usuários'\n",
    "t4 = 'Reviews de Críticos'\n",
    "\n",
    "plot_2x2(titulo, dados, dados, dados, dados,\n",
    "                x1, y1 = y1, t1 = t1,\n",
    "                x2 = '', y2 = y2, t2 = t2,\n",
    "                x3 = '', y3 = y3, t3 = t3,\n",
    "                x4 = '', y4 = y4, t4 = t4)"
   ]
  },
  {
   "cell_type": "markdown",
   "metadata": {},
   "source": [
    "# Engajamento (counts)"
   ]
  },
  {
   "cell_type": "markdown",
   "metadata": {},
   "source": [
    "## Histogramas do números de tweets em difentes fases (Total, Pré, Durante, Pós)"
   ]
  },
  {
   "cell_type": "code",
   "execution_count": null,
   "metadata": {},
   "outputs": [],
   "source": [
    "tit = \"Histograma Número total de Tweets\"\n",
    "x1 = \"CountTotal\"\n",
    "x2 = \"CountPre\"\n",
    "x3 = \"CountDurante\"\n",
    "x4 = \"CountPos\"\n",
    "dado1 = dado2 = dado3 = dado4 = dados\n",
    "\n",
    "plot_2x2(tit, dado1, dado2, dado3, dado4, x1, x2 = x2, x3 = x3, x4 = x4, tipo = 'hist')"
   ]
  },
  {
   "cell_type": "markdown",
   "metadata": {},
   "source": [
    "## Total de Tweets x Ano"
   ]
  },
  {
   "cell_type": "code",
   "execution_count": null,
   "metadata": {},
   "outputs": [],
   "source": [
    "tit = \"Total de Tweets x Ano\"\n",
    "x1 = \"Ano\"\n",
    "dado1 = dado2 = dado3 = dado4 = dados\n",
    "\n",
    "plot_2x2(tit, dado1, dado2, dado3, dado4, x1)"
   ]
  },
  {
   "cell_type": "markdown",
   "metadata": {},
   "source": [
    "## Total de Tweets x Gênero"
   ]
  },
  {
   "cell_type": "code",
   "execution_count": null,
   "metadata": {},
   "outputs": [],
   "source": [
    "tit = 'Total de Tweets x Gênero'\n",
    "x1 = 'Gênero'\n",
    "y1 = 'Count'\n",
    "dfTotal = getCountParam(dados, tipocount = \"CountTotal\", nome_col1 = 'Count')     #dfTotal = getCount(\"CountTotal\")\n",
    "dfPre = getCountParam(dados, tipocount = \"CountPre\", nome_col1 = 'Count')         #dfPre = getCount(\"CountPre\")\n",
    "dfDurante = getCountParam(dados, tipocount = \"CountDurante\", nome_col1 = 'Count') #dfDurante = getCount(\"CountDurante\")\n",
    "dfPos = getCountParam(dados, tipocount = \"CountPos\", nome_col1 = 'Count')         #dfPos = getCount(\"CountPos\")\n",
    "\n",
    "plot_2x2(tit, dfTotal, dfPre, dfDurante, dfPos, x1, y1, y2 = y1, y3 = y1, y4 = y1, rx = 90, share = False)"
   ]
  },
  {
   "cell_type": "code",
   "execution_count": null,
   "metadata": {},
   "outputs": [],
   "source": [
    "dados[dados[\"CountPre\"] > 10000][['Nome','Gênero']]"
   ]
  },
  {
   "cell_type": "markdown",
   "metadata": {},
   "source": [
    "## Total de Tweets x Mês de Estréia"
   ]
  },
  {
   "cell_type": "code",
   "execution_count": null,
   "metadata": {},
   "outputs": [],
   "source": [
    "tit = 'Total de Tweets x Mês de Estréia'\n",
    "x1 = \"mes\"\n",
    "dado1 = dado2 = dado3 = dado4 = dados\n",
    "\n",
    "plot_2x2(tit, dado1, dado2, dado3, dado4, x1)"
   ]
  },
  {
   "cell_type": "markdown",
   "metadata": {},
   "source": [
    "## Total de Tweets x Tipo da Série"
   ]
  },
  {
   "cell_type": "code",
   "execution_count": null,
   "metadata": {},
   "outputs": [],
   "source": [
    "tit = 'Total de Tweets x Tipo da Série'\n",
    "x1 = \"Check\"\n",
    "dado1 = dado2 = dado3 = dado4 = dados\n",
    "\n",
    "plot_2x2(tit, dado1, dado2, dado3, dado4, x1)"
   ]
  },
  {
   "cell_type": "markdown",
   "metadata": {},
   "source": [
    "## Total de Tweets x Episódios"
   ]
  },
  {
   "cell_type": "code",
   "execution_count": null,
   "metadata": {},
   "outputs": [],
   "source": [
    "tit = 'Total de Tweets x Episódios'\n",
    "x1 = \"Episodios\"\n",
    "dado1 = dado2 = dado3 = dado4 = dados\n",
    "\n",
    "plot_2x2(tit, dado1, dado2, dado3, dado4, x1)"
   ]
  },
  {
   "cell_type": "markdown",
   "metadata": {},
   "source": [
    "## Total de Tweets x País"
   ]
  },
  {
   "cell_type": "code",
   "execution_count": null,
   "metadata": {},
   "outputs": [],
   "source": [
    "tit = 'Total de Tweets x País'\n",
    "x1 = 'País'\n",
    "y1 = 'Count'\n",
    "dfTotal = getCountParam(dados, tipocount = \"CountTotal\", nome_col1 = 'Count', nome_col2 = 'País', inicio = \"Argentina\", fim = \"United States\")\n",
    "dfPre = getCountParam(dados, tipocount = \"CountPre\", nome_col1 = 'Count', nome_col2 = 'País', inicio = \"Argentina\", fim = \"United States\")\n",
    "dfDurante = getCountParam(dados, tipocount = \"CountDurante\", nome_col1 = 'Count', nome_col2 = 'País', inicio = \"Argentina\", fim = \"United States\")\n",
    "dfPos = getCountParam(dados, tipocount = \"CountPos\", nome_col1 = 'Count', nome_col2 = 'País', inicio = \"Argentina\", fim = \"United States\")\n",
    "\n",
    "plot_2x2(tit, dfTotal, dfPre, dfDurante, dfPos, x1, y1, y2 = y1, y3 = y1, y4 = y1, rx = 90, share = False)"
   ]
  },
  {
   "cell_type": "markdown",
   "metadata": {},
   "source": [
    "## Total de Tweets x Idiomas"
   ]
  },
  {
   "cell_type": "code",
   "execution_count": null,
   "metadata": {},
   "outputs": [],
   "source": [
    "tit = 'Total de Tweets x Idiomas'\n",
    "x1 = 'Idiomas'\n",
    "y1 = 'Count'\n",
    "inicio = \"Arabic\"\n",
    "fim = \"Yiddish\"\n",
    "\n",
    "dfTotal = getCountParam(dados, tipocount = \"CountTotal\", nome_col1 = y1, nome_col2 = x1, inicio = inicio, fim = fim)\n",
    "dfPre = getCountParam(dados, tipocount = \"CountPre\", nome_col1 = y1, nome_col2 = x1, inicio = inicio, fim = fim)\n",
    "dfDurante = getCountParam(dados, tipocount = \"CountDurante\", nome_col1 = y1, nome_col2 = x1, inicio = inicio, fim = fim)\n",
    "dfPos = getCountParam(dados, tipocount = \"CountPos\", nome_col1 = y1, nome_col2 = x1, inicio = inicio, fim = fim)\n",
    "\n",
    "plot_2x2(tit, dfTotal, dfPre, dfDurante, dfPos, x1, y1, y2 = y1, y3 = y1, y4 = y1, rx = 90, share = False)"
   ]
  },
  {
   "cell_type": "markdown",
   "metadata": {},
   "source": [
    "## Total de Tweets x Reviews"
   ]
  },
  {
   "cell_type": "code",
   "execution_count": null,
   "metadata": {},
   "outputs": [],
   "source": [
    "tit = \"Total de Tweets x User Reviews\"\n",
    "x1 = \"user_reviews\"\n",
    "tipo_plot = 'scatter'\n",
    "dado1 = dado2 = dado3 = dado4 = dados\n",
    "\n",
    "plot_2x2(tit, dado1, dado2, dado3, dado4, x1, rx = 0, tipo = tipo_plot)"
   ]
  },
  {
   "cell_type": "code",
   "execution_count": null,
   "metadata": {},
   "outputs": [],
   "source": [
    "tit = \"Total de Tweets x Critic Reviews\"\n",
    "x1 = \"critic_reviews\"\n",
    "tipo_plot = 'scatter'\n",
    "dado1 = dado2 = dado3 = dado4 = dados\n",
    "\n",
    "plot_2x2(tit, dado1, dado2, dado3, dado4, x1, rx = 0, tipo = tipo_plot)"
   ]
  },
  {
   "cell_type": "markdown",
   "metadata": {},
   "source": [
    "## Total de Tweets x Nota"
   ]
  },
  {
   "cell_type": "code",
   "execution_count": null,
   "metadata": {},
   "outputs": [],
   "source": [
    "tit = \"Total de Tweets x Nota\"\n",
    "x1 = \"Nota\"\n",
    "tipo_plot = 'scatter'\n",
    "dado1 = dado2 = dado3 = dado4 = dados\n",
    "\n",
    "plot_2x2(tit, dado1, dado2, dado3, dado4, x1, rx = 0, tipo = tipo_plot)"
   ]
  },
  {
   "cell_type": "markdown",
   "metadata": {},
   "source": [
    "## Total de Tweets x Votos"
   ]
  },
  {
   "cell_type": "code",
   "execution_count": null,
   "metadata": {},
   "outputs": [],
   "source": [
    "tit = \"Total de Tweets x Votos\"\n",
    "x1 = \"Votos\"\n",
    "tipo_plot = 'scatter'\n",
    "dado1 = dado2 = dado3 = dado4 = dados\n",
    "\n",
    "plot_2x2(tit, dado1, dado2, dado3, dado4, x1, rx = 0, tipo = tipo_plot)"
   ]
  },
  {
   "cell_type": "markdown",
   "metadata": {},
   "source": [
    "## Total de Tweets x Número de Episódios"
   ]
  },
  {
   "cell_type": "code",
   "execution_count": null,
   "metadata": {},
   "outputs": [],
   "source": [
    "tit = \"Total de Tweets x Número de Episódios\"\n",
    "x1 = \"Episodios\"\n",
    "tipo_plot = 'scatter'\n",
    "dado1 = dado2 = dado3 = dado4 = dados\n",
    "\n",
    "plot_2x2(tit, dado1, dado2, dado3, dado4, x1, rx = 0)"
   ]
  },
  {
   "cell_type": "markdown",
   "metadata": {},
   "source": [
    "## Total de Tweets x Duração dos Episódios"
   ]
  },
  {
   "cell_type": "code",
   "execution_count": null,
   "metadata": {},
   "outputs": [],
   "source": [
    "tit = \"Total de Tweets x Número de Episódios\"\n",
    "x1 = \"Duração\"\n",
    "tipo_plot = 'scatter'\n",
    "dado1 = dado2 = dado3 = dado4 = dados\n",
    "\n",
    "plot_2x2(tit, dado1, dado2, dado3, dado4, x1, rx = 90, tipo = tipo_plot)"
   ]
  },
  {
   "cell_type": "markdown",
   "metadata": {},
   "source": [
    "## Engajamento x Censura"
   ]
  },
  {
   "cell_type": "code",
   "execution_count": null,
   "metadata": {},
   "outputs": [],
   "source": []
  },
  {
   "cell_type": "markdown",
   "metadata": {},
   "source": [
    "## Engajamento x Elenco"
   ]
  },
  {
   "cell_type": "code",
   "execution_count": null,
   "metadata": {},
   "outputs": [],
   "source": []
  },
  {
   "cell_type": "markdown",
   "metadata": {},
   "source": [
    "## Influência de engajamento anterior no posterior"
   ]
  },
  {
   "cell_type": "code",
   "execution_count": null,
   "metadata": {},
   "outputs": [],
   "source": [
    "fig, ax = plt.subplots()\n",
    "sns.set_palette(\"Set2\")\n",
    "sns.scatterplot(data=dados,  x = \"CountPre\", y = \"CountDurante\")\n",
    "ax.set(xlabel = None, ylabel = None, title = '')\n",
    "ax.tick_params(axis = 'x', rotation = 0)"
   ]
  },
  {
   "cell_type": "code",
   "execution_count": null,
   "metadata": {},
   "outputs": [],
   "source": [
    "fig, ax = plt.subplots()\n",
    "sns.set_palette(\"Set2\")\n",
    "sns.scatterplot(data=dados,  x = \"CountDurante\", y = \"CountPos\")\n",
    "ax.set(xlabel = None, ylabel = None, title = '')\n",
    "ax.tick_params(axis = 'x', rotation = 0)"
   ]
  },
  {
   "cell_type": "markdown",
   "metadata": {},
   "source": [
    "## Série Temporal do engajamento"
   ]
  },
  {
   "cell_type": "code",
   "execution_count": null,
   "metadata": {},
   "outputs": [],
   "source": []
  }
 ],
 "metadata": {
  "colab": {
   "collapsed_sections": [],
   "name": "projetoAnaliseExploratoria.ipynb",
   "provenance": []
  },
  "interpreter": {
   "hash": "0e1898d504e473bdd4635340539d41a5cecc72accb8598f6f0c7bcb5921af418"
  },
  "kernelspec": {
   "display_name": "Python 3 (ipykernel)",
   "language": "python",
   "name": "python3"
  },
  "language_info": {
   "codemirror_mode": {
    "name": "ipython",
    "version": 3
   },
   "file_extension": ".py",
   "mimetype": "text/x-python",
   "name": "python",
   "nbconvert_exporter": "python",
   "pygments_lexer": "ipython3",
   "version": "3.8.8"
  }
 },
 "nbformat": 4,
 "nbformat_minor": 1
}
