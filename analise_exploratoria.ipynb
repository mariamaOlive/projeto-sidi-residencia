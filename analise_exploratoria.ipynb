{
 "cells": [
  {
   "cell_type": "code",
   "execution_count": 1,
   "metadata": {},
   "outputs": [],
   "source": [
    "import pandas as pd\n",
    "import seaborn as sns\n",
    "from sklearn.preprocessing import OneHotEncoder"
   ]
  },
  {
   "cell_type": "markdown",
   "metadata": {},
   "source": [
    "# Definição da amostra"
   ]
  },
  {
   "cell_type": "code",
   "execution_count": 2,
   "metadata": {},
   "outputs": [
    {
     "ename": "UnicodeDecodeError",
     "evalue": "'utf-8' codec can't decode byte 0xe9 in position 2191: invalid continuation byte",
     "output_type": "error",
     "traceback": [
      "\u001b[1;31m---------------------------------------------------------------------------\u001b[0m",
      "\u001b[1;31mUnicodeDecodeError\u001b[0m                        Traceback (most recent call last)",
      "\u001b[1;32m~\\AppData\\Local\\Temp/ipykernel_13220/1884388843.py\u001b[0m in \u001b[0;36m<module>\u001b[1;34m\u001b[0m\n\u001b[1;32m----> 1\u001b[1;33m \u001b[0mpopu\u001b[0m \u001b[1;33m=\u001b[0m \u001b[0mpd\u001b[0m\u001b[1;33m.\u001b[0m\u001b[0mread_csv\u001b[0m\u001b[1;33m(\u001b[0m\u001b[1;34m\"Popu_series.csv\"\u001b[0m\u001b[1;33m)\u001b[0m\u001b[1;33m\u001b[0m\u001b[1;33m\u001b[0m\u001b[0m\n\u001b[0m\u001b[0;32m      2\u001b[0m \u001b[0mpopu\u001b[0m \u001b[1;33m=\u001b[0m \u001b[0mpopu\u001b[0m\u001b[1;33m.\u001b[0m\u001b[0msample\u001b[0m\u001b[1;33m(\u001b[0m\u001b[0mfrac\u001b[0m\u001b[1;33m=\u001b[0m\u001b[1;36m0.3\u001b[0m\u001b[1;33m,\u001b[0m \u001b[0mreplace\u001b[0m\u001b[1;33m=\u001b[0m\u001b[1;32mFalse\u001b[0m\u001b[1;33m,\u001b[0m \u001b[0mrandom_state\u001b[0m\u001b[1;33m=\u001b[0m\u001b[1;36m195\u001b[0m\u001b[1;33m)\u001b[0m\u001b[1;33m\u001b[0m\u001b[1;33m\u001b[0m\u001b[0m\n\u001b[0;32m      3\u001b[0m \u001b[0mlen\u001b[0m\u001b[1;33m(\u001b[0m\u001b[0mpopu\u001b[0m\u001b[1;33m)\u001b[0m\u001b[1;33m\u001b[0m\u001b[1;33m\u001b[0m\u001b[0m\n",
      "\u001b[1;32mD:\\Programas\\Anaconda3\\lib\\site-packages\\pandas\\util\\_decorators.py\u001b[0m in \u001b[0;36mwrapper\u001b[1;34m(*args, **kwargs)\u001b[0m\n\u001b[0;32m    309\u001b[0m                     \u001b[0mstacklevel\u001b[0m\u001b[1;33m=\u001b[0m\u001b[0mstacklevel\u001b[0m\u001b[1;33m,\u001b[0m\u001b[1;33m\u001b[0m\u001b[1;33m\u001b[0m\u001b[0m\n\u001b[0;32m    310\u001b[0m                 )\n\u001b[1;32m--> 311\u001b[1;33m             \u001b[1;32mreturn\u001b[0m \u001b[0mfunc\u001b[0m\u001b[1;33m(\u001b[0m\u001b[1;33m*\u001b[0m\u001b[0margs\u001b[0m\u001b[1;33m,\u001b[0m \u001b[1;33m**\u001b[0m\u001b[0mkwargs\u001b[0m\u001b[1;33m)\u001b[0m\u001b[1;33m\u001b[0m\u001b[1;33m\u001b[0m\u001b[0m\n\u001b[0m\u001b[0;32m    312\u001b[0m \u001b[1;33m\u001b[0m\u001b[0m\n\u001b[0;32m    313\u001b[0m         \u001b[1;32mreturn\u001b[0m \u001b[0mwrapper\u001b[0m\u001b[1;33m\u001b[0m\u001b[1;33m\u001b[0m\u001b[0m\n",
      "\u001b[1;32mD:\\Programas\\Anaconda3\\lib\\site-packages\\pandas\\io\\parsers\\readers.py\u001b[0m in \u001b[0;36mread_csv\u001b[1;34m(filepath_or_buffer, sep, delimiter, header, names, index_col, usecols, squeeze, prefix, mangle_dupe_cols, dtype, engine, converters, true_values, false_values, skipinitialspace, skiprows, skipfooter, nrows, na_values, keep_default_na, na_filter, verbose, skip_blank_lines, parse_dates, infer_datetime_format, keep_date_col, date_parser, dayfirst, cache_dates, iterator, chunksize, compression, thousands, decimal, lineterminator, quotechar, quoting, doublequote, escapechar, comment, encoding, encoding_errors, dialect, error_bad_lines, warn_bad_lines, on_bad_lines, delim_whitespace, low_memory, memory_map, float_precision, storage_options)\u001b[0m\n\u001b[0;32m    584\u001b[0m     \u001b[0mkwds\u001b[0m\u001b[1;33m.\u001b[0m\u001b[0mupdate\u001b[0m\u001b[1;33m(\u001b[0m\u001b[0mkwds_defaults\u001b[0m\u001b[1;33m)\u001b[0m\u001b[1;33m\u001b[0m\u001b[1;33m\u001b[0m\u001b[0m\n\u001b[0;32m    585\u001b[0m \u001b[1;33m\u001b[0m\u001b[0m\n\u001b[1;32m--> 586\u001b[1;33m     \u001b[1;32mreturn\u001b[0m \u001b[0m_read\u001b[0m\u001b[1;33m(\u001b[0m\u001b[0mfilepath_or_buffer\u001b[0m\u001b[1;33m,\u001b[0m \u001b[0mkwds\u001b[0m\u001b[1;33m)\u001b[0m\u001b[1;33m\u001b[0m\u001b[1;33m\u001b[0m\u001b[0m\n\u001b[0m\u001b[0;32m    587\u001b[0m \u001b[1;33m\u001b[0m\u001b[0m\n\u001b[0;32m    588\u001b[0m \u001b[1;33m\u001b[0m\u001b[0m\n",
      "\u001b[1;32mD:\\Programas\\Anaconda3\\lib\\site-packages\\pandas\\io\\parsers\\readers.py\u001b[0m in \u001b[0;36m_read\u001b[1;34m(filepath_or_buffer, kwds)\u001b[0m\n\u001b[0;32m    480\u001b[0m \u001b[1;33m\u001b[0m\u001b[0m\n\u001b[0;32m    481\u001b[0m     \u001b[1;31m# Create the parser.\u001b[0m\u001b[1;33m\u001b[0m\u001b[1;33m\u001b[0m\u001b[1;33m\u001b[0m\u001b[0m\n\u001b[1;32m--> 482\u001b[1;33m     \u001b[0mparser\u001b[0m \u001b[1;33m=\u001b[0m \u001b[0mTextFileReader\u001b[0m\u001b[1;33m(\u001b[0m\u001b[0mfilepath_or_buffer\u001b[0m\u001b[1;33m,\u001b[0m \u001b[1;33m**\u001b[0m\u001b[0mkwds\u001b[0m\u001b[1;33m)\u001b[0m\u001b[1;33m\u001b[0m\u001b[1;33m\u001b[0m\u001b[0m\n\u001b[0m\u001b[0;32m    483\u001b[0m \u001b[1;33m\u001b[0m\u001b[0m\n\u001b[0;32m    484\u001b[0m     \u001b[1;32mif\u001b[0m \u001b[0mchunksize\u001b[0m \u001b[1;32mor\u001b[0m \u001b[0miterator\u001b[0m\u001b[1;33m:\u001b[0m\u001b[1;33m\u001b[0m\u001b[1;33m\u001b[0m\u001b[0m\n",
      "\u001b[1;32mD:\\Programas\\Anaconda3\\lib\\site-packages\\pandas\\io\\parsers\\readers.py\u001b[0m in \u001b[0;36m__init__\u001b[1;34m(self, f, engine, **kwds)\u001b[0m\n\u001b[0;32m    809\u001b[0m             \u001b[0mself\u001b[0m\u001b[1;33m.\u001b[0m\u001b[0moptions\u001b[0m\u001b[1;33m[\u001b[0m\u001b[1;34m\"has_index_names\"\u001b[0m\u001b[1;33m]\u001b[0m \u001b[1;33m=\u001b[0m \u001b[0mkwds\u001b[0m\u001b[1;33m[\u001b[0m\u001b[1;34m\"has_index_names\"\u001b[0m\u001b[1;33m]\u001b[0m\u001b[1;33m\u001b[0m\u001b[1;33m\u001b[0m\u001b[0m\n\u001b[0;32m    810\u001b[0m \u001b[1;33m\u001b[0m\u001b[0m\n\u001b[1;32m--> 811\u001b[1;33m         \u001b[0mself\u001b[0m\u001b[1;33m.\u001b[0m\u001b[0m_engine\u001b[0m \u001b[1;33m=\u001b[0m \u001b[0mself\u001b[0m\u001b[1;33m.\u001b[0m\u001b[0m_make_engine\u001b[0m\u001b[1;33m(\u001b[0m\u001b[0mself\u001b[0m\u001b[1;33m.\u001b[0m\u001b[0mengine\u001b[0m\u001b[1;33m)\u001b[0m\u001b[1;33m\u001b[0m\u001b[1;33m\u001b[0m\u001b[0m\n\u001b[0m\u001b[0;32m    812\u001b[0m \u001b[1;33m\u001b[0m\u001b[0m\n\u001b[0;32m    813\u001b[0m     \u001b[1;32mdef\u001b[0m \u001b[0mclose\u001b[0m\u001b[1;33m(\u001b[0m\u001b[0mself\u001b[0m\u001b[1;33m)\u001b[0m\u001b[1;33m:\u001b[0m\u001b[1;33m\u001b[0m\u001b[1;33m\u001b[0m\u001b[0m\n",
      "\u001b[1;32mD:\\Programas\\Anaconda3\\lib\\site-packages\\pandas\\io\\parsers\\readers.py\u001b[0m in \u001b[0;36m_make_engine\u001b[1;34m(self, engine)\u001b[0m\n\u001b[0;32m   1038\u001b[0m             )\n\u001b[0;32m   1039\u001b[0m         \u001b[1;31m# error: Too many arguments for \"ParserBase\"\u001b[0m\u001b[1;33m\u001b[0m\u001b[1;33m\u001b[0m\u001b[1;33m\u001b[0m\u001b[0m\n\u001b[1;32m-> 1040\u001b[1;33m         \u001b[1;32mreturn\u001b[0m \u001b[0mmapping\u001b[0m\u001b[1;33m[\u001b[0m\u001b[0mengine\u001b[0m\u001b[1;33m]\u001b[0m\u001b[1;33m(\u001b[0m\u001b[0mself\u001b[0m\u001b[1;33m.\u001b[0m\u001b[0mf\u001b[0m\u001b[1;33m,\u001b[0m \u001b[1;33m**\u001b[0m\u001b[0mself\u001b[0m\u001b[1;33m.\u001b[0m\u001b[0moptions\u001b[0m\u001b[1;33m)\u001b[0m  \u001b[1;31m# type: ignore[call-arg]\u001b[0m\u001b[1;33m\u001b[0m\u001b[1;33m\u001b[0m\u001b[0m\n\u001b[0m\u001b[0;32m   1041\u001b[0m \u001b[1;33m\u001b[0m\u001b[0m\n\u001b[0;32m   1042\u001b[0m     \u001b[1;32mdef\u001b[0m \u001b[0m_failover_to_python\u001b[0m\u001b[1;33m(\u001b[0m\u001b[0mself\u001b[0m\u001b[1;33m)\u001b[0m\u001b[1;33m:\u001b[0m\u001b[1;33m\u001b[0m\u001b[1;33m\u001b[0m\u001b[0m\n",
      "\u001b[1;32mD:\\Programas\\Anaconda3\\lib\\site-packages\\pandas\\io\\parsers\\c_parser_wrapper.py\u001b[0m in \u001b[0;36m__init__\u001b[1;34m(self, src, **kwds)\u001b[0m\n\u001b[0;32m     67\u001b[0m         \u001b[0mkwds\u001b[0m\u001b[1;33m[\u001b[0m\u001b[1;34m\"dtype\"\u001b[0m\u001b[1;33m]\u001b[0m \u001b[1;33m=\u001b[0m \u001b[0mensure_dtype_objs\u001b[0m\u001b[1;33m(\u001b[0m\u001b[0mkwds\u001b[0m\u001b[1;33m.\u001b[0m\u001b[0mget\u001b[0m\u001b[1;33m(\u001b[0m\u001b[1;34m\"dtype\"\u001b[0m\u001b[1;33m,\u001b[0m \u001b[1;32mNone\u001b[0m\u001b[1;33m)\u001b[0m\u001b[1;33m)\u001b[0m\u001b[1;33m\u001b[0m\u001b[1;33m\u001b[0m\u001b[0m\n\u001b[0;32m     68\u001b[0m         \u001b[1;32mtry\u001b[0m\u001b[1;33m:\u001b[0m\u001b[1;33m\u001b[0m\u001b[1;33m\u001b[0m\u001b[0m\n\u001b[1;32m---> 69\u001b[1;33m             \u001b[0mself\u001b[0m\u001b[1;33m.\u001b[0m\u001b[0m_reader\u001b[0m \u001b[1;33m=\u001b[0m \u001b[0mparsers\u001b[0m\u001b[1;33m.\u001b[0m\u001b[0mTextReader\u001b[0m\u001b[1;33m(\u001b[0m\u001b[0mself\u001b[0m\u001b[1;33m.\u001b[0m\u001b[0mhandles\u001b[0m\u001b[1;33m.\u001b[0m\u001b[0mhandle\u001b[0m\u001b[1;33m,\u001b[0m \u001b[1;33m**\u001b[0m\u001b[0mkwds\u001b[0m\u001b[1;33m)\u001b[0m\u001b[1;33m\u001b[0m\u001b[1;33m\u001b[0m\u001b[0m\n\u001b[0m\u001b[0;32m     70\u001b[0m         \u001b[1;32mexcept\u001b[0m \u001b[0mException\u001b[0m\u001b[1;33m:\u001b[0m\u001b[1;33m\u001b[0m\u001b[1;33m\u001b[0m\u001b[0m\n\u001b[0;32m     71\u001b[0m             \u001b[0mself\u001b[0m\u001b[1;33m.\u001b[0m\u001b[0mhandles\u001b[0m\u001b[1;33m.\u001b[0m\u001b[0mclose\u001b[0m\u001b[1;33m(\u001b[0m\u001b[1;33m)\u001b[0m\u001b[1;33m\u001b[0m\u001b[1;33m\u001b[0m\u001b[0m\n",
      "\u001b[1;32mD:\\Programas\\Anaconda3\\lib\\site-packages\\pandas\\_libs\\parsers.pyx\u001b[0m in \u001b[0;36mpandas._libs.parsers.TextReader.__cinit__\u001b[1;34m()\u001b[0m\n",
      "\u001b[1;32mD:\\Programas\\Anaconda3\\lib\\site-packages\\pandas\\_libs\\parsers.pyx\u001b[0m in \u001b[0;36mpandas._libs.parsers.TextReader._get_header\u001b[1;34m()\u001b[0m\n",
      "\u001b[1;32mD:\\Programas\\Anaconda3\\lib\\site-packages\\pandas\\_libs\\parsers.pyx\u001b[0m in \u001b[0;36mpandas._libs.parsers.TextReader._tokenize_rows\u001b[1;34m()\u001b[0m\n",
      "\u001b[1;32mD:\\Programas\\Anaconda3\\lib\\site-packages\\pandas\\_libs\\parsers.pyx\u001b[0m in \u001b[0;36mpandas._libs.parsers.raise_parser_error\u001b[1;34m()\u001b[0m\n",
      "\u001b[1;31mUnicodeDecodeError\u001b[0m: 'utf-8' codec can't decode byte 0xe9 in position 2191: invalid continuation byte"
     ]
    }
   ],
   "source": [
    "popu = pd.read_csv(\"Popu_series.csv\")\n",
    "popu = popu.sample(frac=0.3, replace=False, random_state=195)\n",
    "len(popu)"
   ]
  },
  {
   "cell_type": "code",
   "execution_count": 25,
   "metadata": {},
   "outputs": [
    {
     "data": {
      "text/plain": [
       "146                            The Chosen One\n",
       "95                                    Osmosis\n",
       "173                                  Puerta 7\n",
       "106                           Holiday Secrets\n",
       "204                                Mindhunter\n",
       "                        ...                  \n",
       "28                              Sex Education\n",
       "230                          The English Game\n",
       "85                            Paava Kadhaigal\n",
       "233                                  Homemade\n",
       "264    Trailer Park Boys Out of the Park: USA\n",
       "Name: serie, Length: 97, dtype: object"
      ]
     },
     "execution_count": 25,
     "metadata": {},
     "output_type": "execute_result"
    }
   ],
   "source": [
    "popu = popu['serie']\n",
    "popu"
   ]
  },
  {
   "cell_type": "code",
   "execution_count": 27,
   "metadata": {},
   "outputs": [],
   "source": [
    "popu.to_csv(\"Amostra.csv\", index=False)"
   ]
  },
  {
   "cell_type": "markdown",
   "metadata": {},
   "source": [
    "# Análise Exploratória"
   ]
  },
  {
   "cell_type": "code",
   "execution_count": 3,
   "metadata": {},
   "outputs": [],
   "source": [
    "#imdb = pd.read_csv(\"imdb_series.csv\") REMOVER (arquivo da amostra antiga)\n",
    "imdb = pd.read_csv(\"Amostra_IMDB.csv\")\n",
    "twitter = pd.read_csv(\"series_dataset_count/dataset_count.csv\")\n",
    "reviews = pd.read_csv(\"UserReviewsCritic.csv\", sep=\";\")"
   ]
  },
  {
   "cell_type": "code",
   "execution_count": 4,
   "metadata": {},
   "outputs": [
    {
     "data": {
      "text/html": [
       "<div>\n",
       "<style scoped>\n",
       "    .dataframe tbody tr th:only-of-type {\n",
       "        vertical-align: middle;\n",
       "    }\n",
       "\n",
       "    .dataframe tbody tr th {\n",
       "        vertical-align: top;\n",
       "    }\n",
       "\n",
       "    .dataframe thead th {\n",
       "        text-align: right;\n",
       "    }\n",
       "</style>\n",
       "<table border=\"1\" class=\"dataframe\">\n",
       "  <thead>\n",
       "    <tr style=\"text-align: right;\">\n",
       "      <th></th>\n",
       "      <th>titulo</th>\n",
       "      <th>user_reviews</th>\n",
       "      <th>critic_reviews</th>\n",
       "    </tr>\n",
       "  </thead>\n",
       "  <tbody>\n",
       "    <tr>\n",
       "      <th>0</th>\n",
       "      <td>The Chosen One</td>\n",
       "      <td>27</td>\n",
       "      <td>5</td>\n",
       "    </tr>\n",
       "    <tr>\n",
       "      <th>1</th>\n",
       "      <td>Osmosis</td>\n",
       "      <td>50</td>\n",
       "      <td>10</td>\n",
       "    </tr>\n",
       "    <tr>\n",
       "      <th>2</th>\n",
       "      <td>Puerta 7</td>\n",
       "      <td>14</td>\n",
       "      <td>4</td>\n",
       "    </tr>\n",
       "    <tr>\n",
       "      <th>3</th>\n",
       "      <td>Holiday Secrets</td>\n",
       "      <td>7</td>\n",
       "      <td>5</td>\n",
       "    </tr>\n",
       "    <tr>\n",
       "      <th>4</th>\n",
       "      <td>Mindhunter</td>\n",
       "      <td>867</td>\n",
       "      <td>115</td>\n",
       "    </tr>\n",
       "  </tbody>\n",
       "</table>\n",
       "</div>"
      ],
      "text/plain": [
       "            titulo  user_reviews  critic_reviews\n",
       "0   The Chosen One            27               5\n",
       "1          Osmosis            50              10\n",
       "2         Puerta 7            14               4\n",
       "3  Holiday Secrets             7               5\n",
       "4       Mindhunter           867             115"
      ]
     },
     "execution_count": 4,
     "metadata": {},
     "output_type": "execute_result"
    }
   ],
   "source": [
    "reviews.head()"
   ]
  },
  {
   "cell_type": "code",
   "execution_count": 5,
   "metadata": {},
   "outputs": [],
   "source": [
    "twitter.dropna(inplace=True)"
   ]
  },
  {
   "cell_type": "code",
   "execution_count": 6,
   "metadata": {},
   "outputs": [
    {
     "data": {
      "text/html": [
       "<div>\n",
       "<style scoped>\n",
       "    .dataframe tbody tr th:only-of-type {\n",
       "        vertical-align: middle;\n",
       "    }\n",
       "\n",
       "    .dataframe tbody tr th {\n",
       "        vertical-align: top;\n",
       "    }\n",
       "\n",
       "    .dataframe thead th {\n",
       "        text-align: right;\n",
       "    }\n",
       "</style>\n",
       "<table border=\"1\" class=\"dataframe\">\n",
       "  <thead>\n",
       "    <tr style=\"text-align: right;\">\n",
       "      <th></th>\n",
       "      <th>Nome</th>\n",
       "      <th>DataEstreia</th>\n",
       "      <th>CountPre</th>\n",
       "      <th>CountDurante</th>\n",
       "      <th>CountPos</th>\n",
       "      <th>CountTotal</th>\n",
       "      <th>IMDBid</th>\n",
       "    </tr>\n",
       "  </thead>\n",
       "  <tbody>\n",
       "    <tr>\n",
       "      <th>0</th>\n",
       "      <td>The Chosen One</td>\n",
       "      <td>2019-06-28</td>\n",
       "      <td>419.0</td>\n",
       "      <td>472.0</td>\n",
       "      <td>1111.0</td>\n",
       "      <td>2002.0</td>\n",
       "      <td>9048368</td>\n",
       "    </tr>\n",
       "    <tr>\n",
       "      <th>1</th>\n",
       "      <td>Osmosis</td>\n",
       "      <td>2019-03-29</td>\n",
       "      <td>936.0</td>\n",
       "      <td>937.0</td>\n",
       "      <td>1959.0</td>\n",
       "      <td>3832.0</td>\n",
       "      <td>7043380</td>\n",
       "    </tr>\n",
       "    <tr>\n",
       "      <th>2</th>\n",
       "      <td>Puerta 7</td>\n",
       "      <td>2020-02-21</td>\n",
       "      <td>280.0</td>\n",
       "      <td>514.0</td>\n",
       "      <td>907.0</td>\n",
       "      <td>1701.0</td>\n",
       "      <td>9170386</td>\n",
       "    </tr>\n",
       "    <tr>\n",
       "      <th>3</th>\n",
       "      <td>Holiday Secrets</td>\n",
       "      <td>2019-11-20</td>\n",
       "      <td>13.0</td>\n",
       "      <td>49.0</td>\n",
       "      <td>93.0</td>\n",
       "      <td>155.0</td>\n",
       "      <td>11243536</td>\n",
       "    </tr>\n",
       "    <tr>\n",
       "      <th>4</th>\n",
       "      <td>Mindhunter</td>\n",
       "      <td>2017-10-13</td>\n",
       "      <td>4980.0</td>\n",
       "      <td>7459.0</td>\n",
       "      <td>30394.0</td>\n",
       "      <td>42833.0</td>\n",
       "      <td>5290382</td>\n",
       "    </tr>\n",
       "    <tr>\n",
       "      <th>...</th>\n",
       "      <td>...</td>\n",
       "      <td>...</td>\n",
       "      <td>...</td>\n",
       "      <td>...</td>\n",
       "      <td>...</td>\n",
       "      <td>...</td>\n",
       "      <td>...</td>\n",
       "    </tr>\n",
       "    <tr>\n",
       "      <th>92</th>\n",
       "      <td>Sex Education</td>\n",
       "      <td>2019-01-11</td>\n",
       "      <td>2204.0</td>\n",
       "      <td>13414.0</td>\n",
       "      <td>44564.0</td>\n",
       "      <td>60182.0</td>\n",
       "      <td>7767422</td>\n",
       "    </tr>\n",
       "    <tr>\n",
       "      <th>93</th>\n",
       "      <td>The English Game</td>\n",
       "      <td>2020-03-20</td>\n",
       "      <td>0.0</td>\n",
       "      <td>1.0</td>\n",
       "      <td>5.0</td>\n",
       "      <td>6.0</td>\n",
       "      <td>8403664</td>\n",
       "    </tr>\n",
       "    <tr>\n",
       "      <th>94</th>\n",
       "      <td>Paava Kadhaigal</td>\n",
       "      <td>2020-12-18</td>\n",
       "      <td>366.0</td>\n",
       "      <td>577.0</td>\n",
       "      <td>325.0</td>\n",
       "      <td>1268.0</td>\n",
       "      <td>13206988</td>\n",
       "    </tr>\n",
       "    <tr>\n",
       "      <th>95</th>\n",
       "      <td>Homemade</td>\n",
       "      <td>2020-06-30</td>\n",
       "      <td>142.0</td>\n",
       "      <td>180.0</td>\n",
       "      <td>232.0</td>\n",
       "      <td>554.0</td>\n",
       "      <td>12574336</td>\n",
       "    </tr>\n",
       "    <tr>\n",
       "      <th>96</th>\n",
       "      <td>Trailer Park Boys Out of the Park - USA</td>\n",
       "      <td>2017-11-24</td>\n",
       "      <td>530.0</td>\n",
       "      <td>180.0</td>\n",
       "      <td>1920.0</td>\n",
       "      <td>2630.0</td>\n",
       "      <td>5937754</td>\n",
       "    </tr>\n",
       "  </tbody>\n",
       "</table>\n",
       "<p>94 rows × 7 columns</p>\n",
       "</div>"
      ],
      "text/plain": [
       "                                       Nome DataEstreia  CountPre  \\\n",
       "0                            The Chosen One  2019-06-28     419.0   \n",
       "1                                   Osmosis  2019-03-29     936.0   \n",
       "2                                  Puerta 7  2020-02-21     280.0   \n",
       "3                           Holiday Secrets  2019-11-20      13.0   \n",
       "4                                Mindhunter  2017-10-13    4980.0   \n",
       "..                                      ...         ...       ...   \n",
       "92                            Sex Education  2019-01-11    2204.0   \n",
       "93                         The English Game  2020-03-20       0.0   \n",
       "94                          Paava Kadhaigal  2020-12-18     366.0   \n",
       "95                                 Homemade  2020-06-30     142.0   \n",
       "96  Trailer Park Boys Out of the Park - USA  2017-11-24     530.0   \n",
       "\n",
       "    CountDurante  CountPos  CountTotal    IMDBid  \n",
       "0          472.0    1111.0      2002.0   9048368  \n",
       "1          937.0    1959.0      3832.0   7043380  \n",
       "2          514.0     907.0      1701.0   9170386  \n",
       "3           49.0      93.0       155.0  11243536  \n",
       "4         7459.0   30394.0     42833.0   5290382  \n",
       "..           ...       ...         ...       ...  \n",
       "92       13414.0   44564.0     60182.0   7767422  \n",
       "93           1.0       5.0         6.0   8403664  \n",
       "94         577.0     325.0      1268.0  13206988  \n",
       "95         180.0     232.0       554.0  12574336  \n",
       "96         180.0    1920.0      2630.0   5937754  \n",
       "\n",
       "[94 rows x 7 columns]"
      ]
     },
     "execution_count": 6,
     "metadata": {},
     "output_type": "execute_result"
    }
   ],
   "source": [
    "twitter"
   ]
  },
  {
   "cell_type": "code",
   "execution_count": 7,
   "metadata": {},
   "outputs": [
    {
     "data": {
      "text/html": [
       "<div>\n",
       "<style scoped>\n",
       "    .dataframe tbody tr th:only-of-type {\n",
       "        vertical-align: middle;\n",
       "    }\n",
       "\n",
       "    .dataframe tbody tr th {\n",
       "        vertical-align: top;\n",
       "    }\n",
       "\n",
       "    .dataframe thead th {\n",
       "        text-align: right;\n",
       "    }\n",
       "</style>\n",
       "<table border=\"1\" class=\"dataframe\">\n",
       "  <thead>\n",
       "    <tr style=\"text-align: right;\">\n",
       "      <th></th>\n",
       "      <th>Titulo</th>\n",
       "      <th>Check</th>\n",
       "      <th>IMDBid</th>\n",
       "      <th>Nota</th>\n",
       "      <th>Votos</th>\n",
       "      <th>Elenco</th>\n",
       "      <th>Gênero</th>\n",
       "      <th>Duração</th>\n",
       "      <th>Reviews</th>\n",
       "      <th>Ano</th>\n",
       "      <th>Data de estréia</th>\n",
       "      <th>Roteiristas</th>\n",
       "      <th>Censura</th>\n",
       "      <th>País</th>\n",
       "      <th>Idiomas</th>\n",
       "      <th>Episodios</th>\n",
       "    </tr>\n",
       "  </thead>\n",
       "  <tbody>\n",
       "    <tr>\n",
       "      <th>0</th>\n",
       "      <td>The Chosen One</td>\n",
       "      <td>tv series</td>\n",
       "      <td>9048368</td>\n",
       "      <td>5.8</td>\n",
       "      <td>636.0</td>\n",
       "      <td>Renan Tenca, Paloma Bernardi, Gutto Szuster, P...</td>\n",
       "      <td>Mystery, Thriller</td>\n",
       "      <td>40.0</td>\n",
       "      <td>25.0</td>\n",
       "      <td>2019.0</td>\n",
       "      <td>2019-06-28</td>\n",
       "      <td>Pablo Cruz, Raphael Draccon, Raphael Draccon</td>\n",
       "      <td>Argentina:16, Brazil:16, Germany:16::(self-app...</td>\n",
       "      <td>Brazil</td>\n",
       "      <td>Portuguese</td>\n",
       "      <td>6.0</td>\n",
       "    </tr>\n",
       "    <tr>\n",
       "      <th>1</th>\n",
       "      <td>Osmosis</td>\n",
       "      <td>tv series</td>\n",
       "      <td>7043380</td>\n",
       "      <td>5.8</td>\n",
       "      <td>2851.0</td>\n",
       "      <td>Agathe Bonitzer, Hugo Becker, Gaël Kamilindi, ...</td>\n",
       "      <td>Romance, Sci-Fi</td>\n",
       "      <td>55.0</td>\n",
       "      <td>24.0</td>\n",
       "      <td>2019.0</td>\n",
       "      <td>2019-03-29</td>\n",
       "      <td>Gabriel Chiche, Louis Chiche, William Chiche</td>\n",
       "      <td>Brazil:16::(self-applied), France:13::(self-ap...</td>\n",
       "      <td>France</td>\n",
       "      <td>French</td>\n",
       "      <td>8.0</td>\n",
       "    </tr>\n",
       "    <tr>\n",
       "      <th>2</th>\n",
       "      <td>Puerta 7</td>\n",
       "      <td>tv series</td>\n",
       "      <td>9170386</td>\n",
       "      <td>5.7</td>\n",
       "      <td>516.0</td>\n",
       "      <td>Dolores Fonzi, Esteban Lamothe, Carlos Belloso...</td>\n",
       "      <td>Crime, Drama, Thriller</td>\n",
       "      <td>45.0</td>\n",
       "      <td>14.0</td>\n",
       "      <td>2020.0</td>\n",
       "      <td>2020-02-21</td>\n",
       "      <td>Patricio Vega, Martin Zimmerman, Martin Zimmerman</td>\n",
       "      <td>Argentina:18, Australia:M, Philippines:18+::(s...</td>\n",
       "      <td>Argentina</td>\n",
       "      <td>Spanish</td>\n",
       "      <td>8.0</td>\n",
       "    </tr>\n",
       "    <tr>\n",
       "      <th>3</th>\n",
       "      <td>Holiday Secrets</td>\n",
       "      <td>tv mini series</td>\n",
       "      <td>11243536</td>\n",
       "      <td>6.5</td>\n",
       "      <td>1032.0</td>\n",
       "      <td>Corinna Harfouch, Christiane Paul, Svenja Jung...</td>\n",
       "      <td>Drama</td>\n",
       "      <td>NaN</td>\n",
       "      <td>7.0</td>\n",
       "      <td>2019.0</td>\n",
       "      <td>2019-11-20</td>\n",
       "      <td>Katharina Eyssen</td>\n",
       "      <td>Argentina:13, Singapore:PG13</td>\n",
       "      <td>Germany</td>\n",
       "      <td>German</td>\n",
       "      <td>3.0</td>\n",
       "    </tr>\n",
       "    <tr>\n",
       "      <th>4</th>\n",
       "      <td>Mindhunter</td>\n",
       "      <td>tv series</td>\n",
       "      <td>5290382</td>\n",
       "      <td>8.6</td>\n",
       "      <td>246759.0</td>\n",
       "      <td>Jonathan Groff, Holt McCallany, Anna Torv, Son...</td>\n",
       "      <td>Crime, Drama, Thriller</td>\n",
       "      <td>60.0</td>\n",
       "      <td>25.0</td>\n",
       "      <td>2017.0</td>\n",
       "      <td>2017-10-13</td>\n",
       "      <td>John Douglas, Mark Olshaker, Joe Penhall</td>\n",
       "      <td>Argentina:16, Australia:MA15+::(Netflix self-r...</td>\n",
       "      <td>United States</td>\n",
       "      <td>English</td>\n",
       "      <td>10.0</td>\n",
       "    </tr>\n",
       "  </tbody>\n",
       "</table>\n",
       "</div>"
      ],
      "text/plain": [
       "            Titulo           Check    IMDBid  Nota     Votos  \\\n",
       "0   The Chosen One       tv series   9048368   5.8     636.0   \n",
       "1          Osmosis       tv series   7043380   5.8    2851.0   \n",
       "2         Puerta 7       tv series   9170386   5.7     516.0   \n",
       "3  Holiday Secrets  tv mini series  11243536   6.5    1032.0   \n",
       "4       Mindhunter       tv series   5290382   8.6  246759.0   \n",
       "\n",
       "                                              Elenco                  Gênero  \\\n",
       "0  Renan Tenca, Paloma Bernardi, Gutto Szuster, P...       Mystery, Thriller   \n",
       "1  Agathe Bonitzer, Hugo Becker, Gaël Kamilindi, ...         Romance, Sci-Fi   \n",
       "2  Dolores Fonzi, Esteban Lamothe, Carlos Belloso...  Crime, Drama, Thriller   \n",
       "3  Corinna Harfouch, Christiane Paul, Svenja Jung...                   Drama   \n",
       "4  Jonathan Groff, Holt McCallany, Anna Torv, Son...  Crime, Drama, Thriller   \n",
       "\n",
       "   Duração  Reviews     Ano Data de estréia  \\\n",
       "0     40.0     25.0  2019.0      2019-06-28   \n",
       "1     55.0     24.0  2019.0      2019-03-29   \n",
       "2     45.0     14.0  2020.0      2020-02-21   \n",
       "3      NaN      7.0  2019.0      2019-11-20   \n",
       "4     60.0     25.0  2017.0      2017-10-13   \n",
       "\n",
       "                                         Roteiristas  \\\n",
       "0       Pablo Cruz, Raphael Draccon, Raphael Draccon   \n",
       "1       Gabriel Chiche, Louis Chiche, William Chiche   \n",
       "2  Patricio Vega, Martin Zimmerman, Martin Zimmerman   \n",
       "3                                   Katharina Eyssen   \n",
       "4           John Douglas, Mark Olshaker, Joe Penhall   \n",
       "\n",
       "                                             Censura           País  \\\n",
       "0  Argentina:16, Brazil:16, Germany:16::(self-app...         Brazil   \n",
       "1  Brazil:16::(self-applied), France:13::(self-ap...         France   \n",
       "2  Argentina:18, Australia:M, Philippines:18+::(s...      Argentina   \n",
       "3                       Argentina:13, Singapore:PG13        Germany   \n",
       "4  Argentina:16, Australia:MA15+::(Netflix self-r...  United States   \n",
       "\n",
       "      Idiomas  Episodios  \n",
       "0  Portuguese        6.0  \n",
       "1      French        8.0  \n",
       "2     Spanish        8.0  \n",
       "3      German        3.0  \n",
       "4     English       10.0  "
      ]
     },
     "execution_count": 7,
     "metadata": {},
     "output_type": "execute_result"
    }
   ],
   "source": [
    "imdb.head()"
   ]
  },
  {
   "cell_type": "code",
   "execution_count": 8,
   "metadata": {},
   "outputs": [
    {
     "data": {
      "text/html": [
       "<div>\n",
       "<style scoped>\n",
       "    .dataframe tbody tr th:only-of-type {\n",
       "        vertical-align: middle;\n",
       "    }\n",
       "\n",
       "    .dataframe tbody tr th {\n",
       "        vertical-align: top;\n",
       "    }\n",
       "\n",
       "    .dataframe thead th {\n",
       "        text-align: right;\n",
       "    }\n",
       "</style>\n",
       "<table border=\"1\" class=\"dataframe\">\n",
       "  <thead>\n",
       "    <tr style=\"text-align: right;\">\n",
       "      <th></th>\n",
       "      <th>Titulo</th>\n",
       "      <th>Check</th>\n",
       "      <th>IMDBid</th>\n",
       "      <th>Nota</th>\n",
       "      <th>Votos</th>\n",
       "      <th>Elenco</th>\n",
       "      <th>Gênero</th>\n",
       "      <th>Duração</th>\n",
       "      <th>Reviews</th>\n",
       "      <th>Ano</th>\n",
       "      <th>...</th>\n",
       "      <th>Idiomas</th>\n",
       "      <th>Episodios</th>\n",
       "      <th>Nome</th>\n",
       "      <th>DataEstreia</th>\n",
       "      <th>CountPre</th>\n",
       "      <th>CountDurante</th>\n",
       "      <th>CountPos</th>\n",
       "      <th>CountTotal</th>\n",
       "      <th>user_reviews</th>\n",
       "      <th>critic_reviews</th>\n",
       "    </tr>\n",
       "  </thead>\n",
       "  <tbody>\n",
       "    <tr>\n",
       "      <th>0</th>\n",
       "      <td>The Chosen One</td>\n",
       "      <td>tv series</td>\n",
       "      <td>9048368</td>\n",
       "      <td>5.8</td>\n",
       "      <td>636.0</td>\n",
       "      <td>Renan Tenca, Paloma Bernardi, Gutto Szuster, P...</td>\n",
       "      <td>Mystery, Thriller</td>\n",
       "      <td>40.0</td>\n",
       "      <td>25.0</td>\n",
       "      <td>2019.0</td>\n",
       "      <td>...</td>\n",
       "      <td>Portuguese</td>\n",
       "      <td>6.0</td>\n",
       "      <td>The Chosen One</td>\n",
       "      <td>2019-06-28</td>\n",
       "      <td>419.0</td>\n",
       "      <td>472.0</td>\n",
       "      <td>1111.0</td>\n",
       "      <td>2002.0</td>\n",
       "      <td>27</td>\n",
       "      <td>5</td>\n",
       "    </tr>\n",
       "    <tr>\n",
       "      <th>1</th>\n",
       "      <td>Osmosis</td>\n",
       "      <td>tv series</td>\n",
       "      <td>7043380</td>\n",
       "      <td>5.8</td>\n",
       "      <td>2851.0</td>\n",
       "      <td>Agathe Bonitzer, Hugo Becker, Gaël Kamilindi, ...</td>\n",
       "      <td>Romance, Sci-Fi</td>\n",
       "      <td>55.0</td>\n",
       "      <td>24.0</td>\n",
       "      <td>2019.0</td>\n",
       "      <td>...</td>\n",
       "      <td>French</td>\n",
       "      <td>8.0</td>\n",
       "      <td>Osmosis</td>\n",
       "      <td>2019-03-29</td>\n",
       "      <td>936.0</td>\n",
       "      <td>937.0</td>\n",
       "      <td>1959.0</td>\n",
       "      <td>3832.0</td>\n",
       "      <td>50</td>\n",
       "      <td>10</td>\n",
       "    </tr>\n",
       "    <tr>\n",
       "      <th>2</th>\n",
       "      <td>Puerta 7</td>\n",
       "      <td>tv series</td>\n",
       "      <td>9170386</td>\n",
       "      <td>5.7</td>\n",
       "      <td>516.0</td>\n",
       "      <td>Dolores Fonzi, Esteban Lamothe, Carlos Belloso...</td>\n",
       "      <td>Crime, Drama, Thriller</td>\n",
       "      <td>45.0</td>\n",
       "      <td>14.0</td>\n",
       "      <td>2020.0</td>\n",
       "      <td>...</td>\n",
       "      <td>Spanish</td>\n",
       "      <td>8.0</td>\n",
       "      <td>Puerta 7</td>\n",
       "      <td>2020-02-21</td>\n",
       "      <td>280.0</td>\n",
       "      <td>514.0</td>\n",
       "      <td>907.0</td>\n",
       "      <td>1701.0</td>\n",
       "      <td>14</td>\n",
       "      <td>4</td>\n",
       "    </tr>\n",
       "    <tr>\n",
       "      <th>3</th>\n",
       "      <td>Holiday Secrets</td>\n",
       "      <td>tv mini series</td>\n",
       "      <td>11243536</td>\n",
       "      <td>6.5</td>\n",
       "      <td>1032.0</td>\n",
       "      <td>Corinna Harfouch, Christiane Paul, Svenja Jung...</td>\n",
       "      <td>Drama</td>\n",
       "      <td>NaN</td>\n",
       "      <td>7.0</td>\n",
       "      <td>2019.0</td>\n",
       "      <td>...</td>\n",
       "      <td>German</td>\n",
       "      <td>3.0</td>\n",
       "      <td>Holiday Secrets</td>\n",
       "      <td>2019-11-20</td>\n",
       "      <td>13.0</td>\n",
       "      <td>49.0</td>\n",
       "      <td>93.0</td>\n",
       "      <td>155.0</td>\n",
       "      <td>7</td>\n",
       "      <td>5</td>\n",
       "    </tr>\n",
       "    <tr>\n",
       "      <th>4</th>\n",
       "      <td>Mindhunter</td>\n",
       "      <td>tv series</td>\n",
       "      <td>5290382</td>\n",
       "      <td>8.6</td>\n",
       "      <td>246759.0</td>\n",
       "      <td>Jonathan Groff, Holt McCallany, Anna Torv, Son...</td>\n",
       "      <td>Crime, Drama, Thriller</td>\n",
       "      <td>60.0</td>\n",
       "      <td>25.0</td>\n",
       "      <td>2017.0</td>\n",
       "      <td>...</td>\n",
       "      <td>English</td>\n",
       "      <td>10.0</td>\n",
       "      <td>Mindhunter</td>\n",
       "      <td>2017-10-13</td>\n",
       "      <td>4980.0</td>\n",
       "      <td>7459.0</td>\n",
       "      <td>30394.0</td>\n",
       "      <td>42833.0</td>\n",
       "      <td>867</td>\n",
       "      <td>115</td>\n",
       "    </tr>\n",
       "  </tbody>\n",
       "</table>\n",
       "<p>5 rows × 24 columns</p>\n",
       "</div>"
      ],
      "text/plain": [
       "            Titulo           Check    IMDBid  Nota     Votos  \\\n",
       "0   The Chosen One       tv series   9048368   5.8     636.0   \n",
       "1          Osmosis       tv series   7043380   5.8    2851.0   \n",
       "2         Puerta 7       tv series   9170386   5.7     516.0   \n",
       "3  Holiday Secrets  tv mini series  11243536   6.5    1032.0   \n",
       "4       Mindhunter       tv series   5290382   8.6  246759.0   \n",
       "\n",
       "                                              Elenco                  Gênero  \\\n",
       "0  Renan Tenca, Paloma Bernardi, Gutto Szuster, P...       Mystery, Thriller   \n",
       "1  Agathe Bonitzer, Hugo Becker, Gaël Kamilindi, ...         Romance, Sci-Fi   \n",
       "2  Dolores Fonzi, Esteban Lamothe, Carlos Belloso...  Crime, Drama, Thriller   \n",
       "3  Corinna Harfouch, Christiane Paul, Svenja Jung...                   Drama   \n",
       "4  Jonathan Groff, Holt McCallany, Anna Torv, Son...  Crime, Drama, Thriller   \n",
       "\n",
       "   Duração  Reviews     Ano  ...     Idiomas Episodios             Nome  \\\n",
       "0     40.0     25.0  2019.0  ...  Portuguese       6.0   The Chosen One   \n",
       "1     55.0     24.0  2019.0  ...      French       8.0          Osmosis   \n",
       "2     45.0     14.0  2020.0  ...     Spanish       8.0         Puerta 7   \n",
       "3      NaN      7.0  2019.0  ...      German       3.0  Holiday Secrets   \n",
       "4     60.0     25.0  2017.0  ...     English      10.0       Mindhunter   \n",
       "\n",
       "  DataEstreia CountPre  CountDurante CountPos CountTotal  user_reviews  \\\n",
       "0  2019-06-28    419.0         472.0   1111.0     2002.0            27   \n",
       "1  2019-03-29    936.0         937.0   1959.0     3832.0            50   \n",
       "2  2020-02-21    280.0         514.0    907.0     1701.0            14   \n",
       "3  2019-11-20     13.0          49.0     93.0      155.0             7   \n",
       "4  2017-10-13   4980.0        7459.0  30394.0    42833.0           867   \n",
       "\n",
       "   critic_reviews  \n",
       "0               5  \n",
       "1              10  \n",
       "2               4  \n",
       "3               5  \n",
       "4             115  \n",
       "\n",
       "[5 rows x 24 columns]"
      ]
     },
     "execution_count": 8,
     "metadata": {},
     "output_type": "execute_result"
    }
   ],
   "source": [
    "reviews.rename(columns={\"titulo\":\"Titulo\"}, inplace=True)\n",
    "aux = pd.merge(imdb, twitter, on = \"IMDBid\")\n",
    "dados = pd.merge(aux, reviews, on = \"Titulo\")\n",
    "\n",
    "#dados.drop(dados[dados[\"Nome\"]==\"LoveDeathandRobots\"].index, inplace=True)\n",
    "dados.head()"
   ]
  },
  {
   "cell_type": "markdown",
   "metadata": {},
   "source": [
    "# Análise Exploratória"
   ]
  },
  {
   "cell_type": "markdown",
   "metadata": {},
   "source": [
    "## Nota"
   ]
  },
  {
   "cell_type": "code",
   "execution_count": 61,
   "metadata": {},
   "outputs": [
    {
     "data": {
      "text/plain": [
       "<AxesSubplot:xlabel='Nota', ylabel='Count'>"
      ]
     },
     "execution_count": 61,
     "metadata": {},
     "output_type": "execute_result"
    },
    {
     "data": {
      "image/png": "[encoded data removed]",
      "text/plain": [
       "<Figure size 432x288 with 1 Axes>"
      ]
     },
     "metadata": {
      "needs_background": "light"
     },
     "output_type": "display_data"
    }
   ],
   "source": [
    "sns.histplot(data=dados, x=\"Nota\")"
   ]
  },
  {
   "cell_type": "code",
   "execution_count": 25,
   "metadata": {},
   "outputs": [
    {
     "data": {
      "text/plain": [
       "<AxesSubplot:ylabel='Nota'>"
      ]
     },
     "execution_count": 25,
     "metadata": {},
     "output_type": "execute_result"
    },
    {
     "data": {
      "image/png": "[encoded data removed]",
      "text/plain": [
       "<Figure size 432x288 with 1 Axes>"
      ]
     },
     "metadata": {
      "needs_background": "light"
     },
     "output_type": "display_data"
    }
   ],
   "source": [
    "sns.boxplot(y=dados['Nota'], data=dados)"
   ]
  },
  {
   "cell_type": "code",
   "execution_count": 26,
   "metadata": {},
   "outputs": [
    {
     "data": {
      "text/plain": [
       "<AxesSubplot:xlabel='Ano', ylabel='Nota'>"
      ]
     },
     "execution_count": 26,
     "metadata": {},
     "output_type": "execute_result"
    },
    {
     "data": {
      "image/png": "[encoded data removed]",
      "text/plain": [
       "<Figure size 432x288 with 1 Axes>"
      ]
     },
     "metadata": {
      "needs_background": "light"
     },
     "output_type": "display_data"
    }
   ],
   "source": [
    "sns.boxplot(x=dados['Ano'],y=dados['Nota'], data=dados)"
   ]
  },
  {
   "cell_type": "code",
   "execution_count": 27,
   "metadata": {},
   "outputs": [
    {
     "name": "stderr",
     "output_type": "stream",
     "text": [
      "C:\\Users\\Amamiya\\AppData\\Local\\Temp/ipykernel_13220/1689104892.py:4: FutureWarning: Using the level keyword in DataFrame and Series aggregations is deprecated and will be removed in a future version. Use groupby instead. df.sum(level=1) should use df.groupby(level=1).sum().\n",
      "  pd.get_dummies(dados['Gênero'].apply(pd.Series).stack()).sum(level=0)\n"
     ]
    },
    {
     "data": {
      "text/html": [
       "<div>\n",
       "<style scoped>\n",
       "    .dataframe tbody tr th:only-of-type {\n",
       "        vertical-align: middle;\n",
       "    }\n",
       "\n",
       "    .dataframe tbody tr th {\n",
       "        vertical-align: top;\n",
       "    }\n",
       "\n",
       "    .dataframe thead th {\n",
       "        text-align: right;\n",
       "    }\n",
       "</style>\n",
       "<table border=\"1\" class=\"dataframe\">\n",
       "  <thead>\n",
       "    <tr style=\"text-align: right;\">\n",
       "      <th></th>\n",
       "      <th>Action</th>\n",
       "      <th>Adventure</th>\n",
       "      <th>Biography</th>\n",
       "      <th>Comedy</th>\n",
       "      <th>Crime</th>\n",
       "      <th>Drama</th>\n",
       "      <th>Family</th>\n",
       "      <th>Fantasy</th>\n",
       "      <th>History</th>\n",
       "      <th>Horror</th>\n",
       "      <th>Music</th>\n",
       "      <th>Musical</th>\n",
       "      <th>Mystery</th>\n",
       "      <th>Romance</th>\n",
       "      <th>Sci-Fi</th>\n",
       "      <th>Short</th>\n",
       "      <th>Sport</th>\n",
       "      <th>Thriller</th>\n",
       "      <th>Western</th>\n",
       "    </tr>\n",
       "  </thead>\n",
       "  <tbody>\n",
       "    <tr>\n",
       "      <th>0</th>\n",
       "      <td>0</td>\n",
       "      <td>0</td>\n",
       "      <td>0</td>\n",
       "      <td>0</td>\n",
       "      <td>0</td>\n",
       "      <td>0</td>\n",
       "      <td>0</td>\n",
       "      <td>0</td>\n",
       "      <td>0</td>\n",
       "      <td>0</td>\n",
       "      <td>0</td>\n",
       "      <td>0</td>\n",
       "      <td>1</td>\n",
       "      <td>0</td>\n",
       "      <td>0</td>\n",
       "      <td>0</td>\n",
       "      <td>0</td>\n",
       "      <td>1</td>\n",
       "      <td>0</td>\n",
       "    </tr>\n",
       "    <tr>\n",
       "      <th>1</th>\n",
       "      <td>0</td>\n",
       "      <td>0</td>\n",
       "      <td>0</td>\n",
       "      <td>0</td>\n",
       "      <td>0</td>\n",
       "      <td>0</td>\n",
       "      <td>0</td>\n",
       "      <td>0</td>\n",
       "      <td>0</td>\n",
       "      <td>0</td>\n",
       "      <td>0</td>\n",
       "      <td>0</td>\n",
       "      <td>0</td>\n",
       "      <td>1</td>\n",
       "      <td>1</td>\n",
       "      <td>0</td>\n",
       "      <td>0</td>\n",
       "      <td>0</td>\n",
       "      <td>0</td>\n",
       "    </tr>\n",
       "    <tr>\n",
       "      <th>2</th>\n",
       "      <td>0</td>\n",
       "      <td>0</td>\n",
       "      <td>0</td>\n",
       "      <td>0</td>\n",
       "      <td>1</td>\n",
       "      <td>1</td>\n",
       "      <td>0</td>\n",
       "      <td>0</td>\n",
       "      <td>0</td>\n",
       "      <td>0</td>\n",
       "      <td>0</td>\n",
       "      <td>0</td>\n",
       "      <td>0</td>\n",
       "      <td>0</td>\n",
       "      <td>0</td>\n",
       "      <td>0</td>\n",
       "      <td>0</td>\n",
       "      <td>1</td>\n",
       "      <td>0</td>\n",
       "    </tr>\n",
       "    <tr>\n",
       "      <th>3</th>\n",
       "      <td>0</td>\n",
       "      <td>0</td>\n",
       "      <td>0</td>\n",
       "      <td>0</td>\n",
       "      <td>0</td>\n",
       "      <td>1</td>\n",
       "      <td>0</td>\n",
       "      <td>0</td>\n",
       "      <td>0</td>\n",
       "      <td>0</td>\n",
       "      <td>0</td>\n",
       "      <td>0</td>\n",
       "      <td>0</td>\n",
       "      <td>0</td>\n",
       "      <td>0</td>\n",
       "      <td>0</td>\n",
       "      <td>0</td>\n",
       "      <td>0</td>\n",
       "      <td>0</td>\n",
       "    </tr>\n",
       "    <tr>\n",
       "      <th>4</th>\n",
       "      <td>0</td>\n",
       "      <td>0</td>\n",
       "      <td>0</td>\n",
       "      <td>0</td>\n",
       "      <td>1</td>\n",
       "      <td>1</td>\n",
       "      <td>0</td>\n",
       "      <td>0</td>\n",
       "      <td>0</td>\n",
       "      <td>0</td>\n",
       "      <td>0</td>\n",
       "      <td>0</td>\n",
       "      <td>0</td>\n",
       "      <td>0</td>\n",
       "      <td>0</td>\n",
       "      <td>0</td>\n",
       "      <td>0</td>\n",
       "      <td>1</td>\n",
       "      <td>0</td>\n",
       "    </tr>\n",
       "    <tr>\n",
       "      <th>...</th>\n",
       "      <td>...</td>\n",
       "      <td>...</td>\n",
       "      <td>...</td>\n",
       "      <td>...</td>\n",
       "      <td>...</td>\n",
       "      <td>...</td>\n",
       "      <td>...</td>\n",
       "      <td>...</td>\n",
       "      <td>...</td>\n",
       "      <td>...</td>\n",
       "      <td>...</td>\n",
       "      <td>...</td>\n",
       "      <td>...</td>\n",
       "      <td>...</td>\n",
       "      <td>...</td>\n",
       "      <td>...</td>\n",
       "      <td>...</td>\n",
       "      <td>...</td>\n",
       "      <td>...</td>\n",
       "    </tr>\n",
       "    <tr>\n",
       "      <th>81</th>\n",
       "      <td>0</td>\n",
       "      <td>0</td>\n",
       "      <td>0</td>\n",
       "      <td>1</td>\n",
       "      <td>0</td>\n",
       "      <td>1</td>\n",
       "      <td>0</td>\n",
       "      <td>0</td>\n",
       "      <td>0</td>\n",
       "      <td>0</td>\n",
       "      <td>0</td>\n",
       "      <td>0</td>\n",
       "      <td>0</td>\n",
       "      <td>0</td>\n",
       "      <td>0</td>\n",
       "      <td>0</td>\n",
       "      <td>0</td>\n",
       "      <td>0</td>\n",
       "      <td>0</td>\n",
       "    </tr>\n",
       "    <tr>\n",
       "      <th>82</th>\n",
       "      <td>0</td>\n",
       "      <td>0</td>\n",
       "      <td>0</td>\n",
       "      <td>0</td>\n",
       "      <td>0</td>\n",
       "      <td>1</td>\n",
       "      <td>0</td>\n",
       "      <td>0</td>\n",
       "      <td>1</td>\n",
       "      <td>0</td>\n",
       "      <td>0</td>\n",
       "      <td>0</td>\n",
       "      <td>0</td>\n",
       "      <td>0</td>\n",
       "      <td>0</td>\n",
       "      <td>0</td>\n",
       "      <td>1</td>\n",
       "      <td>0</td>\n",
       "      <td>0</td>\n",
       "    </tr>\n",
       "    <tr>\n",
       "      <th>83</th>\n",
       "      <td>0</td>\n",
       "      <td>0</td>\n",
       "      <td>0</td>\n",
       "      <td>0</td>\n",
       "      <td>0</td>\n",
       "      <td>1</td>\n",
       "      <td>0</td>\n",
       "      <td>0</td>\n",
       "      <td>0</td>\n",
       "      <td>0</td>\n",
       "      <td>0</td>\n",
       "      <td>0</td>\n",
       "      <td>0</td>\n",
       "      <td>0</td>\n",
       "      <td>0</td>\n",
       "      <td>0</td>\n",
       "      <td>0</td>\n",
       "      <td>0</td>\n",
       "      <td>0</td>\n",
       "    </tr>\n",
       "    <tr>\n",
       "      <th>84</th>\n",
       "      <td>0</td>\n",
       "      <td>0</td>\n",
       "      <td>0</td>\n",
       "      <td>0</td>\n",
       "      <td>0</td>\n",
       "      <td>1</td>\n",
       "      <td>0</td>\n",
       "      <td>0</td>\n",
       "      <td>0</td>\n",
       "      <td>0</td>\n",
       "      <td>0</td>\n",
       "      <td>0</td>\n",
       "      <td>0</td>\n",
       "      <td>0</td>\n",
       "      <td>0</td>\n",
       "      <td>0</td>\n",
       "      <td>0</td>\n",
       "      <td>0</td>\n",
       "      <td>0</td>\n",
       "    </tr>\n",
       "    <tr>\n",
       "      <th>85</th>\n",
       "      <td>0</td>\n",
       "      <td>0</td>\n",
       "      <td>0</td>\n",
       "      <td>0</td>\n",
       "      <td>1</td>\n",
       "      <td>1</td>\n",
       "      <td>0</td>\n",
       "      <td>0</td>\n",
       "      <td>0</td>\n",
       "      <td>0</td>\n",
       "      <td>0</td>\n",
       "      <td>0</td>\n",
       "      <td>0</td>\n",
       "      <td>0</td>\n",
       "      <td>0</td>\n",
       "      <td>0</td>\n",
       "      <td>0</td>\n",
       "      <td>1</td>\n",
       "      <td>0</td>\n",
       "    </tr>\n",
       "  </tbody>\n",
       "</table>\n",
       "<p>86 rows × 19 columns</p>\n",
       "</div>"
      ],
      "text/plain": [
       "    Action  Adventure  Biography  Comedy  Crime  Drama  Family  Fantasy  \\\n",
       "0        0          0          0       0      0      0       0        0   \n",
       "1        0          0          0       0      0      0       0        0   \n",
       "2        0          0          0       0      1      1       0        0   \n",
       "3        0          0          0       0      0      1       0        0   \n",
       "4        0          0          0       0      1      1       0        0   \n",
       "..     ...        ...        ...     ...    ...    ...     ...      ...   \n",
       "81       0          0          0       1      0      1       0        0   \n",
       "82       0          0          0       0      0      1       0        0   \n",
       "83       0          0          0       0      0      1       0        0   \n",
       "84       0          0          0       0      0      1       0        0   \n",
       "85       0          0          0       0      1      1       0        0   \n",
       "\n",
       "    History  Horror  Music  Musical  Mystery  Romance  Sci-Fi  Short  Sport  \\\n",
       "0         0       0      0        0        1        0       0      0      0   \n",
       "1         0       0      0        0        0        1       1      0      0   \n",
       "2         0       0      0        0        0        0       0      0      0   \n",
       "3         0       0      0        0        0        0       0      0      0   \n",
       "4         0       0      0        0        0        0       0      0      0   \n",
       "..      ...     ...    ...      ...      ...      ...     ...    ...    ...   \n",
       "81        0       0      0        0        0        0       0      0      0   \n",
       "82        1       0      0        0        0        0       0      0      1   \n",
       "83        0       0      0        0        0        0       0      0      0   \n",
       "84        0       0      0        0        0        0       0      0      0   \n",
       "85        0       0      0        0        0        0       0      0      0   \n",
       "\n",
       "    Thriller  Western  \n",
       "0          1        0  \n",
       "1          0        0  \n",
       "2          1        0  \n",
       "3          0        0  \n",
       "4          1        0  \n",
       "..       ...      ...  \n",
       "81         0        0  \n",
       "82         0        0  \n",
       "83         0        0  \n",
       "84         0        0  \n",
       "85         1        0  \n",
       "\n",
       "[86 rows x 19 columns]"
      ]
     },
     "execution_count": 27,
     "metadata": {},
     "output_type": "execute_result"
    }
   ],
   "source": [
    "dados['Gênero'] = dados['Gênero'].apply(lambda x : x.split(\", \"))\n",
    "dados['Gênero']\n"
   ]
  },
  {
   "cell_type": "code",
   "execution_count": 29,
   "metadata": {},
   "outputs": [
    {
     "name": "stderr",
     "output_type": "stream",
     "text": [
      "C:\\Users\\Amamiya\\AppData\\Local\\Temp/ipykernel_13220/1547980755.py:1: FutureWarning: Using the level keyword in DataFrame and Series aggregations is deprecated and will be removed in a future version. Use groupby instead. df.sum(level=1) should use df.groupby(level=1).sum().\n",
      "  dummies = pd.get_dummies(dados['Gênero'].apply(pd.Series).stack()).sum(level=0)\n"
     ]
    }
   ],
   "source": [
    "dummies = pd.get_dummies(dados['Gênero'].apply(pd.Series).stack()).sum(level=0)\n",
    "# Primeiramente: Fazer o count, ver a frequencia de cada série\n",
    "# Segundamente: Avaliar os grupos mais frequentes (Drama+Comedia)"
   ]
  },
  {
   "cell_type": "code",
   "execution_count": 35,
   "metadata": {},
   "outputs": [
    {
     "data": {
      "text/plain": [
       "86"
      ]
     },
     "execution_count": 35,
     "metadata": {},
     "output_type": "execute_result"
    }
   ],
   "source": [
    "len(dados)"
   ]
  },
  {
   "cell_type": "code",
   "execution_count": 33,
   "metadata": {},
   "outputs": [],
   "source": [
    "dados = dados.join(dummies)"
   ]
  },
  {
   "cell_type": "code",
   "execution_count": 34,
   "metadata": {},
   "outputs": [
    {
     "data": {
      "text/html": [
       "<div>\n",
       "<style scoped>\n",
       "    .dataframe tbody tr th:only-of-type {\n",
       "        vertical-align: middle;\n",
       "    }\n",
       "\n",
       "    .dataframe tbody tr th {\n",
       "        vertical-align: top;\n",
       "    }\n",
       "\n",
       "    .dataframe thead th {\n",
       "        text-align: right;\n",
       "    }\n",
       "</style>\n",
       "<table border=\"1\" class=\"dataframe\">\n",
       "  <thead>\n",
       "    <tr style=\"text-align: right;\">\n",
       "      <th></th>\n",
       "      <th>Titulo</th>\n",
       "      <th>Check</th>\n",
       "      <th>IMDBid</th>\n",
       "      <th>Nota</th>\n",
       "      <th>Votos</th>\n",
       "      <th>Elenco</th>\n",
       "      <th>Gênero</th>\n",
       "      <th>Duração</th>\n",
       "      <th>Reviews</th>\n",
       "      <th>Ano</th>\n",
       "      <th>...</th>\n",
       "      <th>Horror</th>\n",
       "      <th>Music</th>\n",
       "      <th>Musical</th>\n",
       "      <th>Mystery</th>\n",
       "      <th>Romance</th>\n",
       "      <th>Sci-Fi</th>\n",
       "      <th>Short</th>\n",
       "      <th>Sport</th>\n",
       "      <th>Thriller</th>\n",
       "      <th>Western</th>\n",
       "    </tr>\n",
       "  </thead>\n",
       "  <tbody>\n",
       "    <tr>\n",
       "      <th>0</th>\n",
       "      <td>The Chosen One</td>\n",
       "      <td>tv series</td>\n",
       "      <td>9048368</td>\n",
       "      <td>5.8</td>\n",
       "      <td>636.0</td>\n",
       "      <td>Renan Tenca, Paloma Bernardi, Gutto Szuster, P...</td>\n",
       "      <td>[Mystery, Thriller]</td>\n",
       "      <td>40.0</td>\n",
       "      <td>25.0</td>\n",
       "      <td>2019.0</td>\n",
       "      <td>...</td>\n",
       "      <td>0</td>\n",
       "      <td>0</td>\n",
       "      <td>0</td>\n",
       "      <td>1</td>\n",
       "      <td>0</td>\n",
       "      <td>0</td>\n",
       "      <td>0</td>\n",
       "      <td>0</td>\n",
       "      <td>1</td>\n",
       "      <td>0</td>\n",
       "    </tr>\n",
       "    <tr>\n",
       "      <th>1</th>\n",
       "      <td>Osmosis</td>\n",
       "      <td>tv series</td>\n",
       "      <td>7043380</td>\n",
       "      <td>5.8</td>\n",
       "      <td>2851.0</td>\n",
       "      <td>Agathe Bonitzer, Hugo Becker, Gaël Kamilindi, ...</td>\n",
       "      <td>[Romance, Sci-Fi]</td>\n",
       "      <td>55.0</td>\n",
       "      <td>24.0</td>\n",
       "      <td>2019.0</td>\n",
       "      <td>...</td>\n",
       "      <td>0</td>\n",
       "      <td>0</td>\n",
       "      <td>0</td>\n",
       "      <td>0</td>\n",
       "      <td>1</td>\n",
       "      <td>1</td>\n",
       "      <td>0</td>\n",
       "      <td>0</td>\n",
       "      <td>0</td>\n",
       "      <td>0</td>\n",
       "    </tr>\n",
       "    <tr>\n",
       "      <th>2</th>\n",
       "      <td>Puerta 7</td>\n",
       "      <td>tv series</td>\n",
       "      <td>9170386</td>\n",
       "      <td>5.7</td>\n",
       "      <td>516.0</td>\n",
       "      <td>Dolores Fonzi, Esteban Lamothe, Carlos Belloso...</td>\n",
       "      <td>[Crime, Drama, Thriller]</td>\n",
       "      <td>45.0</td>\n",
       "      <td>14.0</td>\n",
       "      <td>2020.0</td>\n",
       "      <td>...</td>\n",
       "      <td>0</td>\n",
       "      <td>0</td>\n",
       "      <td>0</td>\n",
       "      <td>0</td>\n",
       "      <td>0</td>\n",
       "      <td>0</td>\n",
       "      <td>0</td>\n",
       "      <td>0</td>\n",
       "      <td>1</td>\n",
       "      <td>0</td>\n",
       "    </tr>\n",
       "    <tr>\n",
       "      <th>3</th>\n",
       "      <td>Holiday Secrets</td>\n",
       "      <td>tv mini series</td>\n",
       "      <td>11243536</td>\n",
       "      <td>6.5</td>\n",
       "      <td>1032.0</td>\n",
       "      <td>Corinna Harfouch, Christiane Paul, Svenja Jung...</td>\n",
       "      <td>[Drama]</td>\n",
       "      <td>NaN</td>\n",
       "      <td>7.0</td>\n",
       "      <td>2019.0</td>\n",
       "      <td>...</td>\n",
       "      <td>0</td>\n",
       "      <td>0</td>\n",
       "      <td>0</td>\n",
       "      <td>0</td>\n",
       "      <td>0</td>\n",
       "      <td>0</td>\n",
       "      <td>0</td>\n",
       "      <td>0</td>\n",
       "      <td>0</td>\n",
       "      <td>0</td>\n",
       "    </tr>\n",
       "    <tr>\n",
       "      <th>4</th>\n",
       "      <td>Mindhunter</td>\n",
       "      <td>tv series</td>\n",
       "      <td>5290382</td>\n",
       "      <td>8.6</td>\n",
       "      <td>246759.0</td>\n",
       "      <td>Jonathan Groff, Holt McCallany, Anna Torv, Son...</td>\n",
       "      <td>[Crime, Drama, Thriller]</td>\n",
       "      <td>60.0</td>\n",
       "      <td>25.0</td>\n",
       "      <td>2017.0</td>\n",
       "      <td>...</td>\n",
       "      <td>0</td>\n",
       "      <td>0</td>\n",
       "      <td>0</td>\n",
       "      <td>0</td>\n",
       "      <td>0</td>\n",
       "      <td>0</td>\n",
       "      <td>0</td>\n",
       "      <td>0</td>\n",
       "      <td>1</td>\n",
       "      <td>0</td>\n",
       "    </tr>\n",
       "  </tbody>\n",
       "</table>\n",
       "<p>5 rows × 43 columns</p>\n",
       "</div>"
      ],
      "text/plain": [
       "            Titulo           Check    IMDBid  Nota     Votos  \\\n",
       "0   The Chosen One       tv series   9048368   5.8     636.0   \n",
       "1          Osmosis       tv series   7043380   5.8    2851.0   \n",
       "2         Puerta 7       tv series   9170386   5.7     516.0   \n",
       "3  Holiday Secrets  tv mini series  11243536   6.5    1032.0   \n",
       "4       Mindhunter       tv series   5290382   8.6  246759.0   \n",
       "\n",
       "                                              Elenco  \\\n",
       "0  Renan Tenca, Paloma Bernardi, Gutto Szuster, P...   \n",
       "1  Agathe Bonitzer, Hugo Becker, Gaël Kamilindi, ...   \n",
       "2  Dolores Fonzi, Esteban Lamothe, Carlos Belloso...   \n",
       "3  Corinna Harfouch, Christiane Paul, Svenja Jung...   \n",
       "4  Jonathan Groff, Holt McCallany, Anna Torv, Son...   \n",
       "\n",
       "                     Gênero  Duração  Reviews     Ano  ... Horror Music  \\\n",
       "0       [Mystery, Thriller]     40.0     25.0  2019.0  ...      0     0   \n",
       "1         [Romance, Sci-Fi]     55.0     24.0  2019.0  ...      0     0   \n",
       "2  [Crime, Drama, Thriller]     45.0     14.0  2020.0  ...      0     0   \n",
       "3                   [Drama]      NaN      7.0  2019.0  ...      0     0   \n",
       "4  [Crime, Drama, Thriller]     60.0     25.0  2017.0  ...      0     0   \n",
       "\n",
       "  Musical Mystery Romance  Sci-Fi Short Sport  Thriller  Western  \n",
       "0       0       1       0       0     0     0         1        0  \n",
       "1       0       0       1       1     0     0         0        0  \n",
       "2       0       0       0       0     0     0         1        0  \n",
       "3       0       0       0       0     0     0         0        0  \n",
       "4       0       0       0       0     0     0         1        0  \n",
       "\n",
       "[5 rows x 43 columns]"
      ]
     },
     "execution_count": 34,
     "metadata": {},
     "output_type": "execute_result"
    }
   ],
   "source": [
    "dados.head(5)"
   ]
  },
  {
   "cell_type": "code",
   "execution_count": null,
   "metadata": {},
   "outputs": [],
   "source": [
    "#dados[colunas = 25:45].equals(dummies)"
   ]
  },
  {
   "cell_type": "code",
   "execution_count": 41,
   "metadata": {},
   "outputs": [
    {
     "ename": "TypeError",
     "evalue": "unhashable type: 'list'",
     "output_type": "error",
     "traceback": [
      "\u001b[1;31m---------------------------------------------------------------------------\u001b[0m",
      "\u001b[1;31mTypeError\u001b[0m                                 Traceback (most recent call last)",
      "\u001b[1;32mpandas\\_libs\\hashtable_class_helper.pxi\u001b[0m in \u001b[0;36mpandas._libs.hashtable.PyObjectHashTable.map_locations\u001b[1;34m()\u001b[0m\n",
      "\u001b[1;31mTypeError\u001b[0m: unhashable type: 'list'"
     ]
    },
    {
     "name": "stderr",
     "output_type": "stream",
     "text": [
      "Exception ignored in: 'pandas._libs.index.IndexEngine._call_map_locations'\n",
      "Traceback (most recent call last):\n",
      "  File \"pandas\\_libs\\hashtable_class_helper.pxi\", line 5231, in pandas._libs.hashtable.PyObjectHashTable.map_locations\n",
      "TypeError: unhashable type: 'list'\n"
     ]
    },
    {
     "data": {
      "text/plain": [
       "[Comedy]                                                10\n",
       "[Comedy, Drama]                                          6\n",
       "[Drama]                                                  6\n",
       "[Crime, Drama, Thriller]                                 5\n",
       "[Comedy, Drama, Romance]                                 5\n",
       "[Drama, Thriller]                                        3\n",
       "[Crime, Drama, Mystery, Thriller]                        3\n",
       "[Comedy, Drama, Fantasy]                                 2\n",
       "[Drama, Mystery, Thriller]                               2\n",
       "[Crime, Drama]                                           2\n",
       "[Comedy, Crime, Drama]                                   2\n",
       "[Biography, Crime, Drama, History]                       1\n",
       "[Biography, Drama, Music]                                1\n",
       "[Action, Crime, Drama, Thriller]                         1\n",
       "[Crime, Drama, Mystery, Sci-Fi, Thriller]                1\n",
       "[Drama, Horror, Mystery, Romance, Sci-Fi, Thriller]      1\n",
       "[Action, Drama, Western]                                 1\n",
       "[Drama, Sport]                                           1\n",
       "[Adventure, Drama]                                       1\n",
       "[Action, Drama, Romance]                                 1\n",
       "[Action, Adventure, Drama, Fantasy, Sci-Fi]              1\n",
       "[Drama, Fantasy, Horror, Thriller]                       1\n",
       "[Crime, Drama, Horror, Thriller]                         1\n",
       "[Action, Crime]                                          1\n",
       "[Comedy, Drama, Sci-Fi]                                  1\n",
       "[Crime, Drama, Mystery]                                  1\n",
       "[Short, Adventure, Comedy, Drama, Family]                1\n",
       "[Comedy, Drama, Thriller]                                1\n",
       "[Comedy, Crime, Drama, Mystery]                          1\n",
       "[Drama, Horror, Mystery, Thriller]                       1\n",
       "[Mystery, Thriller]                                      1\n",
       "[Crime, Drama, Fantasy]                                  1\n",
       "[Drama, Music]                                           1\n",
       "[Action, Horror, Thriller]                               1\n",
       "[Comedy, Drama, Music, Musical]                          1\n",
       "[Action, Crime, Drama, Sci-Fi, Thriller]                 1\n",
       "[Action, Drama, Fantasy]                                 1\n",
       "[Comedy, Crime, Drama, Musical]                          1\n",
       "[Comedy, Horror]                                         1\n",
       "[Drama, Sci-Fi, Thriller]                                1\n",
       "[Action, Crime, Drama, Mystery, Thriller]                1\n",
       "[Drama, Fantasy]                                         1\n",
       "[Comedy, Drama, Western]                                 1\n",
       "[Drama, Fantasy, Horror, Mystery, Thriller]              1\n",
       "[Drama, Fantasy, Mystery, Sci-Fi]                        1\n",
       "[Drama, Romance]                                         1\n",
       "[Action, Fantasy, Mystery, Sci-Fi, Thriller]             1\n",
       "[Action, Adventure, Crime, Fantasy, Sci-Fi]              1\n",
       "[Romance, Sci-Fi]                                        1\n",
       "[Adventure, Comedy, Drama, Family, Fantasy, Musical]     1\n",
       "[Drama, History, Sport]                                  1\n",
       "Name: Gênero, dtype: int64"
      ]
     },
     "execution_count": 41,
     "metadata": {},
     "output_type": "execute_result"
    }
   ],
   "source": [
    "dados['Gênero'].value_counts()"
   ]
  },
  {
   "cell_type": "code",
   "execution_count": 46,
   "metadata": {},
   "outputs": [
    {
     "data": {
      "text/plain": [
       "Index(['Titulo', 'Check', 'IMDBid', 'Nota', 'Votos', 'Elenco', 'Gênero',\n",
       "       'Duração', 'Reviews', 'Ano', 'Data de estréia', 'Roteiristas',\n",
       "       'Censura', 'País', 'Idiomas', 'Episodios', 'Nome', 'DataEstreia',\n",
       "       'CountPre', 'CountDurante', 'CountPos', 'CountTotal', 'user_reviews',\n",
       "       'critic_reviews', 'Action', 'Adventure', 'Biography', 'Comedy', 'Crime',\n",
       "       'Drama', 'Family', 'Fantasy', 'History', 'Horror', 'Music', 'Musical',\n",
       "       'Mystery', 'Romance', 'Sci-Fi', 'Short', 'Sport', 'Thriller',\n",
       "       'Western'],\n",
       "      dtype='object')"
      ]
     },
     "execution_count": 46,
     "metadata": {},
     "output_type": "execute_result"
    }
   ],
   "source": [
    "dados.columns"
   ]
  },
  {
   "cell_type": "code",
   "execution_count": 47,
   "metadata": {},
   "outputs": [
    {
     "data": {
      "text/plain": [
       "'Action'"
      ]
     },
     "execution_count": 47,
     "metadata": {},
     "output_type": "execute_result"
    }
   ],
   "source": [
    "dados.columns[24]"
   ]
  },
  {
   "cell_type": "markdown",
   "metadata": {},
   "source": [
    "### Nota do IMDB e número de votos por engajamento por engajamento"
   ]
  },
  {
   "cell_type": "code",
   "execution_count": 9,
   "metadata": {},
   "outputs": [
    {
     "data": {
      "text/plain": [
       "<AxesSubplot:xlabel='Nota', ylabel='CountTotal'>"
      ]
     },
     "execution_count": 9,
     "metadata": {},
     "output_type": "execute_result"
    },
    {
     "data": {
      "image/png": "[encoded data removed]",
      "text/plain": [
       "<Figure size 432x288 with 1 Axes>"
      ]
     },
     "metadata": {
      "needs_background": "light"
     },
     "output_type": "display_data"
    }
   ],
   "source": [
    "#dados['Nota'] CountPre CountDurante CountPos CountTotal\n",
    "\n",
    "sns.scatterplot(data=dado, x=\"Nota\", y=\"CountTotal\")"
   ]
  },
  {
   "cell_type": "code",
   "execution_count": 54,
   "metadata": {},
   "outputs": [
    {
     "data": {
      "text/plain": [
       "<AxesSubplot:xlabel='Nota', ylabel='CountTotal'>"
      ]
     },
     "execution_count": 54,
     "metadata": {},
     "output_type": "execute_result"
    },
    {
     "data": {
      "image/png": "[encoded data removed]",
      "text/plain": [
       "<Figure size 432x288 with 1 Axes>"
      ]
     },
     "metadata": {
      "needs_background": "light"
     },
     "output_type": "display_data"
    }
   ],
   "source": [
    "sns.scatterplot(data=dados, x=\"Nota\", y=\"CountTotal\")#, hue=dados['País'])"
   ]
  },
  {
   "cell_type": "code",
   "execution_count": 57,
   "metadata": {},
   "outputs": [
    {
     "data": {
      "text/plain": [
       "<AxesSubplot:xlabel='Nota', ylabel='País'>"
      ]
     },
     "execution_count": 57,
     "metadata": {},
     "output_type": "execute_result"
    },
    {
     "data": {
      "image/png": "[encoded data removed]",
      "text/plain": [
       "<Figure size 432x288 with 1 Axes>"
      ]
     },
     "metadata": {
      "needs_background": "light"
     },
     "output_type": "display_data"
    }
   ],
   "source": [
    "sns.boxplot(data=dados, x=\"Nota\", y=\"País\")#, hue=dados['País'])"
   ]
  },
  {
   "cell_type": "code",
   "execution_count": 58,
   "metadata": {},
   "outputs": [
    {
     "data": {
      "text/plain": [
       "<AxesSubplot:xlabel='Episodios', ylabel='Nota'>"
      ]
     },
     "execution_count": 58,
     "metadata": {},
     "output_type": "execute_result"
    },
    {
     "data": {
      "image/png": "[encoded data removed]",
      "text/plain": [
       "<Figure size 432x288 with 1 Axes>"
      ]
     },
     "metadata": {
      "needs_background": "light"
     },
     "output_type": "display_data"
    }
   ],
   "source": [
    "sns.boxplot(data=dados, x=\"Episodios\", y=\"Nota\")"
   ]
  },
  {
   "cell_type": "code",
   "execution_count": 59,
   "metadata": {},
   "outputs": [
    {
     "data": {
      "text/plain": [
       "<AxesSubplot:xlabel='Check', ylabel='Nota'>"
      ]
     },
     "execution_count": 59,
     "metadata": {},
     "output_type": "execute_result"
    },
    {
     "data": {
      "image/png": "[encoded data removed]",
      "text/plain": [
       "<Figure size 432x288 with 1 Axes>"
      ]
     },
     "metadata": {
      "needs_background": "light"
     },
     "output_type": "display_data"
    }
   ],
   "source": [
    "sns.boxplot(data=dados, x=\"Check\", y=\"Nota\")"
   ]
  },
  {
   "cell_type": "code",
   "execution_count": 11,
   "metadata": {},
   "outputs": [
    {
     "data": {
      "text/plain": [
       "<AxesSubplot:xlabel='Nota', ylabel='CountPre'>"
      ]
     },
     "execution_count": 11,
     "metadata": {},
     "output_type": "execute_result"
    },
    {
     "data": {
      "image/png": "[encoded data removed]",
      "text/plain": [
       "<Figure size 432x288 with 1 Axes>"
      ]
     },
     "metadata": {
      "needs_background": "light"
     },
     "output_type": "display_data"
    }
   ],
   "source": [
    "sns.scatterplot(data=dados, x=\"Nota\", y=\"CountPre\")"
   ]
  },
  {
   "cell_type": "code",
   "execution_count": 12,
   "metadata": {},
   "outputs": [
    {
     "data": {
      "text/plain": [
       "<AxesSubplot:xlabel='Nota', ylabel='CountDurante'>"
      ]
     },
     "execution_count": 12,
     "metadata": {},
     "output_type": "execute_result"
    },
    {
     "data": {
      "image/png": "[encoded data removed]",
      "text/plain": [
       "<Figure size 432x288 with 1 Axes>"
      ]
     },
     "metadata": {
      "needs_background": "light"
     },
     "output_type": "display_data"
    }
   ],
   "source": [
    "sns.scatterplot(data=dados, x=\"Nota\", y=\"CountDurante\")"
   ]
  },
  {
   "cell_type": "code",
   "execution_count": 13,
   "metadata": {},
   "outputs": [
    {
     "data": {
      "text/plain": [
       "<AxesSubplot:xlabel='Nota', ylabel='CountPos'>"
      ]
     },
     "execution_count": 13,
     "metadata": {},
     "output_type": "execute_result"
    },
    {
     "data": {
      "image/png": "[encoded data removed]",
      "text/plain": [
       "<Figure size 432x288 with 1 Axes>"
      ]
     },
     "metadata": {
      "needs_background": "light"
     },
     "output_type": "display_data"
    }
   ],
   "source": [
    "sns.scatterplot(data=dados, x=\"Nota\", y=\"CountPos\")"
   ]
  },
  {
   "cell_type": "code",
   "execution_count": 14,
   "metadata": {},
   "outputs": [
    {
     "data": {
      "text/html": [
       "<div>\n",
       "<style scoped>\n",
       "    .dataframe tbody tr th:only-of-type {\n",
       "        vertical-align: middle;\n",
       "    }\n",
       "\n",
       "    .dataframe tbody tr th {\n",
       "        vertical-align: top;\n",
       "    }\n",
       "\n",
       "    .dataframe thead th {\n",
       "        text-align: right;\n",
       "    }\n",
       "</style>\n",
       "<table border=\"1\" class=\"dataframe\">\n",
       "  <thead>\n",
       "    <tr style=\"text-align: right;\">\n",
       "      <th></th>\n",
       "      <th>IMDBid</th>\n",
       "      <th>Nota</th>\n",
       "      <th>Votos</th>\n",
       "      <th>Duração</th>\n",
       "      <th>Reviews</th>\n",
       "      <th>Ano</th>\n",
       "      <th>Episodios</th>\n",
       "      <th>CountPre</th>\n",
       "      <th>CountDurante</th>\n",
       "      <th>CountPos</th>\n",
       "      <th>CountTotal</th>\n",
       "      <th>user_reviews</th>\n",
       "      <th>critic_reviews</th>\n",
       "    </tr>\n",
       "  </thead>\n",
       "  <tbody>\n",
       "    <tr>\n",
       "      <th>IMDBid</th>\n",
       "      <td>1.000000</td>\n",
       "      <td>-0.438873</td>\n",
       "      <td>-0.543804</td>\n",
       "      <td>-0.050112</td>\n",
       "      <td>-0.203304</td>\n",
       "      <td>0.852411</td>\n",
       "      <td>-0.384553</td>\n",
       "      <td>-0.479329</td>\n",
       "      <td>-0.596080</td>\n",
       "      <td>-0.364468</td>\n",
       "      <td>-0.482506</td>\n",
       "      <td>-0.301997</td>\n",
       "      <td>-0.529820</td>\n",
       "    </tr>\n",
       "    <tr>\n",
       "      <th>Nota</th>\n",
       "      <td>-0.438873</td>\n",
       "      <td>1.000000</td>\n",
       "      <td>0.481724</td>\n",
       "      <td>0.159862</td>\n",
       "      <td>0.241047</td>\n",
       "      <td>-0.410434</td>\n",
       "      <td>0.070388</td>\n",
       "      <td>0.206121</td>\n",
       "      <td>0.405380</td>\n",
       "      <td>0.476275</td>\n",
       "      <td>0.476569</td>\n",
       "      <td>0.351861</td>\n",
       "      <td>0.428520</td>\n",
       "    </tr>\n",
       "    <tr>\n",
       "      <th>Votos</th>\n",
       "      <td>-0.543804</td>\n",
       "      <td>0.481724</td>\n",
       "      <td>1.000000</td>\n",
       "      <td>0.100280</td>\n",
       "      <td>0.175834</td>\n",
       "      <td>-0.559226</td>\n",
       "      <td>0.147458</td>\n",
       "      <td>0.467113</td>\n",
       "      <td>0.740705</td>\n",
       "      <td>0.636127</td>\n",
       "      <td>0.712633</td>\n",
       "      <td>0.671408</td>\n",
       "      <td>0.906763</td>\n",
       "    </tr>\n",
       "    <tr>\n",
       "      <th>Duração</th>\n",
       "      <td>-0.050112</td>\n",
       "      <td>0.159862</td>\n",
       "      <td>0.100280</td>\n",
       "      <td>1.000000</td>\n",
       "      <td>0.073352</td>\n",
       "      <td>0.066071</td>\n",
       "      <td>-0.110071</td>\n",
       "      <td>0.070078</td>\n",
       "      <td>0.143625</td>\n",
       "      <td>0.068403</td>\n",
       "      <td>0.092940</td>\n",
       "      <td>0.276086</td>\n",
       "      <td>0.191175</td>\n",
       "    </tr>\n",
       "    <tr>\n",
       "      <th>Reviews</th>\n",
       "      <td>-0.203304</td>\n",
       "      <td>0.241047</td>\n",
       "      <td>0.175834</td>\n",
       "      <td>0.073352</td>\n",
       "      <td>1.000000</td>\n",
       "      <td>-0.100923</td>\n",
       "      <td>0.156937</td>\n",
       "      <td>0.131058</td>\n",
       "      <td>0.218206</td>\n",
       "      <td>0.210372</td>\n",
       "      <td>0.225888</td>\n",
       "      <td>0.224466</td>\n",
       "      <td>0.246005</td>\n",
       "    </tr>\n",
       "    <tr>\n",
       "      <th>Ano</th>\n",
       "      <td>0.852411</td>\n",
       "      <td>-0.410434</td>\n",
       "      <td>-0.559226</td>\n",
       "      <td>0.066071</td>\n",
       "      <td>-0.100923</td>\n",
       "      <td>1.000000</td>\n",
       "      <td>-0.417665</td>\n",
       "      <td>-0.408439</td>\n",
       "      <td>-0.507547</td>\n",
       "      <td>-0.304749</td>\n",
       "      <td>-0.406723</td>\n",
       "      <td>-0.218032</td>\n",
       "      <td>-0.466299</td>\n",
       "    </tr>\n",
       "    <tr>\n",
       "      <th>Episodios</th>\n",
       "      <td>-0.384553</td>\n",
       "      <td>0.070388</td>\n",
       "      <td>0.147458</td>\n",
       "      <td>-0.110071</td>\n",
       "      <td>0.156937</td>\n",
       "      <td>-0.417665</td>\n",
       "      <td>1.000000</td>\n",
       "      <td>0.191909</td>\n",
       "      <td>0.160133</td>\n",
       "      <td>0.119649</td>\n",
       "      <td>0.157592</td>\n",
       "      <td>0.048742</td>\n",
       "      <td>0.119927</td>\n",
       "    </tr>\n",
       "    <tr>\n",
       "      <th>CountPre</th>\n",
       "      <td>-0.479329</td>\n",
       "      <td>0.206121</td>\n",
       "      <td>0.467113</td>\n",
       "      <td>0.070078</td>\n",
       "      <td>0.131058</td>\n",
       "      <td>-0.408439</td>\n",
       "      <td>0.191909</td>\n",
       "      <td>1.000000</td>\n",
       "      <td>0.774767</td>\n",
       "      <td>0.423803</td>\n",
       "      <td>0.659854</td>\n",
       "      <td>0.358995</td>\n",
       "      <td>0.631771</td>\n",
       "    </tr>\n",
       "    <tr>\n",
       "      <th>CountDurante</th>\n",
       "      <td>-0.596080</td>\n",
       "      <td>0.405380</td>\n",
       "      <td>0.740705</td>\n",
       "      <td>0.143625</td>\n",
       "      <td>0.218206</td>\n",
       "      <td>-0.507547</td>\n",
       "      <td>0.160133</td>\n",
       "      <td>0.774767</td>\n",
       "      <td>1.000000</td>\n",
       "      <td>0.624508</td>\n",
       "      <td>0.813774</td>\n",
       "      <td>0.479688</td>\n",
       "      <td>0.766159</td>\n",
       "    </tr>\n",
       "    <tr>\n",
       "      <th>CountPos</th>\n",
       "      <td>-0.364468</td>\n",
       "      <td>0.476275</td>\n",
       "      <td>0.636127</td>\n",
       "      <td>0.068403</td>\n",
       "      <td>0.210372</td>\n",
       "      <td>-0.304749</td>\n",
       "      <td>0.119649</td>\n",
       "      <td>0.423803</td>\n",
       "      <td>0.624508</td>\n",
       "      <td>1.000000</td>\n",
       "      <td>0.952900</td>\n",
       "      <td>0.573044</td>\n",
       "      <td>0.608712</td>\n",
       "    </tr>\n",
       "    <tr>\n",
       "      <th>CountTotal</th>\n",
       "      <td>-0.482506</td>\n",
       "      <td>0.476569</td>\n",
       "      <td>0.712633</td>\n",
       "      <td>0.092940</td>\n",
       "      <td>0.225888</td>\n",
       "      <td>-0.406723</td>\n",
       "      <td>0.157592</td>\n",
       "      <td>0.659854</td>\n",
       "      <td>0.813774</td>\n",
       "      <td>0.952900</td>\n",
       "      <td>1.000000</td>\n",
       "      <td>0.592375</td>\n",
       "      <td>0.727899</td>\n",
       "    </tr>\n",
       "    <tr>\n",
       "      <th>user_reviews</th>\n",
       "      <td>-0.301997</td>\n",
       "      <td>0.351861</td>\n",
       "      <td>0.671408</td>\n",
       "      <td>0.276086</td>\n",
       "      <td>0.224466</td>\n",
       "      <td>-0.218032</td>\n",
       "      <td>0.048742</td>\n",
       "      <td>0.358995</td>\n",
       "      <td>0.479688</td>\n",
       "      <td>0.573044</td>\n",
       "      <td>0.592375</td>\n",
       "      <td>1.000000</td>\n",
       "      <td>0.766768</td>\n",
       "    </tr>\n",
       "    <tr>\n",
       "      <th>critic_reviews</th>\n",
       "      <td>-0.529820</td>\n",
       "      <td>0.428520</td>\n",
       "      <td>0.906763</td>\n",
       "      <td>0.191175</td>\n",
       "      <td>0.246005</td>\n",
       "      <td>-0.466299</td>\n",
       "      <td>0.119927</td>\n",
       "      <td>0.631771</td>\n",
       "      <td>0.766159</td>\n",
       "      <td>0.608712</td>\n",
       "      <td>0.727899</td>\n",
       "      <td>0.766768</td>\n",
       "      <td>1.000000</td>\n",
       "    </tr>\n",
       "  </tbody>\n",
       "</table>\n",
       "</div>"
      ],
      "text/plain": [
       "                  IMDBid      Nota     Votos   Duração   Reviews       Ano  \\\n",
       "IMDBid          1.000000 -0.438873 -0.543804 -0.050112 -0.203304  0.852411   \n",
       "Nota           -0.438873  1.000000  0.481724  0.159862  0.241047 -0.410434   \n",
       "Votos          -0.543804  0.481724  1.000000  0.100280  0.175834 -0.559226   \n",
       "Duração        -0.050112  0.159862  0.100280  1.000000  0.073352  0.066071   \n",
       "Reviews        -0.203304  0.241047  0.175834  0.073352  1.000000 -0.100923   \n",
       "Ano             0.852411 -0.410434 -0.559226  0.066071 -0.100923  1.000000   \n",
       "Episodios      -0.384553  0.070388  0.147458 -0.110071  0.156937 -0.417665   \n",
       "CountPre       -0.479329  0.206121  0.467113  0.070078  0.131058 -0.408439   \n",
       "CountDurante   -0.596080  0.405380  0.740705  0.143625  0.218206 -0.507547   \n",
       "CountPos       -0.364468  0.476275  0.636127  0.068403  0.210372 -0.304749   \n",
       "CountTotal     -0.482506  0.476569  0.712633  0.092940  0.225888 -0.406723   \n",
       "user_reviews   -0.301997  0.351861  0.671408  0.276086  0.224466 -0.218032   \n",
       "critic_reviews -0.529820  0.428520  0.906763  0.191175  0.246005 -0.466299   \n",
       "\n",
       "                Episodios  CountPre  CountDurante  CountPos  CountTotal  \\\n",
       "IMDBid          -0.384553 -0.479329     -0.596080 -0.364468   -0.482506   \n",
       "Nota             0.070388  0.206121      0.405380  0.476275    0.476569   \n",
       "Votos            0.147458  0.467113      0.740705  0.636127    0.712633   \n",
       "Duração         -0.110071  0.070078      0.143625  0.068403    0.092940   \n",
       "Reviews          0.156937  0.131058      0.218206  0.210372    0.225888   \n",
       "Ano             -0.417665 -0.408439     -0.507547 -0.304749   -0.406723   \n",
       "Episodios        1.000000  0.191909      0.160133  0.119649    0.157592   \n",
       "CountPre         0.191909  1.000000      0.774767  0.423803    0.659854   \n",
       "CountDurante     0.160133  0.774767      1.000000  0.624508    0.813774   \n",
       "CountPos         0.119649  0.423803      0.624508  1.000000    0.952900   \n",
       "CountTotal       0.157592  0.659854      0.813774  0.952900    1.000000   \n",
       "user_reviews     0.048742  0.358995      0.479688  0.573044    0.592375   \n",
       "critic_reviews   0.119927  0.631771      0.766159  0.608712    0.727899   \n",
       "\n",
       "                user_reviews  critic_reviews  \n",
       "IMDBid             -0.301997       -0.529820  \n",
       "Nota                0.351861        0.428520  \n",
       "Votos               0.671408        0.906763  \n",
       "Duração             0.276086        0.191175  \n",
       "Reviews             0.224466        0.246005  \n",
       "Ano                -0.218032       -0.466299  \n",
       "Episodios           0.048742        0.119927  \n",
       "CountPre            0.358995        0.631771  \n",
       "CountDurante        0.479688        0.766159  \n",
       "CountPos            0.573044        0.608712  \n",
       "CountTotal          0.592375        0.727899  \n",
       "user_reviews        1.000000        0.766768  \n",
       "critic_reviews      0.766768        1.000000  "
      ]
     },
     "execution_count": 14,
     "metadata": {},
     "output_type": "execute_result"
    }
   ],
   "source": [
    "dados.corr(method='pearson')\n",
    "#dados.corr(method='spearman')"
   ]
  },
  {
   "cell_type": "code",
   "execution_count": 15,
   "metadata": {},
   "outputs": [
    {
     "data": {
      "text/html": [
       "<div>\n",
       "<style scoped>\n",
       "    .dataframe tbody tr th:only-of-type {\n",
       "        vertical-align: middle;\n",
       "    }\n",
       "\n",
       "    .dataframe tbody tr th {\n",
       "        vertical-align: top;\n",
       "    }\n",
       "\n",
       "    .dataframe thead th {\n",
       "        text-align: right;\n",
       "    }\n",
       "</style>\n",
       "<table border=\"1\" class=\"dataframe\">\n",
       "  <thead>\n",
       "    <tr style=\"text-align: right;\">\n",
       "      <th></th>\n",
       "      <th>IMDBid</th>\n",
       "      <th>Nota</th>\n",
       "      <th>Votos</th>\n",
       "      <th>Duração</th>\n",
       "      <th>Reviews</th>\n",
       "      <th>Ano</th>\n",
       "      <th>Episodios</th>\n",
       "      <th>CountPre</th>\n",
       "      <th>CountDurante</th>\n",
       "      <th>CountPos</th>\n",
       "      <th>CountTotal</th>\n",
       "      <th>user_reviews</th>\n",
       "      <th>critic_reviews</th>\n",
       "    </tr>\n",
       "  </thead>\n",
       "  <tbody>\n",
       "    <tr>\n",
       "      <th>IMDBid</th>\n",
       "      <td>1.000000</td>\n",
       "      <td>-0.406394</td>\n",
       "      <td>-0.521166</td>\n",
       "      <td>-0.117717</td>\n",
       "      <td>-0.227987</td>\n",
       "      <td>0.827372</td>\n",
       "      <td>-0.367692</td>\n",
       "      <td>-0.691602</td>\n",
       "      <td>-0.587313</td>\n",
       "      <td>-0.552356</td>\n",
       "      <td>-0.578967</td>\n",
       "      <td>-0.420673</td>\n",
       "      <td>-0.450195</td>\n",
       "    </tr>\n",
       "    <tr>\n",
       "      <th>Nota</th>\n",
       "      <td>-0.406394</td>\n",
       "      <td>1.000000</td>\n",
       "      <td>0.601788</td>\n",
       "      <td>0.134185</td>\n",
       "      <td>0.316387</td>\n",
       "      <td>-0.417161</td>\n",
       "      <td>0.113778</td>\n",
       "      <td>0.356452</td>\n",
       "      <td>0.459697</td>\n",
       "      <td>0.545541</td>\n",
       "      <td>0.512273</td>\n",
       "      <td>0.414229</td>\n",
       "      <td>0.432309</td>\n",
       "    </tr>\n",
       "    <tr>\n",
       "      <th>Votos</th>\n",
       "      <td>-0.521166</td>\n",
       "      <td>0.601788</td>\n",
       "      <td>1.000000</td>\n",
       "      <td>0.317217</td>\n",
       "      <td>0.567617</td>\n",
       "      <td>-0.343849</td>\n",
       "      <td>0.163860</td>\n",
       "      <td>0.692847</td>\n",
       "      <td>0.804532</td>\n",
       "      <td>0.816237</td>\n",
       "      <td>0.817801</td>\n",
       "      <td>0.881963</td>\n",
       "      <td>0.833268</td>\n",
       "    </tr>\n",
       "    <tr>\n",
       "      <th>Duração</th>\n",
       "      <td>-0.117717</td>\n",
       "      <td>0.134185</td>\n",
       "      <td>0.317217</td>\n",
       "      <td>1.000000</td>\n",
       "      <td>0.115969</td>\n",
       "      <td>-0.029714</td>\n",
       "      <td>-0.026586</td>\n",
       "      <td>0.328791</td>\n",
       "      <td>0.269810</td>\n",
       "      <td>0.265277</td>\n",
       "      <td>0.291063</td>\n",
       "      <td>0.290488</td>\n",
       "      <td>0.374427</td>\n",
       "    </tr>\n",
       "    <tr>\n",
       "      <th>Reviews</th>\n",
       "      <td>-0.227987</td>\n",
       "      <td>0.316387</td>\n",
       "      <td>0.567617</td>\n",
       "      <td>0.115969</td>\n",
       "      <td>1.000000</td>\n",
       "      <td>-0.118405</td>\n",
       "      <td>0.267075</td>\n",
       "      <td>0.353750</td>\n",
       "      <td>0.453055</td>\n",
       "      <td>0.460906</td>\n",
       "      <td>0.450246</td>\n",
       "      <td>0.533508</td>\n",
       "      <td>0.474128</td>\n",
       "    </tr>\n",
       "    <tr>\n",
       "      <th>Ano</th>\n",
       "      <td>0.827372</td>\n",
       "      <td>-0.417161</td>\n",
       "      <td>-0.343849</td>\n",
       "      <td>-0.029714</td>\n",
       "      <td>-0.118405</td>\n",
       "      <td>1.000000</td>\n",
       "      <td>-0.343698</td>\n",
       "      <td>-0.480547</td>\n",
       "      <td>-0.353203</td>\n",
       "      <td>-0.349872</td>\n",
       "      <td>-0.353556</td>\n",
       "      <td>-0.215682</td>\n",
       "      <td>-0.204901</td>\n",
       "    </tr>\n",
       "    <tr>\n",
       "      <th>Episodios</th>\n",
       "      <td>-0.367692</td>\n",
       "      <td>0.113778</td>\n",
       "      <td>0.163860</td>\n",
       "      <td>-0.026586</td>\n",
       "      <td>0.267075</td>\n",
       "      <td>-0.343698</td>\n",
       "      <td>1.000000</td>\n",
       "      <td>0.317934</td>\n",
       "      <td>0.353833</td>\n",
       "      <td>0.365534</td>\n",
       "      <td>0.362114</td>\n",
       "      <td>0.186603</td>\n",
       "      <td>0.126091</td>\n",
       "    </tr>\n",
       "    <tr>\n",
       "      <th>CountPre</th>\n",
       "      <td>-0.691602</td>\n",
       "      <td>0.356452</td>\n",
       "      <td>0.692847</td>\n",
       "      <td>0.328791</td>\n",
       "      <td>0.353750</td>\n",
       "      <td>-0.480547</td>\n",
       "      <td>0.317934</td>\n",
       "      <td>1.000000</td>\n",
       "      <td>0.873182</td>\n",
       "      <td>0.778786</td>\n",
       "      <td>0.842542</td>\n",
       "      <td>0.695150</td>\n",
       "      <td>0.703319</td>\n",
       "    </tr>\n",
       "    <tr>\n",
       "      <th>CountDurante</th>\n",
       "      <td>-0.587313</td>\n",
       "      <td>0.459697</td>\n",
       "      <td>0.804532</td>\n",
       "      <td>0.269810</td>\n",
       "      <td>0.453055</td>\n",
       "      <td>-0.353203</td>\n",
       "      <td>0.353833</td>\n",
       "      <td>0.873182</td>\n",
       "      <td>1.000000</td>\n",
       "      <td>0.916529</td>\n",
       "      <td>0.956945</td>\n",
       "      <td>0.798451</td>\n",
       "      <td>0.754600</td>\n",
       "    </tr>\n",
       "    <tr>\n",
       "      <th>CountPos</th>\n",
       "      <td>-0.552356</td>\n",
       "      <td>0.545541</td>\n",
       "      <td>0.816237</td>\n",
       "      <td>0.265277</td>\n",
       "      <td>0.460906</td>\n",
       "      <td>-0.349872</td>\n",
       "      <td>0.365534</td>\n",
       "      <td>0.778786</td>\n",
       "      <td>0.916529</td>\n",
       "      <td>1.000000</td>\n",
       "      <td>0.984754</td>\n",
       "      <td>0.786550</td>\n",
       "      <td>0.751146</td>\n",
       "    </tr>\n",
       "    <tr>\n",
       "      <th>CountTotal</th>\n",
       "      <td>-0.578967</td>\n",
       "      <td>0.512273</td>\n",
       "      <td>0.817801</td>\n",
       "      <td>0.291063</td>\n",
       "      <td>0.450246</td>\n",
       "      <td>-0.353556</td>\n",
       "      <td>0.362114</td>\n",
       "      <td>0.842542</td>\n",
       "      <td>0.956945</td>\n",
       "      <td>0.984754</td>\n",
       "      <td>1.000000</td>\n",
       "      <td>0.800082</td>\n",
       "      <td>0.766518</td>\n",
       "    </tr>\n",
       "    <tr>\n",
       "      <th>user_reviews</th>\n",
       "      <td>-0.420673</td>\n",
       "      <td>0.414229</td>\n",
       "      <td>0.881963</td>\n",
       "      <td>0.290488</td>\n",
       "      <td>0.533508</td>\n",
       "      <td>-0.215682</td>\n",
       "      <td>0.186603</td>\n",
       "      <td>0.695150</td>\n",
       "      <td>0.798451</td>\n",
       "      <td>0.786550</td>\n",
       "      <td>0.800082</td>\n",
       "      <td>1.000000</td>\n",
       "      <td>0.792196</td>\n",
       "    </tr>\n",
       "    <tr>\n",
       "      <th>critic_reviews</th>\n",
       "      <td>-0.450195</td>\n",
       "      <td>0.432309</td>\n",
       "      <td>0.833268</td>\n",
       "      <td>0.374427</td>\n",
       "      <td>0.474128</td>\n",
       "      <td>-0.204901</td>\n",
       "      <td>0.126091</td>\n",
       "      <td>0.703319</td>\n",
       "      <td>0.754600</td>\n",
       "      <td>0.751146</td>\n",
       "      <td>0.766518</td>\n",
       "      <td>0.792196</td>\n",
       "      <td>1.000000</td>\n",
       "    </tr>\n",
       "  </tbody>\n",
       "</table>\n",
       "</div>"
      ],
      "text/plain": [
       "                  IMDBid      Nota     Votos   Duração   Reviews       Ano  \\\n",
       "IMDBid          1.000000 -0.406394 -0.521166 -0.117717 -0.227987  0.827372   \n",
       "Nota           -0.406394  1.000000  0.601788  0.134185  0.316387 -0.417161   \n",
       "Votos          -0.521166  0.601788  1.000000  0.317217  0.567617 -0.343849   \n",
       "Duração        -0.117717  0.134185  0.317217  1.000000  0.115969 -0.029714   \n",
       "Reviews        -0.227987  0.316387  0.567617  0.115969  1.000000 -0.118405   \n",
       "Ano             0.827372 -0.417161 -0.343849 -0.029714 -0.118405  1.000000   \n",
       "Episodios      -0.367692  0.113778  0.163860 -0.026586  0.267075 -0.343698   \n",
       "CountPre       -0.691602  0.356452  0.692847  0.328791  0.353750 -0.480547   \n",
       "CountDurante   -0.587313  0.459697  0.804532  0.269810  0.453055 -0.353203   \n",
       "CountPos       -0.552356  0.545541  0.816237  0.265277  0.460906 -0.349872   \n",
       "CountTotal     -0.578967  0.512273  0.817801  0.291063  0.450246 -0.353556   \n",
       "user_reviews   -0.420673  0.414229  0.881963  0.290488  0.533508 -0.215682   \n",
       "critic_reviews -0.450195  0.432309  0.833268  0.374427  0.474128 -0.204901   \n",
       "\n",
       "                Episodios  CountPre  CountDurante  CountPos  CountTotal  \\\n",
       "IMDBid          -0.367692 -0.691602     -0.587313 -0.552356   -0.578967   \n",
       "Nota             0.113778  0.356452      0.459697  0.545541    0.512273   \n",
       "Votos            0.163860  0.692847      0.804532  0.816237    0.817801   \n",
       "Duração         -0.026586  0.328791      0.269810  0.265277    0.291063   \n",
       "Reviews          0.267075  0.353750      0.453055  0.460906    0.450246   \n",
       "Ano             -0.343698 -0.480547     -0.353203 -0.349872   -0.353556   \n",
       "Episodios        1.000000  0.317934      0.353833  0.365534    0.362114   \n",
       "CountPre         0.317934  1.000000      0.873182  0.778786    0.842542   \n",
       "CountDurante     0.353833  0.873182      1.000000  0.916529    0.956945   \n",
       "CountPos         0.365534  0.778786      0.916529  1.000000    0.984754   \n",
       "CountTotal       0.362114  0.842542      0.956945  0.984754    1.000000   \n",
       "user_reviews     0.186603  0.695150      0.798451  0.786550    0.800082   \n",
       "critic_reviews   0.126091  0.703319      0.754600  0.751146    0.766518   \n",
       "\n",
       "                user_reviews  critic_reviews  \n",
       "IMDBid             -0.420673       -0.450195  \n",
       "Nota                0.414229        0.432309  \n",
       "Votos               0.881963        0.833268  \n",
       "Duração             0.290488        0.374427  \n",
       "Reviews             0.533508        0.474128  \n",
       "Ano                -0.215682       -0.204901  \n",
       "Episodios           0.186603        0.126091  \n",
       "CountPre            0.695150        0.703319  \n",
       "CountDurante        0.798451        0.754600  \n",
       "CountPos            0.786550        0.751146  \n",
       "CountTotal          0.800082        0.766518  \n",
       "user_reviews        1.000000        0.792196  \n",
       "critic_reviews      0.792196        1.000000  "
      ]
     },
     "execution_count": 15,
     "metadata": {},
     "output_type": "execute_result"
    }
   ],
   "source": [
    "dados.corr(method='spearman')"
   ]
  },
  {
   "cell_type": "code",
   "execution_count": 16,
   "metadata": {},
   "outputs": [
    {
     "data": {
      "text/plain": [
       "<AxesSubplot:xlabel='Ano', ylabel='CountTotal'>"
      ]
     },
     "execution_count": 16,
     "metadata": {},
     "output_type": "execute_result"
    },
    {
     "data": {
      "image/png": "[encoded data removed]",
      "text/plain": [
       "<Figure size 432x288 with 1 Axes>"
      ]
     },
     "metadata": {
      "needs_background": "light"
     },
     "output_type": "display_data"
    }
   ],
   "source": [
    "sns.scatterplot(data=dados, x=\"Ano\", y=\"CountTotal\")"
   ]
  },
  {
   "cell_type": "code",
   "execution_count": 17,
   "metadata": {},
   "outputs": [
    {
     "data": {
      "text/plain": [
       "<AxesSubplot:xlabel='Ano', ylabel='Votos'>"
      ]
     },
     "execution_count": 17,
     "metadata": {},
     "output_type": "execute_result"
    },
    {
     "data": {
      "image/png": "[encoded data removed]",
      "text/plain": [
       "<Figure size 432x288 with 1 Axes>"
      ]
     },
     "metadata": {
      "needs_background": "light"
     },
     "output_type": "display_data"
    }
   ],
   "source": [
    "sns.scatterplot(data=dados, x=\"Ano\", y=\"Votos\")"
   ]
  },
  {
   "cell_type": "code",
   "execution_count": 18,
   "metadata": {},
   "outputs": [
    {
     "data": {
      "text/html": [
       "<div>\n",
       "<style scoped>\n",
       "    .dataframe tbody tr th:only-of-type {\n",
       "        vertical-align: middle;\n",
       "    }\n",
       "\n",
       "    .dataframe tbody tr th {\n",
       "        vertical-align: top;\n",
       "    }\n",
       "\n",
       "    .dataframe thead th {\n",
       "        text-align: right;\n",
       "    }\n",
       "</style>\n",
       "<table border=\"1\" class=\"dataframe\">\n",
       "  <thead>\n",
       "    <tr style=\"text-align: right;\">\n",
       "      <th></th>\n",
       "      <th>Titulo</th>\n",
       "      <th>Check</th>\n",
       "      <th>IMDBid</th>\n",
       "      <th>Nota</th>\n",
       "      <th>Votos</th>\n",
       "      <th>Elenco</th>\n",
       "      <th>Gênero</th>\n",
       "      <th>Duração</th>\n",
       "      <th>Reviews</th>\n",
       "      <th>Ano</th>\n",
       "      <th>...</th>\n",
       "      <th>Idiomas</th>\n",
       "      <th>Episodios</th>\n",
       "      <th>Nome</th>\n",
       "      <th>DataEstreia</th>\n",
       "      <th>CountPre</th>\n",
       "      <th>CountDurante</th>\n",
       "      <th>CountPos</th>\n",
       "      <th>CountTotal</th>\n",
       "      <th>user_reviews</th>\n",
       "      <th>critic_reviews</th>\n",
       "    </tr>\n",
       "  </thead>\n",
       "  <tbody>\n",
       "    <tr>\n",
       "      <th>71</th>\n",
       "      <td>House of Cards</td>\n",
       "      <td>tv series</td>\n",
       "      <td>1856010</td>\n",
       "      <td>8.7</td>\n",
       "      <td>482800.0</td>\n",
       "      <td>Robin Wright, Michael Kelly, Kevin Spacey, Jus...</td>\n",
       "      <td>Drama</td>\n",
       "      <td>51.0</td>\n",
       "      <td>25.0</td>\n",
       "      <td>2013.0</td>\n",
       "      <td>...</td>\n",
       "      <td>English</td>\n",
       "      <td>13.0</td>\n",
       "      <td>House of Cards</td>\n",
       "      <td>2013-02-01</td>\n",
       "      <td>4193.0</td>\n",
       "      <td>21081.0</td>\n",
       "      <td>62727.0</td>\n",
       "      <td>88001.0</td>\n",
       "      <td>893</td>\n",
       "      <td>169</td>\n",
       "    </tr>\n",
       "  </tbody>\n",
       "</table>\n",
       "<p>1 rows × 24 columns</p>\n",
       "</div>"
      ],
      "text/plain": [
       "            Titulo      Check   IMDBid  Nota     Votos  \\\n",
       "71  House of Cards  tv series  1856010   8.7  482800.0   \n",
       "\n",
       "                                               Elenco Gênero  Duração  \\\n",
       "71  Robin Wright, Michael Kelly, Kevin Spacey, Jus...  Drama     51.0   \n",
       "\n",
       "    Reviews     Ano  ...  Idiomas Episodios            Nome DataEstreia  \\\n",
       "71     25.0  2013.0  ...  English      13.0  House of Cards  2013-02-01   \n",
       "\n",
       "   CountPre  CountDurante CountPos CountTotal  user_reviews  critic_reviews  \n",
       "71   4193.0       21081.0  62727.0    88001.0           893             169  \n",
       "\n",
       "[1 rows x 24 columns]"
      ]
     },
     "execution_count": 18,
     "metadata": {},
     "output_type": "execute_result"
    }
   ],
   "source": [
    "dados[dados['Ano']==2013]"
   ]
  },
  {
   "cell_type": "code",
   "execution_count": 19,
   "metadata": {},
   "outputs": [
    {
     "data": {
      "text/plain": [
       "<AxesSubplot:xlabel='Votos', ylabel='CountTotal'>"
      ]
     },
     "execution_count": 19,
     "metadata": {},
     "output_type": "execute_result"
    },
    {
     "data": {
      "image/png": "[encoded data removed]",
      "text/plain": [
       "<Figure size 432x288 with 1 Axes>"
      ]
     },
     "metadata": {
      "needs_background": "light"
     },
     "output_type": "display_data"
    }
   ],
   "source": [
    "sns.scatterplot(data=dados, x=\"Votos\", y=\"CountTotal\")"
   ]
  },
  {
   "cell_type": "code",
   "execution_count": 20,
   "metadata": {},
   "outputs": [
    {
     "data": {
      "text/plain": [
       "<AxesSubplot:xlabel='Nota', ylabel='Votos'>"
      ]
     },
     "execution_count": 20,
     "metadata": {},
     "output_type": "execute_result"
    },
    {
     "data": {
      "image/png": "[encoded data removed]",
      "text/plain": [
       "<Figure size 432x288 with 1 Axes>"
      ]
     },
     "metadata": {
      "needs_background": "light"
     },
     "output_type": "display_data"
    }
   ],
   "source": [
    "sns.scatterplot(data=dados, x=\"Nota\", y=\"Votos\")"
   ]
  },
  {
   "cell_type": "markdown",
   "metadata": {},
   "source": [
    "## Votos"
   ]
  },
  {
   "cell_type": "code",
   "execution_count": 76,
   "metadata": {},
   "outputs": [
    {
     "data": {
      "text/plain": [
       "<AxesSubplot:xlabel='Votos', ylabel='Count'>"
      ]
     },
     "execution_count": 76,
     "metadata": {},
     "output_type": "execute_result"
    },
    {
     "data": {
      "image/png": "[encoded data removed]",
      "text/plain": [
       "<Figure size 432x288 with 1 Axes>"
      ]
     },
     "metadata": {
      "needs_background": "light"
     },
     "output_type": "display_data"
    }
   ],
   "source": [
    "# 120000 - 20000 - 2500\n",
    "sns.histplot(data=dados[dados[\"Votos\"] > 0], x=\"Votos\")#, log_scale=True)"
   ]
  },
  {
   "cell_type": "code",
   "execution_count": 82,
   "metadata": {},
   "outputs": [
    {
     "data": {
      "text/plain": [
       "<AxesSubplot:ylabel='Votos'>"
      ]
     },
     "execution_count": 82,
     "metadata": {},
     "output_type": "execute_result"
    },
    {
     "data": {
      "image/png": "[encoded data removed]",
      "text/plain": [
       "<Figure size 432x288 with 1 Axes>"
      ]
     },
     "metadata": {
      "needs_background": "light"
     },
     "output_type": "display_data"
    }
   ],
   "source": [
    "sns.boxplot(data=dados[dados[\"Votos\"] < 100000], y='Votos')"
   ]
  },
  {
   "cell_type": "code",
   "execution_count": 85,
   "metadata": {},
   "outputs": [
    {
     "data": {
      "text/plain": [
       "<AxesSubplot:xlabel='Nota', ylabel='Votos'>"
      ]
     },
     "execution_count": 85,
     "metadata": {},
     "output_type": "execute_result"
    },
    {
     "data": {
      "image/png": "[encoded data removed]",
      "text/plain": [
       "<Figure size 432x288 with 1 Axes>"
      ]
     },
     "metadata": {
      "needs_background": "light"
     },
     "output_type": "display_data"
    }
   ],
   "source": [
    "sns.scatterplot(data=dados, x=\"Nota\", y=\"Votos\")"
   ]
  },
  {
   "cell_type": "code",
   "execution_count": 87,
   "metadata": {},
   "outputs": [
    {
     "data": {
      "text/plain": [
       "<AxesSubplot:xlabel='Ano', ylabel='Votos'>"
      ]
     },
     "execution_count": 87,
     "metadata": {},
     "output_type": "execute_result"
    },
    {
     "data": {
      "image/png": "[encoded data removed]",
      "text/plain": [
       "<Figure size 432x288 with 1 Axes>"
      ]
     },
     "metadata": {
      "needs_background": "light"
     },
     "output_type": "display_data"
    }
   ],
   "source": [
    "sns.boxplot(data=dados, x=\"Ano\", y=\"Votos\")"
   ]
  },
  {
   "cell_type": "code",
   "execution_count": 90,
   "metadata": {},
   "outputs": [
    {
     "data": {
      "text/plain": [
       "<AxesSubplot:xlabel='Votos', ylabel='País'>"
      ]
     },
     "execution_count": 90,
     "metadata": {},
     "output_type": "execute_result"
    },
    {
     "data": {
      "image/png": "[encoded data removed]",
      "text/plain": [
       "<Figure size 432x288 with 1 Axes>"
      ]
     },
     "metadata": {
      "needs_background": "light"
     },
     "output_type": "display_data"
    }
   ],
   "source": [
    "sns.boxplot(data=dados, x=\"Votos\", y=\"País\")"
   ]
  },
  {
   "cell_type": "code",
   "execution_count": 91,
   "metadata": {},
   "outputs": [
    {
     "data": {
      "text/plain": [
       "<AxesSubplot:xlabel='Episodios', ylabel='Votos'>"
      ]
     },
     "execution_count": 91,
     "metadata": {},
     "output_type": "execute_result"
    },
    {
     "data": {
      "image/png": "[encoded data removed]",
      "text/plain": [
       "<Figure size 432x288 with 1 Axes>"
      ]
     },
     "metadata": {
      "needs_background": "light"
     },
     "output_type": "display_data"
    }
   ],
   "source": [
    "sns.boxplot(data=dados, x=\"Episodios\", y=\"Votos\")"
   ]
  },
  {
   "cell_type": "code",
   "execution_count": 92,
   "metadata": {},
   "outputs": [
    {
     "data": {
      "text/plain": [
       "<AxesSubplot:xlabel='user_reviews', ylabel='Votos'>"
      ]
     },
     "execution_count": 92,
     "metadata": {},
     "output_type": "execute_result"
    },
    {
     "data": {
      "image/png": "[encoded data removed]",
      "text/plain": [
       "<Figure size 432x288 with 1 Axes>"
      ]
     },
     "metadata": {
      "needs_background": "light"
     },
     "output_type": "display_data"
    }
   ],
   "source": [
    "sns.scatterplot(data=dados, x=\"user_reviews\", y=\"Votos\")"
   ]
  },
  {
   "cell_type": "code",
   "execution_count": 93,
   "metadata": {},
   "outputs": [
    {
     "data": {
      "text/plain": [
       "<AxesSubplot:xlabel='critic_reviews', ylabel='Votos'>"
      ]
     },
     "execution_count": 93,
     "metadata": {},
     "output_type": "execute_result"
    },
    {
     "data": {
      "image/png": "[encoded data removed]",
      "text/plain": [
       "<Figure size 432x288 with 1 Axes>"
      ]
     },
     "metadata": {
      "needs_background": "light"
     },
     "output_type": "display_data"
    }
   ],
   "source": [
    "sns.scatterplot(data=dados, x=\"critic_reviews\", y=\"Votos\")"
   ]
  },
  {
   "cell_type": "markdown",
   "metadata": {},
   "source": [
    "### Número e duração de episódios por engajamento"
   ]
  },
  {
   "cell_type": "code",
   "execution_count": 21,
   "metadata": {},
   "outputs": [
    {
     "data": {
      "text/plain": [
       "<AxesSubplot:xlabel='Episodios', ylabel='CountTotal'>"
      ]
     },
     "execution_count": 21,
     "metadata": {},
     "output_type": "execute_result"
    },
    {
     "data": {
      "image/png": "[encoded data removed]",
      "text/plain": [
       "<Figure size 432x288 with 1 Axes>"
      ]
     },
     "metadata": {
      "needs_background": "light"
     },
     "output_type": "display_data"
    }
   ],
   "source": [
    "sns.scatterplot(data=dados, x=\"Episodios\", y=\"CountTotal\")"
   ]
  },
  {
   "cell_type": "code",
   "execution_count": null,
   "metadata": {},
   "outputs": [],
   "source": [
    "dados.co"
   ]
  },
  {
   "cell_type": "code",
   "execution_count": 22,
   "metadata": {},
   "outputs": [
    {
     "data": {
      "text/plain": [
       "<AxesSubplot:xlabel='Duração', ylabel='CountTotal'>"
      ]
     },
     "execution_count": 22,
     "metadata": {},
     "output_type": "execute_result"
    },
    {
     "data": {
      "image/png": "[encoded data removed]",
      "text/plain": [
       "<Figure size 432x288 with 1 Axes>"
      ]
     },
     "metadata": {
      "needs_background": "light"
     },
     "output_type": "display_data"
    }
   ],
   "source": [
    "sns.scatterplot(data=dados, x=\"Duração\", y=\"CountTotal\")"
   ]
  },
  {
   "cell_type": "code",
   "execution_count": 57,
   "metadata": {},
   "outputs": [
    {
     "data": {
      "text/html": [
       "<div>\n",
       "<style scoped>\n",
       "    .dataframe tbody tr th:only-of-type {\n",
       "        vertical-align: middle;\n",
       "    }\n",
       "\n",
       "    .dataframe tbody tr th {\n",
       "        vertical-align: top;\n",
       "    }\n",
       "\n",
       "    .dataframe thead th {\n",
       "        text-align: right;\n",
       "    }\n",
       "</style>\n",
       "<table border=\"1\" class=\"dataframe\">\n",
       "  <thead>\n",
       "    <tr style=\"text-align: right;\">\n",
       "      <th></th>\n",
       "      <th>Titulo</th>\n",
       "      <th>Check</th>\n",
       "      <th>IMDBid</th>\n",
       "      <th>Nota</th>\n",
       "      <th>Votos</th>\n",
       "      <th>Elenco</th>\n",
       "      <th>Gênero</th>\n",
       "      <th>Duração</th>\n",
       "      <th>Reviews</th>\n",
       "      <th>Ano</th>\n",
       "      <th>...</th>\n",
       "      <th>Idiomas</th>\n",
       "      <th>Episodios</th>\n",
       "      <th>Nome</th>\n",
       "      <th>DataEstreia</th>\n",
       "      <th>CountPre</th>\n",
       "      <th>CountDurante</th>\n",
       "      <th>CountPos</th>\n",
       "      <th>CountTotal</th>\n",
       "      <th>user_reviews</th>\n",
       "      <th>critic_reviews</th>\n",
       "    </tr>\n",
       "  </thead>\n",
       "  <tbody>\n",
       "    <tr>\n",
       "      <th>47</th>\n",
       "      <td>Behind Her Eyes</td>\n",
       "      <td>tv mini series</td>\n",
       "      <td>9698442</td>\n",
       "      <td>7.2</td>\n",
       "      <td>51164.0</td>\n",
       "      <td>Simona Brown, Eve Hewson, Tom Bateman, Robert ...</td>\n",
       "      <td>Drama, Mystery, Thriller</td>\n",
       "      <td>298.0</td>\n",
       "      <td>25.0</td>\n",
       "      <td>2021.0</td>\n",
       "      <td>...</td>\n",
       "      <td>English</td>\n",
       "      <td>6.0</td>\n",
       "      <td>Behind Her Eyes</td>\n",
       "      <td>2021-02-17</td>\n",
       "      <td>474.0</td>\n",
       "      <td>4177.0</td>\n",
       "      <td>20482.0</td>\n",
       "      <td>25133.0</td>\n",
       "      <td>1000</td>\n",
       "      <td>44</td>\n",
       "    </tr>\n",
       "    <tr>\n",
       "      <th>51</th>\n",
       "      <td>Godless</td>\n",
       "      <td>tv mini series</td>\n",
       "      <td>5516154</td>\n",
       "      <td>8.3</td>\n",
       "      <td>59209.0</td>\n",
       "      <td>Jack O'Connell, Michelle Dockery, Scoot McNair...</td>\n",
       "      <td>Action, Drama, Western</td>\n",
       "      <td>452.0</td>\n",
       "      <td>25.0</td>\n",
       "      <td>2017.0</td>\n",
       "      <td>...</td>\n",
       "      <td>English</td>\n",
       "      <td>7.0</td>\n",
       "      <td>Godless</td>\n",
       "      <td>2017-11-22</td>\n",
       "      <td>2033.0</td>\n",
       "      <td>3078.0</td>\n",
       "      <td>10335.0</td>\n",
       "      <td>15446.0</td>\n",
       "      <td>394</td>\n",
       "      <td>34</td>\n",
       "    </tr>\n",
       "    <tr>\n",
       "      <th>61</th>\n",
       "      <td>Maniac</td>\n",
       "      <td>tv mini series</td>\n",
       "      <td>5580146</td>\n",
       "      <td>7.7</td>\n",
       "      <td>71686.0</td>\n",
       "      <td>Emma Stone, Jonah Hill, Sonoya Mizuno, Justin ...</td>\n",
       "      <td>Comedy, Drama, Sci-Fi</td>\n",
       "      <td>386.0</td>\n",
       "      <td>25.0</td>\n",
       "      <td>2018.0</td>\n",
       "      <td>...</td>\n",
       "      <td>English</td>\n",
       "      <td>10.0</td>\n",
       "      <td>Maniac</td>\n",
       "      <td>2018-09-21</td>\n",
       "      <td>8295.0</td>\n",
       "      <td>9035.0</td>\n",
       "      <td>19027.0</td>\n",
       "      <td>36357.0</td>\n",
       "      <td>725</td>\n",
       "      <td>40</td>\n",
       "    </tr>\n",
       "    <tr>\n",
       "      <th>72</th>\n",
       "      <td>When They See Us</td>\n",
       "      <td>tv mini series</td>\n",
       "      <td>7137906</td>\n",
       "      <td>8.9</td>\n",
       "      <td>106737.0</td>\n",
       "      <td>Asante Blackk, Caleel Harris, Ethan Herisse, M...</td>\n",
       "      <td>Biography, Crime, Drama, History</td>\n",
       "      <td>296.0</td>\n",
       "      <td>25.0</td>\n",
       "      <td>2019.0</td>\n",
       "      <td>...</td>\n",
       "      <td>English</td>\n",
       "      <td>4.0</td>\n",
       "      <td>When They See Us</td>\n",
       "      <td>2019-05-31</td>\n",
       "      <td>3204.0</td>\n",
       "      <td>19731.0</td>\n",
       "      <td>39355.0</td>\n",
       "      <td>62290.0</td>\n",
       "      <td>679</td>\n",
       "      <td>47</td>\n",
       "    </tr>\n",
       "    <tr>\n",
       "      <th>77</th>\n",
       "      <td>The Haunting of Bly Manor</td>\n",
       "      <td>tv mini series</td>\n",
       "      <td>10970552</td>\n",
       "      <td>7.4</td>\n",
       "      <td>87053.0</td>\n",
       "      <td>Victoria Pedretti, Oliver Jackson-Cohen, Ameli...</td>\n",
       "      <td>Drama, Horror, Mystery, Thriller</td>\n",
       "      <td>494.0</td>\n",
       "      <td>25.0</td>\n",
       "      <td>2020.0</td>\n",
       "      <td>...</td>\n",
       "      <td>English</td>\n",
       "      <td>9.0</td>\n",
       "      <td>The Haunting of Bly Manor</td>\n",
       "      <td>2020-10-09</td>\n",
       "      <td>3459.0</td>\n",
       "      <td>4436.0</td>\n",
       "      <td>5971.0</td>\n",
       "      <td>13866.0</td>\n",
       "      <td>2100</td>\n",
       "      <td>97</td>\n",
       "    </tr>\n",
       "    <tr>\n",
       "      <th>82</th>\n",
       "      <td>The English Game</td>\n",
       "      <td>tv mini series</td>\n",
       "      <td>8403664</td>\n",
       "      <td>7.6</td>\n",
       "      <td>13463.0</td>\n",
       "      <td>Edward Holcroft, Kevin Guthrie, Charlotte Hope...</td>\n",
       "      <td>Drama, History, Sport</td>\n",
       "      <td>281.0</td>\n",
       "      <td>25.0</td>\n",
       "      <td>2020.0</td>\n",
       "      <td>...</td>\n",
       "      <td>English</td>\n",
       "      <td>6.0</td>\n",
       "      <td>The English Game</td>\n",
       "      <td>2020-03-20</td>\n",
       "      <td>0.0</td>\n",
       "      <td>1.0</td>\n",
       "      <td>5.0</td>\n",
       "      <td>6.0</td>\n",
       "      <td>162</td>\n",
       "      <td>17</td>\n",
       "    </tr>\n",
       "    <tr>\n",
       "      <th>84</th>\n",
       "      <td>Homemade</td>\n",
       "      <td>tv series</td>\n",
       "      <td>12574336</td>\n",
       "      <td>5.9</td>\n",
       "      <td>742.0</td>\n",
       "      <td>Kristen Stewart, Peter Sarsgaard, Cate Blanche...</td>\n",
       "      <td>Drama</td>\n",
       "      <td>138.0</td>\n",
       "      <td>10.0</td>\n",
       "      <td>2020.0</td>\n",
       "      <td>...</td>\n",
       "      <td>English, Italian, Spanish</td>\n",
       "      <td>17.0</td>\n",
       "      <td>Homemade</td>\n",
       "      <td>2020-06-30</td>\n",
       "      <td>142.0</td>\n",
       "      <td>180.0</td>\n",
       "      <td>232.0</td>\n",
       "      <td>554.0</td>\n",
       "      <td>10</td>\n",
       "      <td>5</td>\n",
       "    </tr>\n",
       "  </tbody>\n",
       "</table>\n",
       "<p>7 rows × 24 columns</p>\n",
       "</div>"
      ],
      "text/plain": [
       "                       Titulo           Check    IMDBid  Nota     Votos  \\\n",
       "47            Behind Her Eyes  tv mini series   9698442   7.2   51164.0   \n",
       "51                    Godless  tv mini series   5516154   8.3   59209.0   \n",
       "61                     Maniac  tv mini series   5580146   7.7   71686.0   \n",
       "72           When They See Us  tv mini series   7137906   8.9  106737.0   \n",
       "77  The Haunting of Bly Manor  tv mini series  10970552   7.4   87053.0   \n",
       "82           The English Game  tv mini series   8403664   7.6   13463.0   \n",
       "84                   Homemade       tv series  12574336   5.9     742.0   \n",
       "\n",
       "                                               Elenco  \\\n",
       "47  Simona Brown, Eve Hewson, Tom Bateman, Robert ...   \n",
       "51  Jack O'Connell, Michelle Dockery, Scoot McNair...   \n",
       "61  Emma Stone, Jonah Hill, Sonoya Mizuno, Justin ...   \n",
       "72  Asante Blackk, Caleel Harris, Ethan Herisse, M...   \n",
       "77  Victoria Pedretti, Oliver Jackson-Cohen, Ameli...   \n",
       "82  Edward Holcroft, Kevin Guthrie, Charlotte Hope...   \n",
       "84  Kristen Stewart, Peter Sarsgaard, Cate Blanche...   \n",
       "\n",
       "                              Gênero  Duração  Reviews     Ano  ...  \\\n",
       "47          Drama, Mystery, Thriller    298.0     25.0  2021.0  ...   \n",
       "51            Action, Drama, Western    452.0     25.0  2017.0  ...   \n",
       "61             Comedy, Drama, Sci-Fi    386.0     25.0  2018.0  ...   \n",
       "72  Biography, Crime, Drama, History    296.0     25.0  2019.0  ...   \n",
       "77  Drama, Horror, Mystery, Thriller    494.0     25.0  2020.0  ...   \n",
       "82             Drama, History, Sport    281.0     25.0  2020.0  ...   \n",
       "84                             Drama    138.0     10.0  2020.0  ...   \n",
       "\n",
       "                      Idiomas Episodios                       Nome  \\\n",
       "47                    English       6.0            Behind Her Eyes   \n",
       "51                    English       7.0                    Godless   \n",
       "61                    English      10.0                     Maniac   \n",
       "72                    English       4.0           When They See Us   \n",
       "77                    English       9.0  The Haunting of Bly Manor   \n",
       "82                    English       6.0           The English Game   \n",
       "84  English, Italian, Spanish      17.0                   Homemade   \n",
       "\n",
       "   DataEstreia CountPre  CountDurante CountPos CountTotal  user_reviews  \\\n",
       "47  2021-02-17    474.0        4177.0  20482.0    25133.0          1000   \n",
       "51  2017-11-22   2033.0        3078.0  10335.0    15446.0           394   \n",
       "61  2018-09-21   8295.0        9035.0  19027.0    36357.0           725   \n",
       "72  2019-05-31   3204.0       19731.0  39355.0    62290.0           679   \n",
       "77  2020-10-09   3459.0        4436.0   5971.0    13866.0          2100   \n",
       "82  2020-03-20      0.0           1.0      5.0        6.0           162   \n",
       "84  2020-06-30    142.0         180.0    232.0      554.0            10   \n",
       "\n",
       "    critic_reviews  \n",
       "47              44  \n",
       "51              34  \n",
       "61              40  \n",
       "72              47  \n",
       "77              97  \n",
       "82              17  \n",
       "84               5  \n",
       "\n",
       "[7 rows x 24 columns]"
      ]
     },
     "execution_count": 57,
     "metadata": {},
     "output_type": "execute_result"
    }
   ],
   "source": [
    "dados[dados['Duração']>100] #corrigir, pegar a media por episodio (duracao/episodios)"
   ]
  },
  {
   "cell_type": "markdown",
   "metadata": {},
   "source": [
    "## Atores e engajamento"
   ]
  },
  {
   "cell_type": "code",
   "execution_count": null,
   "metadata": {},
   "outputs": [],
   "source": []
  },
  {
   "cell_type": "markdown",
   "metadata": {},
   "source": [
    "## Influência de engajamento anterior no posterior"
   ]
  },
  {
   "cell_type": "code",
   "execution_count": 58,
   "metadata": {},
   "outputs": [
    {
     "data": {
      "text/plain": [
       "<AxesSubplot:xlabel='CountPre', ylabel='CountDurante'>"
      ]
     },
     "execution_count": 58,
     "metadata": {},
     "output_type": "execute_result"
    },
    {
     "data": {
      "image/png": "[encoded data removed]",
      "text/plain": [
       "<Figure size 432x288 with 1 Axes>"
      ]
     },
     "metadata": {
      "needs_background": "light"
     },
     "output_type": "display_data"
    }
   ],
   "source": [
    "sns.scatterplot(data=dados, x=\"CountPre\", y=\"CountDurante\")"
   ]
  },
  {
   "cell_type": "code",
   "execution_count": 59,
   "metadata": {},
   "outputs": [
    {
     "data": {
      "text/plain": [
       "<AxesSubplot:xlabel='CountDurante', ylabel='CountPos'>"
      ]
     },
     "execution_count": 59,
     "metadata": {},
     "output_type": "execute_result"
    },
    {
     "data": {
      "image/png": "[encoded data removed]",
      "text/plain": [
       "<Figure size 432x288 with 1 Axes>"
      ]
     },
     "metadata": {
      "needs_background": "light"
     },
     "output_type": "display_data"
    }
   ],
   "source": [
    "sns.scatterplot(data=dados[dados['Titulo']!=\"Stranger Things\"], x=\"CountDurante\", y=\"CountPos\")"
   ]
  },
  {
   "cell_type": "markdown",
   "metadata": {},
   "source": [
    "## Engajamento e genêro"
   ]
  },
  {
   "cell_type": "code",
   "execution_count": 60,
   "metadata": {},
   "outputs": [
    {
     "data": {
      "text/plain": [
       "0          [Mystery, Thriller]\n",
       "1            [Romance, Sci-Fi]\n",
       "2     [Crime, Drama, Thriller]\n",
       "3                      [Drama]\n",
       "4     [Crime, Drama, Thriller]\n",
       "                ...           \n",
       "80    [Crime, Drama, Thriller]\n",
       "81             [Comedy, Drama]\n",
       "82     [Drama, History, Sport]\n",
       "83                     [Drama]\n",
       "84                     [Drama]\n",
       "Name: Gênero, Length: 85, dtype: object"
      ]
     },
     "execution_count": 60,
     "metadata": {},
     "output_type": "execute_result"
    }
   ],
   "source": [
    "dados['Gênero'] = dados['Gênero'].apply(lambda x : x.split(\", \"))\n",
    "dados['Gênero']"
   ]
  },
  {
   "cell_type": "code",
   "execution_count": 61,
   "metadata": {},
   "outputs": [
    {
     "data": {
      "text/html": [
       "<div>\n",
       "<style scoped>\n",
       "    .dataframe tbody tr th:only-of-type {\n",
       "        vertical-align: middle;\n",
       "    }\n",
       "\n",
       "    .dataframe tbody tr th {\n",
       "        vertical-align: top;\n",
       "    }\n",
       "\n",
       "    .dataframe thead th {\n",
       "        text-align: right;\n",
       "    }\n",
       "</style>\n",
       "<table border=\"1\" class=\"dataframe\">\n",
       "  <thead>\n",
       "    <tr style=\"text-align: right;\">\n",
       "      <th></th>\n",
       "      <th>Action</th>\n",
       "      <th>Adventure</th>\n",
       "      <th>Biography</th>\n",
       "      <th>Comedy</th>\n",
       "      <th>Crime</th>\n",
       "      <th>Drama</th>\n",
       "      <th>Family</th>\n",
       "      <th>Fantasy</th>\n",
       "      <th>History</th>\n",
       "      <th>Horror</th>\n",
       "      <th>Music</th>\n",
       "      <th>Musical</th>\n",
       "      <th>Mystery</th>\n",
       "      <th>Romance</th>\n",
       "      <th>Sci-Fi</th>\n",
       "      <th>Short</th>\n",
       "      <th>Sport</th>\n",
       "      <th>Thriller</th>\n",
       "      <th>Western</th>\n",
       "    </tr>\n",
       "  </thead>\n",
       "  <tbody>\n",
       "    <tr>\n",
       "      <th>0</th>\n",
       "      <td>0</td>\n",
       "      <td>0</td>\n",
       "      <td>0</td>\n",
       "      <td>0</td>\n",
       "      <td>0</td>\n",
       "      <td>0</td>\n",
       "      <td>0</td>\n",
       "      <td>0</td>\n",
       "      <td>0</td>\n",
       "      <td>0</td>\n",
       "      <td>0</td>\n",
       "      <td>0</td>\n",
       "      <td>1</td>\n",
       "      <td>0</td>\n",
       "      <td>0</td>\n",
       "      <td>0</td>\n",
       "      <td>0</td>\n",
       "      <td>1</td>\n",
       "      <td>0</td>\n",
       "    </tr>\n",
       "    <tr>\n",
       "      <th>1</th>\n",
       "      <td>0</td>\n",
       "      <td>0</td>\n",
       "      <td>0</td>\n",
       "      <td>0</td>\n",
       "      <td>0</td>\n",
       "      <td>0</td>\n",
       "      <td>0</td>\n",
       "      <td>0</td>\n",
       "      <td>0</td>\n",
       "      <td>0</td>\n",
       "      <td>0</td>\n",
       "      <td>0</td>\n",
       "      <td>0</td>\n",
       "      <td>1</td>\n",
       "      <td>1</td>\n",
       "      <td>0</td>\n",
       "      <td>0</td>\n",
       "      <td>0</td>\n",
       "      <td>0</td>\n",
       "    </tr>\n",
       "    <tr>\n",
       "      <th>2</th>\n",
       "      <td>0</td>\n",
       "      <td>0</td>\n",
       "      <td>0</td>\n",
       "      <td>0</td>\n",
       "      <td>1</td>\n",
       "      <td>1</td>\n",
       "      <td>0</td>\n",
       "      <td>0</td>\n",
       "      <td>0</td>\n",
       "      <td>0</td>\n",
       "      <td>0</td>\n",
       "      <td>0</td>\n",
       "      <td>0</td>\n",
       "      <td>0</td>\n",
       "      <td>0</td>\n",
       "      <td>0</td>\n",
       "      <td>0</td>\n",
       "      <td>1</td>\n",
       "      <td>0</td>\n",
       "    </tr>\n",
       "    <tr>\n",
       "      <th>3</th>\n",
       "      <td>0</td>\n",
       "      <td>0</td>\n",
       "      <td>0</td>\n",
       "      <td>0</td>\n",
       "      <td>0</td>\n",
       "      <td>1</td>\n",
       "      <td>0</td>\n",
       "      <td>0</td>\n",
       "      <td>0</td>\n",
       "      <td>0</td>\n",
       "      <td>0</td>\n",
       "      <td>0</td>\n",
       "      <td>0</td>\n",
       "      <td>0</td>\n",
       "      <td>0</td>\n",
       "      <td>0</td>\n",
       "      <td>0</td>\n",
       "      <td>0</td>\n",
       "      <td>0</td>\n",
       "    </tr>\n",
       "    <tr>\n",
       "      <th>4</th>\n",
       "      <td>0</td>\n",
       "      <td>0</td>\n",
       "      <td>0</td>\n",
       "      <td>0</td>\n",
       "      <td>1</td>\n",
       "      <td>1</td>\n",
       "      <td>0</td>\n",
       "      <td>0</td>\n",
       "      <td>0</td>\n",
       "      <td>0</td>\n",
       "      <td>0</td>\n",
       "      <td>0</td>\n",
       "      <td>0</td>\n",
       "      <td>0</td>\n",
       "      <td>0</td>\n",
       "      <td>0</td>\n",
       "      <td>0</td>\n",
       "      <td>1</td>\n",
       "      <td>0</td>\n",
       "    </tr>\n",
       "    <tr>\n",
       "      <th>...</th>\n",
       "      <td>...</td>\n",
       "      <td>...</td>\n",
       "      <td>...</td>\n",
       "      <td>...</td>\n",
       "      <td>...</td>\n",
       "      <td>...</td>\n",
       "      <td>...</td>\n",
       "      <td>...</td>\n",
       "      <td>...</td>\n",
       "      <td>...</td>\n",
       "      <td>...</td>\n",
       "      <td>...</td>\n",
       "      <td>...</td>\n",
       "      <td>...</td>\n",
       "      <td>...</td>\n",
       "      <td>...</td>\n",
       "      <td>...</td>\n",
       "      <td>...</td>\n",
       "      <td>...</td>\n",
       "    </tr>\n",
       "    <tr>\n",
       "      <th>80</th>\n",
       "      <td>0</td>\n",
       "      <td>0</td>\n",
       "      <td>0</td>\n",
       "      <td>0</td>\n",
       "      <td>1</td>\n",
       "      <td>1</td>\n",
       "      <td>0</td>\n",
       "      <td>0</td>\n",
       "      <td>0</td>\n",
       "      <td>0</td>\n",
       "      <td>0</td>\n",
       "      <td>0</td>\n",
       "      <td>0</td>\n",
       "      <td>0</td>\n",
       "      <td>0</td>\n",
       "      <td>0</td>\n",
       "      <td>0</td>\n",
       "      <td>1</td>\n",
       "      <td>0</td>\n",
       "    </tr>\n",
       "    <tr>\n",
       "      <th>81</th>\n",
       "      <td>0</td>\n",
       "      <td>0</td>\n",
       "      <td>0</td>\n",
       "      <td>1</td>\n",
       "      <td>0</td>\n",
       "      <td>1</td>\n",
       "      <td>0</td>\n",
       "      <td>0</td>\n",
       "      <td>0</td>\n",
       "      <td>0</td>\n",
       "      <td>0</td>\n",
       "      <td>0</td>\n",
       "      <td>0</td>\n",
       "      <td>0</td>\n",
       "      <td>0</td>\n",
       "      <td>0</td>\n",
       "      <td>0</td>\n",
       "      <td>0</td>\n",
       "      <td>0</td>\n",
       "    </tr>\n",
       "    <tr>\n",
       "      <th>82</th>\n",
       "      <td>0</td>\n",
       "      <td>0</td>\n",
       "      <td>0</td>\n",
       "      <td>0</td>\n",
       "      <td>0</td>\n",
       "      <td>1</td>\n",
       "      <td>0</td>\n",
       "      <td>0</td>\n",
       "      <td>1</td>\n",
       "      <td>0</td>\n",
       "      <td>0</td>\n",
       "      <td>0</td>\n",
       "      <td>0</td>\n",
       "      <td>0</td>\n",
       "      <td>0</td>\n",
       "      <td>0</td>\n",
       "      <td>1</td>\n",
       "      <td>0</td>\n",
       "      <td>0</td>\n",
       "    </tr>\n",
       "    <tr>\n",
       "      <th>83</th>\n",
       "      <td>0</td>\n",
       "      <td>0</td>\n",
       "      <td>0</td>\n",
       "      <td>0</td>\n",
       "      <td>0</td>\n",
       "      <td>1</td>\n",
       "      <td>0</td>\n",
       "      <td>0</td>\n",
       "      <td>0</td>\n",
       "      <td>0</td>\n",
       "      <td>0</td>\n",
       "      <td>0</td>\n",
       "      <td>0</td>\n",
       "      <td>0</td>\n",
       "      <td>0</td>\n",
       "      <td>0</td>\n",
       "      <td>0</td>\n",
       "      <td>0</td>\n",
       "      <td>0</td>\n",
       "    </tr>\n",
       "    <tr>\n",
       "      <th>84</th>\n",
       "      <td>0</td>\n",
       "      <td>0</td>\n",
       "      <td>0</td>\n",
       "      <td>0</td>\n",
       "      <td>0</td>\n",
       "      <td>1</td>\n",
       "      <td>0</td>\n",
       "      <td>0</td>\n",
       "      <td>0</td>\n",
       "      <td>0</td>\n",
       "      <td>0</td>\n",
       "      <td>0</td>\n",
       "      <td>0</td>\n",
       "      <td>0</td>\n",
       "      <td>0</td>\n",
       "      <td>0</td>\n",
       "      <td>0</td>\n",
       "      <td>0</td>\n",
       "      <td>0</td>\n",
       "    </tr>\n",
       "  </tbody>\n",
       "</table>\n",
       "<p>85 rows × 19 columns</p>\n",
       "</div>"
      ],
      "text/plain": [
       "    Action  Adventure  Biography  Comedy  Crime  Drama  Family  Fantasy  \\\n",
       "0        0          0          0       0      0      0       0        0   \n",
       "1        0          0          0       0      0      0       0        0   \n",
       "2        0          0          0       0      1      1       0        0   \n",
       "3        0          0          0       0      0      1       0        0   \n",
       "4        0          0          0       0      1      1       0        0   \n",
       "..     ...        ...        ...     ...    ...    ...     ...      ...   \n",
       "80       0          0          0       0      1      1       0        0   \n",
       "81       0          0          0       1      0      1       0        0   \n",
       "82       0          0          0       0      0      1       0        0   \n",
       "83       0          0          0       0      0      1       0        0   \n",
       "84       0          0          0       0      0      1       0        0   \n",
       "\n",
       "    History  Horror  Music  Musical  Mystery  Romance  Sci-Fi  Short  Sport  \\\n",
       "0         0       0      0        0        1        0       0      0      0   \n",
       "1         0       0      0        0        0        1       1      0      0   \n",
       "2         0       0      0        0        0        0       0      0      0   \n",
       "3         0       0      0        0        0        0       0      0      0   \n",
       "4         0       0      0        0        0        0       0      0      0   \n",
       "..      ...     ...    ...      ...      ...      ...     ...    ...    ...   \n",
       "80        0       0      0        0        0        0       0      0      0   \n",
       "81        0       0      0        0        0        0       0      0      0   \n",
       "82        1       0      0        0        0        0       0      0      1   \n",
       "83        0       0      0        0        0        0       0      0      0   \n",
       "84        0       0      0        0        0        0       0      0      0   \n",
       "\n",
       "    Thriller  Western  \n",
       "0          1        0  \n",
       "1          0        0  \n",
       "2          1        0  \n",
       "3          0        0  \n",
       "4          1        0  \n",
       "..       ...      ...  \n",
       "80         1        0  \n",
       "81         0        0  \n",
       "82         0        0  \n",
       "83         0        0  \n",
       "84         0        0  \n",
       "\n",
       "[85 rows x 19 columns]"
      ]
     },
     "execution_count": 61,
     "metadata": {},
     "output_type": "execute_result"
    }
   ],
   "source": [
    "pd.get_dummies(dados['Gênero'].apply(pd.Series).stack()).sum(level=0)\n",
    "# Primeiramente: Fazer o count, ver a frequencia de cada série\n",
    "# Segundamente: Avaliar os grupos mais frequentes (Drama+Comedia)"
   ]
  },
  {
   "cell_type": "code",
   "execution_count": null,
   "metadata": {},
   "outputs": [],
   "source": []
  },
  {
   "cell_type": "markdown",
   "metadata": {},
   "source": [
    "## Censura e engajamento"
   ]
  },
  {
   "cell_type": "code",
   "execution_count": null,
   "metadata": {},
   "outputs": [],
   "source": []
  },
  {
   "cell_type": "markdown",
   "metadata": {},
   "source": [
    "## Reviews e engajamento"
   ]
  }
 ],
 "metadata": {
  "colab": {
   "collapsed_sections": [],
   "name": "projetoAnaliseExploratoria.ipynb",
   "provenance": []
  },
  "interpreter": {
   "hash": "0e1898d504e473bdd4635340539d41a5cecc72accb8598f6f0c7bcb5921af418"
  },
  "kernelspec": {
   "display_name": "Python 3 (ipykernel)",
   "language": "python",
   "name": "python3"
  },
  "language_info": {
   "codemirror_mode": {
    "name": "ipython",
    "version": 3
   },
   "file_extension": ".py",
   "mimetype": "text/x-python",
   "name": "python",
   "nbconvert_exporter": "python",
   "pygments_lexer": "ipython3",
   "version": "3.8.8"
  }
 },
 "nbformat": 4,
 "nbformat_minor": 1
}
