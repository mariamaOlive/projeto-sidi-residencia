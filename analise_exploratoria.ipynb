{
 "cells": [
  {
   "cell_type": "code",
   "execution_count": 1,
   "metadata": {},
   "outputs": [],
   "source": [
    "import pandas as pd\n",
    "import seaborn as sns\n",
    "import matplotlib.pyplot as plt\n",
    "from sklearn.preprocessing import OneHotEncoder"
   ]
  },
  {
   "cell_type": "markdown",
   "metadata": {},
   "source": [
    "# Definição da amostra"
   ]
  },
  {
   "cell_type": "code",
   "execution_count": 2,
   "metadata": {},
   "outputs": [
    {
     "data": {
      "text/plain": [
       "97"
      ]
     },
     "execution_count": 2,
     "metadata": {},
     "output_type": "execute_result"
    }
   ],
   "source": [
    "popu = pd.read_csv(\"Popu_series.csv\")\n",
    "popu = popu.sample(frac=0.3, replace=False, random_state=195)\n",
    "len(popu)"
   ]
  },
  {
   "cell_type": "code",
   "execution_count": 3,
   "metadata": {},
   "outputs": [
    {
     "data": {
      "text/plain": [
       "146                            The Chosen One\n",
       "95                                    Osmosis\n",
       "173                                  Puerta 7\n",
       "106                           Holiday Secrets\n",
       "204                                Mindhunter\n",
       "                        ...                  \n",
       "28                              Sex Education\n",
       "230                          The English Game\n",
       "85                            Paava Kadhaigal\n",
       "233                                  Homemade\n",
       "264    Trailer Park Boys Out of the Park: USA\n",
       "Name: serie, Length: 97, dtype: object"
      ]
     },
     "execution_count": 3,
     "metadata": {},
     "output_type": "execute_result"
    }
   ],
   "source": [
    "popu = popu['serie']\n",
    "popu"
   ]
  },
  {
   "cell_type": "code",
   "execution_count": 4,
   "metadata": {},
   "outputs": [],
   "source": [
    "popu.to_csv(\"Amostra.csv\", index=False)"
   ]
  },
  {
   "cell_type": "markdown",
   "metadata": {},
   "source": [
    "# Análise Exploratória"
   ]
  },
  {
   "cell_type": "code",
   "execution_count": 5,
   "metadata": {},
   "outputs": [],
   "source": [
    "#imdb = pd.read_csv(\"imdb_series.csv\") REMOVER (arquivo da amostra antiga)\n",
    "imdb = pd.read_csv(\"Amostra_IMDB.csv\")\n",
    "twitter = pd.read_csv(\"series_dataset_count/dataset_count.csv\")\n",
    "reviews = pd.read_csv(\"UserReviewsCritic.csv\", sep=\";\")"
   ]
  },
  {
   "cell_type": "code",
   "execution_count": 6,
   "metadata": {},
   "outputs": [
    {
     "data": {
      "text/html": [
       "<div>\n",
       "<style scoped>\n",
       "    .dataframe tbody tr th:only-of-type {\n",
       "        vertical-align: middle;\n",
       "    }\n",
       "\n",
       "    .dataframe tbody tr th {\n",
       "        vertical-align: top;\n",
       "    }\n",
       "\n",
       "    .dataframe thead th {\n",
       "        text-align: right;\n",
       "    }\n",
       "</style>\n",
       "<table border=\"1\" class=\"dataframe\">\n",
       "  <thead>\n",
       "    <tr style=\"text-align: right;\">\n",
       "      <th></th>\n",
       "      <th>Titulo</th>\n",
       "      <th>user_reviews</th>\n",
       "      <th>critic_reviews</th>\n",
       "    </tr>\n",
       "  </thead>\n",
       "  <tbody>\n",
       "    <tr>\n",
       "      <th>0</th>\n",
       "      <td>The Chosen One</td>\n",
       "      <td>27</td>\n",
       "      <td>5</td>\n",
       "    </tr>\n",
       "    <tr>\n",
       "      <th>1</th>\n",
       "      <td>Osmosis</td>\n",
       "      <td>50</td>\n",
       "      <td>10</td>\n",
       "    </tr>\n",
       "    <tr>\n",
       "      <th>2</th>\n",
       "      <td>Puerta 7</td>\n",
       "      <td>14</td>\n",
       "      <td>4</td>\n",
       "    </tr>\n",
       "    <tr>\n",
       "      <th>3</th>\n",
       "      <td>Holiday Secrets</td>\n",
       "      <td>7</td>\n",
       "      <td>5</td>\n",
       "    </tr>\n",
       "    <tr>\n",
       "      <th>4</th>\n",
       "      <td>Mindhunter</td>\n",
       "      <td>867</td>\n",
       "      <td>115</td>\n",
       "    </tr>\n",
       "  </tbody>\n",
       "</table>\n",
       "</div>"
      ],
      "text/plain": [
       "            Titulo  user_reviews  critic_reviews\n",
       "0   The Chosen One            27               5\n",
       "1          Osmosis            50              10\n",
       "2         Puerta 7            14               4\n",
       "3  Holiday Secrets             7               5\n",
       "4       Mindhunter           867             115"
      ]
     },
     "execution_count": 6,
     "metadata": {},
     "output_type": "execute_result"
    }
   ],
   "source": [
    "reviews.head()"
   ]
  },
  {
   "cell_type": "code",
   "execution_count": 7,
   "metadata": {},
   "outputs": [],
   "source": [
    "twitter.dropna(inplace=True)"
   ]
  },
  {
   "cell_type": "code",
   "execution_count": 8,
   "metadata": {},
   "outputs": [
    {
     "data": {
      "text/html": [
       "<div>\n",
       "<style scoped>\n",
       "    .dataframe tbody tr th:only-of-type {\n",
       "        vertical-align: middle;\n",
       "    }\n",
       "\n",
       "    .dataframe tbody tr th {\n",
       "        vertical-align: top;\n",
       "    }\n",
       "\n",
       "    .dataframe thead th {\n",
       "        text-align: right;\n",
       "    }\n",
       "</style>\n",
       "<table border=\"1\" class=\"dataframe\">\n",
       "  <thead>\n",
       "    <tr style=\"text-align: right;\">\n",
       "      <th></th>\n",
       "      <th>Nome</th>\n",
       "      <th>DataEstreia</th>\n",
       "      <th>CountPre</th>\n",
       "      <th>CountDurante</th>\n",
       "      <th>CountPos</th>\n",
       "      <th>CountTotal</th>\n",
       "      <th>IMDBid</th>\n",
       "    </tr>\n",
       "  </thead>\n",
       "  <tbody>\n",
       "    <tr>\n",
       "      <th>0</th>\n",
       "      <td>The Chosen One</td>\n",
       "      <td>2019-06-28</td>\n",
       "      <td>419.0</td>\n",
       "      <td>472.0</td>\n",
       "      <td>1111.0</td>\n",
       "      <td>2002.0</td>\n",
       "      <td>9048368</td>\n",
       "    </tr>\n",
       "    <tr>\n",
       "      <th>1</th>\n",
       "      <td>Osmosis</td>\n",
       "      <td>2019-03-29</td>\n",
       "      <td>936.0</td>\n",
       "      <td>937.0</td>\n",
       "      <td>1959.0</td>\n",
       "      <td>3832.0</td>\n",
       "      <td>7043380</td>\n",
       "    </tr>\n",
       "    <tr>\n",
       "      <th>2</th>\n",
       "      <td>Puerta 7</td>\n",
       "      <td>2020-02-21</td>\n",
       "      <td>280.0</td>\n",
       "      <td>514.0</td>\n",
       "      <td>907.0</td>\n",
       "      <td>1701.0</td>\n",
       "      <td>9170386</td>\n",
       "    </tr>\n",
       "    <tr>\n",
       "      <th>3</th>\n",
       "      <td>Holiday Secrets</td>\n",
       "      <td>2019-11-20</td>\n",
       "      <td>13.0</td>\n",
       "      <td>49.0</td>\n",
       "      <td>93.0</td>\n",
       "      <td>155.0</td>\n",
       "      <td>11243536</td>\n",
       "    </tr>\n",
       "    <tr>\n",
       "      <th>4</th>\n",
       "      <td>Mindhunter</td>\n",
       "      <td>2017-10-13</td>\n",
       "      <td>4980.0</td>\n",
       "      <td>7459.0</td>\n",
       "      <td>30394.0</td>\n",
       "      <td>42833.0</td>\n",
       "      <td>5290382</td>\n",
       "    </tr>\n",
       "    <tr>\n",
       "      <th>...</th>\n",
       "      <td>...</td>\n",
       "      <td>...</td>\n",
       "      <td>...</td>\n",
       "      <td>...</td>\n",
       "      <td>...</td>\n",
       "      <td>...</td>\n",
       "      <td>...</td>\n",
       "    </tr>\n",
       "    <tr>\n",
       "      <th>92</th>\n",
       "      <td>Sex Education</td>\n",
       "      <td>2019-01-11</td>\n",
       "      <td>2204.0</td>\n",
       "      <td>13414.0</td>\n",
       "      <td>44564.0</td>\n",
       "      <td>60182.0</td>\n",
       "      <td>7767422</td>\n",
       "    </tr>\n",
       "    <tr>\n",
       "      <th>93</th>\n",
       "      <td>The English Game</td>\n",
       "      <td>2020-03-20</td>\n",
       "      <td>0.0</td>\n",
       "      <td>1.0</td>\n",
       "      <td>5.0</td>\n",
       "      <td>6.0</td>\n",
       "      <td>8403664</td>\n",
       "    </tr>\n",
       "    <tr>\n",
       "      <th>94</th>\n",
       "      <td>Paava Kadhaigal</td>\n",
       "      <td>2020-12-18</td>\n",
       "      <td>366.0</td>\n",
       "      <td>577.0</td>\n",
       "      <td>325.0</td>\n",
       "      <td>1268.0</td>\n",
       "      <td>13206988</td>\n",
       "    </tr>\n",
       "    <tr>\n",
       "      <th>95</th>\n",
       "      <td>Homemade</td>\n",
       "      <td>2020-06-30</td>\n",
       "      <td>142.0</td>\n",
       "      <td>180.0</td>\n",
       "      <td>232.0</td>\n",
       "      <td>554.0</td>\n",
       "      <td>12574336</td>\n",
       "    </tr>\n",
       "    <tr>\n",
       "      <th>96</th>\n",
       "      <td>Trailer Park Boys Out of the Park - USA</td>\n",
       "      <td>2017-11-24</td>\n",
       "      <td>530.0</td>\n",
       "      <td>180.0</td>\n",
       "      <td>1920.0</td>\n",
       "      <td>2630.0</td>\n",
       "      <td>5937754</td>\n",
       "    </tr>\n",
       "  </tbody>\n",
       "</table>\n",
       "<p>94 rows × 7 columns</p>\n",
       "</div>"
      ],
      "text/plain": [
       "                                       Nome DataEstreia  CountPre  \\\n",
       "0                            The Chosen One  2019-06-28     419.0   \n",
       "1                                   Osmosis  2019-03-29     936.0   \n",
       "2                                  Puerta 7  2020-02-21     280.0   \n",
       "3                           Holiday Secrets  2019-11-20      13.0   \n",
       "4                                Mindhunter  2017-10-13    4980.0   \n",
       "..                                      ...         ...       ...   \n",
       "92                            Sex Education  2019-01-11    2204.0   \n",
       "93                         The English Game  2020-03-20       0.0   \n",
       "94                          Paava Kadhaigal  2020-12-18     366.0   \n",
       "95                                 Homemade  2020-06-30     142.0   \n",
       "96  Trailer Park Boys Out of the Park - USA  2017-11-24     530.0   \n",
       "\n",
       "    CountDurante  CountPos  CountTotal    IMDBid  \n",
       "0          472.0    1111.0      2002.0   9048368  \n",
       "1          937.0    1959.0      3832.0   7043380  \n",
       "2          514.0     907.0      1701.0   9170386  \n",
       "3           49.0      93.0       155.0  11243536  \n",
       "4         7459.0   30394.0     42833.0   5290382  \n",
       "..           ...       ...         ...       ...  \n",
       "92       13414.0   44564.0     60182.0   7767422  \n",
       "93           1.0       5.0         6.0   8403664  \n",
       "94         577.0     325.0      1268.0  13206988  \n",
       "95         180.0     232.0       554.0  12574336  \n",
       "96         180.0    1920.0      2630.0   5937754  \n",
       "\n",
       "[94 rows x 7 columns]"
      ]
     },
     "execution_count": 8,
     "metadata": {},
     "output_type": "execute_result"
    }
   ],
   "source": [
    "twitter"
   ]
  },
  {
   "cell_type": "code",
   "execution_count": 9,
   "metadata": {},
   "outputs": [
    {
     "data": {
      "text/html": [
       "<div>\n",
       "<style scoped>\n",
       "    .dataframe tbody tr th:only-of-type {\n",
       "        vertical-align: middle;\n",
       "    }\n",
       "\n",
       "    .dataframe tbody tr th {\n",
       "        vertical-align: top;\n",
       "    }\n",
       "\n",
       "    .dataframe thead th {\n",
       "        text-align: right;\n",
       "    }\n",
       "</style>\n",
       "<table border=\"1\" class=\"dataframe\">\n",
       "  <thead>\n",
       "    <tr style=\"text-align: right;\">\n",
       "      <th></th>\n",
       "      <th>Titulo</th>\n",
       "      <th>Check</th>\n",
       "      <th>IMDBid</th>\n",
       "      <th>Nota</th>\n",
       "      <th>Votos</th>\n",
       "      <th>Elenco</th>\n",
       "      <th>Gênero</th>\n",
       "      <th>Duração</th>\n",
       "      <th>Reviews</th>\n",
       "      <th>Ano</th>\n",
       "      <th>Data de estréia</th>\n",
       "      <th>Roteiristas</th>\n",
       "      <th>Censura</th>\n",
       "      <th>País</th>\n",
       "      <th>Idiomas</th>\n",
       "      <th>Episodios</th>\n",
       "    </tr>\n",
       "  </thead>\n",
       "  <tbody>\n",
       "    <tr>\n",
       "      <th>0</th>\n",
       "      <td>The Chosen One</td>\n",
       "      <td>tv series</td>\n",
       "      <td>9048368</td>\n",
       "      <td>5.8</td>\n",
       "      <td>636.0</td>\n",
       "      <td>Renan Tenca, Paloma Bernardi, Gutto Szuster, P...</td>\n",
       "      <td>Mystery, Thriller</td>\n",
       "      <td>40.0</td>\n",
       "      <td>25.0</td>\n",
       "      <td>2019.0</td>\n",
       "      <td>2019-06-28</td>\n",
       "      <td>Pablo Cruz, Raphael Draccon, Raphael Draccon</td>\n",
       "      <td>Argentina:16, Brazil:16, Germany:16::(self-app...</td>\n",
       "      <td>Brazil</td>\n",
       "      <td>Portuguese</td>\n",
       "      <td>6.0</td>\n",
       "    </tr>\n",
       "    <tr>\n",
       "      <th>1</th>\n",
       "      <td>Osmosis</td>\n",
       "      <td>tv series</td>\n",
       "      <td>7043380</td>\n",
       "      <td>5.8</td>\n",
       "      <td>2851.0</td>\n",
       "      <td>Agathe Bonitzer, Hugo Becker, Gaël Kamilindi, ...</td>\n",
       "      <td>Romance, Sci-Fi</td>\n",
       "      <td>55.0</td>\n",
       "      <td>24.0</td>\n",
       "      <td>2019.0</td>\n",
       "      <td>2019-03-29</td>\n",
       "      <td>Gabriel Chiche, Louis Chiche, William Chiche</td>\n",
       "      <td>Brazil:16::(self-applied), France:13::(self-ap...</td>\n",
       "      <td>France</td>\n",
       "      <td>French</td>\n",
       "      <td>8.0</td>\n",
       "    </tr>\n",
       "    <tr>\n",
       "      <th>2</th>\n",
       "      <td>Puerta 7</td>\n",
       "      <td>tv series</td>\n",
       "      <td>9170386</td>\n",
       "      <td>5.7</td>\n",
       "      <td>516.0</td>\n",
       "      <td>Dolores Fonzi, Esteban Lamothe, Carlos Belloso...</td>\n",
       "      <td>Crime, Drama, Thriller</td>\n",
       "      <td>45.0</td>\n",
       "      <td>14.0</td>\n",
       "      <td>2020.0</td>\n",
       "      <td>2020-02-21</td>\n",
       "      <td>Patricio Vega, Martin Zimmerman, Martin Zimmerman</td>\n",
       "      <td>Argentina:18, Australia:M, Philippines:18+::(s...</td>\n",
       "      <td>Argentina</td>\n",
       "      <td>Spanish</td>\n",
       "      <td>8.0</td>\n",
       "    </tr>\n",
       "    <tr>\n",
       "      <th>3</th>\n",
       "      <td>Holiday Secrets</td>\n",
       "      <td>tv mini series</td>\n",
       "      <td>11243536</td>\n",
       "      <td>6.5</td>\n",
       "      <td>1032.0</td>\n",
       "      <td>Corinna Harfouch, Christiane Paul, Svenja Jung...</td>\n",
       "      <td>Drama</td>\n",
       "      <td>NaN</td>\n",
       "      <td>7.0</td>\n",
       "      <td>2019.0</td>\n",
       "      <td>2019-11-20</td>\n",
       "      <td>Katharina Eyssen</td>\n",
       "      <td>Argentina:13, Singapore:PG13</td>\n",
       "      <td>Germany</td>\n",
       "      <td>German</td>\n",
       "      <td>3.0</td>\n",
       "    </tr>\n",
       "    <tr>\n",
       "      <th>4</th>\n",
       "      <td>Mindhunter</td>\n",
       "      <td>tv series</td>\n",
       "      <td>5290382</td>\n",
       "      <td>8.6</td>\n",
       "      <td>246759.0</td>\n",
       "      <td>Jonathan Groff, Holt McCallany, Anna Torv, Son...</td>\n",
       "      <td>Crime, Drama, Thriller</td>\n",
       "      <td>60.0</td>\n",
       "      <td>25.0</td>\n",
       "      <td>2017.0</td>\n",
       "      <td>2017-10-13</td>\n",
       "      <td>John Douglas, Mark Olshaker, Joe Penhall</td>\n",
       "      <td>Argentina:16, Australia:MA15+::(Netflix self-r...</td>\n",
       "      <td>United States</td>\n",
       "      <td>English</td>\n",
       "      <td>10.0</td>\n",
       "    </tr>\n",
       "  </tbody>\n",
       "</table>\n",
       "</div>"
      ],
      "text/plain": [
       "            Titulo           Check    IMDBid  Nota     Votos  \\\n",
       "0   The Chosen One       tv series   9048368   5.8     636.0   \n",
       "1          Osmosis       tv series   7043380   5.8    2851.0   \n",
       "2         Puerta 7       tv series   9170386   5.7     516.0   \n",
       "3  Holiday Secrets  tv mini series  11243536   6.5    1032.0   \n",
       "4       Mindhunter       tv series   5290382   8.6  246759.0   \n",
       "\n",
       "                                              Elenco                  Gênero  \\\n",
       "0  Renan Tenca, Paloma Bernardi, Gutto Szuster, P...       Mystery, Thriller   \n",
       "1  Agathe Bonitzer, Hugo Becker, Gaël Kamilindi, ...         Romance, Sci-Fi   \n",
       "2  Dolores Fonzi, Esteban Lamothe, Carlos Belloso...  Crime, Drama, Thriller   \n",
       "3  Corinna Harfouch, Christiane Paul, Svenja Jung...                   Drama   \n",
       "4  Jonathan Groff, Holt McCallany, Anna Torv, Son...  Crime, Drama, Thriller   \n",
       "\n",
       "   Duração  Reviews     Ano Data de estréia  \\\n",
       "0     40.0     25.0  2019.0      2019-06-28   \n",
       "1     55.0     24.0  2019.0      2019-03-29   \n",
       "2     45.0     14.0  2020.0      2020-02-21   \n",
       "3      NaN      7.0  2019.0      2019-11-20   \n",
       "4     60.0     25.0  2017.0      2017-10-13   \n",
       "\n",
       "                                         Roteiristas  \\\n",
       "0       Pablo Cruz, Raphael Draccon, Raphael Draccon   \n",
       "1       Gabriel Chiche, Louis Chiche, William Chiche   \n",
       "2  Patricio Vega, Martin Zimmerman, Martin Zimmerman   \n",
       "3                                   Katharina Eyssen   \n",
       "4           John Douglas, Mark Olshaker, Joe Penhall   \n",
       "\n",
       "                                             Censura           País  \\\n",
       "0  Argentina:16, Brazil:16, Germany:16::(self-app...         Brazil   \n",
       "1  Brazil:16::(self-applied), France:13::(self-ap...         France   \n",
       "2  Argentina:18, Australia:M, Philippines:18+::(s...      Argentina   \n",
       "3                       Argentina:13, Singapore:PG13        Germany   \n",
       "4  Argentina:16, Australia:MA15+::(Netflix self-r...  United States   \n",
       "\n",
       "      Idiomas  Episodios  \n",
       "0  Portuguese        6.0  \n",
       "1      French        8.0  \n",
       "2     Spanish        8.0  \n",
       "3      German        3.0  \n",
       "4     English       10.0  "
      ]
     },
     "execution_count": 9,
     "metadata": {},
     "output_type": "execute_result"
    }
   ],
   "source": [
    "imdb.head()"
   ]
  },
  {
   "cell_type": "code",
   "execution_count": 10,
   "metadata": {},
   "outputs": [
    {
     "data": {
      "text/html": [
       "<div>\n",
       "<style scoped>\n",
       "    .dataframe tbody tr th:only-of-type {\n",
       "        vertical-align: middle;\n",
       "    }\n",
       "\n",
       "    .dataframe tbody tr th {\n",
       "        vertical-align: top;\n",
       "    }\n",
       "\n",
       "    .dataframe thead th {\n",
       "        text-align: right;\n",
       "    }\n",
       "</style>\n",
       "<table border=\"1\" class=\"dataframe\">\n",
       "  <thead>\n",
       "    <tr style=\"text-align: right;\">\n",
       "      <th></th>\n",
       "      <th>Titulo</th>\n",
       "      <th>Check</th>\n",
       "      <th>IMDBid</th>\n",
       "      <th>Nota</th>\n",
       "      <th>Votos</th>\n",
       "      <th>Elenco</th>\n",
       "      <th>Gênero</th>\n",
       "      <th>Duração</th>\n",
       "      <th>Reviews</th>\n",
       "      <th>Ano</th>\n",
       "      <th>...</th>\n",
       "      <th>Idiomas</th>\n",
       "      <th>Episodios</th>\n",
       "      <th>Nome</th>\n",
       "      <th>DataEstreia</th>\n",
       "      <th>CountPre</th>\n",
       "      <th>CountDurante</th>\n",
       "      <th>CountPos</th>\n",
       "      <th>CountTotal</th>\n",
       "      <th>user_reviews</th>\n",
       "      <th>critic_reviews</th>\n",
       "    </tr>\n",
       "  </thead>\n",
       "  <tbody>\n",
       "    <tr>\n",
       "      <th>0</th>\n",
       "      <td>The Chosen One</td>\n",
       "      <td>tv series</td>\n",
       "      <td>9048368</td>\n",
       "      <td>5.8</td>\n",
       "      <td>636.0</td>\n",
       "      <td>Renan Tenca, Paloma Bernardi, Gutto Szuster, P...</td>\n",
       "      <td>Mystery, Thriller</td>\n",
       "      <td>40.0</td>\n",
       "      <td>25.0</td>\n",
       "      <td>2019.0</td>\n",
       "      <td>...</td>\n",
       "      <td>Portuguese</td>\n",
       "      <td>6.0</td>\n",
       "      <td>The Chosen One</td>\n",
       "      <td>2019-06-28</td>\n",
       "      <td>419.0</td>\n",
       "      <td>472.0</td>\n",
       "      <td>1111.0</td>\n",
       "      <td>2002.0</td>\n",
       "      <td>27</td>\n",
       "      <td>5</td>\n",
       "    </tr>\n",
       "    <tr>\n",
       "      <th>1</th>\n",
       "      <td>Osmosis</td>\n",
       "      <td>tv series</td>\n",
       "      <td>7043380</td>\n",
       "      <td>5.8</td>\n",
       "      <td>2851.0</td>\n",
       "      <td>Agathe Bonitzer, Hugo Becker, Gaël Kamilindi, ...</td>\n",
       "      <td>Romance, Sci-Fi</td>\n",
       "      <td>55.0</td>\n",
       "      <td>24.0</td>\n",
       "      <td>2019.0</td>\n",
       "      <td>...</td>\n",
       "      <td>French</td>\n",
       "      <td>8.0</td>\n",
       "      <td>Osmosis</td>\n",
       "      <td>2019-03-29</td>\n",
       "      <td>936.0</td>\n",
       "      <td>937.0</td>\n",
       "      <td>1959.0</td>\n",
       "      <td>3832.0</td>\n",
       "      <td>50</td>\n",
       "      <td>10</td>\n",
       "    </tr>\n",
       "    <tr>\n",
       "      <th>2</th>\n",
       "      <td>Puerta 7</td>\n",
       "      <td>tv series</td>\n",
       "      <td>9170386</td>\n",
       "      <td>5.7</td>\n",
       "      <td>516.0</td>\n",
       "      <td>Dolores Fonzi, Esteban Lamothe, Carlos Belloso...</td>\n",
       "      <td>Crime, Drama, Thriller</td>\n",
       "      <td>45.0</td>\n",
       "      <td>14.0</td>\n",
       "      <td>2020.0</td>\n",
       "      <td>...</td>\n",
       "      <td>Spanish</td>\n",
       "      <td>8.0</td>\n",
       "      <td>Puerta 7</td>\n",
       "      <td>2020-02-21</td>\n",
       "      <td>280.0</td>\n",
       "      <td>514.0</td>\n",
       "      <td>907.0</td>\n",
       "      <td>1701.0</td>\n",
       "      <td>14</td>\n",
       "      <td>4</td>\n",
       "    </tr>\n",
       "    <tr>\n",
       "      <th>3</th>\n",
       "      <td>Holiday Secrets</td>\n",
       "      <td>tv mini series</td>\n",
       "      <td>11243536</td>\n",
       "      <td>6.5</td>\n",
       "      <td>1032.0</td>\n",
       "      <td>Corinna Harfouch, Christiane Paul, Svenja Jung...</td>\n",
       "      <td>Drama</td>\n",
       "      <td>NaN</td>\n",
       "      <td>7.0</td>\n",
       "      <td>2019.0</td>\n",
       "      <td>...</td>\n",
       "      <td>German</td>\n",
       "      <td>3.0</td>\n",
       "      <td>Holiday Secrets</td>\n",
       "      <td>2019-11-20</td>\n",
       "      <td>13.0</td>\n",
       "      <td>49.0</td>\n",
       "      <td>93.0</td>\n",
       "      <td>155.0</td>\n",
       "      <td>7</td>\n",
       "      <td>5</td>\n",
       "    </tr>\n",
       "    <tr>\n",
       "      <th>4</th>\n",
       "      <td>Mindhunter</td>\n",
       "      <td>tv series</td>\n",
       "      <td>5290382</td>\n",
       "      <td>8.6</td>\n",
       "      <td>246759.0</td>\n",
       "      <td>Jonathan Groff, Holt McCallany, Anna Torv, Son...</td>\n",
       "      <td>Crime, Drama, Thriller</td>\n",
       "      <td>60.0</td>\n",
       "      <td>25.0</td>\n",
       "      <td>2017.0</td>\n",
       "      <td>...</td>\n",
       "      <td>English</td>\n",
       "      <td>10.0</td>\n",
       "      <td>Mindhunter</td>\n",
       "      <td>2017-10-13</td>\n",
       "      <td>4980.0</td>\n",
       "      <td>7459.0</td>\n",
       "      <td>30394.0</td>\n",
       "      <td>42833.0</td>\n",
       "      <td>867</td>\n",
       "      <td>115</td>\n",
       "    </tr>\n",
       "  </tbody>\n",
       "</table>\n",
       "<p>5 rows × 24 columns</p>\n",
       "</div>"
      ],
      "text/plain": [
       "            Titulo           Check    IMDBid  Nota     Votos  \\\n",
       "0   The Chosen One       tv series   9048368   5.8     636.0   \n",
       "1          Osmosis       tv series   7043380   5.8    2851.0   \n",
       "2         Puerta 7       tv series   9170386   5.7     516.0   \n",
       "3  Holiday Secrets  tv mini series  11243536   6.5    1032.0   \n",
       "4       Mindhunter       tv series   5290382   8.6  246759.0   \n",
       "\n",
       "                                              Elenco                  Gênero  \\\n",
       "0  Renan Tenca, Paloma Bernardi, Gutto Szuster, P...       Mystery, Thriller   \n",
       "1  Agathe Bonitzer, Hugo Becker, Gaël Kamilindi, ...         Romance, Sci-Fi   \n",
       "2  Dolores Fonzi, Esteban Lamothe, Carlos Belloso...  Crime, Drama, Thriller   \n",
       "3  Corinna Harfouch, Christiane Paul, Svenja Jung...                   Drama   \n",
       "4  Jonathan Groff, Holt McCallany, Anna Torv, Son...  Crime, Drama, Thriller   \n",
       "\n",
       "   Duração  Reviews     Ano  ...     Idiomas Episodios             Nome  \\\n",
       "0     40.0     25.0  2019.0  ...  Portuguese       6.0   The Chosen One   \n",
       "1     55.0     24.0  2019.0  ...      French       8.0          Osmosis   \n",
       "2     45.0     14.0  2020.0  ...     Spanish       8.0         Puerta 7   \n",
       "3      NaN      7.0  2019.0  ...      German       3.0  Holiday Secrets   \n",
       "4     60.0     25.0  2017.0  ...     English      10.0       Mindhunter   \n",
       "\n",
       "  DataEstreia CountPre  CountDurante CountPos CountTotal  user_reviews  \\\n",
       "0  2019-06-28    419.0         472.0   1111.0     2002.0            27   \n",
       "1  2019-03-29    936.0         937.0   1959.0     3832.0            50   \n",
       "2  2020-02-21    280.0         514.0    907.0     1701.0            14   \n",
       "3  2019-11-20     13.0          49.0     93.0      155.0             7   \n",
       "4  2017-10-13   4980.0        7459.0  30394.0    42833.0           867   \n",
       "\n",
       "   critic_reviews  \n",
       "0               5  \n",
       "1              10  \n",
       "2               4  \n",
       "3               5  \n",
       "4             115  \n",
       "\n",
       "[5 rows x 24 columns]"
      ]
     },
     "execution_count": 10,
     "metadata": {},
     "output_type": "execute_result"
    }
   ],
   "source": [
    "reviews.rename(columns={\"titulo\":\"Titulo\"}, inplace=True)\n",
    "aux = pd.merge(imdb, twitter, on = \"IMDBid\")\n",
    "dados = pd.merge(aux, reviews, on = \"Titulo\")\n",
    "\n",
    "#dados.drop(dados[dados[\"Nome\"]==\"LoveDeathandRobots\"].index, inplace=True)\n",
    "dados.head()"
   ]
  },
  {
   "cell_type": "code",
   "execution_count": 11,
   "metadata": {},
   "outputs": [],
   "source": [
    "dados.drop(columns=\"Reviews\", inplace=True)"
   ]
  },
  {
   "cell_type": "code",
   "execution_count": 12,
   "metadata": {},
   "outputs": [],
   "source": [
    "indice = dados[dados['Duração']>100]['Duração'].index"
   ]
  },
  {
   "cell_type": "code",
   "execution_count": 13,
   "metadata": {},
   "outputs": [],
   "source": [
    "dados.loc[indice, \"Duração\"] = dados.loc[indice, \"Duração\"]/dados.loc[indice, \"Episodios\"]"
   ]
  },
  {
   "cell_type": "code",
   "execution_count": 14,
   "metadata": {},
   "outputs": [
    {
     "data": {
      "text/html": [
       "<div>\n",
       "<style scoped>\n",
       "    .dataframe tbody tr th:only-of-type {\n",
       "        vertical-align: middle;\n",
       "    }\n",
       "\n",
       "    .dataframe tbody tr th {\n",
       "        vertical-align: top;\n",
       "    }\n",
       "\n",
       "    .dataframe thead th {\n",
       "        text-align: right;\n",
       "    }\n",
       "</style>\n",
       "<table border=\"1\" class=\"dataframe\">\n",
       "  <thead>\n",
       "    <tr style=\"text-align: right;\">\n",
       "      <th></th>\n",
       "      <th>Titulo</th>\n",
       "      <th>Check</th>\n",
       "      <th>IMDBid</th>\n",
       "      <th>Nota</th>\n",
       "      <th>Votos</th>\n",
       "      <th>Elenco</th>\n",
       "      <th>Gênero</th>\n",
       "      <th>Duração</th>\n",
       "      <th>Ano</th>\n",
       "      <th>Data de estréia</th>\n",
       "      <th>...</th>\n",
       "      <th>Idiomas</th>\n",
       "      <th>Episodios</th>\n",
       "      <th>Nome</th>\n",
       "      <th>DataEstreia</th>\n",
       "      <th>CountPre</th>\n",
       "      <th>CountDurante</th>\n",
       "      <th>CountPos</th>\n",
       "      <th>CountTotal</th>\n",
       "      <th>user_reviews</th>\n",
       "      <th>critic_reviews</th>\n",
       "    </tr>\n",
       "  </thead>\n",
       "  <tbody>\n",
       "  </tbody>\n",
       "</table>\n",
       "<p>0 rows × 23 columns</p>\n",
       "</div>"
      ],
      "text/plain": [
       "Empty DataFrame\n",
       "Columns: [Titulo, Check, IMDBid, Nota, Votos, Elenco, Gênero, Duração, Ano, Data de estréia, Roteiristas, Censura, País, Idiomas, Episodios, Nome, DataEstreia, CountPre, CountDurante, CountPos, CountTotal, user_reviews, critic_reviews]\n",
       "Index: []\n",
       "\n",
       "[0 rows x 23 columns]"
      ]
     },
     "execution_count": 14,
     "metadata": {},
     "output_type": "execute_result"
    }
   ],
   "source": [
    "dados[dados['Duração']>100]"
   ]
  },
  {
   "cell_type": "code",
   "execution_count": 15,
   "metadata": {},
   "outputs": [],
   "source": [
    "dados['Data de estréia'] = pd.to_datetime(dados['Data de estréia'], format=\"%Y-%m-%d\", errors = 'coerce')\n",
    "dados['mes'] = pd.DatetimeIndex(dados['Data de estréia']).month"
   ]
  },
  {
   "cell_type": "markdown",
   "metadata": {},
   "source": [
    "LEMBRAR DE DIVIDIR O ENGAJAMENTO POR NUMERO DE DIAS!!"
   ]
  },
  {
   "cell_type": "code",
   "execution_count": null,
   "metadata": {},
   "outputs": [],
   "source": [
    "dados['CountPre']/qtddiaspre"
   ]
  },
  {
   "cell_type": "markdown",
   "metadata": {},
   "source": [
    "# Análise Exploratória"
   ]
  },
  {
   "cell_type": "code",
   "execution_count": 16,
   "metadata": {},
   "outputs": [],
   "source": [
    "teste = dados[dados['Duração'].notna()]"
   ]
  },
  {
   "cell_type": "code",
   "execution_count": 17,
   "metadata": {},
   "outputs": [],
   "source": [
    "#dados.apply(lambda linha: linha['Duração'] if linha['Duração']<100 else linha['Duração']/linha['Episodios'])\n",
    "#dados.apply(lambda linha: print(linha[7]))\n",
    "#a = teste.apply(lambda linha: print(linha[0]))\n",
    "#dados['Duração']\n",
    "\n",
    "#duracao = dados['Duração']\n",
    "#epi = dados['Episodios']\n"
   ]
  },
  {
   "cell_type": "code",
   "execution_count": null,
   "metadata": {},
   "outputs": [],
   "source": []
  },
  {
   "cell_type": "markdown",
   "metadata": {},
   "source": [
    "## Nota"
   ]
  },
  {
   "cell_type": "code",
   "execution_count": 18,
   "metadata": {},
   "outputs": [
    {
     "data": {
      "text/plain": [
       "Text(0, 0.5, 'Frequência')"
      ]
     },
     "execution_count": 18,
     "metadata": {},
     "output_type": "execute_result"
    },
    {
     "data": {
      "image/png": "[encoded data removed]",
      "text/plain": [
       "<Figure size 432x288 with 1 Axes>"
      ]
     },
     "metadata": {
      "needs_background": "light"
     },
     "output_type": "display_data"
    }
   ],
   "source": [
    "nota1 = sns.histplot(data=dados, x=\"Nota\")\n",
    "\n",
    "nota1.set_title('Histograma das notas no IMDb')\n",
    "nota1.set_ylabel('Frequência')"
   ]
  },
  {
   "cell_type": "code",
   "execution_count": 19,
   "metadata": {},
   "outputs": [
    {
     "data": {
      "text/plain": [
       "Text(0, 0.5, 'Nota')"
      ]
     },
     "execution_count": 19,
     "metadata": {},
     "output_type": "execute_result"
    },
    {
     "data": {
      "image/png": "[encoded data removed]",
      "text/plain": [
       "<Figure size 432x288 with 1 Axes>"
      ]
     },
     "metadata": {
      "needs_background": "light"
     },
     "output_type": "display_data"
    }
   ],
   "source": [
    "nota2 = sns.boxplot(y=dados['Nota'], data=dados)\n",
    "\n",
    "nota2.set_title('Boxplot das notas no IMDb')\n",
    "nota2.set_ylabel('Nota')"
   ]
  },
  {
   "cell_type": "code",
   "execution_count": 20,
   "metadata": {},
   "outputs": [
    {
     "data": {
      "text/plain": [
       "Text(0.5, 1.0, 'Boxplot das notas no IMDb por ano de lançamento')"
      ]
     },
     "execution_count": 20,
     "metadata": {},
     "output_type": "execute_result"
    },
    {
     "data": {
      "image/png": "[encoded data removed]",
      "text/plain": [
       "<Figure size 432x288 with 1 Axes>"
      ]
     },
     "metadata": {
      "needs_background": "light"
     },
     "output_type": "display_data"
    }
   ],
   "source": [
    "nota3 = sns.boxplot(x=dados['Ano'],y=dados['Nota'], data=dados)\n",
    "\n",
    "nota3.set_title('Boxplot das notas no IMDb por ano de lançamento')"
   ]
  },
  {
   "cell_type": "code",
   "execution_count": 21,
   "metadata": {},
   "outputs": [],
   "source": [
    "y = []\n",
    "coluna = []\n",
    "for i in range (24,dados.columns.size,1):\n",
    "    coluna.append(str(dados.columns[i]))\n",
    "    \n",
    "    aux = []\n",
    "    for j in range (0, len(dados[dados[coluna[-1]] == 1]['Nota']),1):\n",
    "        aux.append(dados[dados[coluna[-1]] == 1]['Nota'].values[j])\n",
    "        \n",
    "    y.append(aux)"
   ]
  },
  {
   "cell_type": "code",
   "execution_count": 22,
   "metadata": {},
   "outputs": [],
   "source": [
    "colunas = {'Nota':[], 'Gênero':[]}\n",
    "df_aux = pd.DataFrame(colunas)\n",
    "\n",
    "for i in range(len(y)):\n",
    "    for val in y[i]:\n",
    "        linha = {'Nota':val, 'Gênero':coluna[i]}\n",
    "        df_aux = df_aux.append(linha, ignore_index=True)"
   ]
  },
  {
   "cell_type": "code",
   "execution_count": 23,
   "metadata": {},
   "outputs": [
    {
     "data": {
      "text/html": [
       "<div>\n",
       "<style scoped>\n",
       "    .dataframe tbody tr th:only-of-type {\n",
       "        vertical-align: middle;\n",
       "    }\n",
       "\n",
       "    .dataframe tbody tr th {\n",
       "        vertical-align: top;\n",
       "    }\n",
       "\n",
       "    .dataframe thead th {\n",
       "        text-align: right;\n",
       "    }\n",
       "</style>\n",
       "<table border=\"1\" class=\"dataframe\">\n",
       "  <thead>\n",
       "    <tr style=\"text-align: right;\">\n",
       "      <th></th>\n",
       "      <th>Nota</th>\n",
       "      <th>Gênero</th>\n",
       "    </tr>\n",
       "  </thead>\n",
       "  <tbody>\n",
       "  </tbody>\n",
       "</table>\n",
       "</div>"
      ],
      "text/plain": [
       "Empty DataFrame\n",
       "Columns: [Nota, Gênero]\n",
       "Index: []"
      ]
     },
     "execution_count": 23,
     "metadata": {},
     "output_type": "execute_result"
    }
   ],
   "source": [
    "df_aux ## PQ TA DANDO ERRO?"
   ]
  },
  {
   "cell_type": "code",
   "execution_count": 24,
   "metadata": {},
   "outputs": [
    {
     "ename": "ValueError",
     "evalue": "min() arg is an empty sequence",
     "output_type": "error",
     "traceback": [
      "\u001b[1;31m---------------------------------------------------------------------------\u001b[0m",
      "\u001b[1;31mValueError\u001b[0m                                Traceback (most recent call last)",
      "\u001b[1;32m<ipython-input-24-6b439229c1ca>\u001b[0m in \u001b[0;36m<module>\u001b[1;34m\u001b[0m\n\u001b[0;32m      1\u001b[0m \u001b[0mfig\u001b[0m\u001b[1;33m,\u001b[0m \u001b[0max\u001b[0m \u001b[1;33m=\u001b[0m \u001b[0mplt\u001b[0m\u001b[1;33m.\u001b[0m\u001b[0msubplots\u001b[0m\u001b[1;33m(\u001b[0m\u001b[1;33m)\u001b[0m\u001b[1;33m\u001b[0m\u001b[1;33m\u001b[0m\u001b[0m\n\u001b[1;32m----> 2\u001b[1;33m \u001b[0msns\u001b[0m\u001b[1;33m.\u001b[0m\u001b[0mboxplot\u001b[0m\u001b[1;33m(\u001b[0m\u001b[0mx\u001b[0m\u001b[1;33m=\u001b[0m\u001b[1;34m'Gênero'\u001b[0m\u001b[1;33m,\u001b[0m\u001b[0my\u001b[0m\u001b[1;33m=\u001b[0m\u001b[1;34m'Nota'\u001b[0m\u001b[1;33m,\u001b[0m \u001b[0mdata\u001b[0m\u001b[1;33m=\u001b[0m\u001b[0mdf_aux\u001b[0m\u001b[1;33m)\u001b[0m\u001b[1;33m\u001b[0m\u001b[1;33m\u001b[0m\u001b[0m\n\u001b[0m\u001b[0;32m      3\u001b[0m \u001b[0max\u001b[0m\u001b[1;33m.\u001b[0m\u001b[0mtick_params\u001b[0m\u001b[1;33m(\u001b[0m\u001b[0mrotation\u001b[0m\u001b[1;33m=\u001b[0m\u001b[1;36m90\u001b[0m\u001b[1;33m)\u001b[0m\u001b[1;33m\u001b[0m\u001b[1;33m\u001b[0m\u001b[0m\n\u001b[0;32m      4\u001b[0m \u001b[1;33m\u001b[0m\u001b[0m\n\u001b[0;32m      5\u001b[0m \u001b[1;31m#fig, ax = plt.subplots()\u001b[0m\u001b[1;33m\u001b[0m\u001b[1;33m\u001b[0m\u001b[1;33m\u001b[0m\u001b[0m\n",
      "\u001b[1;32m~\\anaconda3\\lib\\site-packages\\seaborn\\_decorators.py\u001b[0m in \u001b[0;36minner_f\u001b[1;34m(*args, **kwargs)\u001b[0m\n\u001b[0;32m     44\u001b[0m             )\n\u001b[0;32m     45\u001b[0m         \u001b[0mkwargs\u001b[0m\u001b[1;33m.\u001b[0m\u001b[0mupdate\u001b[0m\u001b[1;33m(\u001b[0m\u001b[1;33m{\u001b[0m\u001b[0mk\u001b[0m\u001b[1;33m:\u001b[0m \u001b[0marg\u001b[0m \u001b[1;32mfor\u001b[0m \u001b[0mk\u001b[0m\u001b[1;33m,\u001b[0m \u001b[0marg\u001b[0m \u001b[1;32min\u001b[0m \u001b[0mzip\u001b[0m\u001b[1;33m(\u001b[0m\u001b[0msig\u001b[0m\u001b[1;33m.\u001b[0m\u001b[0mparameters\u001b[0m\u001b[1;33m,\u001b[0m \u001b[0margs\u001b[0m\u001b[1;33m)\u001b[0m\u001b[1;33m}\u001b[0m\u001b[1;33m)\u001b[0m\u001b[1;33m\u001b[0m\u001b[1;33m\u001b[0m\u001b[0m\n\u001b[1;32m---> 46\u001b[1;33m         \u001b[1;32mreturn\u001b[0m \u001b[0mf\u001b[0m\u001b[1;33m(\u001b[0m\u001b[1;33m**\u001b[0m\u001b[0mkwargs\u001b[0m\u001b[1;33m)\u001b[0m\u001b[1;33m\u001b[0m\u001b[1;33m\u001b[0m\u001b[0m\n\u001b[0m\u001b[0;32m     47\u001b[0m     \u001b[1;32mreturn\u001b[0m \u001b[0minner_f\u001b[0m\u001b[1;33m\u001b[0m\u001b[1;33m\u001b[0m\u001b[0m\n\u001b[0;32m     48\u001b[0m \u001b[1;33m\u001b[0m\u001b[0m\n",
      "\u001b[1;32m~\\anaconda3\\lib\\site-packages\\seaborn\\categorical.py\u001b[0m in \u001b[0;36mboxplot\u001b[1;34m(x, y, hue, data, order, hue_order, orient, color, palette, saturation, width, dodge, fliersize, linewidth, whis, ax, **kwargs)\u001b[0m\n\u001b[0;32m   2238\u001b[0m ):\n\u001b[0;32m   2239\u001b[0m \u001b[1;33m\u001b[0m\u001b[0m\n\u001b[1;32m-> 2240\u001b[1;33m     plotter = _BoxPlotter(x, y, hue, data, order, hue_order,\n\u001b[0m\u001b[0;32m   2241\u001b[0m                           \u001b[0morient\u001b[0m\u001b[1;33m,\u001b[0m \u001b[0mcolor\u001b[0m\u001b[1;33m,\u001b[0m \u001b[0mpalette\u001b[0m\u001b[1;33m,\u001b[0m \u001b[0msaturation\u001b[0m\u001b[1;33m,\u001b[0m\u001b[1;33m\u001b[0m\u001b[1;33m\u001b[0m\u001b[0m\n\u001b[0;32m   2242\u001b[0m                           width, dodge, fliersize, linewidth)\n",
      "\u001b[1;32m~\\anaconda3\\lib\\site-packages\\seaborn\\categorical.py\u001b[0m in \u001b[0;36m__init__\u001b[1;34m(self, x, y, hue, data, order, hue_order, orient, color, palette, saturation, width, dodge, fliersize, linewidth)\u001b[0m\n\u001b[0;32m    405\u001b[0m \u001b[1;33m\u001b[0m\u001b[0m\n\u001b[0;32m    406\u001b[0m         \u001b[0mself\u001b[0m\u001b[1;33m.\u001b[0m\u001b[0mestablish_variables\u001b[0m\u001b[1;33m(\u001b[0m\u001b[0mx\u001b[0m\u001b[1;33m,\u001b[0m \u001b[0my\u001b[0m\u001b[1;33m,\u001b[0m \u001b[0mhue\u001b[0m\u001b[1;33m,\u001b[0m \u001b[0mdata\u001b[0m\u001b[1;33m,\u001b[0m \u001b[0morient\u001b[0m\u001b[1;33m,\u001b[0m \u001b[0morder\u001b[0m\u001b[1;33m,\u001b[0m \u001b[0mhue_order\u001b[0m\u001b[1;33m)\u001b[0m\u001b[1;33m\u001b[0m\u001b[1;33m\u001b[0m\u001b[0m\n\u001b[1;32m--> 407\u001b[1;33m         \u001b[0mself\u001b[0m\u001b[1;33m.\u001b[0m\u001b[0mestablish_colors\u001b[0m\u001b[1;33m(\u001b[0m\u001b[0mcolor\u001b[0m\u001b[1;33m,\u001b[0m \u001b[0mpalette\u001b[0m\u001b[1;33m,\u001b[0m \u001b[0msaturation\u001b[0m\u001b[1;33m)\u001b[0m\u001b[1;33m\u001b[0m\u001b[1;33m\u001b[0m\u001b[0m\n\u001b[0m\u001b[0;32m    408\u001b[0m \u001b[1;33m\u001b[0m\u001b[0m\n\u001b[0;32m    409\u001b[0m         \u001b[0mself\u001b[0m\u001b[1;33m.\u001b[0m\u001b[0mdodge\u001b[0m \u001b[1;33m=\u001b[0m \u001b[0mdodge\u001b[0m\u001b[1;33m\u001b[0m\u001b[1;33m\u001b[0m\u001b[0m\n",
      "\u001b[1;32m~\\anaconda3\\lib\\site-packages\\seaborn\\categorical.py\u001b[0m in \u001b[0;36mestablish_colors\u001b[1;34m(self, color, palette, saturation)\u001b[0m\n\u001b[0;32m    317\u001b[0m         \u001b[1;31m# Determine the gray color to use for the lines framing the plot\u001b[0m\u001b[1;33m\u001b[0m\u001b[1;33m\u001b[0m\u001b[1;33m\u001b[0m\u001b[0m\n\u001b[0;32m    318\u001b[0m         \u001b[0mlight_vals\u001b[0m \u001b[1;33m=\u001b[0m \u001b[1;33m[\u001b[0m\u001b[0mcolorsys\u001b[0m\u001b[1;33m.\u001b[0m\u001b[0mrgb_to_hls\u001b[0m\u001b[1;33m(\u001b[0m\u001b[1;33m*\u001b[0m\u001b[0mc\u001b[0m\u001b[1;33m)\u001b[0m\u001b[1;33m[\u001b[0m\u001b[1;36m1\u001b[0m\u001b[1;33m]\u001b[0m \u001b[1;32mfor\u001b[0m \u001b[0mc\u001b[0m \u001b[1;32min\u001b[0m \u001b[0mrgb_colors\u001b[0m\u001b[1;33m]\u001b[0m\u001b[1;33m\u001b[0m\u001b[1;33m\u001b[0m\u001b[0m\n\u001b[1;32m--> 319\u001b[1;33m         \u001b[0mlum\u001b[0m \u001b[1;33m=\u001b[0m \u001b[0mmin\u001b[0m\u001b[1;33m(\u001b[0m\u001b[0mlight_vals\u001b[0m\u001b[1;33m)\u001b[0m \u001b[1;33m*\u001b[0m \u001b[1;36m.6\u001b[0m\u001b[1;33m\u001b[0m\u001b[1;33m\u001b[0m\u001b[0m\n\u001b[0m\u001b[0;32m    320\u001b[0m         \u001b[0mgray\u001b[0m \u001b[1;33m=\u001b[0m \u001b[0mmpl\u001b[0m\u001b[1;33m.\u001b[0m\u001b[0mcolors\u001b[0m\u001b[1;33m.\u001b[0m\u001b[0mrgb2hex\u001b[0m\u001b[1;33m(\u001b[0m\u001b[1;33m(\u001b[0m\u001b[0mlum\u001b[0m\u001b[1;33m,\u001b[0m \u001b[0mlum\u001b[0m\u001b[1;33m,\u001b[0m \u001b[0mlum\u001b[0m\u001b[1;33m)\u001b[0m\u001b[1;33m)\u001b[0m\u001b[1;33m\u001b[0m\u001b[1;33m\u001b[0m\u001b[0m\n\u001b[0;32m    321\u001b[0m \u001b[1;33m\u001b[0m\u001b[0m\n",
      "\u001b[1;31mValueError\u001b[0m: min() arg is an empty sequence"
     ]
    },
    {
     "data": {
      "image/png": "[encoded data removed]",
      "text/plain": [
       "<Figure size 432x288 with 1 Axes>"
      ]
     },
     "metadata": {
      "needs_background": "light"
     },
     "output_type": "display_data"
    }
   ],
   "source": [
    "fig, ax = plt.subplots()\n",
    "sns.boxplot(x='Gênero',y='Nota', data=df_aux)\n",
    "ax.tick_params(rotation=90)\n",
    "\n",
    "#fig, ax = plt.subplots()\n",
    "#sns.barplot(x = x, y = df['log_disaster'], palette=\"Blues_d\")\n",
    "#ax.tick_params(rotation=90)\n",
    "#ax.set_title('Número de Desastres por Ano')\n",
    "##ax.set_ylabel('Número de Desastres')\n",
    "#ax.set_xlabel('Ano')\n",
    "#fig.set_size_inches(20, 5)"
   ]
  },
  {
   "cell_type": "code",
   "execution_count": null,
   "metadata": {},
   "outputs": [],
   "source": [
    "#[\"Mystery\" in linha for linha in dados['Gênero']]\n",
    "#plt.boxplot(dados[dados['Mystery']==1]['Nota'].describe())#.plot()\n",
    "#plt.boxplot(dados[dados['Drama']==1]['Nota'].describe())#.plot()\n",
    "#dados[dados['Drama']==1]['Nota'].describe()#.plot()"
   ]
  },
  {
   "cell_type": "code",
   "execution_count": null,
   "metadata": {},
   "outputs": [],
   "source": [
    "#dados[dados['Drama']==1]['Nota'].count()"
   ]
  },
  {
   "cell_type": "code",
   "execution_count": null,
   "metadata": {},
   "outputs": [],
   "source": [
    "#type(dados['Gênero'].apply(lambda x: x)[0])"
   ]
  },
  {
   "cell_type": "code",
   "execution_count": null,
   "metadata": {},
   "outputs": [],
   "source": [
    "#dados['Gênero'] = dados['Gênero'].apply(lambda x : x.split(\", \"))\n",
    "#dados['Gênero']\n"
   ]
  },
  {
   "cell_type": "code",
   "execution_count": null,
   "metadata": {},
   "outputs": [],
   "source": [
    "dummies = pd.get_dummies(dados['Gênero'].apply(pd.Series).stack()).sum(level=0)\n",
    "# Primeiramente: Fazer o count, ver a frequencia de cada série\n",
    "# Segundamente: Avaliar os grupos mais frequentes (Drama+Comedia)"
   ]
  },
  {
   "cell_type": "code",
   "execution_count": null,
   "metadata": {},
   "outputs": [],
   "source": [
    "len(dados)"
   ]
  },
  {
   "cell_type": "code",
   "execution_count": null,
   "metadata": {},
   "outputs": [],
   "source": [
    "dados = dados.join(dummies)"
   ]
  },
  {
   "cell_type": "code",
   "execution_count": null,
   "metadata": {},
   "outputs": [],
   "source": [
    "#dados[colunas = 25:45].equals(dummies)"
   ]
  },
  {
   "cell_type": "code",
   "execution_count": null,
   "metadata": {},
   "outputs": [],
   "source": [
    "dados.iloc[:, 24:].sum()\n",
    "dados.iloc[:, 24:].sum()*100/86"
   ]
  },
  {
   "cell_type": "code",
   "execution_count": null,
   "metadata": {},
   "outputs": [],
   "source": [
    "dados.columns"
   ]
  },
  {
   "cell_type": "code",
   "execution_count": null,
   "metadata": {},
   "outputs": [],
   "source": [
    "dados.columns[24]"
   ]
  },
  {
   "cell_type": "markdown",
   "metadata": {},
   "source": [
    "### Nota do IMDB e número de votos por engajamento por engajamento"
   ]
  },
  {
   "cell_type": "code",
   "execution_count": null,
   "metadata": {},
   "outputs": [
    {
     "data": {
      "text/plain": [
       "<AxesSubplot:xlabel='Nota', ylabel='CountTotal'>"
      ]
     },
     "execution_count": 40,
     "metadata": {},
     "output_type": "execute_result"
    },
    {
     "data": {
      "image/png": "[encoded data removed]",
      "text/plain": [
       "<Figure size 432x288 with 1 Axes>"
      ]
     },
     "metadata": {
      "needs_background": "light"
     },
     "output_type": "display_data"
    }
   ],
   "source": [
    "#dados['Nota'] CountPre CountDurante CountPos CountTotal\n",
    "\n",
    "sns.scatterplot(data=dados[dados['Nota']>4], x=\"Nota\", y=\"CountTotal\")\n",
    "#sns.regplot(data=dados[dados['Nota']>4], x=\"Nota\", y=\"CountTotal\")\n",
    "\n",
    "#nota1.set_title('Histograma das notas no IMDb')\n",
    "#nota1.set_ylabel('Frequência')"
   ]
  },
  {
   "cell_type": "code",
   "execution_count": null,
   "metadata": {},
   "outputs": [],
   "source": [
    "sns.scatterplot(data=dados, x=\"Nota\", y=\"CountTotal\")#, hue=dados['País'])"
   ]
  },
  {
   "cell_type": "code",
   "execution_count": null,
   "metadata": {},
   "outputs": [],
   "source": [
    "sns.boxplot(data=dados, x=\"Nota\", y=\"País\")#, hue=dados['País'])"
   ]
  },
  {
   "cell_type": "code",
   "execution_count": null,
   "metadata": {},
   "outputs": [],
   "source": [
    "sns.boxplot(data=dados, x=\"Episodios\", y=\"Nota\")"
   ]
  },
  {
   "cell_type": "code",
   "execution_count": null,
   "metadata": {},
   "outputs": [],
   "source": [
    "sns.boxplot(data=dados, x=\"Check\", y=\"Nota\")"
   ]
  },
  {
   "cell_type": "code",
   "execution_count": null,
   "metadata": {},
   "outputs": [],
   "source": [
    "sns.scatterplot(data=dados, x=\"Nota\", y=\"CountPre\")"
   ]
  },
  {
   "cell_type": "code",
   "execution_count": null,
   "metadata": {},
   "outputs": [],
   "source": [
    "sns.scatterplot(data=dados, x=\"Nota\", y=\"CountDurante\")"
   ]
  },
  {
   "cell_type": "code",
   "execution_count": null,
   "metadata": {},
   "outputs": [],
   "source": [
    "sns.scatterplot(data=dados, x=\"Nota\", y=\"CountPos\")"
   ]
  },
  {
   "cell_type": "code",
   "execution_count": 33,
   "metadata": {},
   "outputs": [
    {
     "data": {
      "text/html": [
       "<div>\n",
       "<style scoped>\n",
       "    .dataframe tbody tr th:only-of-type {\n",
       "        vertical-align: middle;\n",
       "    }\n",
       "\n",
       "    .dataframe tbody tr th {\n",
       "        vertical-align: top;\n",
       "    }\n",
       "\n",
       "    .dataframe thead th {\n",
       "        text-align: right;\n",
       "    }\n",
       "</style>\n",
       "<table border=\"1\" class=\"dataframe\">\n",
       "  <thead>\n",
       "    <tr style=\"text-align: right;\">\n",
       "      <th></th>\n",
       "      <th>IMDBid</th>\n",
       "      <th>Nota</th>\n",
       "      <th>Votos</th>\n",
       "      <th>Duração</th>\n",
       "      <th>Ano</th>\n",
       "      <th>Episodios</th>\n",
       "      <th>CountPre</th>\n",
       "      <th>CountDurante</th>\n",
       "      <th>CountPos</th>\n",
       "      <th>CountTotal</th>\n",
       "      <th>user_reviews</th>\n",
       "      <th>critic_reviews</th>\n",
       "      <th>mes</th>\n",
       "    </tr>\n",
       "  </thead>\n",
       "  <tbody>\n",
       "    <tr>\n",
       "      <th>IMDBid</th>\n",
       "      <td>1.000000</td>\n",
       "      <td>-0.438873</td>\n",
       "      <td>-0.543804</td>\n",
       "      <td>-0.219106</td>\n",
       "      <td>0.852411</td>\n",
       "      <td>-0.384553</td>\n",
       "      <td>-0.479329</td>\n",
       "      <td>-0.596080</td>\n",
       "      <td>-0.364468</td>\n",
       "      <td>-0.482506</td>\n",
       "      <td>-0.301997</td>\n",
       "      <td>-0.529820</td>\n",
       "      <td>0.148345</td>\n",
       "    </tr>\n",
       "    <tr>\n",
       "      <th>Nota</th>\n",
       "      <td>-0.438873</td>\n",
       "      <td>1.000000</td>\n",
       "      <td>0.481724</td>\n",
       "      <td>0.243358</td>\n",
       "      <td>-0.410434</td>\n",
       "      <td>0.070388</td>\n",
       "      <td>0.206121</td>\n",
       "      <td>0.405380</td>\n",
       "      <td>0.476275</td>\n",
       "      <td>0.476569</td>\n",
       "      <td>0.351861</td>\n",
       "      <td>0.428520</td>\n",
       "      <td>0.039905</td>\n",
       "    </tr>\n",
       "    <tr>\n",
       "      <th>Votos</th>\n",
       "      <td>-0.543804</td>\n",
       "      <td>0.481724</td>\n",
       "      <td>1.000000</td>\n",
       "      <td>0.262867</td>\n",
       "      <td>-0.559226</td>\n",
       "      <td>0.147458</td>\n",
       "      <td>0.467113</td>\n",
       "      <td>0.740705</td>\n",
       "      <td>0.636127</td>\n",
       "      <td>0.712633</td>\n",
       "      <td>0.671408</td>\n",
       "      <td>0.906763</td>\n",
       "      <td>-0.065401</td>\n",
       "    </tr>\n",
       "    <tr>\n",
       "      <th>Duração</th>\n",
       "      <td>-0.219106</td>\n",
       "      <td>0.243358</td>\n",
       "      <td>0.262867</td>\n",
       "      <td>1.000000</td>\n",
       "      <td>-0.136125</td>\n",
       "      <td>-0.276558</td>\n",
       "      <td>0.232535</td>\n",
       "      <td>0.309825</td>\n",
       "      <td>0.328476</td>\n",
       "      <td>0.338625</td>\n",
       "      <td>0.233545</td>\n",
       "      <td>0.303765</td>\n",
       "      <td>0.239128</td>\n",
       "    </tr>\n",
       "    <tr>\n",
       "      <th>Ano</th>\n",
       "      <td>0.852411</td>\n",
       "      <td>-0.410434</td>\n",
       "      <td>-0.559226</td>\n",
       "      <td>-0.136125</td>\n",
       "      <td>1.000000</td>\n",
       "      <td>-0.417665</td>\n",
       "      <td>-0.408439</td>\n",
       "      <td>-0.507547</td>\n",
       "      <td>-0.304749</td>\n",
       "      <td>-0.406723</td>\n",
       "      <td>-0.218032</td>\n",
       "      <td>-0.466299</td>\n",
       "      <td>-0.050913</td>\n",
       "    </tr>\n",
       "    <tr>\n",
       "      <th>Episodios</th>\n",
       "      <td>-0.384553</td>\n",
       "      <td>0.070388</td>\n",
       "      <td>0.147458</td>\n",
       "      <td>-0.276558</td>\n",
       "      <td>-0.417665</td>\n",
       "      <td>1.000000</td>\n",
       "      <td>0.191909</td>\n",
       "      <td>0.160133</td>\n",
       "      <td>0.119649</td>\n",
       "      <td>0.157592</td>\n",
       "      <td>0.048742</td>\n",
       "      <td>0.119927</td>\n",
       "      <td>-0.141948</td>\n",
       "    </tr>\n",
       "    <tr>\n",
       "      <th>CountPre</th>\n",
       "      <td>-0.479329</td>\n",
       "      <td>0.206121</td>\n",
       "      <td>0.467113</td>\n",
       "      <td>0.232535</td>\n",
       "      <td>-0.408439</td>\n",
       "      <td>0.191909</td>\n",
       "      <td>1.000000</td>\n",
       "      <td>0.774767</td>\n",
       "      <td>0.423803</td>\n",
       "      <td>0.659854</td>\n",
       "      <td>0.358995</td>\n",
       "      <td>0.631771</td>\n",
       "      <td>0.133005</td>\n",
       "    </tr>\n",
       "    <tr>\n",
       "      <th>CountDurante</th>\n",
       "      <td>-0.596080</td>\n",
       "      <td>0.405380</td>\n",
       "      <td>0.740705</td>\n",
       "      <td>0.309825</td>\n",
       "      <td>-0.507547</td>\n",
       "      <td>0.160133</td>\n",
       "      <td>0.774767</td>\n",
       "      <td>1.000000</td>\n",
       "      <td>0.624508</td>\n",
       "      <td>0.813774</td>\n",
       "      <td>0.479688</td>\n",
       "      <td>0.766159</td>\n",
       "      <td>-0.023759</td>\n",
       "    </tr>\n",
       "    <tr>\n",
       "      <th>CountPos</th>\n",
       "      <td>-0.364468</td>\n",
       "      <td>0.476275</td>\n",
       "      <td>0.636127</td>\n",
       "      <td>0.328476</td>\n",
       "      <td>-0.304749</td>\n",
       "      <td>0.119649</td>\n",
       "      <td>0.423803</td>\n",
       "      <td>0.624508</td>\n",
       "      <td>1.000000</td>\n",
       "      <td>0.952900</td>\n",
       "      <td>0.573044</td>\n",
       "      <td>0.608712</td>\n",
       "      <td>0.020256</td>\n",
       "    </tr>\n",
       "    <tr>\n",
       "      <th>CountTotal</th>\n",
       "      <td>-0.482506</td>\n",
       "      <td>0.476569</td>\n",
       "      <td>0.712633</td>\n",
       "      <td>0.338625</td>\n",
       "      <td>-0.406723</td>\n",
       "      <td>0.157592</td>\n",
       "      <td>0.659854</td>\n",
       "      <td>0.813774</td>\n",
       "      <td>0.952900</td>\n",
       "      <td>1.000000</td>\n",
       "      <td>0.592375</td>\n",
       "      <td>0.727899</td>\n",
       "      <td>0.035011</td>\n",
       "    </tr>\n",
       "    <tr>\n",
       "      <th>user_reviews</th>\n",
       "      <td>-0.301997</td>\n",
       "      <td>0.351861</td>\n",
       "      <td>0.671408</td>\n",
       "      <td>0.233545</td>\n",
       "      <td>-0.218032</td>\n",
       "      <td>0.048742</td>\n",
       "      <td>0.358995</td>\n",
       "      <td>0.479688</td>\n",
       "      <td>0.573044</td>\n",
       "      <td>0.592375</td>\n",
       "      <td>1.000000</td>\n",
       "      <td>0.766768</td>\n",
       "      <td>0.035625</td>\n",
       "    </tr>\n",
       "    <tr>\n",
       "      <th>critic_reviews</th>\n",
       "      <td>-0.529820</td>\n",
       "      <td>0.428520</td>\n",
       "      <td>0.906763</td>\n",
       "      <td>0.303765</td>\n",
       "      <td>-0.466299</td>\n",
       "      <td>0.119927</td>\n",
       "      <td>0.631771</td>\n",
       "      <td>0.766159</td>\n",
       "      <td>0.608712</td>\n",
       "      <td>0.727899</td>\n",
       "      <td>0.766768</td>\n",
       "      <td>1.000000</td>\n",
       "      <td>-0.009508</td>\n",
       "    </tr>\n",
       "    <tr>\n",
       "      <th>mes</th>\n",
       "      <td>0.148345</td>\n",
       "      <td>0.039905</td>\n",
       "      <td>-0.065401</td>\n",
       "      <td>0.239128</td>\n",
       "      <td>-0.050913</td>\n",
       "      <td>-0.141948</td>\n",
       "      <td>0.133005</td>\n",
       "      <td>-0.023759</td>\n",
       "      <td>0.020256</td>\n",
       "      <td>0.035011</td>\n",
       "      <td>0.035625</td>\n",
       "      <td>-0.009508</td>\n",
       "      <td>1.000000</td>\n",
       "    </tr>\n",
       "  </tbody>\n",
       "</table>\n",
       "</div>"
      ],
      "text/plain": [
       "                  IMDBid      Nota     Votos   Duração       Ano  Episodios  \\\n",
       "IMDBid          1.000000 -0.438873 -0.543804 -0.219106  0.852411  -0.384553   \n",
       "Nota           -0.438873  1.000000  0.481724  0.243358 -0.410434   0.070388   \n",
       "Votos          -0.543804  0.481724  1.000000  0.262867 -0.559226   0.147458   \n",
       "Duração        -0.219106  0.243358  0.262867  1.000000 -0.136125  -0.276558   \n",
       "Ano             0.852411 -0.410434 -0.559226 -0.136125  1.000000  -0.417665   \n",
       "Episodios      -0.384553  0.070388  0.147458 -0.276558 -0.417665   1.000000   \n",
       "CountPre       -0.479329  0.206121  0.467113  0.232535 -0.408439   0.191909   \n",
       "CountDurante   -0.596080  0.405380  0.740705  0.309825 -0.507547   0.160133   \n",
       "CountPos       -0.364468  0.476275  0.636127  0.328476 -0.304749   0.119649   \n",
       "CountTotal     -0.482506  0.476569  0.712633  0.338625 -0.406723   0.157592   \n",
       "user_reviews   -0.301997  0.351861  0.671408  0.233545 -0.218032   0.048742   \n",
       "critic_reviews -0.529820  0.428520  0.906763  0.303765 -0.466299   0.119927   \n",
       "mes             0.148345  0.039905 -0.065401  0.239128 -0.050913  -0.141948   \n",
       "\n",
       "                CountPre  CountDurante  CountPos  CountTotal  user_reviews  \\\n",
       "IMDBid         -0.479329     -0.596080 -0.364468   -0.482506     -0.301997   \n",
       "Nota            0.206121      0.405380  0.476275    0.476569      0.351861   \n",
       "Votos           0.467113      0.740705  0.636127    0.712633      0.671408   \n",
       "Duração         0.232535      0.309825  0.328476    0.338625      0.233545   \n",
       "Ano            -0.408439     -0.507547 -0.304749   -0.406723     -0.218032   \n",
       "Episodios       0.191909      0.160133  0.119649    0.157592      0.048742   \n",
       "CountPre        1.000000      0.774767  0.423803    0.659854      0.358995   \n",
       "CountDurante    0.774767      1.000000  0.624508    0.813774      0.479688   \n",
       "CountPos        0.423803      0.624508  1.000000    0.952900      0.573044   \n",
       "CountTotal      0.659854      0.813774  0.952900    1.000000      0.592375   \n",
       "user_reviews    0.358995      0.479688  0.573044    0.592375      1.000000   \n",
       "critic_reviews  0.631771      0.766159  0.608712    0.727899      0.766768   \n",
       "mes             0.133005     -0.023759  0.020256    0.035011      0.035625   \n",
       "\n",
       "                critic_reviews       mes  \n",
       "IMDBid               -0.529820  0.148345  \n",
       "Nota                  0.428520  0.039905  \n",
       "Votos                 0.906763 -0.065401  \n",
       "Duração               0.303765  0.239128  \n",
       "Ano                  -0.466299 -0.050913  \n",
       "Episodios             0.119927 -0.141948  \n",
       "CountPre              0.631771  0.133005  \n",
       "CountDurante          0.766159 -0.023759  \n",
       "CountPos              0.608712  0.020256  \n",
       "CountTotal            0.727899  0.035011  \n",
       "user_reviews          0.766768  0.035625  \n",
       "critic_reviews        1.000000 -0.009508  \n",
       "mes                  -0.009508  1.000000  "
      ]
     },
     "execution_count": 33,
     "metadata": {},
     "output_type": "execute_result"
    }
   ],
   "source": [
    "dados.corr(method='pearson')\n",
    "#dados.corr(method='spearman')"
   ]
  },
  {
   "cell_type": "code",
   "execution_count": null,
   "metadata": {},
   "outputs": [],
   "source": [
    "dados.corr(method='spearman')"
   ]
  },
  {
   "cell_type": "code",
   "execution_count": null,
   "metadata": {},
   "outputs": [],
   "source": [
    "sns.scatterplot(data=dados, x=\"Ano\", y=\"CountTotal\")"
   ]
  },
  {
   "cell_type": "code",
   "execution_count": null,
   "metadata": {},
   "outputs": [],
   "source": [
    "sns.scatterplot(data=dados, x=\"Ano\", y=\"Votos\")"
   ]
  },
  {
   "cell_type": "code",
   "execution_count": null,
   "metadata": {},
   "outputs": [],
   "source": [
    "dados[dados['Ano']==2013]"
   ]
  },
  {
   "cell_type": "code",
   "execution_count": null,
   "metadata": {},
   "outputs": [],
   "source": [
    "sns.scatterplot(data=dados, x=\"Votos\", y=\"CountTotal\")"
   ]
  },
  {
   "cell_type": "code",
   "execution_count": null,
   "metadata": {},
   "outputs": [],
   "source": [
    "sns.scatterplot(data=dados, x=\"Nota\", y=\"Votos\")"
   ]
  },
  {
   "cell_type": "markdown",
   "metadata": {},
   "source": [
    "## Votos"
   ]
  },
  {
   "cell_type": "code",
   "execution_count": null,
   "metadata": {},
   "outputs": [
    {
     "data": {
      "text/plain": [
       "Text(0, 0.5, 'Frequência')"
      ]
     },
     "execution_count": 49,
     "metadata": {},
     "output_type": "execute_result"
    },
    {
     "data": {
      "image/png": "[encoded data removed]",
      "text/plain": [
       "<Figure size 432x288 with 1 Axes>"
      ]
     },
     "metadata": {
      "needs_background": "light"
     },
     "output_type": "display_data"
    }
   ],
   "source": [
    "# 120000 - 20000 - 2500\n",
    "votos1 = sns.histplot(data=dados, x=\"Votos\")#, log_scale=True)\n",
    "\n",
    "votos1.set_title('Histograma da quantidade de votos no IMDb')\n",
    "votos1.set_ylabel('Frequência')"
   ]
  },
  {
   "cell_type": "code",
   "execution_count": null,
   "metadata": {},
   "outputs": [
    {
     "data": {
      "text/plain": [
       "Text(0, 0.5, 'Frequência')"
      ]
     },
     "execution_count": 50,
     "metadata": {},
     "output_type": "execute_result"
    },
    {
     "data": {
      "image/png": "[encoded data removed]",
      "text/plain": [
       "<Figure size 432x288 with 1 Axes>"
      ]
     },
     "metadata": {
      "needs_background": "light"
     },
     "output_type": "display_data"
    }
   ],
   "source": [
    "votos2 = sns.histplot(data=dados[dados['Votos']<100000], x=\"Votos\")#, log_scale=True)\n",
    "\n",
    "votos2.set_title('Histograma da quantidade de votos no IMDb (<100.000)')\n",
    "votos2.set_ylabel('Frequência')"
   ]
  },
  {
   "cell_type": "code",
   "execution_count": null,
   "metadata": {},
   "outputs": [
    {
     "data": {
      "text/plain": [
       "Text(0.5, 1.0, 'Diagrama de dispersão da nota e quantidade de votos no IMDb')"
      ]
     },
     "execution_count": 51,
     "metadata": {},
     "output_type": "execute_result"
    },
    {
     "data": {
      "image/png": "[encoded data removed]",
      "text/plain": [
       "<Figure size 432x288 with 1 Axes>"
      ]
     },
     "metadata": {
      "needs_background": "light"
     },
     "output_type": "display_data"
    }
   ],
   "source": [
    "votos3 = sns.scatterplot(data=dados, x=\"Nota\", y=\"Votos\")\n",
    "#sns.regplot(data=dados[dados['Nota']>4], x=\"Nota\", y=\"Votos\")\n",
    "\n",
    "votos3.set_title('Diagrama de dispersão da nota e quantidade de votos no IMDb')\n"
   ]
  },
  {
   "cell_type": "code",
   "execution_count": null,
   "metadata": {},
   "outputs": [
    {
     "data": {
      "text/plain": [
       "Text(0.5, 1.0, 'Boxplot da quantidade de votos no IMDb por ano de lançamento')"
      ]
     },
     "execution_count": 54,
     "metadata": {},
     "output_type": "execute_result"
    },
    {
     "data": {
      "image/png": "[encoded data removed]",
      "text/plain": [
       "<Figure size 432x288 with 1 Axes>"
      ]
     },
     "metadata": {
      "needs_background": "light"
     },
     "output_type": "display_data"
    }
   ],
   "source": [
    "votos4 = sns.boxplot(data=dados, x=\"Ano\", y=\"Votos\")\n",
    "votos4.set_title('Boxplot da quantidade de votos no IMDb por ano de lançamento')"
   ]
  },
  {
   "cell_type": "code",
   "execution_count": 25,
   "metadata": {},
   "outputs": [
    {
     "data": {
      "text/plain": [
       "Text(0.5, 1.0, 'Boxplot da quantidade de votos por país de origem')"
      ]
     },
     "execution_count": 25,
     "metadata": {},
     "output_type": "execute_result"
    },
    {
     "data": {
      "image/png": "[encoded data removed]",
      "text/plain": [
       "<Figure size 432x288 with 1 Axes>"
      ]
     },
     "metadata": {
      "needs_background": "light"
     },
     "output_type": "display_data"
    }
   ],
   "source": [
    "votos5 = sns.boxplot(data=dados, x=\"Votos\", y=\"País\")\n",
    "votos5.set_title('Boxplot da quantidade de votos por país de origem')"
   ]
  },
  {
   "cell_type": "code",
   "execution_count": 27,
   "metadata": {},
   "outputs": [
    {
     "data": {
      "text/plain": [
       "Text(0.5, 1.0, 'Boxplot da quantidade de votos por país de origem (mais populares)')"
      ]
     },
     "execution_count": 27,
     "metadata": {},
     "output_type": "execute_result"
    },
    {
     "data": {
      "image/png": "[encoded data removed]",
      "text/plain": [
       "<Figure size 432x288 with 1 Axes>"
      ]
     },
     "metadata": {
      "needs_background": "light"
     },
     "output_type": "display_data"
    }
   ],
   "source": [
    "maiorespaises = dados[ (dados['País']==\"United States\") | (dados['País']==\"Brazil\") | (dados['País']==\"South Korea\") | (dados['País']==\"United Kingdom\") | (dados['País']==\"Germany\") | (dados['País']==\"India\")]\n",
    "votos5 = sns.boxplot(data=maiorespaises, x=\"Votos\", y=\"País\")\n",
    "votos5.set_title('Boxplot da quantidade de votos por país de origem (mais populares)')"
   ]
  },
  {
   "cell_type": "code",
   "execution_count": 30,
   "metadata": {},
   "outputs": [
    {
     "data": {
      "text/plain": [
       "Text(0.5, 1.0, 'Boxplot da quantidade de votos por número de episódios')"
      ]
     },
     "execution_count": 30,
     "metadata": {},
     "output_type": "execute_result"
    },
    {
     "data": {
      "image/png": "[encoded data removed]",
      "text/plain": [
       "<Figure size 432x288 with 1 Axes>"
      ]
     },
     "metadata": {
      "needs_background": "light"
     },
     "output_type": "display_data"
    }
   ],
   "source": [
    "votos6 = sns.boxplot(data=dados, x=\"Episodios\", y=\"Votos\")\n",
    "votos6.set_title('Boxplot da quantidade de votos por número de episódios')"
   ]
  },
  {
   "cell_type": "code",
   "execution_count": 36,
   "metadata": {},
   "outputs": [
    {
     "data": {
      "text/plain": [
       "Text(0.5, 0, 'Reviews dos usuários do IMDb')"
      ]
     },
     "execution_count": 36,
     "metadata": {},
     "output_type": "execute_result"
    },
    {
     "data": {
      "image/png": "[encoded data removed]",
      "text/plain": [
       "<Figure size 432x288 with 1 Axes>"
      ]
     },
     "metadata": {
      "needs_background": "light"
     },
     "output_type": "display_data"
    }
   ],
   "source": [
    "#sns.scatterplot(data=dados, x=\"user_reviews\", y=\"Votos\")\n",
    "votos7 = sns.regplot(data=dados, x=\"user_reviews\", y=\"Votos\")\n",
    "votos7.set_title('Diagrama de dispersão da quantidade de votos por quantidade de reviews dos usuários do IMDb')\n",
    "votos7.set_xlabel('Reviews dos usuários do IMDb')"
   ]
  },
  {
   "cell_type": "code",
   "execution_count": 37,
   "metadata": {},
   "outputs": [
    {
     "data": {
      "text/plain": [
       "Text(0.5, 0, 'Reviews dos críticos do IMDb')"
      ]
     },
     "execution_count": 37,
     "metadata": {},
     "output_type": "execute_result"
    },
    {
     "data": {
      "image/png": "[encoded data removed]",
      "text/plain": [
       "<Figure size 432x288 with 1 Axes>"
      ]
     },
     "metadata": {
      "needs_background": "light"
     },
     "output_type": "display_data"
    }
   ],
   "source": [
    "#sns.scatterplot(data=dados, x=\"critic_reviews\", y=\"Votos\")\n",
    "votos8 = sns.regplot(data=dados, x=\"critic_reviews\", y=\"Votos\")\n",
    "votos8.set_title('Diagrama de dispersão da quantidade de votos por quantidade de reviews dos críticos do IMDb')\n",
    "votos8.set_xlabel('Reviews dos críticos do IMDb')"
   ]
  },
  {
   "cell_type": "markdown",
   "metadata": {},
   "source": [
    "# Duração"
   ]
  },
  {
   "cell_type": "code",
   "execution_count": 40,
   "metadata": {},
   "outputs": [
    {
     "data": {
      "text/plain": [
       "Text(0.5, 0, 'Frequência')"
      ]
     },
     "execution_count": 40,
     "metadata": {},
     "output_type": "execute_result"
    },
    {
     "data": {
      "image/png": "[encoded data removed]",
      "text/plain": [
       "<Figure size 432x288 with 1 Axes>"
      ]
     },
     "metadata": {
      "needs_background": "light"
     },
     "output_type": "display_data"
    }
   ],
   "source": [
    "dura1 = sns.histplot(data=dados, x=\"Duração\")\n",
    "dura1.set_title('Histograma da duração média dos episódios por série')\n",
    "dura1.set_xlabel('Frequência')"
   ]
  },
  {
   "cell_type": "code",
   "execution_count": 45,
   "metadata": {},
   "outputs": [
    {
     "data": {
      "text/plain": [
       "Text(0.5, 1.0, 'Boxplot da duração média dos episódios por série')"
      ]
     },
     "execution_count": 45,
     "metadata": {},
     "output_type": "execute_result"
    },
    {
     "data": {
      "image/png": "[encoded data removed]",
      "text/plain": [
       "<Figure size 432x288 with 1 Axes>"
      ]
     },
     "metadata": {
      "needs_background": "light"
     },
     "output_type": "display_data"
    }
   ],
   "source": [
    "dura2=sns.boxplot(data=dados, x=\"Duração\")\n",
    "dura2.set_title('Boxplot da duração média dos episódios por série')"
   ]
  },
  {
   "cell_type": "code",
   "execution_count": 42,
   "metadata": {},
   "outputs": [
    {
     "data": {
      "text/plain": [
       "<AxesSubplot:xlabel='Duração', ylabel='Votos'>"
      ]
     },
     "execution_count": 42,
     "metadata": {},
     "output_type": "execute_result"
    },
    {
     "data": {
      "image/png": "[encoded data removed]",
      "text/plain": [
       "<Figure size 432x288 with 1 Axes>"
      ]
     },
     "metadata": {
      "needs_background": "light"
     },
     "output_type": "display_data"
    }
   ],
   "source": [
    "sns.scatterplot(data=dados, x=\"Duração\", y=\"Votos\")"
   ]
  },
  {
   "cell_type": "code",
   "execution_count": 46,
   "metadata": {},
   "outputs": [
    {
     "data": {
      "text/plain": [
       "Text(0.5, 1.0, 'Boxplot da duração média de episódios por ano de lançamento da série')"
      ]
     },
     "execution_count": 46,
     "metadata": {},
     "output_type": "execute_result"
    },
    {
     "data": {
      "image/png": "[encoded data removed]",
      "text/plain": [
       "<Figure size 432x288 with 1 Axes>"
      ]
     },
     "metadata": {
      "needs_background": "light"
     },
     "output_type": "display_data"
    }
   ],
   "source": [
    "dura3=sns.boxplot(data=dados, x=\"Ano\", y=\"Duração\")\n",
    "dura3.set_title('Boxplot da duração média de episódios por ano de lançamento da série')"
   ]
  },
  {
   "cell_type": "code",
   "execution_count": 48,
   "metadata": {},
   "outputs": [
    {
     "data": {
      "text/plain": [
       "Text(0.5, 0, 'Tipo de série')"
      ]
     },
     "execution_count": 48,
     "metadata": {},
     "output_type": "execute_result"
    },
    {
     "data": {
      "image/png": "[encoded data removed]",
      "text/plain": [
       "<Figure size 432x288 with 1 Axes>"
      ]
     },
     "metadata": {
      "needs_background": "light"
     },
     "output_type": "display_data"
    }
   ],
   "source": [
    "dura4=sns.boxplot(data=dados, x=\"Check\", y=\"Duração\")\n",
    "dura4.set_title('Boxplot da duração média de episódios por tipo de série')\n",
    "dura4.set_xlabel('Tipo de série')"
   ]
  },
  {
   "cell_type": "markdown",
   "metadata": {},
   "source": [
    "# Ano"
   ]
  },
  {
   "cell_type": "code",
   "execution_count": null,
   "metadata": {},
   "outputs": [],
   "source": [
    "sns.histplot(data=dados, x=\"Ano\")# tratar (dividir duracao por numero de episodios para >100)"
   ]
  },
  {
   "cell_type": "code",
   "execution_count": null,
   "metadata": {},
   "outputs": [],
   "source": [
    "sns.boxplot(data=dados, x=\"Ano\")# tratar (dividir duracao por numero de episodios para >100)"
   ]
  },
  {
   "cell_type": "markdown",
   "metadata": {},
   "source": [
    "# Data de estréia"
   ]
  },
  {
   "cell_type": "code",
   "execution_count": null,
   "metadata": {},
   "outputs": [],
   "source": [
    "sns.countplot(data=dados, x=\"mes\")"
   ]
  },
  {
   "cell_type": "markdown",
   "metadata": {},
   "source": [
    "# País"
   ]
  },
  {
   "cell_type": "code",
   "execution_count": null,
   "metadata": {},
   "outputs": [],
   "source": [
    "dados['País'].value_counts()"
   ]
  },
  {
   "cell_type": "code",
   "execution_count": null,
   "metadata": {},
   "outputs": [],
   "source": [
    "fig, ax = plt.subplots()\n",
    "sns.countplot(data=dados, x=\"País\")\n",
    "ax.tick_params(rotation=90)\n"
   ]
  },
  {
   "cell_type": "markdown",
   "metadata": {},
   "source": [
    "# Idiomas"
   ]
  },
  {
   "cell_type": "code",
   "execution_count": null,
   "metadata": {},
   "outputs": [],
   "source": [
    "dados['Idiomas'].value_counts()"
   ]
  },
  {
   "cell_type": "code",
   "execution_count": null,
   "metadata": {},
   "outputs": [],
   "source": [
    "sns.countplot(data=dados, x=\"Idiomas\", order=dados.Idiomas.value_counts().iloc[:7].index)\n",
    "\n",
    "#visCausaMorte = sns.countplot(x=\"CAUSABAS\", order=dados.CAUSABAS.value_counts().iloc[:10].index, data=dados, palette=\"Set1\")"
   ]
  },
  {
   "cell_type": "markdown",
   "metadata": {},
   "source": [
    "# Episodios"
   ]
  },
  {
   "cell_type": "code",
   "execution_count": null,
   "metadata": {},
   "outputs": [],
   "source": [
    "sns.histplot(data=dados, x=\"Episodios\")# tratar (dividir duracao por numero de episodios para >100)"
   ]
  },
  {
   "cell_type": "code",
   "execution_count": null,
   "metadata": {},
   "outputs": [],
   "source": [
    "sns.boxplot(data=dados, x=\"Check\", y=\"Episodios\")"
   ]
  },
  {
   "cell_type": "markdown",
   "metadata": {},
   "source": [
    "## Reviews de usuários"
   ]
  },
  {
   "cell_type": "code",
   "execution_count": null,
   "metadata": {},
   "outputs": [],
   "source": [
    "sns.histplot(data=dados, x=\"user_reviews\")"
   ]
  },
  {
   "cell_type": "code",
   "execution_count": null,
   "metadata": {},
   "outputs": [],
   "source": [
    "sns.boxplot(data=dados, x = \"Ano\",y=\"user_reviews\")"
   ]
  },
  {
   "cell_type": "markdown",
   "metadata": {},
   "source": [
    "## Reviews de críticos"
   ]
  },
  {
   "cell_type": "code",
   "execution_count": null,
   "metadata": {},
   "outputs": [],
   "source": [
    "sns.histplot(data=dados, x=\"critic_reviews\")"
   ]
  },
  {
   "cell_type": "code",
   "execution_count": null,
   "metadata": {},
   "outputs": [],
   "source": [
    "sns.boxplot(data=dados, x = \"Ano\",y=\"critic_reviews\")"
   ]
  },
  {
   "cell_type": "markdown",
   "metadata": {},
   "source": [
    "# Engajamento (counts)"
   ]
  },
  {
   "cell_type": "code",
   "execution_count": null,
   "metadata": {},
   "outputs": [],
   "source": [
    "sns.histplot(data=dados, x=\"CountTotal\")"
   ]
  },
  {
   "cell_type": "code",
   "execution_count": null,
   "metadata": {},
   "outputs": [],
   "source": [
    "sns.histplot(data=dados, x=\"CountPre\")"
   ]
  },
  {
   "cell_type": "code",
   "execution_count": null,
   "metadata": {},
   "outputs": [],
   "source": [
    "sns.histplot(data=dados, x=\"CountDurante\")"
   ]
  },
  {
   "cell_type": "code",
   "execution_count": null,
   "metadata": {},
   "outputs": [],
   "source": [
    "sns.histplot(data=dados, x=\"CountPos\")"
   ]
  },
  {
   "cell_type": "code",
   "execution_count": null,
   "metadata": {},
   "outputs": [],
   "source": [
    "sns.boxplot(data=dados, x=\"Ano\", y=\"CountTotal\")"
   ]
  },
  {
   "cell_type": "code",
   "execution_count": null,
   "metadata": {},
   "outputs": [],
   "source": [
    "def getCount(tipocount):\n",
    "    y = []\n",
    "    coluna = []\n",
    "    for i in range (24,dados.columns.size,1):\n",
    "        coluna.append(str(dados.columns[i]))\n",
    "        \n",
    "        aux = []\n",
    "        for j in range (0, len(dados[dados[coluna[-1]] == 1][tipocount]),1):\n",
    "            aux.append(dados[dados[coluna[-1]] == 1][tipocount].values[j])\n",
    "            \n",
    "        y.append(aux)\n",
    "\n",
    "    colunas = {'Count':[], 'Gênero':[]}\n",
    "    df_aux = pd.DataFrame(colunas)\n",
    "\n",
    "    for i in range(len(y)):\n",
    "        for val in y[i]:\n",
    "            linha = {'Count':val, 'Gênero':coluna[i]}\n",
    "            df_aux = df_aux.append(linha, ignore_index=True)\n",
    "\n",
    "    return df_aux\n",
    "\n",
    "dfTotal = getCount(\"CountTotal\")\n",
    "\n"
   ]
  },
  {
   "cell_type": "code",
   "execution_count": null,
   "metadata": {},
   "outputs": [],
   "source": [
    "dfTotal"
   ]
  },
  {
   "cell_type": "code",
   "execution_count": null,
   "metadata": {},
   "outputs": [],
   "source": [
    "fig, ax = plt.subplots()\n",
    "sns.boxplot(x='Gênero',y='Count', data=dfTotal)\n",
    "ax.tick_params(rotation=90)"
   ]
  },
  {
   "cell_type": "code",
   "execution_count": null,
   "metadata": {},
   "outputs": [],
   "source": [
    "dfPre = getCount(\"CountPre\")\n",
    "fig, ax = plt.subplots()\n",
    "sns.boxplot(x='Gênero',y='Count', data=dfPre)\n",
    "ax.tick_params(rotation=90)"
   ]
  },
  {
   "cell_type": "code",
   "execution_count": null,
   "metadata": {},
   "outputs": [],
   "source": [
    "dfDurante = getCount(\"CountDurante\")\n",
    "fig, ax = plt.subplots()\n",
    "sns.boxplot(x='Gênero',y='Count', data=dfDurante)\n",
    "ax.tick_params(rotation=90)"
   ]
  },
  {
   "cell_type": "code",
   "execution_count": null,
   "metadata": {},
   "outputs": [],
   "source": [
    "dfPos = getCount(\"CountPos\")\n",
    "fig, ax = plt.subplots()\n",
    "sns.boxplot(x='Gênero',y='Count', data=dfPos)\n",
    "ax.tick_params(rotation=90)"
   ]
  },
  {
   "cell_type": "code",
   "execution_count": null,
   "metadata": {},
   "outputs": [],
   "source": [
    "sns.boxplot(data=dados, x=\"mes\", y=\"CountTotal\")"
   ]
  },
  {
   "cell_type": "code",
   "execution_count": null,
   "metadata": {},
   "outputs": [],
   "source": [
    "sns.boxplot(data=dados, x=\"mes\", y=\"CountPre\")"
   ]
  },
  {
   "cell_type": "code",
   "execution_count": null,
   "metadata": {},
   "outputs": [],
   "source": [
    "sns.boxplot(data=dados, x=\"mes\", y=\"CountDurante\")\n"
   ]
  },
  {
   "cell_type": "code",
   "execution_count": null,
   "metadata": {},
   "outputs": [],
   "source": [
    "sns.boxplot(data=dados, x=\"mes\", y=\"CountPos\")"
   ]
  },
  {
   "cell_type": "code",
   "execution_count": null,
   "metadata": {},
   "outputs": [],
   "source": [
    "sns.boxplot(data=dados, x=\"Check\", y=\"CountTotal\")"
   ]
  },
  {
   "cell_type": "code",
   "execution_count": null,
   "metadata": {},
   "outputs": [],
   "source": [
    "sns.boxplot(data=dados, x=\"Episodios\", y=\"CountTotal\")"
   ]
  },
  {
   "cell_type": "code",
   "execution_count": null,
   "metadata": {},
   "outputs": [],
   "source": [
    "fig, ax = plt.subplots()\n",
    "sns.boxplot(data=dados, x=\"País\", y=\"CountTotal\")\n",
    "ax.tick_params(rotation=90)"
   ]
  },
  {
   "cell_type": "code",
   "execution_count": null,
   "metadata": {},
   "outputs": [],
   "source": [
    "fig, ax = plt.subplots()\n",
    "sns.boxplot(data=dados, x=\"Idiomas\", y=\"CountTotal\")\n",
    "ax.tick_params(rotation=90)"
   ]
  },
  {
   "cell_type": "markdown",
   "metadata": {},
   "source": [
    "# Série Temporal do engajamento"
   ]
  },
  {
   "cell_type": "code",
   "execution_count": null,
   "metadata": {},
   "outputs": [],
   "source": []
  },
  {
   "cell_type": "markdown",
   "metadata": {},
   "source": [
    "### Número e duração de episódios por engajamento"
   ]
  },
  {
   "cell_type": "code",
   "execution_count": null,
   "metadata": {},
   "outputs": [],
   "source": [
    "#sns.boxplot(data=dados, x=\"Episodios\", y=\"CountTotal\")"
   ]
  },
  {
   "cell_type": "code",
   "execution_count": null,
   "metadata": {},
   "outputs": [],
   "source": [
    "#sns.boxplot(data=dados, x=\"Duração\", y=\"CountTotal\")"
   ]
  },
  {
   "cell_type": "code",
   "execution_count": null,
   "metadata": {},
   "outputs": [],
   "source": [
    "dados[dados['Duração']>100] #corrigir, pegar a media por episodio (duracao/episodios)"
   ]
  },
  {
   "cell_type": "markdown",
   "metadata": {},
   "source": [
    "## Atores e engajamento"
   ]
  },
  {
   "cell_type": "code",
   "execution_count": null,
   "metadata": {},
   "outputs": [],
   "source": []
  },
  {
   "cell_type": "markdown",
   "metadata": {},
   "source": [
    "## Influência de engajamento anterior no posterior"
   ]
  },
  {
   "cell_type": "code",
   "execution_count": null,
   "metadata": {},
   "outputs": [],
   "source": [
    "sns.scatterplot(data=dados, x=\"CountPre\", y=\"CountDurante\")"
   ]
  },
  {
   "cell_type": "code",
   "execution_count": null,
   "metadata": {},
   "outputs": [],
   "source": [
    "sns.scatterplot(data=dados[dados['Titulo']!=\"Stranger Things\"], x=\"CountDurante\", y=\"CountPos\")"
   ]
  },
  {
   "cell_type": "markdown",
   "metadata": {},
   "source": [
    "## Engajamento e genêro"
   ]
  },
  {
   "cell_type": "code",
   "execution_count": null,
   "metadata": {},
   "outputs": [],
   "source": [
    "dados['Gênero'] = dados['Gênero'].apply(lambda x : x.split(\", \"))\n",
    "dados['Gênero']"
   ]
  },
  {
   "cell_type": "code",
   "execution_count": null,
   "metadata": {},
   "outputs": [],
   "source": [
    "pd.get_dummies(dados['Gênero'].apply(pd.Series).stack()).sum(level=0)\n",
    "# Primeiramente: Fazer o count, ver a frequencia de cada série\n",
    "# Segundamente: Avaliar os grupos mais frequentes (Drama+Comedia)"
   ]
  },
  {
   "cell_type": "code",
   "execution_count": null,
   "metadata": {},
   "outputs": [],
   "source": []
  },
  {
   "cell_type": "markdown",
   "metadata": {},
   "source": [
    "## Censura e engajamento"
   ]
  },
  {
   "cell_type": "code",
   "execution_count": null,
   "metadata": {},
   "outputs": [],
   "source": []
  },
  {
   "cell_type": "markdown",
   "metadata": {},
   "source": [
    "## Reviews e engajamento"
   ]
  }
 ],
 "metadata": {
  "colab": {
   "collapsed_sections": [],
   "name": "projetoAnaliseExploratoria.ipynb",
   "provenance": []
  },
  "interpreter": {
   "hash": "0e1898d504e473bdd4635340539d41a5cecc72accb8598f6f0c7bcb5921af418"
  },
  "kernelspec": {
   "display_name": "Python 3 (ipykernel)",
   "language": "python",
   "name": "python3"
  },
  "language_info": {
   "codemirror_mode": {
    "name": "ipython",
    "version": 3
   },
   "file_extension": ".py",
   "mimetype": "text/x-python",
   "name": "python",
   "nbconvert_exporter": "python",
   "pygments_lexer": "ipython3",
   "version": "3.8.8"
  }
 },
 "nbformat": 4,
 "nbformat_minor": 1
}
