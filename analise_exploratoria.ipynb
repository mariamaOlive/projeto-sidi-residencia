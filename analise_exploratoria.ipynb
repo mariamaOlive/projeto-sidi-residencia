{
 "cells": [
  {
   "cell_type": "markdown",
   "metadata": {},
   "source": [
    "# Bibliotecas"
   ]
  },
  {
   "cell_type": "code",
   "execution_count": null,
   "metadata": {},
   "outputs": [],
   "source": [
    "import pandas as pd\n",
    "import seaborn as sns\n",
    "import matplotlib.pyplot as plt\n",
    "from sklearn.preprocessing import OneHotEncoder"
   ]
  },
  {
   "cell_type": "markdown",
   "metadata": {},
   "source": [
    "# Funções"
   ]
  },
  {
   "cell_type": "markdown",
   "metadata": {},
   "source": [
    "## Plot de 2 x 2"
   ]
  },
  {
   "cell_type": "code",
   "execution_count": null,
   "metadata": {},
   "outputs": [],
   "source": [
    "def plot_2x2(titulo, dados1, dados2, dados3, dados4,\n",
    "                x1, y1 = \"CountTotal\", t1 ='Todas as Fases',\n",
    "                x2 = '', y2 = \"CountPre\", t2 ='Fase pré',\n",
    "                x3 = '', y3 = \"CountDurante\", t3 ='Fase Durante',\n",
    "                x4 = '', y4 = \"CountPos\", t4 ='Fase Pós',\n",
    "                rx = 0, tam_fig = (18,12), tipo = 'box', share = False):\n",
    "\n",
    "    if x2 == '':\n",
    "        x2 = x1\n",
    "    if x3 == '':\n",
    "        x3 = x1\n",
    "    if x4 == '':\n",
    "        x4 = x1\n",
    "\n",
    "    fig, axes = plt.subplots(2, 2, figsize=tam_fig, sharey=share)\n",
    "    fig.suptitle(titulo, fontsize = 20)\n",
    "    plt.subplots_adjust(hspace = .3, wspace = 0.1)\n",
    "    \n",
    "    if tipo == 'box':\n",
    "        sns.boxplot(ax=axes[0,0], data=dados1, x=x1, y=y1)\n",
    "        sns.set_palette(\"Set2\")\n",
    "        sns.boxplot(ax=axes[0,1], data=dados2, x=x2, y=y2)\n",
    "        sns.set_palette(\"Set2\")\n",
    "        sns.boxplot(ax=axes[1,0], data=dados3, x=x3, y=y3)\n",
    "        sns.set_palette(\"Set2\")\n",
    "        sns.boxplot(ax=axes[1,1], data=dados4, x=x4, y=y4)\n",
    "        sns.set_palette(\"Set2\")\n",
    "    elif tipo == 'count':\n",
    "        sns.countplot(ax=axes[0,0], data=dados1, x=x1, y=y1)\n",
    "        sns.set_palette(\"Set2\")\n",
    "        sns.countplot(ax=axes[0,1], data=dados2, x=x2, y=y2)\n",
    "        sns.set_palette(\"Set2\")\n",
    "        sns.countplot(ax=axes[1,0], data=dados3, x=x3, y=y3)\n",
    "        sns.set_palette(\"Set2\")\n",
    "        sns.countplot(ax=axes[1,1], data=dados4, x=x4, y=y4)\n",
    "        sns.set_palette(\"Set2\")\n",
    "    elif tipo == 'bar':\n",
    "        sns.barplot(ax=axes[0,0], data=dados1, x=x1, y=y1)\n",
    "        sns.set_palette(\"Set2\")\n",
    "        sns.barplot(ax=axes[0,1], data=dados2, x=x2, y=y2)\n",
    "        sns.set_palette(\"Set2\")\n",
    "        sns.barplot(ax=axes[1,0], data=dados3, x=x3, y=y3)\n",
    "        sns.set_palette(\"Set2\")\n",
    "        sns.barplot(ax=axes[1,1], data=dados4, x=x4, y=y4)\n",
    "        sns.set_palette(\"Set2\")\n",
    "    elif tipo == 'hist':\n",
    "        sns.histplot(ax=axes[0,0], data=dados1, x=x1)\n",
    "        sns.set_palette(\"Set2\")\n",
    "        sns.histplot(ax=axes[0,1], data=dados2, x=x2)\n",
    "        sns.set_palette(\"Set2\")\n",
    "        sns.histplot(ax=axes[1,0], data=dados3, x=x3)\n",
    "        sns.set_palette(\"Set2\")\n",
    "        sns.histplot(ax=axes[1,1], data=dados4, x=x4)\n",
    "        sns.set_palette(\"Set2\")\n",
    "    elif tipo == 'scatter':\n",
    "        sns.scatterplot(ax=axes[0,0], data=dados1, x=x1, y=y1)\n",
    "        sns.set_palette(\"Set2\")\n",
    "        sns.scatterplot(ax=axes[0,1], data=dados2, x=x2, y=y2)\n",
    "        sns.set_palette(\"Set2\")\n",
    "        sns.scatterplot(ax=axes[1,0], data=dados3, x=x3, y=y3)\n",
    "        sns.set_palette(\"Set2\")\n",
    "        sns.scatterplot(ax=axes[1,1], data=dados4, x=x4, y=y4)\n",
    "        sns.set_palette(\"Set2\")\n",
    "\n",
    "    axes[0,0].set(xlabel=None, ylabel=None, title=t1)\n",
    "    axes[0,0].tick_params(axis='x', rotation=rx)\n",
    "\n",
    "    axes[0,1].set(xlabel=None, ylabel=None, title=t2)\n",
    "    axes[0,1].tick_params(axis='x', rotation=rx)\n",
    "\n",
    "    axes[1,0].set(xlabel=None, ylabel=None, title=t3)\n",
    "    axes[1,0].tick_params(axis='x', rotation=rx)\n",
    "\n",
    "    axes[1,1].set(xlabel=None, ylabel=None, title=t4)\n",
    "    axes[1,1].tick_params(axis='x', rotation=rx)"
   ]
  },
  {
   "cell_type": "markdown",
   "metadata": {},
   "source": [
    "## get Count para Count Total e Gênero"
   ]
  },
  {
   "cell_type": "code",
   "execution_count": null,
   "metadata": {},
   "outputs": [],
   "source": [
    "def getCount(tipocount):\n",
    "    y = []\n",
    "    coluna = []\n",
    "    for i in range (24,dados.columns.size,1):\n",
    "        coluna.append(str(dados.columns[i]))\n",
    "        \n",
    "        aux = []\n",
    "        for j in range (0, len(dados[dados[coluna[-1]] == 1][tipocount]),1):\n",
    "            aux.append(dados[dados[coluna[-1]] == 1][tipocount].values[j])\n",
    "            \n",
    "        y.append(aux)\n",
    "\n",
    "    colunas = {'Count':[], 'Gênero':[]}\n",
    "    df_aux = pd.DataFrame(colunas)\n",
    "\n",
    "    for i in range(len(y)):\n",
    "        for val in y[i]:\n",
    "            linha = {'Count':val, 'Gênero':coluna[i]}\n",
    "            df_aux = df_aux.append(linha, ignore_index=True)\n",
    "\n",
    "    return df_aux"
   ]
  },
  {
   "cell_type": "markdown",
   "metadata": {},
   "source": [
    "## getCount Parametrizado"
   ]
  },
  {
   "cell_type": "code",
   "execution_count": null,
   "metadata": {},
   "outputs": [],
   "source": [
    "def getCountParam(dados, tipocount = 'Nota', nome_col1 = 'Nota', nome_col2 = 'Gênero', inicio = \"Action\", fim = \"Western\"):\n",
    "\n",
    "    lista_colunas = list(dados.columns)\n",
    "    index_primeiro_genero = lista_colunas.index(inicio)\n",
    "    index_ultimo_genero = lista_colunas.index(fim)\n",
    "    \n",
    "    y = []\n",
    "    coluna = []\n",
    "    for i in range (index_primeiro_genero,index_ultimo_genero+1,1):\n",
    "        coluna.append(str(dados.columns[i]))\n",
    "        \n",
    "        aux = []\n",
    "        for j in range (0, len(dados[dados[coluna[-1]] == 1][tipocount]),1):\n",
    "            aux.append(dados[dados[coluna[-1]] == 1][tipocount].values[j])\n",
    "            \n",
    "        y.append(aux)\n",
    "\n",
    "    colunas = {nome_col1:[], nome_col2:[]}\n",
    "    df_aux = pd.DataFrame(colunas)\n",
    "\n",
    "    for i in range(len(y)):\n",
    "        for val in y[i]:\n",
    "            linha = {nome_col1:val, nome_col2:coluna[i]}\n",
    "            df_aux = df_aux.append(linha, ignore_index=True)\n",
    "\n",
    "    return df_aux"
   ]
  },
  {
   "cell_type": "markdown",
   "metadata": {},
   "source": [
    "# Definição da amostra"
   ]
  },
  {
   "cell_type": "code",
   "execution_count": null,
   "metadata": {},
   "outputs": [],
   "source": [
    "popu = pd.read_csv(\"Popu_series.csv\", encoding = \"ISO-8859-1\")\n",
    "popu = popu.sample(frac=0.3, replace=False, random_state=195)\n",
    "len(popu)"
   ]
  },
  {
   "cell_type": "code",
   "execution_count": null,
   "metadata": {},
   "outputs": [],
   "source": [
    "popu = popu['serie']\n",
    "popu"
   ]
  },
  {
   "cell_type": "code",
   "execution_count": null,
   "metadata": {},
   "outputs": [],
   "source": [
    "popu.to_csv(\"Amostra.csv\", index=False)"
   ]
  },
  {
   "cell_type": "markdown",
   "metadata": {},
   "source": [
    "# Análise Exploratória"
   ]
  },
  {
   "cell_type": "code",
   "execution_count": null,
   "metadata": {},
   "outputs": [],
   "source": [
    "#imdb = pd.read_csv(\"imdb_series.csv\") REMOVER (arquivo da amostra antiga)\n",
    "imdb = pd.read_csv(\"Amostra_IMDB.csv\")\n",
    "twitter = pd.read_csv(\"series_dataset_count/dataset_count.csv\")\n",
    "reviews = pd.read_csv(\"UserReviewsCritic.csv\", sep=\";\")"
   ]
  },
  {
   "cell_type": "code",
   "execution_count": null,
   "metadata": {},
   "outputs": [],
   "source": [
    "reviews.head()"
   ]
  },
  {
   "cell_type": "code",
   "execution_count": null,
   "metadata": {},
   "outputs": [],
   "source": [
    "twitter.dropna(inplace=True)"
   ]
  },
  {
   "cell_type": "code",
   "execution_count": null,
   "metadata": {},
   "outputs": [],
   "source": [
    "twitter"
   ]
  },
  {
   "cell_type": "code",
   "execution_count": null,
   "metadata": {},
   "outputs": [],
   "source": [
    "imdb.head()"
   ]
  },
  {
   "cell_type": "code",
   "execution_count": null,
   "metadata": {},
   "outputs": [],
   "source": [
    "reviews.rename(columns={\"titulo\":\"Titulo\"}, inplace=True)\n",
    "aux = pd.merge(imdb, twitter, on = \"IMDBid\")\n",
    "dados = pd.merge(aux, reviews, on = \"Titulo\")\n",
    "\n",
    "#dados.drop(dados[dados[\"Nome\"]==\"LoveDeathandRobots\"].index, inplace=True)\n",
    "dados.head()"
   ]
  },
  {
   "cell_type": "code",
   "execution_count": null,
   "metadata": {},
   "outputs": [],
   "source": [
    "dados.drop(columns=\"Reviews\", inplace=True)"
   ]
  },
  {
   "cell_type": "code",
   "execution_count": null,
   "metadata": {},
   "outputs": [],
   "source": [
    "indice = dados[dados['Duração']>100]['Duração'].index"
   ]
  },
  {
   "cell_type": "code",
   "execution_count": null,
   "metadata": {},
   "outputs": [],
   "source": [
    "dados.loc[indice, \"Duração\"] = dados.loc[indice, \"Duração\"]/dados.loc[indice, \"Episodios\"]"
   ]
  },
  {
   "cell_type": "code",
   "execution_count": null,
   "metadata": {},
   "outputs": [],
   "source": [
    "dados[dados['Duração']>100]"
   ]
  },
  {
   "cell_type": "code",
   "execution_count": null,
   "metadata": {},
   "outputs": [],
   "source": [
    "dados['DataEstreia'] = pd.to_datetime(dados['DataEstreia'], format=\"%Y-%m-%d\", errors = 'coerce')\n",
    "dados['mes'] = pd.DatetimeIndex(dados['DataEstreia']).month"
   ]
  },
  {
   "cell_type": "markdown",
   "metadata": {},
   "source": [
    "LEMBRAR DE DIVIDIR O ENGAJAMENTO POR NUMERO DE DIAS!!"
   ]
  },
  {
   "cell_type": "code",
   "execution_count": null,
   "metadata": {},
   "outputs": [],
   "source": [
    "diasPre = 75-3\n",
    "diasDurante = 7\n",
    "diasPos = 150-3\n",
    "diasTotal = 226\n",
    "dados['TaxaPre'] = dados['CountPre']/diasPre\n",
    "dados['TaxaDurante'] = dados['CountDurante']/diasDurante\n",
    "dados['TaxaPos'] = dados['CountPos']/diasPos\n",
    "dados['TaxaTotal'] = dados['CountTotal']/diasPos"
   ]
  },
  {
   "cell_type": "markdown",
   "metadata": {},
   "source": [
    "Removendo gênero inconsistente"
   ]
  },
  {
   "cell_type": "markdown",
   "metadata": {},
   "source": [
    "### Alterando o formato das variáveis"
   ]
  },
  {
   "cell_type": "code",
   "execution_count": null,
   "metadata": {},
   "outputs": [],
   "source": [
    "dados[\"Ano\"] = dados[\"Ano\"].astype('int32')\n",
    "dados[\"Episodios\"] = dados[\"Episodios\"].astype('int32')\n",
    "#dados[\"Idiomas\"] = dados[\"Idiomas\"].astype('?')"
   ]
  },
  {
   "cell_type": "markdown",
   "metadata": {},
   "source": [
    "### Hot Encoding Gênero"
   ]
  },
  {
   "cell_type": "code",
   "execution_count": null,
   "metadata": {},
   "outputs": [],
   "source": [
    "dados['Gênero'] = dados['Gênero'].apply(lambda x : x.split(\", \"))\n",
    "dummies = pd.get_dummies(dados['Gênero'].apply(pd.Series).stack()).sum(level=0)\n",
    "dados = dados.join(dummies)"
   ]
  },
  {
   "cell_type": "code",
   "execution_count": null,
   "metadata": {},
   "outputs": [],
   "source": [
    "dados.drop(columns=\"Short\",inplace=True)"
   ]
  },
  {
   "cell_type": "markdown",
   "metadata": {},
   "source": [
    "### Hot Encoding País"
   ]
  },
  {
   "cell_type": "code",
   "execution_count": null,
   "metadata": {},
   "outputs": [],
   "source": [
    "dados['País'] = dados['País'].apply(lambda x : x.split(\", \"))\n",
    "dummies = pd.get_dummies(dados['País'].apply(pd.Series).stack()).sum(level=0)\n",
    "dados = dados.join(dummies)"
   ]
  },
  {
   "cell_type": "markdown",
   "metadata": {},
   "source": [
    "### Hot Encoding Idioma"
   ]
  },
  {
   "cell_type": "code",
   "execution_count": null,
   "metadata": {},
   "outputs": [],
   "source": [
    "#dados['Idiomas'] = dados['Idiomas'].apply(lambda x : x.split(\", \"))"
   ]
  },
  {
   "cell_type": "code",
   "execution_count": null,
   "metadata": {},
   "outputs": [],
   "source": [
    "#dummies = pd.get_dummies(dados['Idiomas'].apply(pd.Series).stack()).sum(level=0)"
   ]
  },
  {
   "cell_type": "code",
   "execution_count": null,
   "metadata": {},
   "outputs": [],
   "source": [
    "#dados = dados.join(dummies)"
   ]
  },
  {
   "cell_type": "markdown",
   "metadata": {},
   "source": [
    "# Análise Exploratória"
   ]
  },
  {
   "cell_type": "code",
   "execution_count": null,
   "metadata": {},
   "outputs": [],
   "source": [
    "teste = dados[dados['Duração'].notna()]"
   ]
  },
  {
   "cell_type": "code",
   "execution_count": null,
   "metadata": {},
   "outputs": [],
   "source": [
    "#dados.apply(lambda linha: linha['Duração'] if linha['Duração']<100 else linha['Duração']/linha['Episodios'])\n",
    "#dados.apply(lambda linha: print(linha[7]))\n",
    "#a = teste.apply(lambda linha: print(linha[0]))\n",
    "#dados['Duração']\n",
    "\n",
    "#duracao = dados['Duração']\n",
    "#epi = dados['Episodios']\n"
   ]
  },
  {
   "cell_type": "markdown",
   "metadata": {},
   "source": [
    "## Notas"
   ]
  },
  {
   "cell_type": "code",
   "execution_count": null,
   "metadata": {},
   "outputs": [],
   "source": [
    "fig, ax = plt.subplots()\n",
    "sns.histplot(data = dados, x = \"Nota\")\n",
    "ax.set(xlabel = None, ylabel = 'Frequência', title = 'Histograma das notas no IMDb')\n",
    "ax.tick_params(axis = 'x', rotation = 0)"
   ]
  },
  {
   "cell_type": "code",
   "execution_count": null,
   "metadata": {},
   "outputs": [],
   "source": [
    "#fig, ax = plt.subplots()\n",
    "#sns.boxplot(y=dados['Nota'], data=dados)\n",
    "#ax.set(xlabel = None, ylabel = None, title = 'Boxplot das Notas')\n",
    "#ax.tick_params(axis = 'x', rotation = 0)"
   ]
  },
  {
   "cell_type": "code",
   "execution_count": null,
   "metadata": {},
   "outputs": [],
   "source": [
    "#fig, ax = plt.subplots()\n",
    "#sns.boxplot(x=dados['Ano'],y=dados['Nota'], data=dados)\n",
    "#ax.set(xlabel = None, ylabel = None, title = 'Boxplot das notas no IMDb por ano de lançamento')\n",
    "#ax.tick_params(axis = 'x', rotation = 0)\n",
    "\n",
    "#fig, ax = plt.subplots()\n",
    "#sns.boxplot(x='Ano', y='Nota', data=dados[dados['Ano']>2016])\n",
    "#ax.set_title('Boxplot das notas no IMDb por ano de lançamento (após 2016)')\n",
    "#ax.tick_params(axis = 'x', rotation = 0)"
   ]
  },
  {
   "cell_type": "code",
   "execution_count": null,
   "metadata": {},
   "outputs": [],
   "source": [
    "fig, axes = plt.subplots(1, 2, figsize=(20,7), sharey=False)\n",
    "fig.suptitle('', fontsize = 20)\n",
    "plt.subplots_adjust(hspace = .3, wspace = 0.1)\n",
    "\n",
    "sns.boxplot(ax=axes[0], x = dados['Ano'], y = dados['Nota'], data=dados)\n",
    "axes[0].set(xlabel=None, ylabel=None, title = 'Boxplot das notas no IMDb por ano de lançamento')\n",
    "axes[0].tick_params(axis = 'x', rotation = 90)\n",
    "\n",
    "sns.boxplot(ax=axes[1], x = 'Ano', y = 'Nota', data = dados[dados['Ano']>2016])\n",
    "axes[1].set(xlabel=None, ylabel=None, title = 'Boxplot das notas no IMDb por ano de lançamento (após 2016)')\n",
    "axes[1].tick_params(axis = 'x', rotation = 90)"
   ]
  },
  {
   "cell_type": "code",
   "execution_count": null,
   "metadata": {},
   "outputs": [],
   "source": [
    "df_aux = getCountParam(dados)"
   ]
  },
  {
   "cell_type": "code",
   "execution_count": null,
   "metadata": {},
   "outputs": [],
   "source": [
    "#fig, ax = plt.subplots()\n",
    "#sns.boxplot(x = 'Gênero', y = 'Nota', data = df_aux)\n",
    "#ax.set(xlabel = None, ylabel = None, title = 'Notas x Gênero')\n",
    "#ax.tick_params(rotation = 90)\n",
    "\n",
    "#fig, ax = plt.subplots()\n",
    "#sns.countplot(x = 'Gênero', data = df_aux)\n",
    "#ax.set(xlabel = None, ylabel = None)\n",
    "#ax.tick_params(rotation = 90)"
   ]
  },
  {
   "cell_type": "code",
   "execution_count": null,
   "metadata": {},
   "outputs": [],
   "source": [
    "fig, axes = plt.subplots(1, 2, figsize=(20,5), sharey=False)\n",
    "fig.suptitle('', fontsize = 20)\n",
    "plt.subplots_adjust(hspace = .3, wspace = 0.1)\n",
    "\n",
    "sns.boxplot(ax=axes[0], x = 'Gênero', y = 'Nota', data = df_aux)\n",
    "axes[0].set(xlabel=None, ylabel=None, title = 'Notas x Gênero')\n",
    "axes[0].tick_params(axis = 'x', rotation = 90)\n",
    "\n",
    "sns.countplot(ax=axes[1],x = 'Gênero', data = df_aux)\n",
    "axes[1].set(xlabel=None, ylabel=None)\n",
    "axes[1].tick_params(axis = 'x', rotation = 90)"
   ]
  },
  {
   "cell_type": "code",
   "execution_count": null,
   "metadata": {},
   "outputs": [],
   "source": [
    "#dados.iloc[:, 24:].sum()\n",
    "#dados.iloc[:, 24:].sum()*100/86"
   ]
  },
  {
   "cell_type": "markdown",
   "metadata": {},
   "source": [
    "### Nota do IMDB e número de votos por engajamento"
   ]
  },
  {
   "cell_type": "markdown",
   "metadata": {},
   "source": [
    "to DO: agrupar 4x4 nota por engajamento (scatter)\n",
    "\n",
    "todos os count"
   ]
  },
  {
   "cell_type": "code",
   "execution_count": null,
   "metadata": {},
   "outputs": [],
   "source": [
    "#dados['Nota'] CountPre CountDurante CountPos CountTotal\n",
    "\n",
    "sns.scatterplot(data=dados, x=\"Nota\", y=\"CountTotal\")\n",
    "#sns.regplot(data=dados[dados['Nota']>4], x=\"Nota\", y=\"CountTotal\")\n",
    "\n",
    "#nota1.set_title('Histograma das notas no IMDb')\n",
    "#nota1.set_ylabel('Frequência')"
   ]
  },
  {
   "cell_type": "markdown",
   "metadata": {},
   "source": [
    "**VER QUAL O ERRO QUE TA DANDO AQUI**"
   ]
  },
  {
   "cell_type": "code",
   "execution_count": null,
   "metadata": {},
   "outputs": [],
   "source": [
    "#sns.boxplot(data=dados, x=\"Nota\", y=\"País\")#, hue=dados['País'])"
   ]
  },
  {
   "cell_type": "code",
   "execution_count": null,
   "metadata": {},
   "outputs": [],
   "source": [
    "#maiorespaises = dados[ (dados['País']==\"United States\") | (dados['País']==\"Brazil\") | (dados['País']==\"South Korea\") | (dados['País']==\"United Kingdom\") | (dados['País']==\"Germany\") | (dados['País']==\"India\")]\n",
    "#sns.boxplot(data=maiorespaises, x=\"Nota\", y=\"País\")#, hue=dados['País'])\n"
   ]
  },
  {
   "cell_type": "markdown",
   "metadata": {},
   "source": [
    "**DESCOMENTAR ACIMA**"
   ]
  },
  {
   "cell_type": "code",
   "execution_count": null,
   "metadata": {},
   "outputs": [],
   "source": []
  },
  {
   "cell_type": "code",
   "execution_count": null,
   "metadata": {},
   "outputs": [],
   "source": []
  },
  {
   "cell_type": "code",
   "execution_count": null,
   "metadata": {},
   "outputs": [],
   "source": []
  },
  {
   "cell_type": "code",
   "execution_count": null,
   "metadata": {},
   "outputs": [],
   "source": []
  },
  {
   "cell_type": "code",
   "execution_count": null,
   "metadata": {},
   "outputs": [],
   "source": []
  },
  {
   "cell_type": "code",
   "execution_count": null,
   "metadata": {},
   "outputs": [],
   "source": []
  },
  {
   "cell_type": "markdown",
   "metadata": {},
   "source": [
    "Usar o codigo de genero para pais (fazer one hot encoding antes)\n",
    "\n",
    "Não quer só a nota, quer outros atributos"
   ]
  },
  {
   "cell_type": "code",
   "execution_count": null,
   "metadata": {},
   "outputs": [],
   "source": [
    "#y = []\n",
    "#coluna = []\n",
    "#for i in range (24,dados.columns.size,1):\n",
    "#    coluna.append(str(dados.columns[i]))\n",
    "#    \n",
    "#    aux = []\n",
    "#    for j in range (0, len(dados[dados[coluna[-1]] == 1]['Nota']),1):\n",
    "#        aux.append(dados[dados[coluna[-1]] == 1]['Nota'].values[j])\n",
    "#        \n",
    "#    y.append(aux)\n",
    "\n",
    "#colunas = {'Nota':[], 'Gênero':[]}\n",
    "#df_aux = pd.DataFrame(colunas)\n",
    "\n",
    "#for i in range(len(y)):\n",
    "#    for val in y[i]:\n",
    "#        linha = {'Nota':val, 'Gênero':coluna[i]}\n",
    "#        df_aux = df_aux.append(linha, ignore_index=True)"
   ]
  },
  {
   "cell_type": "markdown",
   "metadata": {},
   "source": [
    "**TA DANDO ERRO AQUI, DESCOMENTAR ABAIXO**"
   ]
  },
  {
   "cell_type": "code",
   "execution_count": null,
   "metadata": {},
   "outputs": [],
   "source": [
    "#sns.boxplot(data=dados[dados['País'].str.contains(\",\")==False], x=\"Nota\", y=\"País\")#, hue=dados['País'])"
   ]
  },
  {
   "cell_type": "code",
   "execution_count": null,
   "metadata": {},
   "outputs": [],
   "source": [
    "sns.countplot(data=dados, x=\"Episodios\")"
   ]
  },
  {
   "cell_type": "code",
   "execution_count": null,
   "metadata": {},
   "outputs": [],
   "source": [
    "sns.boxplot(data=dados, x=\"Episodios\", y=\"Nota\")"
   ]
  },
  {
   "cell_type": "code",
   "execution_count": null,
   "metadata": {},
   "outputs": [],
   "source": [
    "tipo1 = sns.boxplot(data=dados, x=\"Check\", y=\"Nota\")\n",
    "tipo1.set_title('Boxplot das notas de acordo com o tipo de série')\n",
    "tipo1.set_xlabel('Tipo de série')"
   ]
  },
  {
   "cell_type": "code",
   "execution_count": null,
   "metadata": {},
   "outputs": [],
   "source": [
    "#sns.scatterplot(data=dados, x=\"Nota\", y=\"CountPre\")"
   ]
  },
  {
   "cell_type": "code",
   "execution_count": null,
   "metadata": {},
   "outputs": [],
   "source": [
    "#sns.scatterplot(data=dados, x=\"Nota\", y=\"CountDurante\")"
   ]
  },
  {
   "cell_type": "code",
   "execution_count": null,
   "metadata": {},
   "outputs": [],
   "source": [
    "#sns.scatterplot(data=dados, x=\"Nota\", y=\"CountPos\")"
   ]
  },
  {
   "cell_type": "code",
   "execution_count": null,
   "metadata": {},
   "outputs": [],
   "source": [
    "#dados.corr(method='pearson')\n",
    "#dados.corr(method='spearman')"
   ]
  },
  {
   "cell_type": "code",
   "execution_count": null,
   "metadata": {},
   "outputs": [],
   "source": [
    "#dados.corr(method='spearman')"
   ]
  },
  {
   "cell_type": "code",
   "execution_count": null,
   "metadata": {},
   "outputs": [],
   "source": [
    "#sns.scatterplot(data=dados, x=\"Ano\", y=\"CountTotal\") #countplot seria melhor?"
   ]
  },
  {
   "cell_type": "code",
   "execution_count": null,
   "metadata": {},
   "outputs": [],
   "source": [
    "#sns.scatterplot(data=dados, x=\"Ano\", y=\"Votos\")#ja fizemos o boxplot em baixo"
   ]
  },
  {
   "cell_type": "code",
   "execution_count": null,
   "metadata": {},
   "outputs": [],
   "source": [
    "#sns.scatterplot(data=dados, x=\"Votos\", y=\"CountTotal\")"
   ]
  },
  {
   "cell_type": "code",
   "execution_count": null,
   "metadata": {},
   "outputs": [],
   "source": [
    "#sns.scatterplot(data=dados, x=\"Nota\", y=\"Votos\")"
   ]
  },
  {
   "cell_type": "markdown",
   "metadata": {},
   "source": [
    "## Votos"
   ]
  },
  {
   "cell_type": "code",
   "execution_count": null,
   "metadata": {},
   "outputs": [],
   "source": [
    "# 120000 - 20000 - 2500\n",
    "votos1 = sns.histplot(data=dados, x=\"Votos\")#, log_scale=True)\n",
    "\n",
    "votos1.set_title('Histograma da quantidade de votos no IMDb')\n",
    "votos1.set_ylabel('Frequência')"
   ]
  },
  {
   "cell_type": "code",
   "execution_count": null,
   "metadata": {},
   "outputs": [],
   "source": [
    "votos2 = sns.histplot(data=dados[dados['Votos']<100000], x=\"Votos\")#, log_scale=True)\n",
    "\n",
    "votos2.set_title('Histograma da quantidade de votos no IMDb (<100.000)')\n",
    "votos2.set_ylabel('Frequência')"
   ]
  },
  {
   "cell_type": "code",
   "execution_count": null,
   "metadata": {},
   "outputs": [],
   "source": [
    "votos3 = sns.scatterplot(data=dados, x=\"Nota\", y=\"Votos\")\n",
    "#sns.regplot(data=dados[dados['Nota']>4], x=\"Nota\", y=\"Votos\")\n",
    "\n",
    "votos3.set_title('Diagrama de dispersão da nota e quantidade de votos no IMDb')\n"
   ]
  },
  {
   "cell_type": "code",
   "execution_count": null,
   "metadata": {},
   "outputs": [],
   "source": [
    "votos4 = sns.boxplot(data=dados, x=\"Ano\", y=\"Votos\")\n",
    "votos4.set_title('Boxplot da quantidade de votos no IMDb por ano de lançamento')"
   ]
  },
  {
   "cell_type": "markdown",
   "metadata": {},
   "source": [
    "**descomentar aqui embaixo**"
   ]
  },
  {
   "cell_type": "code",
   "execution_count": null,
   "metadata": {},
   "outputs": [],
   "source": [
    "#votos5 = sns.boxplot(data=dados, x=\"Votos\", y=\"País\")\n",
    "#votos5.set_title('Boxplot da quantidade de votos por país de origem')"
   ]
  },
  {
   "cell_type": "code",
   "execution_count": null,
   "metadata": {},
   "outputs": [],
   "source": [
    "#maiorespaises = dados[ (dados['País']==\"United States\") | (dados['País']==\"Brazil\") | (dados['País']==\"South Korea\") | (dados['País']==\"United Kingdom\") | (dados['País']==\"Germany\") | (dados['País']==\"India\")]\n",
    "#votos5 = sns.boxplot(data=maiorespaises, x=\"Votos\", y=\"País\")\n",
    "#votos5.set_title('Boxplot da quantidade de votos por país de origem (mais populares)')"
   ]
  },
  {
   "cell_type": "code",
   "execution_count": null,
   "metadata": {},
   "outputs": [],
   "source": [
    "#votos5b = sns.boxplot(data=dados[dados['País'].str.contains(\",\")==False], x=\"Votos\", y=\"País\")\n",
    "#votos5b.set_title('Boxplot da quantidade de votos por país de origem (mais populares)')\n"
   ]
  },
  {
   "cell_type": "code",
   "execution_count": null,
   "metadata": {},
   "outputs": [],
   "source": [
    "votos6 = sns.boxplot(data=dados, x=\"Episodios\", y=\"Votos\")\n",
    "votos6.set_title('Boxplot da quantidade de votos por número de episódios')"
   ]
  },
  {
   "cell_type": "code",
   "execution_count": null,
   "metadata": {},
   "outputs": [],
   "source": [
    "#sns.scatterplot(data=dados, x=\"user_reviews\", y=\"Votos\")\n",
    "votos7 = sns.regplot(data=dados, x=\"user_reviews\", y=\"Votos\")\n",
    "votos7.set_title('Diagrama de dispersão da quantidade de votos por quantidade de reviews dos usuários do IMDb')\n",
    "votos7.set_xlabel('Reviews dos usuários do IMDb')"
   ]
  },
  {
   "cell_type": "code",
   "execution_count": null,
   "metadata": {},
   "outputs": [],
   "source": [
    "#sns.scatterplot(data=dados, x=\"critic_reviews\", y=\"Votos\")\n",
    "votos8 = sns.regplot(data=dados, x=\"critic_reviews\", y=\"Votos\")\n",
    "votos8.set_title('Diagrama de dispersão da quantidade de votos por quantidade de reviews dos críticos do IMDb')\n",
    "votos8.set_xlabel('Reviews dos críticos do IMDb')"
   ]
  },
  {
   "cell_type": "markdown",
   "metadata": {},
   "source": [
    "## Duração"
   ]
  },
  {
   "cell_type": "code",
   "execution_count": null,
   "metadata": {},
   "outputs": [],
   "source": [
    "dura1 = sns.histplot(data=dados, x=\"Duração\")\n",
    "dura1.set_title('Histograma da duração média dos episódios por série')\n",
    "dura1.set_ylabel('Frequência')"
   ]
  },
  {
   "cell_type": "code",
   "execution_count": null,
   "metadata": {},
   "outputs": [],
   "source": [
    "#dura2=sns.boxplot(data=dados, x=\"Duração\")\n",
    "#dura2.set_title('Boxplot da duração média dos episódios por série')"
   ]
  },
  {
   "cell_type": "code",
   "execution_count": null,
   "metadata": {},
   "outputs": [],
   "source": [
    "sns.scatterplot(data=dados, x=\"Duração\", y=\"Votos\")"
   ]
  },
  {
   "cell_type": "code",
   "execution_count": null,
   "metadata": {},
   "outputs": [],
   "source": [
    "dura3=sns.boxplot(data=dados, x=\"Ano\", y=\"Duração\")\n",
    "dura3.set_title('Boxplot da duração média de episódios por ano de lançamento da série')"
   ]
  },
  {
   "cell_type": "code",
   "execution_count": null,
   "metadata": {},
   "outputs": [],
   "source": [
    "dura4=sns.boxplot(data=dados, x=\"Check\", y=\"Duração\")\n",
    "dura4.set_title('Boxplot da duração média de episódios por tipo de série')\n",
    "dura4.set_xlabel('Tipo de série')"
   ]
  },
  {
   "cell_type": "markdown",
   "metadata": {},
   "source": [
    "## Ano"
   ]
  },
  {
   "cell_type": "code",
   "execution_count": null,
   "metadata": {},
   "outputs": [],
   "source": [
    "ano1 = sns.countplot(data=dados, x=\"Ano\")# tratar (dividir duracao por numero de episodios para >100)\n",
    "ano1.set_title('Gráfico de barras do ano de lançamento das séries')\n",
    "ano1.set_ylabel('Frequência')"
   ]
  },
  {
   "cell_type": "code",
   "execution_count": null,
   "metadata": {},
   "outputs": [],
   "source": [
    "#sns.boxplot(data=dados, x=\"Ano\")# tratar (dividir duracao por numero de episodios para >100)"
   ]
  },
  {
   "cell_type": "markdown",
   "metadata": {},
   "source": [
    "## Data de estréia"
   ]
  },
  {
   "cell_type": "code",
   "execution_count": null,
   "metadata": {},
   "outputs": [],
   "source": [
    "mes1 = sns.countplot(data=dados, x=\"mes\")\n",
    "mes1.set_title('Quantidade de séries por mês de lançamento')\n",
    "mes1.set_xlabel('Mês')\n",
    "mes1.set_ylabel('Frequência')"
   ]
  },
  {
   "cell_type": "markdown",
   "metadata": {},
   "source": [
    "## País"
   ]
  },
  {
   "cell_type": "code",
   "execution_count": null,
   "metadata": {},
   "outputs": [],
   "source": [
    "dados['País'].value_counts()"
   ]
  },
  {
   "cell_type": "markdown",
   "metadata": {},
   "source": [
    "**descomentar abaixo**"
   ]
  },
  {
   "cell_type": "code",
   "execution_count": null,
   "metadata": {},
   "outputs": [],
   "source": [
    "#fig, ax = plt.subplots()\n",
    "#sns.countplot(data=dados[dados['País'].str.contains(\",\")==False], x=\"País\")\n",
    "#ax.tick_params(rotation=90)\n"
   ]
  },
  {
   "cell_type": "markdown",
   "metadata": {},
   "source": [
    "## Idiomas"
   ]
  },
  {
   "cell_type": "code",
   "execution_count": null,
   "metadata": {},
   "outputs": [],
   "source": [
    "dados['Idiomas'].value_counts()"
   ]
  },
  {
   "cell_type": "code",
   "execution_count": null,
   "metadata": {},
   "outputs": [],
   "source": [
    "sns.countplot(data=dados, x=\"Idiomas\", order=dados.Idiomas.value_counts().iloc[:7].index)\n",
    "\n",
    "#visCausaMorte = sns.countplot(x=\"CAUSABAS\", order=dados.CAUSABAS.value_counts().iloc[:10].index, data=dados, palette=\"Set1\")"
   ]
  },
  {
   "cell_type": "code",
   "execution_count": null,
   "metadata": {},
   "outputs": [],
   "source": [
    "fig, ax = plt.subplots()\n",
    "sns.countplot(data=dados[dados['Idiomas'].str.contains(\",\")==False], x=\"Idiomas\")\n",
    "ax.tick_params(rotation=90)"
   ]
  },
  {
   "cell_type": "markdown",
   "metadata": {},
   "source": [
    "## Episódios"
   ]
  },
  {
   "cell_type": "code",
   "execution_count": null,
   "metadata": {},
   "outputs": [],
   "source": [
    "epis1 = sns.countplot(data=dados, x=\"Episodios\")\n",
    "epis1.set_title('Gráfico de barras do número de episódios')\n",
    "epis1.set_ylabel('Frequência')"
   ]
  },
  {
   "cell_type": "code",
   "execution_count": null,
   "metadata": {},
   "outputs": [],
   "source": [
    "epis2 = sns.boxplot(data=dados, x=\"Check\", y=\"Episodios\")\n",
    "epis2.set_title('Boxplot do número de episódios por tipo de série')\n",
    "epis2.set_ylabel('Frequência')"
   ]
  },
  {
   "cell_type": "markdown",
   "metadata": {},
   "source": [
    "## Reviews de usuários"
   ]
  },
  {
   "cell_type": "code",
   "execution_count": null,
   "metadata": {},
   "outputs": [],
   "source": [
    "rev1 = sns.histplot(data=dados, x=\"user_reviews\")\n",
    "rev1.set_title('Histograma do número de reviews de usuários no IMDb')\n",
    "rev1.set_ylabel('Frequência')\n",
    "rev1.set_xlabel('Reviews dos usuários no IMDb')"
   ]
  },
  {
   "cell_type": "code",
   "execution_count": null,
   "metadata": {},
   "outputs": [],
   "source": [
    "rev2 = sns.boxplot(data=dados, x = \"Ano\",y=\"user_reviews\")\n",
    "rev2.set_title('Boxplot do número de reviews de usuários no IMDb por ano de lançamento')\n",
    "rev2.set_ylabel('Reviews dos usuários no IMDb')"
   ]
  },
  {
   "cell_type": "markdown",
   "metadata": {},
   "source": [
    "## Reviews de críticos"
   ]
  },
  {
   "cell_type": "code",
   "execution_count": null,
   "metadata": {},
   "outputs": [],
   "source": [
    "rev3 = sns.histplot(data=dados, x=\"critic_reviews\")\n",
    "\n",
    "rev3.set_title('Histograma do número de reviews de críticos no IMDb')\n",
    "rev3.set_xlabel('Reviews dos críticos no IMDb')\n",
    "rev3.set_ylabel('Frequência')"
   ]
  },
  {
   "cell_type": "code",
   "execution_count": null,
   "metadata": {},
   "outputs": [],
   "source": [
    "rev4 = sns.boxplot(data=dados, x = \"Ano\",y=\"critic_reviews\")\n",
    "\n",
    "rev4.set_title('Boxplot do número de reviews de críticos no IMDb por ano de lançamento')\n",
    "rev4.set_ylabel('Reviews dos críticos no IMDb')"
   ]
  },
  {
   "cell_type": "markdown",
   "metadata": {},
   "source": [
    "# Engajamento (counts)"
   ]
  },
  {
   "cell_type": "markdown",
   "metadata": {},
   "source": [
    "## Histogramas do números de tweets em difentes fases (Total, Pré, Durante, Pós)"
   ]
  },
  {
   "cell_type": "code",
   "execution_count": null,
   "metadata": {},
   "outputs": [],
   "source": [
    "tit = \"Histograma Número total de Tweets\"\n",
    "x1 = \"CountTotal\"\n",
    "x2 = \"CountPre\"\n",
    "x3 = \"CountDurante\"\n",
    "x4 = \"CountPos\"\n",
    "dado1 = dado2 = dado3 = dado4 = dados\n",
    "\n",
    "plot_2x2(tit, dado1, dado2, dado3, dado4, x1, x2 = x2, x3 = x3, x4 = x4, tipo = 'hist')"
   ]
  },
  {
   "cell_type": "markdown",
   "metadata": {},
   "source": [
    "## Total de Tweets x Ano"
   ]
  },
  {
   "cell_type": "code",
   "execution_count": null,
   "metadata": {},
   "outputs": [],
   "source": [
    "tit = \"Total de Tweets x Ano\"\n",
    "x1 = \"Ano\"\n",
    "dado1 = dado2 = dado3 = dado4 = dados\n",
    "\n",
    "plot_2x2(tit, dado1, dado2, dado3, dado4, x1)"
   ]
  },
  {
   "cell_type": "markdown",
   "metadata": {},
   "source": [
    "## Total de Tweets x Gênero"
   ]
  },
  {
   "cell_type": "code",
   "execution_count": null,
   "metadata": {},
   "outputs": [],
   "source": [
    "tit = 'Total de Tweets x Gênero'\n",
    "x1 = 'Gênero'\n",
    "y1 = 'Count'\n",
    "dfTotal = getCountParam(dados, tipocount = \"CountTotal\", nome_col1 = 'Count')     #dfTotal = getCount(\"CountTotal\")\n",
    "dfPre = getCountParam(dados, tipocount = \"CountPre\", nome_col1 = 'Count')         #dfPre = getCount(\"CountPre\")\n",
    "dfDurante = getCountParam(dados, tipocount = \"CountDurante\", nome_col1 = 'Count') #dfDurante = getCount(\"CountDurante\")\n",
    "dfPos = getCountParam(dados, tipocount = \"CountPos\", nome_col1 = 'Count')         #dfPos = getCount(\"CountPos\")\n",
    "\n",
    "plot_2x2(tit, dfTotal, dfPre, dfDurante, dfPos, x1, y1, y2 = y1, y3 = y1, y4 = y1, rx = 90, share = True)"
   ]
  },
  {
   "cell_type": "markdown",
   "metadata": {},
   "source": [
    "## Total de Tweets x Mês de Estréia"
   ]
  },
  {
   "cell_type": "code",
   "execution_count": null,
   "metadata": {},
   "outputs": [],
   "source": [
    "tit = 'Total de Tweets x Mês de Estréia'\n",
    "x1 = \"mes\"\n",
    "dado1 = dado2 = dado3 = dado4 = dados\n",
    "\n",
    "plot_2x2(tit, dado1, dado2, dado3, dado4, x1)"
   ]
  },
  {
   "cell_type": "markdown",
   "metadata": {},
   "source": [
    "## Total de Tweets x Tipo da Série"
   ]
  },
  {
   "cell_type": "code",
   "execution_count": null,
   "metadata": {},
   "outputs": [],
   "source": [
    "tit = 'Total de Tweets x Tipo da Série'\n",
    "x1 = \"Check\"\n",
    "dado1 = dado2 = dado3 = dado4 = dados\n",
    "\n",
    "plot_2x2(tit, dado1, dado2, dado3, dado4, x1)"
   ]
  },
  {
   "cell_type": "markdown",
   "metadata": {},
   "source": [
    "## Total de Tweets x Episódios"
   ]
  },
  {
   "cell_type": "code",
   "execution_count": null,
   "metadata": {},
   "outputs": [],
   "source": [
    "tit = 'Total de Tweets x Episódios'\n",
    "x1 = \"Episodios\"\n",
    "dado1 = dado2 = dado3 = dado4 = dados\n",
    "\n",
    "plot_2x2(tit, dado1, dado2, dado3, dado4, x1)"
   ]
  },
  {
   "cell_type": "markdown",
   "metadata": {},
   "source": [
    "## Total de Tweets x País"
   ]
  },
  {
   "cell_type": "code",
   "execution_count": null,
   "metadata": {},
   "outputs": [],
   "source": [
    "tit = 'Total de Tweets x País'\n",
    "x1 = 'País'\n",
    "y1 = 'Count'\n",
    "dfTotal = getCountParam(dados, tipocount = \"CountTotal\", nome_col1 = 'Count', nome_col2 = 'País', inicio = \"Argentina\", fim = \"United States\")\n",
    "dfPre = getCountParam(dados, tipocount = \"CountPre\", nome_col1 = 'Count', nome_col2 = 'País', inicio = \"Argentina\", fim = \"United States\")\n",
    "dfDurante = getCountParam(dados, tipocount = \"CountDurante\", nome_col1 = 'Count', nome_col2 = 'País', inicio = \"Argentina\", fim = \"United States\")\n",
    "dfPos = getCountParam(dados, tipocount = \"CountPos\", nome_col1 = 'Count', nome_col2 = 'País', inicio = \"Argentina\", fim = \"United States\")\n",
    "\n",
    "plot_2x2(tit, dfTotal, dfPre, dfDurante, dfPos, x1, y1, y2 = y1, y3 = y1, y4 = y1, rx = 90, share = False)"
   ]
  },
  {
   "cell_type": "code",
   "execution_count": null,
   "metadata": {},
   "outputs": [],
   "source": [
    "#Os países não estão separados\n",
    "#tit = 'Total de Tweets x País'\n",
    "#x1 = \"País\"\n",
    "#dado1 = dado2 = dado3 = dado4 = dados\n",
    "\n",
    "#plot_2x2(tit, dado1, dado2, dado3, dado4, x1, rx = 90)"
   ]
  },
  {
   "cell_type": "markdown",
   "metadata": {},
   "source": [
    "## [!] Total de Tweets x Idiomas"
   ]
  },
  {
   "cell_type": "code",
   "execution_count": null,
   "metadata": {},
   "outputs": [],
   "source": [
    "tit = 'Total de Tweets x Idiomas'\n",
    "x1 = \"Idiomas\"\n",
    "dado1 = dado2 = dado3 = dado4 = dados\n",
    "\n",
    "plot_2x2(tit, dado1, dado2, dado3, dado4, x1, rx = 90)"
   ]
  },
  {
   "cell_type": "markdown",
   "metadata": {},
   "source": [
    "# Série Temporal do engajamento"
   ]
  },
  {
   "cell_type": "code",
   "execution_count": null,
   "metadata": {},
   "outputs": [],
   "source": []
  },
  {
   "cell_type": "markdown",
   "metadata": {},
   "source": [
    "### Número e duração de episódios por engajamento"
   ]
  },
  {
   "cell_type": "code",
   "execution_count": null,
   "metadata": {},
   "outputs": [],
   "source": [
    "sns.boxplot(data=dados, x=\"Episodios\", y=\"CountTotal\")"
   ]
  },
  {
   "cell_type": "code",
   "execution_count": null,
   "metadata": {},
   "outputs": [],
   "source": [
    "sns.scatterplot(data=dados, x=\"Duração\", y=\"CountTotal\")"
   ]
  },
  {
   "cell_type": "code",
   "execution_count": null,
   "metadata": {},
   "outputs": [],
   "source": [
    "dados[dados['Duração']>100] #corrigir, pegar a media por episodio (duracao/episodios)"
   ]
  },
  {
   "cell_type": "markdown",
   "metadata": {},
   "source": [
    "## Atores e engajamento"
   ]
  },
  {
   "cell_type": "code",
   "execution_count": null,
   "metadata": {},
   "outputs": [],
   "source": []
  },
  {
   "cell_type": "markdown",
   "metadata": {},
   "source": [
    "## Influência de engajamento anterior no posterior"
   ]
  },
  {
   "cell_type": "code",
   "execution_count": null,
   "metadata": {},
   "outputs": [],
   "source": [
    "sns.scatterplot(data=dados, x=\"CountPre\", y=\"CountDurante\")"
   ]
  },
  {
   "cell_type": "code",
   "execution_count": null,
   "metadata": {},
   "outputs": [],
   "source": [
    "sns.scatterplot(data=dados, x=\"CountDurante\", y=\"CountPos\")"
   ]
  },
  {
   "cell_type": "markdown",
   "metadata": {},
   "source": [
    "## Engajamento e genêro"
   ]
  },
  {
   "cell_type": "code",
   "execution_count": null,
   "metadata": {},
   "outputs": [],
   "source": [
    "# dados['Gênero'] = dados['Gênero'].apply(lambda x : x.split(\", \"))\n",
    "# dados['Gênero']"
   ]
  },
  {
   "cell_type": "code",
   "execution_count": null,
   "metadata": {},
   "outputs": [],
   "source": [
    "# pd.get_dummies(dados['Gênero'].apply(pd.Series).stack()).sum(level=0)\n",
    "# # Primeiramente: Fazer o count, ver a frequencia de cada série\n",
    "# Segundamente: Avaliar os grupos mais frequentes (Drama+Comedia)"
   ]
  },
  {
   "cell_type": "code",
   "execution_count": null,
   "metadata": {},
   "outputs": [],
   "source": []
  },
  {
   "cell_type": "markdown",
   "metadata": {},
   "source": [
    "## Censura e engajamento"
   ]
  },
  {
   "cell_type": "code",
   "execution_count": null,
   "metadata": {},
   "outputs": [],
   "source": []
  },
  {
   "cell_type": "markdown",
   "metadata": {},
   "source": [
    "## Reviews e engajamento"
   ]
  },
  {
   "cell_type": "code",
   "execution_count": null,
   "metadata": {},
   "outputs": [],
   "source": [
    "tit = \"Total de Tweets x User Reviews\"\n",
    "x1 = \"user_reviews\"\n",
    "tipo_plot = 'scatter'\n",
    "dado1 = dado2 = dado3 = dado4 = dados\n",
    "\n",
    "plot_2x2(tit, dado1, dado2, dado3, dado4, x1, rx = 0, tipo = tipo_plot)"
   ]
  },
  {
   "cell_type": "code",
   "execution_count": null,
   "metadata": {},
   "outputs": [],
   "source": [
    "tit = \"Total de Tweets x Critic Reviews\"\n",
    "x1 = \"critic_reviews\"\n",
    "tipo_plot = 'scatter'\n",
    "dado1 = dado2 = dado3 = dado4 = dados\n",
    "\n",
    "plot_2x2(tit, dado1, dado2, dado3, dado4, x1, rx = 0, tipo = tipo_plot)"
   ]
  },
  {
   "cell_type": "markdown",
   "metadata": {},
   "source": [
    "### Nota"
   ]
  },
  {
   "cell_type": "code",
   "execution_count": null,
   "metadata": {},
   "outputs": [],
   "source": [
    "tit = \"Total de Tweets x Nota\"\n",
    "x1 = \"Nota\"\n",
    "tipo_plot = 'scatter'\n",
    "dado1 = dado2 = dado3 = dado4 = dados\n",
    "\n",
    "plot_2x2(tit, dado1, dado2, dado3, dado4, x1, rx = 0, tipo = tipo_plot)"
   ]
  },
  {
   "cell_type": "markdown",
   "metadata": {},
   "source": [
    "### Votos"
   ]
  },
  {
   "cell_type": "code",
   "execution_count": null,
   "metadata": {},
   "outputs": [],
   "source": [
    "tit = \"Total de Tweets x Votos\"\n",
    "x1 = \"Votos\"\n",
    "tipo_plot = 'scatter'\n",
    "dado1 = dado2 = dado3 = dado4 = dados\n",
    "\n",
    "plot_2x2(tit, dado1, dado2, dado3, dado4, x1, rx = 0, tipo = tipo_plot)"
   ]
  }
 ],
 "metadata": {
  "colab": {
   "collapsed_sections": [],
   "name": "projetoAnaliseExploratoria.ipynb",
   "provenance": []
  },
  "interpreter": {
   "hash": "0e1898d504e473bdd4635340539d41a5cecc72accb8598f6f0c7bcb5921af418"
  },
  "kernelspec": {
   "display_name": "Python 3 (ipykernel)",
   "language": "python",
   "name": "python3"
  },
  "language_info": {
   "codemirror_mode": {
    "name": "ipython",
    "version": 3
   },
   "file_extension": ".py",
   "mimetype": "text/x-python",
   "name": "python",
   "nbconvert_exporter": "python",
   "pygments_lexer": "ipython3",
   "version": "3.8.8"
  }
 },
 "nbformat": 4,
 "nbformat_minor": 1
}
