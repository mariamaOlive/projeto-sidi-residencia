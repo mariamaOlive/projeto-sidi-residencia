{
 "cells": [
  {
   "cell_type": "markdown",
   "metadata": {},
   "source": [
    "# Analisa informações gerais dos arquivos de Twitter #"
   ]
  },
  {
   "cell_type": "code",
   "execution_count": null,
   "metadata": {},
   "outputs": [],
   "source": [
    "#Arquivo que analisa o volume de tweets de cada série\n",
    "# Bibliotecas\n",
    "import pandas as pd\n",
    "import os\n",
    "from pathlib import Path\n",
    "import matplotlib.pyplot as plt\n",
    "import seaborn as sns\n",
    "from IPython.core.interactiveshell import InteractiveShell\n",
    "InteractiveShell.ast_node_interactivity = 'all'\n",
    "from datetime import date"
   ]
  },
  {
   "cell_type": "code",
   "execution_count": null,
   "metadata": {},
   "outputs": [],
   "source": [
    "nomes_series = [\"SexEducation\", \"TheWitcherNetflix\", \"TheWitcher\", \"StrangerThings\"]\n",
    "lista_df = []\n",
    "\n",
    "for serie in nomes_series:\n",
    "    df_serie = pd.read_csv('series_dataset/'+serie+'.csv')\n",
    "    df_serie[\"nome_serie\"] = serie\n",
    "    lista_df.append(df_serie)\n"
   ]
  },
  {
   "cell_type": "code",
   "execution_count": null,
   "metadata": {},
   "outputs": [],
   "source": [
    "lista_df[1].head()"
   ]
  },
  {
   "cell_type": "code",
   "execution_count": null,
   "metadata": {},
   "outputs": [],
   "source": [
    "def setDataframe(dataframe):\n",
    "    dataframe['date'] = pd.to_datetime(dataframe['date'], format=\"%Y-%m-%d\", errors = 'coerce')\n",
    "    dataframe[dataframe[\"id\"].duplicated()]\n",
    "    "
   ]
  },
  {
   "cell_type": "code",
   "execution_count": null,
   "metadata": {},
   "outputs": [],
   "source": [
    "for df in lista_df:\n",
    "    setDataframe(df)"
   ]
  },
  {
   "cell_type": "code",
   "execution_count": null,
   "metadata": {},
   "outputs": [],
   "source": [
    "# todos_df.groupby([\"nome_serie\", \"date\"])[\"date\"].count()"
   ]
  },
  {
   "cell_type": "code",
   "execution_count": null,
   "metadata": {},
   "outputs": [],
   "source": [
    "#filtro_dados = (df_TheWitcher[\"date\"] > pd.Timestamp(2020, 1, 1)) & (df_TheWitcher[\"date\"] <  pd.Timestamp(2020, 2, 8)\n",
    "\n",
    "#Criar tuplas de visualização\n",
    "tuplas_vis = []\n",
    "for df in lista_df:\n",
    "\n",
    "    data_final = df['date'].iloc[0] - pd.DateOffset(days=210)\n",
    "    data_inicial = df['date'].iloc[-1]\n",
    "\n",
    "    filtro_dados = (df[\"date\"] >  data_inicial) & (df[\"date\"] < data_final)\n",
    "    y = df[filtro_dados]['date'].value_counts()\n",
    "    x = df[filtro_dados]['date'].value_counts().index.tolist()\n",
    "\n",
    "    tuplas_vis.append((x,y))"
   ]
  },
  {
   "cell_type": "code",
   "execution_count": null,
   "metadata": {},
   "outputs": [],
   "source": [
    "fig, axes = plt.subplots(2, 2, figsize=(14, 10), sharey=False)\n",
    "\n",
    "sns.lineplot(ax=axes[0,0], x = tuplas_vis[0][0], y = tuplas_vis[0][1], color=\"salmon\")\n",
    "axes[0,0].tick_params(rotation=90, axis='x')\n",
    "axes[0,0].set_title(nomes_series[0])\n",
    "axes[0,0].set_ylabel('Número Total de Twitts')\n",
    "axes[0,0].set_xlabel('Dia')\n",
    "\n",
    "sns.lineplot(ax=axes[0,1], x = tuplas_vis[1][0], y = tuplas_vis[1][1], color=\"salmon\")\n",
    "axes[0,1].tick_params(rotation=90, axis='x')\n",
    "axes[0,1].set_title(nomes_series[1])\n",
    "axes[0,1].set_ylabel('Número Total de Twitts')\n",
    "axes[0,1].set_xlabel('Dia')\n",
    "\n",
    "sns.lineplot(ax=axes[1,0], x = tuplas_vis[2][0], y = tuplas_vis[2][1], color=\"salmon\")\n",
    "axes[1,0].tick_params(rotation=90, axis='x')\n",
    "axes[1,0].set_title(nomes_series[2])\n",
    "axes[1,0].set_ylabel('Número Total de Twitts')\n",
    "axes[1,0].set_xlabel('Dia')\n",
    "\n",
    "sns.lineplot(ax=axes[1,1], x = tuplas_vis[3][0], y = tuplas_vis[3][1], color=\"salmon\")\n",
    "axes[1,1].tick_params(rotation=90, axis='x')\n",
    "axes[1,1].set_title(nomes_series[3])\n",
    "axes[1,1].set_ylabel('Número Total de Twitts')\n",
    "axes[1,1].set_xlabel('Dia')\n"
   ]
  }
 ],
 "metadata": {
  "interpreter": {
   "hash": "981b974d7feb576734841ecc0870447e502dc04c560ef5e72ee5cc0ac2a5053d"
  },
  "kernelspec": {
   "display_name": "Python 3.9.7 64-bit ('teste_apis_projeto': conda)",
   "name": "python3"
  },
  "language_info": {
   "codemirror_mode": {
    "name": "ipython",
    "version": 3
   },
   "file_extension": ".py",
   "mimetype": "text/x-python",
   "name": "python",
   "nbconvert_exporter": "python",
   "pygments_lexer": "ipython3",
   "version": "3.9.7"
  },
  "orig_nbformat": 4
 },
 "nbformat": 4,
 "nbformat_minor": 2
}
