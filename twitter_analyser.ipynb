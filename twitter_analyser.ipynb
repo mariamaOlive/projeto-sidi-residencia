{
 "cells": [
  {
   "cell_type": "markdown",
   "metadata": {},
   "source": [
    "# Analisa informações gerais dos arquivos de Twitter #"
   ]
  },
  {
   "cell_type": "code",
   "execution_count": null,
   "metadata": {},
   "outputs": [],
   "source": [
    "#Arquivo que analisa o volume de tweets de cada série\n",
    "# Bibliotecas\n",
    "import pandas as pd\n",
    "import os\n",
    "from pathlib import Path\n",
    "import matplotlib.pyplot as plt\n",
    "import seaborn as sns\n",
    "from IPython.core.interactiveshell import InteractiveShell\n",
    "InteractiveShell.ast_node_interactivity = 'all'"
   ]
  },
  {
   "cell_type": "code",
   "execution_count": null,
   "metadata": {},
   "outputs": [],
   "source": [
    "df_arquivo = pd.read_csv('series_dataset/SexEducation.csv')\n",
    "df_arquivo2 = pd.read_csv('series_dataset/Ozark.csv')\n"
   ]
  },
  {
   "cell_type": "code",
   "execution_count": null,
   "metadata": {},
   "outputs": [],
   "source": [
    "df_arquivo['date'].head(5)\n",
    "df_arquivo.dtypes\n",
    "\n",
    "df_arquivo['date'] = pd.to_datetime(df_arquivo['date'], format=\"%Y-%m-%d\", errors = 'coerce')\n",
    "df_arquivo2['date'] = pd.to_datetime(df_arquivo2['date'], format=\"%Y-%m-%d\", errors = 'coerce')\n",
    "\n",
    "y1 = df_arquivo['date'].value_counts()\n",
    "x1 = df_arquivo['date'].value_counts().index.tolist()\n",
    "\n",
    "y2 = df_arquivo2['date'].value_counts()\n",
    "x2 = df_arquivo2['date'].value_counts().index.tolist()\n",
    "\n"
   ]
  },
  {
   "cell_type": "code",
   "execution_count": null,
   "metadata": {},
   "outputs": [],
   "source": [
    "fig, axes = plt.subplots(1, 2, figsize=(9.8, 5), sharey=False)\n",
    "\n",
    "sns.lineplot(ax=axes[0], x = x1, y = y1,data = df_arquivo['date'], color=\"salmon\")\n",
    "axes[0].tick_params(rotation=90, axis='x')\n",
    "axes[0].set_title('Número Total de Twitts por Dia')\n",
    "axes[0].set_ylabel('Número Total de Twitts')\n",
    "axes[0].set_xlabel('Dia')\n",
    "\n",
    "sns.lineplot(ax=axes[1], x = x2, y = y2,data = df_arquivo2['date'], color=\"salmon\")\n",
    "axes[1].tick_params(rotation=90, axis='x')\n",
    "axes[1].set_title('Número Total de Twitts por Dia')\n",
    "axes[1].set_ylabel('Número Total de Twitts')\n",
    "axes[1].set_xlabel('Dia')\n",
    "\n",
    "\n",
    "\n"
   ]
  }
 ],
 "metadata": {
  "interpreter": {
   "hash": "981b974d7feb576734841ecc0870447e502dc04c560ef5e72ee5cc0ac2a5053d"
  },
  "kernelspec": {
   "display_name": "Python 3.9.7 64-bit ('teste_apis_projeto': conda)",
   "name": "python3"
  },
  "language_info": {
   "codemirror_mode": {
    "name": "ipython",
    "version": 3
   },
   "file_extension": ".py",
   "mimetype": "text/x-python",
   "name": "python",
   "nbconvert_exporter": "python",
   "pygments_lexer": "ipython3",
   "version": "3.9.7"
  },
  "orig_nbformat": 4
 },
 "nbformat": 4,
 "nbformat_minor": 2
}
