{
 "cells": [
  {
   "cell_type": "markdown",
   "metadata": {},
   "source": [
    "# Analisa informações gerais dos arquivos de Twitter #"
   ]
  },
  {
   "cell_type": "code",
   "execution_count": 51,
   "metadata": {},
   "outputs": [],
   "source": [
    "#Arquivo que analisa o volume de tweets de cada série\n",
    "# Bibliotecas\n",
    "import pandas as pd\n",
    "import os\n",
    "from pathlib import Path\n",
    "import matplotlib.pyplot as plt\n",
    "import seaborn as sns\n",
    "from IPython.core.interactiveshell import InteractiveShell\n",
    "InteractiveShell.ast_node_interactivity = 'all'\n",
    "from datetime import date"
   ]
  },
  {
   "cell_type": "code",
   "execution_count": 52,
   "metadata": {},
   "outputs": [
    {
     "name": "stderr",
     "output_type": "stream",
     "text": [
      "/Users/mariamaoliveira/opt/anaconda3/envs/teste_apis_projeto/lib/python3.9/site-packages/IPython/core/interactiveshell.py:3441: DtypeWarning: Columns (0,1,21) have mixed types.Specify dtype option on import or set low_memory=False.\n",
      "  exec(code_obj, self.user_global_ns, self.user_ns)\n"
     ]
    }
   ],
   "source": [
    "nomes_series = [\"SexEducation\", \"Ozark\", \"TheWitcher\", \"StrangerThings\"]\n",
    "lista_df = []\n",
    "\n",
    "for serie in nomes_series:\n",
    "    df_serie = pd.read_csv('series_dataset/'+serie+'.csv')\n",
    "    df_serie[\"nome_serie\"] = serie\n",
    "    lista_df.append(df_serie)\n"
   ]
  },
  {
   "cell_type": "code",
   "execution_count": 53,
   "metadata": {},
   "outputs": [
    {
     "data": {
      "text/html": [
       "<div>\n",
       "<style scoped>\n",
       "    .dataframe tbody tr th:only-of-type {\n",
       "        vertical-align: middle;\n",
       "    }\n",
       "\n",
       "    .dataframe tbody tr th {\n",
       "        vertical-align: top;\n",
       "    }\n",
       "\n",
       "    .dataframe thead th {\n",
       "        text-align: right;\n",
       "    }\n",
       "</style>\n",
       "<table border=\"1\" class=\"dataframe\">\n",
       "  <thead>\n",
       "    <tr style=\"text-align: right;\">\n",
       "      <th></th>\n",
       "      <th>id</th>\n",
       "      <th>conversation_id</th>\n",
       "      <th>created_at</th>\n",
       "      <th>date</th>\n",
       "      <th>time</th>\n",
       "      <th>timezone</th>\n",
       "      <th>user_id</th>\n",
       "      <th>username</th>\n",
       "      <th>name</th>\n",
       "      <th>place</th>\n",
       "      <th>...</th>\n",
       "      <th>source</th>\n",
       "      <th>user_rt_id</th>\n",
       "      <th>user_rt</th>\n",
       "      <th>retweet_id</th>\n",
       "      <th>reply_to</th>\n",
       "      <th>retweet_date</th>\n",
       "      <th>translate</th>\n",
       "      <th>trans_src</th>\n",
       "      <th>trans_dest</th>\n",
       "      <th>nome_serie</th>\n",
       "    </tr>\n",
       "  </thead>\n",
       "  <tbody>\n",
       "    <tr>\n",
       "      <th>0</th>\n",
       "      <td>1020454599013158912</td>\n",
       "      <td>1020454599013158912</td>\n",
       "      <td>2018-07-20 20:45:10 Hora oficial do Brasil</td>\n",
       "      <td>2018-07-20</td>\n",
       "      <td>20:45:10</td>\n",
       "      <td>-300.0</td>\n",
       "      <td>3.421882e+08</td>\n",
       "      <td>toddcastpodcast</td>\n",
       "      <td>Todd Hancock</td>\n",
       "      <td>NaN</td>\n",
       "      <td>...</td>\n",
       "      <td>NaN</td>\n",
       "      <td>NaN</td>\n",
       "      <td>NaN</td>\n",
       "      <td>NaN</td>\n",
       "      <td>[]</td>\n",
       "      <td>NaN</td>\n",
       "      <td>NaN</td>\n",
       "      <td>NaN</td>\n",
       "      <td>NaN</td>\n",
       "      <td>Ozark</td>\n",
       "    </tr>\n",
       "    <tr>\n",
       "      <th>1</th>\n",
       "      <td>1020448971918061568</td>\n",
       "      <td>1020448971918061568</td>\n",
       "      <td>2018-07-20 20:22:48 Hora oficial do Brasil</td>\n",
       "      <td>2018-07-20</td>\n",
       "      <td>20:22:48</td>\n",
       "      <td>-300.0</td>\n",
       "      <td>3.130876e+09</td>\n",
       "      <td>rubithecat</td>\n",
       "      <td>RubitheCat</td>\n",
       "      <td>NaN</td>\n",
       "      <td>...</td>\n",
       "      <td>NaN</td>\n",
       "      <td>NaN</td>\n",
       "      <td>NaN</td>\n",
       "      <td>NaN</td>\n",
       "      <td>[]</td>\n",
       "      <td>NaN</td>\n",
       "      <td>NaN</td>\n",
       "      <td>NaN</td>\n",
       "      <td>NaN</td>\n",
       "      <td>Ozark</td>\n",
       "    </tr>\n",
       "    <tr>\n",
       "      <th>2</th>\n",
       "      <td>1020428139615477760</td>\n",
       "      <td>1020428139615477760</td>\n",
       "      <td>2018-07-20 19:00:01 Hora oficial do Brasil</td>\n",
       "      <td>2018-07-20</td>\n",
       "      <td>19:00:01</td>\n",
       "      <td>-300.0</td>\n",
       "      <td>8.779945e+17</td>\n",
       "      <td>filmdailynews</td>\n",
       "      <td>Daily</td>\n",
       "      <td>NaN</td>\n",
       "      <td>...</td>\n",
       "      <td>NaN</td>\n",
       "      <td>NaN</td>\n",
       "      <td>NaN</td>\n",
       "      <td>NaN</td>\n",
       "      <td>[]</td>\n",
       "      <td>NaN</td>\n",
       "      <td>NaN</td>\n",
       "      <td>NaN</td>\n",
       "      <td>NaN</td>\n",
       "      <td>Ozark</td>\n",
       "    </tr>\n",
       "    <tr>\n",
       "      <th>3</th>\n",
       "      <td>1020410353228963841</td>\n",
       "      <td>1020410353228963841</td>\n",
       "      <td>2018-07-20 17:49:21 Hora oficial do Brasil</td>\n",
       "      <td>2018-07-20</td>\n",
       "      <td>17:49:21</td>\n",
       "      <td>-300.0</td>\n",
       "      <td>1.950105e+09</td>\n",
       "      <td>she2nice__</td>\n",
       "      <td>Melanin Fiona 🇬🇾</td>\n",
       "      <td>NaN</td>\n",
       "      <td>...</td>\n",
       "      <td>NaN</td>\n",
       "      <td>NaN</td>\n",
       "      <td>NaN</td>\n",
       "      <td>NaN</td>\n",
       "      <td>[]</td>\n",
       "      <td>NaN</td>\n",
       "      <td>NaN</td>\n",
       "      <td>NaN</td>\n",
       "      <td>NaN</td>\n",
       "      <td>Ozark</td>\n",
       "    </tr>\n",
       "    <tr>\n",
       "      <th>4</th>\n",
       "      <td>1020404548853280770</td>\n",
       "      <td>1020404548853280770</td>\n",
       "      <td>2018-07-20 17:26:17 Hora oficial do Brasil</td>\n",
       "      <td>2018-07-20</td>\n",
       "      <td>17:26:17</td>\n",
       "      <td>-300.0</td>\n",
       "      <td>3.034442e+07</td>\n",
       "      <td>whiteoutgotu</td>\n",
       "      <td>Testarossa</td>\n",
       "      <td>NaN</td>\n",
       "      <td>...</td>\n",
       "      <td>NaN</td>\n",
       "      <td>NaN</td>\n",
       "      <td>NaN</td>\n",
       "      <td>NaN</td>\n",
       "      <td>[]</td>\n",
       "      <td>NaN</td>\n",
       "      <td>NaN</td>\n",
       "      <td>NaN</td>\n",
       "      <td>NaN</td>\n",
       "      <td>Ozark</td>\n",
       "    </tr>\n",
       "  </tbody>\n",
       "</table>\n",
       "<p>5 rows × 37 columns</p>\n",
       "</div>"
      ],
      "text/plain": [
       "                    id      conversation_id  \\\n",
       "0  1020454599013158912  1020454599013158912   \n",
       "1  1020448971918061568  1020448971918061568   \n",
       "2  1020428139615477760  1020428139615477760   \n",
       "3  1020410353228963841  1020410353228963841   \n",
       "4  1020404548853280770  1020404548853280770   \n",
       "\n",
       "                                   created_at        date      time  timezone  \\\n",
       "0  2018-07-20 20:45:10 Hora oficial do Brasil  2018-07-20  20:45:10    -300.0   \n",
       "1  2018-07-20 20:22:48 Hora oficial do Brasil  2018-07-20  20:22:48    -300.0   \n",
       "2  2018-07-20 19:00:01 Hora oficial do Brasil  2018-07-20  19:00:01    -300.0   \n",
       "3  2018-07-20 17:49:21 Hora oficial do Brasil  2018-07-20  17:49:21    -300.0   \n",
       "4  2018-07-20 17:26:17 Hora oficial do Brasil  2018-07-20  17:26:17    -300.0   \n",
       "\n",
       "        user_id         username              name place  ... source  \\\n",
       "0  3.421882e+08  toddcastpodcast      Todd Hancock   NaN  ...    NaN   \n",
       "1  3.130876e+09       rubithecat        RubitheCat   NaN  ...    NaN   \n",
       "2  8.779945e+17    filmdailynews             Daily   NaN  ...    NaN   \n",
       "3  1.950105e+09       she2nice__  Melanin Fiona 🇬🇾   NaN  ...    NaN   \n",
       "4  3.034442e+07     whiteoutgotu        Testarossa   NaN  ...    NaN   \n",
       "\n",
       "  user_rt_id user_rt retweet_id reply_to  retweet_date  translate  trans_src  \\\n",
       "0        NaN     NaN        NaN       []           NaN        NaN        NaN   \n",
       "1        NaN     NaN        NaN       []           NaN        NaN        NaN   \n",
       "2        NaN     NaN        NaN       []           NaN        NaN        NaN   \n",
       "3        NaN     NaN        NaN       []           NaN        NaN        NaN   \n",
       "4        NaN     NaN        NaN       []           NaN        NaN        NaN   \n",
       "\n",
       "  trans_dest nome_serie  \n",
       "0        NaN      Ozark  \n",
       "1        NaN      Ozark  \n",
       "2        NaN      Ozark  \n",
       "3        NaN      Ozark  \n",
       "4        NaN      Ozark  \n",
       "\n",
       "[5 rows x 37 columns]"
      ]
     },
     "execution_count": 53,
     "metadata": {},
     "output_type": "execute_result"
    }
   ],
   "source": [
    "lista_df[1].head()"
   ]
  },
  {
   "cell_type": "code",
   "execution_count": 54,
   "metadata": {},
   "outputs": [],
   "source": [
    "def setDataframe(dataframe):\n",
    "    dataframe['date'] = pd.to_datetime(dataframe['date'], format=\"%Y-%m-%d\", errors = 'coerce')\n",
    "    dataframe[dataframe[\"id\"].duplicated()]\n",
    "    "
   ]
  },
  {
   "cell_type": "code",
   "execution_count": 55,
   "metadata": {},
   "outputs": [],
   "source": [
    "for df in lista_df:\n",
    "    setDataframe(df)"
   ]
  },
  {
   "cell_type": "code",
   "execution_count": 56,
   "metadata": {},
   "outputs": [],
   "source": [
    "# todos_df.groupby([\"nome_serie\", \"date\"])[\"date\"].count()"
   ]
  },
  {
   "cell_type": "code",
   "execution_count": 57,
   "metadata": {},
   "outputs": [],
   "source": [
    "# filtro_dados = (df_TheWitcher[\"date\"] > pd.Timestamp(2020, 1, 1)) & (df_TheWitcher[\"date\"] <  pd.Timestamp(2020, 2, 8)\n",
    "\n",
    "#Criar tuplas de visualização\n",
    "tuplas_vis = []\n",
    "for df in lista_df:\n",
    "    y = df['date'].value_counts()\n",
    "    x = df['date'].value_counts().index.tolist()\n",
    "\n",
    "    tuplas_vis.append((x,y))"
   ]
  },
  {
   "cell_type": "code",
   "execution_count": 65,
   "metadata": {},
   "outputs": [
    {
     "data": {
      "text/plain": [
       "<AxesSubplot:ylabel='date'>"
      ]
     },
     "execution_count": 65,
     "metadata": {},
     "output_type": "execute_result"
    },
    {
     "data": {
      "text/plain": [
       "Text(0.5, 1.0, 'SexEducation')"
      ]
     },
     "execution_count": 65,
     "metadata": {},
     "output_type": "execute_result"
    },
    {
     "data": {
      "text/plain": [
       "Text(0, 0.5, 'Número Total de Twitts')"
      ]
     },
     "execution_count": 65,
     "metadata": {},
     "output_type": "execute_result"
    },
    {
     "data": {
      "text/plain": [
       "Text(0.5, 0, 'Dia')"
      ]
     },
     "execution_count": 65,
     "metadata": {},
     "output_type": "execute_result"
    },
    {
     "data": {
      "text/plain": [
       "<AxesSubplot:ylabel='date'>"
      ]
     },
     "execution_count": 65,
     "metadata": {},
     "output_type": "execute_result"
    },
    {
     "data": {
      "text/plain": [
       "Text(0.5, 1.0, 'Ozark')"
      ]
     },
     "execution_count": 65,
     "metadata": {},
     "output_type": "execute_result"
    },
    {
     "data": {
      "text/plain": [
       "Text(0, 0.5, 'Número Total de Twitts')"
      ]
     },
     "execution_count": 65,
     "metadata": {},
     "output_type": "execute_result"
    },
    {
     "data": {
      "text/plain": [
       "Text(0.5, 0, 'Dia')"
      ]
     },
     "execution_count": 65,
     "metadata": {},
     "output_type": "execute_result"
    },
    {
     "data": {
      "text/plain": [
       "<AxesSubplot:ylabel='date'>"
      ]
     },
     "execution_count": 65,
     "metadata": {},
     "output_type": "execute_result"
    },
    {
     "data": {
      "text/plain": [
       "Text(0.5, 1.0, 'TheWitcher')"
      ]
     },
     "execution_count": 65,
     "metadata": {},
     "output_type": "execute_result"
    },
    {
     "data": {
      "text/plain": [
       "Text(0, 0.5, 'Número Total de Twitts')"
      ]
     },
     "execution_count": 65,
     "metadata": {},
     "output_type": "execute_result"
    },
    {
     "data": {
      "text/plain": [
       "Text(0.5, 0, 'Dia')"
      ]
     },
     "execution_count": 65,
     "metadata": {},
     "output_type": "execute_result"
    },
    {
     "data": {
      "text/plain": [
       "<AxesSubplot:ylabel='date'>"
      ]
     },
     "execution_count": 65,
     "metadata": {},
     "output_type": "execute_result"
    },
    {
     "data": {
      "text/plain": [
       "Text(0.5, 1.0, 'StrangerThings')"
      ]
     },
     "execution_count": 65,
     "metadata": {},
     "output_type": "execute_result"
    },
    {
     "data": {
      "text/plain": [
       "Text(0, 0.5, 'Número Total de Twitts')"
      ]
     },
     "execution_count": 65,
     "metadata": {},
     "output_type": "execute_result"
    },
    {
     "data": {
      "text/plain": [
       "Text(0.5, 0, 'Dia')"
      ]
     },
     "execution_count": 65,
     "metadata": {},
     "output_type": "execute_result"
    },
    {
     "data": {
      "image/png": "[encoded data removed]",
      "text/plain": [
       "<Figure size 1008x720 with 4 Axes>"
      ]
     },
     "metadata": {
      "needs_background": "light"
     },
     "output_type": "display_data"
    }
   ],
   "source": [
    "fig, axes = plt.subplots(2, 2, figsize=(14, 10), sharey=True)\n",
    "\n",
    "sns.lineplot(ax=axes[0,0], x = tuplas_vis[0][0], y = tuplas_vis[0][1], color=\"salmon\")\n",
    "axes[0,0].tick_params(rotation=90, axis='x')\n",
    "axes[0,0].set_title(nomes_series[0])\n",
    "axes[0,0].set_ylabel('Número Total de Twitts')\n",
    "axes[0,0].set_xlabel('Dia')\n",
    "\n",
    "sns.lineplot(ax=axes[0,1], x = tuplas_vis[1][0], y = tuplas_vis[1][1], color=\"salmon\")\n",
    "axes[0,1].tick_params(rotation=90, axis='x')\n",
    "axes[0,1].set_title(nomes_series[1])\n",
    "axes[0,1].set_ylabel('Número Total de Twitts')\n",
    "axes[0,1].set_xlabel('Dia')\n",
    "\n",
    "sns.lineplot(ax=axes[1,0], x = tuplas_vis[2][0], y = tuplas_vis[2][1], color=\"salmon\")\n",
    "axes[1,0].tick_params(rotation=90, axis='x')\n",
    "axes[1,0].set_title(nomes_series[2])\n",
    "axes[1,0].set_ylabel('Número Total de Twitts')\n",
    "axes[1,0].set_xlabel('Dia')\n",
    "\n",
    "sns.lineplot(ax=axes[1,1], x = tuplas_vis[3][0], y = tuplas_vis[3][1], color=\"salmon\")\n",
    "axes[1,1].tick_params(rotation=90, axis='x')\n",
    "axes[1,1].set_title(nomes_series[3])\n",
    "axes[1,1].set_ylabel('Número Total de Twitts')\n",
    "axes[1,1].set_xlabel('Dia')\n"
   ]
  }
 ],
 "metadata": {
  "interpreter": {
   "hash": "981b974d7feb576734841ecc0870447e502dc04c560ef5e72ee5cc0ac2a5053d"
  },
  "kernelspec": {
   "display_name": "Python 3.9.7 64-bit ('teste_apis_projeto': conda)",
   "name": "python3"
  },
  "language_info": {
   "codemirror_mode": {
    "name": "ipython",
    "version": 3
   },
   "file_extension": ".py",
   "mimetype": "text/x-python",
   "name": "python",
   "nbconvert_exporter": "python",
   "pygments_lexer": "ipython3",
   "version": "3.9.7"
  },
  "orig_nbformat": 4
 },
 "nbformat": 4,
 "nbformat_minor": 2
}
