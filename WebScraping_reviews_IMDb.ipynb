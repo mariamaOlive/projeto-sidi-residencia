{
  "nbformat": 4,
  "nbformat_minor": 0,
  "metadata": {
    "colab": {
      "name": "Cópia de WebScraping_IMDb.ipynb",
      "provenance": [],
      "collapsed_sections": []
    },
    "kernelspec": {
      "display_name": "Python 3",
      "name": "python3"
    },
    "language_info": {
      "name": "python"
    }
  },
  "cells": [
    {
      "cell_type": "markdown",
      "metadata": {
        "id": "-8pCO6lEEcXR"
      },
      "source": [
        "**Importando as bibliotecas**"
      ]
    },
    {
      "cell_type": "code",
      "metadata": {
        "id": "IYjtKLWm726C"
      },
      "source": [
        "import requests\n",
        "from bs4 import BeautifulSoup\n",
        "import pandas as pd"
      ],
      "execution_count": null,
      "outputs": []
    },
    {
      "cell_type": "markdown",
      "metadata": {
        "id": "B1XG6qWBEo6C"
      },
      "source": [
        "**Obtendo os títulos e links dos Filmes**"
      ]
    },
    {
      "cell_type": "code",
      "metadata": {
        "id": "ZGhkSRfO9J8n"
      },
      "source": [
        "url_fonte = 'https://www.imdb.com/search/keyword/?keywords=netflix-original&mode=simple&page=3&title_type=tvSeries&ref_=kw_nxt&sort=moviemeter,asc'"
      ],
      "execution_count": null,
      "outputs": []
    },
    {
      "cell_type": "code",
      "metadata": {
        "id": "cOeNguRA_AQ4"
      },
      "source": [
        "con = requests.get(url_fonte)"
      ],
      "execution_count": null,
      "outputs": []
    },
    {
      "cell_type": "code",
      "metadata": {
        "colab": {
          "base_uri": "https://localhost:8080/"
        },
        "id": "kx_Ij4Ig9etX",
        "outputId": "849b772d-6c16-4055-a384-63bf80416b47"
      },
      "source": [
        "con.status_code"
      ],
      "execution_count": null,
      "outputs": [
        {
          "output_type": "execute_result",
          "data": {
            "text/plain": [
              "200"
            ]
          },
          "metadata": {},
          "execution_count": 4
        }
      ]
    },
    {
      "cell_type": "code",
      "metadata": {
        "id": "J41ZhTedURtY"
      },
      "source": [
        "soup = BeautifulSoup(con.content, \"html.parser\")"
      ],
      "execution_count": null,
      "outputs": []
    },
    {
      "cell_type": "code",
      "metadata": {
        "id": "-cACx0yj8tnP"
      },
      "source": [
        "titulos_series = [tag.find('a').contents[0] for tag in soup.findAll('span', attrs={'class':'lister-item-header'})]"
      ],
      "execution_count": null,
      "outputs": []
    },
    {
      "cell_type": "code",
      "metadata": {
        "colab": {
          "base_uri": "https://localhost:8080/"
        },
        "id": "wcSn02sND7KX",
        "outputId": "9687aea6-bb50-456d-e3dc-00a495177752"
      },
      "source": [
        "len(titulos_series)"
      ],
      "execution_count": null,
      "outputs": [
        {
          "output_type": "execute_result",
          "data": {
            "text/plain": [
              "50"
            ]
          },
          "metadata": {},
          "execution_count": 21
        }
      ]
    },
    {
      "cell_type": "code",
      "metadata": {
        "colab": {
          "base_uri": "https://localhost:8080/"
        },
        "id": "9EFK_3snXBCo",
        "outputId": "41de70ab-5eb6-499f-ef25-686e4bb4d8fe"
      },
      "source": [
        "titulos_series"
      ],
      "execution_count": null,
      "outputs": [
        {
          "output_type": "execute_result",
          "data": {
            "text/plain": [
              "['終末的女武神',\n",
              " 'Sexify',\n",
              " 'Bir Baskadir',\n",
              " 'Jigsaw',\n",
              " 'Trese',\n",
              " 'Two Sentence Horror Stories',\n",
              " 'Dive Club',\n",
              " 'Army of the Dead: Lost Vegas',\n",
              " 'Rojst',\n",
              " 'La casa de las flores',\n",
              " 'Hilda',\n",
              " 'Glória',\n",
              " 'Heist',\n",
              " '1899',\n",
              " 'Dragons: Race to the Edge',\n",
              " '隱形城市',\n",
              " \"Chef's Table\",\n",
              " '盲婚試愛',\n",
              " 'How to Become a Tyrant',\n",
              " '比悲傷更悲傷的故事 影集版',\n",
              " '武士彌助',\n",
              " 'The Silent Sea',\n",
              " 'The Boss Baby: Back in Business',\n",
              " 'One Piece',\n",
              " 'Transformers: War for Cybertron',\n",
              " 'Ingobernable',\n",
              " 'The Lincoln Lawyer',\n",
              " \"Guillermo del Toro's Cabinet of Curiosities\",\n",
              " '酷男的異想世界',\n",
              " 'Otwórz oczy',\n",
              " 'X-Ray: Selected Satyajit Shorts',\n",
              " 'Fatma',\n",
              " 'The A List',\n",
              " '環太平洋：黑色禁區',\n",
              " 'Bangkok Breaking',\n",
              " 'I Am a Killer',\n",
              " 'Sharkdog',\n",
              " 'Bom Dia, Verônica',\n",
              " '3Below: Tales of Arcadia',\n",
              " 'Unsolved',\n",
              " 'Tiempos de guerra',\n",
              " 'Plan Coeur',\n",
              " 'Graymail',\n",
              " 'Florida Man',\n",
              " 'Rebelde',\n",
              " 'The Good Cop',\n",
              " 'Unrecorded Night',\n",
              " 'Partner Track',\n",
              " 'The Cuphead Show!',\n",
              " 'Carmen Sandiego']"
            ]
          },
          "metadata": {},
          "execution_count": 22
        }
      ]
    },
    {
      "cell_type": "code",
      "metadata": {
        "id": "tH-UP0188w8H"
      },
      "source": [
        "links_series = ['http://www.imdb.com' + tag.a['href'] for tag in soup.findAll('span',  attrs={'class':'lister-item-header'})]"
      ],
      "execution_count": null,
      "outputs": []
    },
    {
      "cell_type": "code",
      "metadata": {
        "colab": {
          "base_uri": "https://localhost:8080/"
        },
        "id": "5E3RBd-zQB89",
        "outputId": "7756e1a2-bdac-48bd-b733-457d1aa515e9"
      },
      "source": [
        "links_series"
      ],
      "execution_count": null,
      "outputs": [
        {
          "output_type": "execute_result",
          "data": {
            "text/plain": [
              "['http://www.imdb.com/title/tt13676344/',\n",
              " 'http://www.imdb.com/title/tt14315542/',\n",
              " 'http://www.imdb.com/title/tt11301642/',\n",
              " 'http://www.imdb.com/title/tt15438246/',\n",
              " 'http://www.imdb.com/title/tt9310336/',\n",
              " 'http://www.imdb.com/title/tt6873926/',\n",
              " 'http://www.imdb.com/title/tt13275052/',\n",
              " 'http://www.imdb.com/title/tt13334002/',\n",
              " 'http://www.imdb.com/title/tt8855592/',\n",
              " 'http://www.imdb.com/title/tt8387348/',\n",
              " 'http://www.imdb.com/title/tt6385540/',\n",
              " 'http://www.imdb.com/title/tt13064634/',\n",
              " 'http://www.imdb.com/title/tt14865290/',\n",
              " 'http://www.imdb.com/title/tt9319668/',\n",
              " 'http://www.imdb.com/title/tt4816058/',\n",
              " 'http://www.imdb.com/title/tt8878862/',\n",
              " 'http://www.imdb.com/title/tt4295140/',\n",
              " 'http://www.imdb.com/title/tt11704040/',\n",
              " 'http://www.imdb.com/title/tt14832996/',\n",
              " 'http://www.imdb.com/title/tt15381716/',\n",
              " 'http://www.imdb.com/title/tt9310330/',\n",
              " 'http://www.imdb.com/title/tt11570202/',\n",
              " 'http://www.imdb.com/title/tt7741824/',\n",
              " 'http://www.imdb.com/title/tt11737520/',\n",
              " 'http://www.imdb.com/title/tt9789660/',\n",
              " 'http://www.imdb.com/title/tt6495756/',\n",
              " 'http://www.imdb.com/title/tt13833978/',\n",
              " 'http://www.imdb.com/title/tt8415836/',\n",
              " 'http://www.imdb.com/title/tt7259746/',\n",
              " 'http://www.imdb.com/title/tt13495314/',\n",
              " 'http://www.imdb.com/title/tt14160660/',\n",
              " 'http://www.imdb.com/title/tt11961378/',\n",
              " 'http://www.imdb.com/title/tt9185110/',\n",
              " 'http://www.imdb.com/title/tt9288848/',\n",
              " 'http://www.imdb.com/title/tt14202282/',\n",
              " 'http://www.imdb.com/title/tt8300324/',\n",
              " 'http://www.imdb.com/title/tt12211696/',\n",
              " 'http://www.imdb.com/title/tt12987918/',\n",
              " 'http://www.imdb.com/title/tt7736544/',\n",
              " 'http://www.imdb.com/title/tt6233618/',\n",
              " 'http://www.imdb.com/title/tt6740146/',\n",
              " 'http://www.imdb.com/title/tt9170638/',\n",
              " 'http://www.imdb.com/title/tt15310528/',\n",
              " 'http://www.imdb.com/title/tt14509130/',\n",
              " 'http://www.imdb.com/title/tt14153686/',\n",
              " 'http://www.imdb.com/title/tt7183074/',\n",
              " 'http://www.imdb.com/title/tt13547416/',\n",
              " 'http://www.imdb.com/title/tt15390524/',\n",
              " 'http://www.imdb.com/title/tt10611608/',\n",
              " 'http://www.imdb.com/title/tt7042146/']"
            ]
          },
          "metadata": {},
          "execution_count": 26
        }
      ]
    },
    {
      "cell_type": "markdown",
      "metadata": {
        "id": "ZG7SkQAyHSMy"
      },
      "source": [
        "**Criando as funções para o scraping**"
      ]
    },
    {
      "cell_type": "markdown",
      "metadata": {
        "id": "r0vmeOBTxGOw"
      },
      "source": [
        "**Avaliação dos Usuários**"
      ]
    },
    {
      "cell_type": "code",
      "metadata": {
        "id": "H0-fLjhj_DEX"
      },
      "source": [
        "def get_user_reviews(soup):\n",
        "    review = soup.find('span', attrs={'class':'score'})\n",
        "    if review != None:\n",
        "      return review.text\n",
        "    else:\n",
        "      return None\n",
        "   "
      ],
      "execution_count": null,
      "outputs": []
    },
    {
      "cell_type": "markdown",
      "metadata": {
        "id": "yrCoUHLnxJKo"
      },
      "source": [
        "**Quantidade de Comentários da Crítica**"
      ]
    },
    {
      "cell_type": "code",
      "metadata": {
        "id": "kRVNZRnwxcJE"
      },
      "source": [
        "  def get_critic_reviews(soup):\n",
        "    critica = soup.findAll('span', attrs={'class':'score'})\n",
        "    for i in critica:\n",
        "      if critica != None:\n",
        "        return int(critica[1].text)\n",
        "      else:\n",
        "        return None"
      ],
      "execution_count": null,
      "outputs": []
    },
    {
      "cell_type": "code",
      "metadata": {
        "colab": {
          "base_uri": "https://localhost:8080/",
          "height": 374
        },
        "id": "r3KIP3WmvBnW",
        "outputId": "1ebc5e6c-001c-4c9e-d005-510b84da4d1f"
      },
      "source": [
        "lista_series = []\n",
        "for titulo, link in zip(titulos_series, links_series):\n",
        "    dic = {}\n",
        "    dic['titulo'] = titulo\n",
        "    dic['link'] = link\n",
        "    con = requests.get(link)\n",
        "    soup = BeautifulSoup(con.content, \"html.parser\")\n",
        "    con.close()\n",
        "    \n",
        "    \n",
        "    dic['user_reviews'] = get_user_reviews(soup)\n",
        "    dic['critic_reviews'] = get_critic_reviews(soup)\n",
        "    \n",
        "    \n",
        "    lista_series.append(dic)"
      ],
      "execution_count": null,
      "outputs": [
        {
          "output_type": "error",
          "ename": "IndexError",
          "evalue": "ignored",
          "traceback": [
            "\u001b[0;31m---------------------------------------------------------------------------\u001b[0m",
            "\u001b[0;31mIndexError\u001b[0m                                Traceback (most recent call last)",
            "\u001b[0;32m<ipython-input-29-d24ad734085f>\u001b[0m in \u001b[0;36m<module>\u001b[0;34m()\u001b[0m\n\u001b[1;32m     10\u001b[0m \u001b[0;34m\u001b[0m\u001b[0m\n\u001b[1;32m     11\u001b[0m     \u001b[0mdic\u001b[0m\u001b[0;34m[\u001b[0m\u001b[0;34m'user_reviews'\u001b[0m\u001b[0;34m]\u001b[0m \u001b[0;34m=\u001b[0m \u001b[0mget_user_reviews\u001b[0m\u001b[0;34m(\u001b[0m\u001b[0msoup\u001b[0m\u001b[0;34m)\u001b[0m\u001b[0;34m\u001b[0m\u001b[0;34m\u001b[0m\u001b[0m\n\u001b[0;32m---> 12\u001b[0;31m     \u001b[0mdic\u001b[0m\u001b[0;34m[\u001b[0m\u001b[0;34m'critic_reviews'\u001b[0m\u001b[0;34m]\u001b[0m \u001b[0;34m=\u001b[0m \u001b[0mget_critic_reviews\u001b[0m\u001b[0;34m(\u001b[0m\u001b[0msoup\u001b[0m\u001b[0;34m)\u001b[0m\u001b[0;34m\u001b[0m\u001b[0;34m\u001b[0m\u001b[0m\n\u001b[0m\u001b[1;32m     13\u001b[0m \u001b[0;34m\u001b[0m\u001b[0m\n\u001b[1;32m     14\u001b[0m \u001b[0;34m\u001b[0m\u001b[0m\n",
            "\u001b[0;32m<ipython-input-28-317d1f175f99>\u001b[0m in \u001b[0;36mget_critic_reviews\u001b[0;34m(soup)\u001b[0m\n\u001b[1;32m      3\u001b[0m   \u001b[0;32mfor\u001b[0m \u001b[0mi\u001b[0m \u001b[0;32min\u001b[0m \u001b[0mcritica\u001b[0m\u001b[0;34m:\u001b[0m\u001b[0;34m\u001b[0m\u001b[0;34m\u001b[0m\u001b[0m\n\u001b[1;32m      4\u001b[0m     \u001b[0;32mif\u001b[0m \u001b[0mcritica\u001b[0m \u001b[0;34m!=\u001b[0m \u001b[0;32mNone\u001b[0m\u001b[0;34m:\u001b[0m\u001b[0;34m\u001b[0m\u001b[0;34m\u001b[0m\u001b[0m\n\u001b[0;32m----> 5\u001b[0;31m       \u001b[0;32mreturn\u001b[0m \u001b[0mint\u001b[0m\u001b[0;34m(\u001b[0m\u001b[0mcritica\u001b[0m\u001b[0;34m[\u001b[0m\u001b[0;36m1\u001b[0m\u001b[0;34m]\u001b[0m\u001b[0;34m.\u001b[0m\u001b[0mtext\u001b[0m\u001b[0;34m)\u001b[0m\u001b[0;34m\u001b[0m\u001b[0;34m\u001b[0m\u001b[0m\n\u001b[0m\u001b[1;32m      6\u001b[0m     \u001b[0;32melse\u001b[0m\u001b[0;34m:\u001b[0m\u001b[0;34m\u001b[0m\u001b[0;34m\u001b[0m\u001b[0m\n\u001b[1;32m      7\u001b[0m       \u001b[0;32mreturn\u001b[0m \u001b[0;32mNone\u001b[0m\u001b[0;34m\u001b[0m\u001b[0;34m\u001b[0m\u001b[0m\n",
            "\u001b[0;31mIndexError\u001b[0m: list index out of range"
          ]
        }
      ]
    },
    {
      "cell_type": "code",
      "metadata": {
        "id": "tiGr5KnSwLO9",
        "colab": {
          "base_uri": "https://localhost:8080/"
        },
        "outputId": "27a2570b-b31a-4884-afbd-58d906abac7b"
      },
      "source": [
        "lista_series[0]"
      ],
      "execution_count": null,
      "outputs": [
        {
          "output_type": "execute_result",
          "data": {
            "text/plain": [
              "{'critic_reviews': 45,\n",
              " 'link': 'http://www.imdb.com/title/tt8064302/',\n",
              " 'titulo': 'Dead to Me',\n",
              " 'user_reviews': '677'}"
            ]
          },
          "metadata": {},
          "execution_count": 30
        }
      ]
    },
    {
      "cell_type": "code",
      "metadata": {
        "id": "0erUhG4RwoSZ",
        "colab": {
          "base_uri": "https://localhost:8080/"
        },
        "outputId": "c679e629-3336-4920-ffd2-d7a7e428a22b"
      },
      "source": [
        "lista_series[2]"
      ],
      "execution_count": null,
      "outputs": [
        {
          "output_type": "execute_result",
          "data": {
            "text/plain": [
              "{'critic_reviews': 32,\n",
              " 'link': 'http://www.imdb.com/title/tt5296406/',\n",
              " 'titulo': 'Designated Survivor',\n",
              " 'user_reviews': '1.3K'}"
            ]
          },
          "metadata": {},
          "execution_count": 31
        }
      ]
    },
    {
      "cell_type": "code",
      "metadata": {
        "id": "JTK_5mBQLXKS"
      },
      "source": [
        "df = pd.DataFrame(lista_series, columns=['titulo', 'user_reviews', 'critic_reviews', ])"
      ],
      "execution_count": null,
      "outputs": []
    },
    {
      "cell_type": "code",
      "metadata": {
        "id": "YmjHHnxIalgu",
        "colab": {
          "base_uri": "https://localhost:8080/",
          "height": 1000
        },
        "outputId": "b4462fe2-e29e-412b-f42f-77589f33789c"
      },
      "source": [
        "df.head(50)"
      ],
      "execution_count": null,
      "outputs": [
        {
          "output_type": "execute_result",
          "data": {
            "text/html": [
              "<div>\n",
              "<style scoped>\n",
              "    .dataframe tbody tr th:only-of-type {\n",
              "        vertical-align: middle;\n",
              "    }\n",
              "\n",
              "    .dataframe tbody tr th {\n",
              "        vertical-align: top;\n",
              "    }\n",
              "\n",
              "    .dataframe thead th {\n",
              "        text-align: right;\n",
              "    }\n",
              "</style>\n",
              "<table border=\"1\" class=\"dataframe\">\n",
              "  <thead>\n",
              "    <tr style=\"text-align: right;\">\n",
              "      <th></th>\n",
              "      <th>titulo</th>\n",
              "      <th>user_reviews</th>\n",
              "      <th>critic_reviews</th>\n",
              "    </tr>\n",
              "  </thead>\n",
              "  <tbody>\n",
              "    <tr>\n",
              "      <th>0</th>\n",
              "      <td>Dead to Me</td>\n",
              "      <td>677</td>\n",
              "      <td>45.0</td>\n",
              "    </tr>\n",
              "    <tr>\n",
              "      <th>1</th>\n",
              "      <td>Never Have I Ever</td>\n",
              "      <td>577</td>\n",
              "      <td>49.0</td>\n",
              "    </tr>\n",
              "    <tr>\n",
              "      <th>2</th>\n",
              "      <td>Designated Survivor</td>\n",
              "      <td>1.3K</td>\n",
              "      <td>32.0</td>\n",
              "    </tr>\n",
              "    <tr>\n",
              "      <th>3</th>\n",
              "      <td>Castlevania</td>\n",
              "      <td>457</td>\n",
              "      <td>56.0</td>\n",
              "    </tr>\n",
              "    <tr>\n",
              "      <th>4</th>\n",
              "      <td>Sense8</td>\n",
              "      <td>906</td>\n",
              "      <td>90.0</td>\n",
              "    </tr>\n",
              "    <tr>\n",
              "      <th>5</th>\n",
              "      <td>Ginny &amp; Georgia</td>\n",
              "      <td>1.1K</td>\n",
              "      <td>24.0</td>\n",
              "    </tr>\n",
              "    <tr>\n",
              "      <th>6</th>\n",
              "      <td>The Movies That Made Us</td>\n",
              "      <td>119</td>\n",
              "      <td>12.0</td>\n",
              "    </tr>\n",
              "    <tr>\n",
              "      <th>7</th>\n",
              "      <td>Bad Sport</td>\n",
              "      <td>10</td>\n",
              "      <td>6.0</td>\n",
              "    </tr>\n",
              "    <tr>\n",
              "      <th>8</th>\n",
              "      <td>The Kominsky Method</td>\n",
              "      <td>452</td>\n",
              "      <td>38.0</td>\n",
              "    </tr>\n",
              "    <tr>\n",
              "      <th>9</th>\n",
              "      <td>Anne with an E</td>\n",
              "      <td>1K</td>\n",
              "      <td>37.0</td>\n",
              "    </tr>\n",
              "    <tr>\n",
              "      <th>10</th>\n",
              "      <td>The Valhalla Murders</td>\n",
              "      <td>163</td>\n",
              "      <td>10.0</td>\n",
              "    </tr>\n",
              "    <tr>\n",
              "      <th>11</th>\n",
              "      <td>Ganglands</td>\n",
              "      <td>41</td>\n",
              "      <td>7.0</td>\n",
              "    </tr>\n",
              "    <tr>\n",
              "      <th>12</th>\n",
              "      <td>Fate: The Winx Saga</td>\n",
              "      <td>775</td>\n",
              "      <td>39.0</td>\n",
              "    </tr>\n",
              "    <tr>\n",
              "      <th>13</th>\n",
              "      <td>The Chair</td>\n",
              "      <td>162</td>\n",
              "      <td>34.0</td>\n",
              "    </tr>\n",
              "    <tr>\n",
              "      <th>14</th>\n",
              "      <td>Shadowhunters</td>\n",
              "      <td>836</td>\n",
              "      <td>15.0</td>\n",
              "    </tr>\n",
              "    <tr>\n",
              "      <th>15</th>\n",
              "      <td>Katla</td>\n",
              "      <td>256</td>\n",
              "      <td>28.0</td>\n",
              "    </tr>\n",
              "    <tr>\n",
              "      <th>16</th>\n",
              "      <td>Hit &amp; Run</td>\n",
              "      <td>208</td>\n",
              "      <td>15.0</td>\n",
              "    </tr>\n",
              "    <tr>\n",
              "      <th>17</th>\n",
              "      <td>Jupiter's Legacy</td>\n",
              "      <td>887</td>\n",
              "      <td>66.0</td>\n",
              "    </tr>\n",
              "    <tr>\n",
              "      <th>18</th>\n",
              "      <td>Ragnarok</td>\n",
              "      <td>690</td>\n",
              "      <td>42.0</td>\n",
              "    </tr>\n",
              "    <tr>\n",
              "      <th>19</th>\n",
              "      <td>On the Verge</td>\n",
              "      <td>107</td>\n",
              "      <td>16.0</td>\n",
              "    </tr>\n",
              "    <tr>\n",
              "      <th>20</th>\n",
              "      <td>D.P.</td>\n",
              "      <td>52</td>\n",
              "      <td>5.0</td>\n",
              "    </tr>\n",
              "    <tr>\n",
              "      <th>21</th>\n",
              "      <td>Borgen</td>\n",
              "      <td>90</td>\n",
              "      <td>32.0</td>\n",
              "    </tr>\n",
              "    <tr>\n",
              "      <th>22</th>\n",
              "      <td>Love 101</td>\n",
              "      <td>130</td>\n",
              "      <td>19.0</td>\n",
              "    </tr>\n",
              "    <tr>\n",
              "      <th>23</th>\n",
              "      <td>Dark Desire</td>\n",
              "      <td>105</td>\n",
              "      <td>13.0</td>\n",
              "    </tr>\n",
              "    <tr>\n",
              "      <th>24</th>\n",
              "      <td>Jaguar</td>\n",
              "      <td>45</td>\n",
              "      <td>11.0</td>\n",
              "    </tr>\n",
              "    <tr>\n",
              "      <th>25</th>\n",
              "      <td>Dear White People</td>\n",
              "      <td>274</td>\n",
              "      <td>63.0</td>\n",
              "    </tr>\n",
              "    <tr>\n",
              "      <th>26</th>\n",
              "      <td>Q-Force</td>\n",
              "      <td>118</td>\n",
              "      <td>8.0</td>\n",
              "    </tr>\n",
              "    <tr>\n",
              "      <th>27</th>\n",
              "      <td>Young Royals</td>\n",
              "      <td>1.2K</td>\n",
              "      <td>13.0</td>\n",
              "    </tr>\n",
              "    <tr>\n",
              "      <th>28</th>\n",
              "      <td>Wednesday</td>\n",
              "      <td>None</td>\n",
              "      <td>NaN</td>\n",
              "    </tr>\n",
              "    <tr>\n",
              "      <th>29</th>\n",
              "      <td>Insatiable</td>\n",
              "      <td>929</td>\n",
              "      <td>24.0</td>\n",
              "    </tr>\n",
              "    <tr>\n",
              "      <th>30</th>\n",
              "      <td>Firefly Lane</td>\n",
              "      <td>339</td>\n",
              "      <td>20.0</td>\n",
              "    </tr>\n",
              "    <tr>\n",
              "      <th>31</th>\n",
              "      <td>Black Summer</td>\n",
              "      <td>1.7K</td>\n",
              "      <td>36.0</td>\n",
              "    </tr>\n",
              "    <tr>\n",
              "      <th>32</th>\n",
              "      <td>The Irregulars</td>\n",
              "      <td>601</td>\n",
              "      <td>2.0</td>\n",
              "    </tr>\n",
              "    <tr>\n",
              "      <th>33</th>\n",
              "      <td>GLOW</td>\n",
              "      <td>203</td>\n",
              "      <td>93.0</td>\n",
              "    </tr>\n",
              "    <tr>\n",
              "      <th>34</th>\n",
              "      <td>Disenchantment</td>\n",
              "      <td>583</td>\n",
              "      <td>50.0</td>\n",
              "    </tr>\n",
              "    <tr>\n",
              "      <th>35</th>\n",
              "      <td>Masters of the Universe: Revelation</td>\n",
              "      <td>1.3K</td>\n",
              "      <td>42.0</td>\n",
              "    </tr>\n",
              "    <tr>\n",
              "      <th>36</th>\n",
              "      <td>Iron Fist</td>\n",
              "      <td>1K</td>\n",
              "      <td>86.0</td>\n",
              "    </tr>\n",
              "    <tr>\n",
              "      <th>37</th>\n",
              "      <td>Karma's World</td>\n",
              "      <td>4</td>\n",
              "      <td>1.0</td>\n",
              "    </tr>\n",
              "    <tr>\n",
              "      <th>38</th>\n",
              "      <td>Fuller House</td>\n",
              "      <td>279</td>\n",
              "      <td>30.0</td>\n",
              "    </tr>\n",
              "    <tr>\n",
              "      <th>39</th>\n",
              "      <td>Baki</td>\n",
              "      <td>117</td>\n",
              "      <td>10.0</td>\n",
              "    </tr>\n",
              "    <tr>\n",
              "      <th>40</th>\n",
              "      <td>Shooter</td>\n",
              "      <td>234</td>\n",
              "      <td>12.0</td>\n",
              "    </tr>\n",
              "    <tr>\n",
              "      <th>41</th>\n",
              "      <td>Cursed</td>\n",
              "      <td>1.4K</td>\n",
              "      <td>48.0</td>\n",
              "    </tr>\n",
              "    <tr>\n",
              "      <th>42</th>\n",
              "      <td>Vikings: Valhalla</td>\n",
              "      <td>None</td>\n",
              "      <td>NaN</td>\n",
              "    </tr>\n",
              "    <tr>\n",
              "      <th>43</th>\n",
              "      <td>Luke Cage</td>\n",
              "      <td>386</td>\n",
              "      <td>91.0</td>\n",
              "    </tr>\n",
              "    <tr>\n",
              "      <th>44</th>\n",
              "      <td>Baki Hanma</td>\n",
              "      <td>31</td>\n",
              "      <td>3.0</td>\n",
              "    </tr>\n",
              "    <tr>\n",
              "      <th>45</th>\n",
              "      <td>Move to Heaven</td>\n",
              "      <td>73</td>\n",
              "      <td>7.0</td>\n",
              "    </tr>\n",
              "    <tr>\n",
              "      <th>46</th>\n",
              "      <td>Explained</td>\n",
              "      <td>74</td>\n",
              "      <td>4.0</td>\n",
              "    </tr>\n",
              "    <tr>\n",
              "      <th>47</th>\n",
              "      <td>Hemlock Grove</td>\n",
              "      <td>243</td>\n",
              "      <td>41.0</td>\n",
              "    </tr>\n",
              "    <tr>\n",
              "      <th>48</th>\n",
              "      <td>Roman Empire</td>\n",
              "      <td>125</td>\n",
              "      <td>2.0</td>\n",
              "    </tr>\n",
              "    <tr>\n",
              "      <th>49</th>\n",
              "      <td>Undercover</td>\n",
              "      <td>171</td>\n",
              "      <td>18.0</td>\n",
              "    </tr>\n",
              "  </tbody>\n",
              "</table>\n",
              "</div>"
            ],
            "text/plain": [
              "                                 titulo user_reviews  critic_reviews\n",
              "0                            Dead to Me          677            45.0\n",
              "1                     Never Have I Ever          577            49.0\n",
              "2                   Designated Survivor         1.3K            32.0\n",
              "3                           Castlevania          457            56.0\n",
              "4                                Sense8          906            90.0\n",
              "5                       Ginny & Georgia         1.1K            24.0\n",
              "6               The Movies That Made Us          119            12.0\n",
              "7                             Bad Sport           10             6.0\n",
              "8                   The Kominsky Method          452            38.0\n",
              "9                        Anne with an E           1K            37.0\n",
              "10                 The Valhalla Murders          163            10.0\n",
              "11                            Ganglands           41             7.0\n",
              "12                  Fate: The Winx Saga          775            39.0\n",
              "13                            The Chair          162            34.0\n",
              "14                        Shadowhunters          836            15.0\n",
              "15                                Katla          256            28.0\n",
              "16                            Hit & Run          208            15.0\n",
              "17                     Jupiter's Legacy          887            66.0\n",
              "18                             Ragnarok          690            42.0\n",
              "19                         On the Verge          107            16.0\n",
              "20                                 D.P.           52             5.0\n",
              "21                               Borgen           90            32.0\n",
              "22                             Love 101          130            19.0\n",
              "23                          Dark Desire          105            13.0\n",
              "24                               Jaguar           45            11.0\n",
              "25                    Dear White People          274            63.0\n",
              "26                              Q-Force          118             8.0\n",
              "27                         Young Royals         1.2K            13.0\n",
              "28                            Wednesday         None             NaN\n",
              "29                           Insatiable          929            24.0\n",
              "30                         Firefly Lane          339            20.0\n",
              "31                         Black Summer         1.7K            36.0\n",
              "32                       The Irregulars          601             2.0\n",
              "33                                 GLOW          203            93.0\n",
              "34                       Disenchantment          583            50.0\n",
              "35  Masters of the Universe: Revelation         1.3K            42.0\n",
              "36                            Iron Fist           1K            86.0\n",
              "37                        Karma's World            4             1.0\n",
              "38                         Fuller House          279            30.0\n",
              "39                                 Baki          117            10.0\n",
              "40                              Shooter          234            12.0\n",
              "41                               Cursed         1.4K            48.0\n",
              "42                    Vikings: Valhalla         None             NaN\n",
              "43                            Luke Cage          386            91.0\n",
              "44                           Baki Hanma           31             3.0\n",
              "45                       Move to Heaven           73             7.0\n",
              "46                            Explained           74             4.0\n",
              "47                        Hemlock Grove          243            41.0\n",
              "48                         Roman Empire          125             2.0\n",
              "49                           Undercover          171            18.0"
            ]
          },
          "metadata": {},
          "execution_count": 33
        }
      ]
    },
    {
      "cell_type": "code",
      "metadata": {
        "id": "gltdJXjtcYsJ",
        "colab": {
          "base_uri": "https://localhost:8080/"
        },
        "outputId": "e41d4028-ab3a-4f5f-d06d-763026c72561"
      },
      "source": [
        "df.info()"
      ],
      "execution_count": null,
      "outputs": [
        {
          "output_type": "stream",
          "name": "stdout",
          "text": [
            "<class 'pandas.core.frame.DataFrame'>\n",
            "RangeIndex: 50 entries, 0 to 49\n",
            "Data columns (total 3 columns):\n",
            " #   Column          Non-Null Count  Dtype  \n",
            "---  ------          --------------  -----  \n",
            " 0   titulo          50 non-null     object \n",
            " 1   user_reviews    48 non-null     object \n",
            " 2   critic_reviews  48 non-null     float64\n",
            "dtypes: float64(1), object(2)\n",
            "memory usage: 1.3+ KB\n"
          ]
        }
      ]
    },
    {
      "cell_type": "code",
      "metadata": {
        "id": "_UW1-X71fIrT"
      },
      "source": [
        "#df[\"a\"] = pd.to_numeric(df[\"a\"])\n",
        "df['critic_reviews'] = pd.to_numeric(df['critic_reviews'])"
      ],
      "execution_count": null,
      "outputs": []
    },
    {
      "cell_type": "code",
      "metadata": {
        "colab": {
          "base_uri": "https://localhost:8080/"
        },
        "id": "SbFFEuDCkKOV",
        "outputId": "d47cee3f-b152-47c3-de43-fb6d190fe0f2"
      },
      "source": [
        "df.dtypes"
      ],
      "execution_count": null,
      "outputs": [
        {
          "output_type": "execute_result",
          "data": {
            "text/plain": [
              "titulo             object\n",
              "user_reviews       object\n",
              "critic_reviews    float64\n",
              "dtype: object"
            ]
          },
          "metadata": {},
          "execution_count": 42
        }
      ]
    },
    {
      "cell_type": "code",
      "metadata": {
        "colab": {
          "base_uri": "https://localhost:8080/"
        },
        "id": "MwqBrn4QlGaF",
        "outputId": "561cb385-6ba1-48b6-eebd-ee991d072ab3"
      },
      "source": [
        "df = df.astype({\"critic_reviews\": int},errors='ignore')\n",
        "\n",
        "df.info()\n",
        "\n"
      ],
      "execution_count": null,
      "outputs": [
        {
          "output_type": "stream",
          "name": "stdout",
          "text": [
            "<class 'pandas.core.frame.DataFrame'>\n",
            "RangeIndex: 50 entries, 0 to 49\n",
            "Data columns (total 3 columns):\n",
            " #   Column          Non-Null Count  Dtype  \n",
            "---  ------          --------------  -----  \n",
            " 0   titulo          50 non-null     object \n",
            " 1   user_reviews    48 non-null     object \n",
            " 2   critic_reviews  48 non-null     float64\n",
            "dtypes: float64(1), object(2)\n",
            "memory usage: 1.3+ KB\n"
          ]
        }
      ]
    },
    {
      "cell_type": "code",
      "metadata": {
        "colab": {
          "base_uri": "https://localhost:8080/"
        },
        "id": "NBVoOD5enQxm",
        "outputId": "8cb242f8-f47c-4d56-821c-c5ddad6da17c"
      },
      "source": [
        "df.isnull().sum()"
      ],
      "execution_count": null,
      "outputs": [
        {
          "output_type": "execute_result",
          "data": {
            "text/plain": [
              "titulo            0\n",
              "user_reviews      2\n",
              "critic_reviews    2\n",
              "dtype: int64"
            ]
          },
          "metadata": {},
          "execution_count": 51
        }
      ]
    },
    {
      "cell_type": "code",
      "metadata": {
        "id": "znbxoqfvn6xZ"
      },
      "source": [
        "df.dropna(inplace=True) "
      ],
      "execution_count": null,
      "outputs": []
    },
    {
      "cell_type": "code",
      "metadata": {
        "colab": {
          "base_uri": "https://localhost:8080/"
        },
        "id": "wH8lQj1doB5k",
        "outputId": "e4214ef9-bfef-4e07-9884-28b568eb6e62"
      },
      "source": [
        "df.isnull().sum()"
      ],
      "execution_count": null,
      "outputs": [
        {
          "output_type": "execute_result",
          "data": {
            "text/plain": [
              "titulo            0\n",
              "user_reviews      0\n",
              "critic_reviews    0\n",
              "dtype: int64"
            ]
          },
          "metadata": {},
          "execution_count": 59
        }
      ]
    },
    {
      "cell_type": "code",
      "metadata": {
        "id": "OygiWNwYondu"
      },
      "source": [
        "df = df.astype({\"critic_reviews\": int})\n"
      ],
      "execution_count": null,
      "outputs": []
    },
    {
      "cell_type": "code",
      "metadata": {
        "colab": {
          "base_uri": "https://localhost:8080/"
        },
        "id": "YtDoA5Jjotbu",
        "outputId": "3e014f24-2d49-40de-81d7-2444faa7416b"
      },
      "source": [
        "df['critic_reviews'].dtypes"
      ],
      "execution_count": null,
      "outputs": [
        {
          "output_type": "execute_result",
          "data": {
            "text/plain": [
              "dtype('int64')"
            ]
          },
          "metadata": {},
          "execution_count": 64
        }
      ]
    },
    {
      "cell_type": "code",
      "metadata": {
        "colab": {
          "base_uri": "https://localhost:8080/",
          "height": 206
        },
        "id": "g_9v4LWBpEcO",
        "outputId": "050682e5-b874-4eee-fc34-24406e6efd41"
      },
      "source": [
        "df.head()"
      ],
      "execution_count": null,
      "outputs": [
        {
          "output_type": "execute_result",
          "data": {
            "text/html": [
              "<div>\n",
              "<style scoped>\n",
              "    .dataframe tbody tr th:only-of-type {\n",
              "        vertical-align: middle;\n",
              "    }\n",
              "\n",
              "    .dataframe tbody tr th {\n",
              "        vertical-align: top;\n",
              "    }\n",
              "\n",
              "    .dataframe thead th {\n",
              "        text-align: right;\n",
              "    }\n",
              "</style>\n",
              "<table border=\"1\" class=\"dataframe\">\n",
              "  <thead>\n",
              "    <tr style=\"text-align: right;\">\n",
              "      <th></th>\n",
              "      <th>titulo</th>\n",
              "      <th>user_reviews</th>\n",
              "      <th>critic_reviews</th>\n",
              "    </tr>\n",
              "  </thead>\n",
              "  <tbody>\n",
              "    <tr>\n",
              "      <th>0</th>\n",
              "      <td>Dead to Me</td>\n",
              "      <td>677</td>\n",
              "      <td>45</td>\n",
              "    </tr>\n",
              "    <tr>\n",
              "      <th>1</th>\n",
              "      <td>Never Have I Ever</td>\n",
              "      <td>577</td>\n",
              "      <td>49</td>\n",
              "    </tr>\n",
              "    <tr>\n",
              "      <th>2</th>\n",
              "      <td>Designated Survivor</td>\n",
              "      <td>1.3K</td>\n",
              "      <td>32</td>\n",
              "    </tr>\n",
              "    <tr>\n",
              "      <th>3</th>\n",
              "      <td>Castlevania</td>\n",
              "      <td>457</td>\n",
              "      <td>56</td>\n",
              "    </tr>\n",
              "    <tr>\n",
              "      <th>4</th>\n",
              "      <td>Sense8</td>\n",
              "      <td>906</td>\n",
              "      <td>90</td>\n",
              "    </tr>\n",
              "  </tbody>\n",
              "</table>\n",
              "</div>"
            ],
            "text/plain": [
              "                titulo user_reviews  critic_reviews\n",
              "0           Dead to Me          677              45\n",
              "1    Never Have I Ever          577              49\n",
              "2  Designated Survivor         1.3K              32\n",
              "3          Castlevania          457              56\n",
              "4               Sense8          906              90"
            ]
          },
          "metadata": {},
          "execution_count": 65
        }
      ]
    },
    {
      "cell_type": "code",
      "metadata": {
        "colab": {
          "base_uri": "https://localhost:8080/"
        },
        "id": "PIIYI-0mpNOU",
        "outputId": "b64c46d1-1c19-4925-befe-58b83db50232"
      },
      "source": [
        "print(df.to_string())"
      ],
      "execution_count": null,
      "outputs": [
        {
          "output_type": "stream",
          "name": "stdout",
          "text": [
            "                                 titulo user_reviews  critic_reviews\n",
            "0                            Dead to Me          677              45\n",
            "1                     Never Have I Ever          577              49\n",
            "2                   Designated Survivor         1.3K              32\n",
            "3                           Castlevania          457              56\n",
            "4                                Sense8          906              90\n",
            "5                       Ginny & Georgia         1.1K              24\n",
            "6               The Movies That Made Us          119              12\n",
            "7                             Bad Sport           10               6\n",
            "8                   The Kominsky Method          452              38\n",
            "9                        Anne with an E           1K              37\n",
            "10                 The Valhalla Murders          163              10\n",
            "11                            Ganglands           41               7\n",
            "12                  Fate: The Winx Saga          775              39\n",
            "13                            The Chair          162              34\n",
            "14                        Shadowhunters          836              15\n",
            "15                                Katla          256              28\n",
            "16                            Hit & Run          208              15\n",
            "17                     Jupiter's Legacy          887              66\n",
            "18                             Ragnarok          690              42\n",
            "19                         On the Verge          107              16\n",
            "20                                 D.P.           52               5\n",
            "21                               Borgen           90              32\n",
            "22                             Love 101          130              19\n",
            "23                          Dark Desire          105              13\n",
            "24                               Jaguar           45              11\n",
            "25                    Dear White People          274              63\n",
            "26                              Q-Force          118               8\n",
            "27                         Young Royals         1.2K              13\n",
            "29                           Insatiable          929              24\n",
            "30                         Firefly Lane          339              20\n",
            "31                         Black Summer         1.7K              36\n",
            "32                       The Irregulars          601               2\n",
            "33                                 GLOW          203              93\n",
            "34                       Disenchantment          583              50\n",
            "35  Masters of the Universe: Revelation         1.3K              42\n",
            "36                            Iron Fist           1K              86\n",
            "37                        Karma's World            4               1\n",
            "38                         Fuller House          279              30\n",
            "39                                 Baki          117              10\n",
            "40                              Shooter          234              12\n",
            "41                               Cursed         1.4K              48\n",
            "43                            Luke Cage          386              91\n",
            "44                           Baki Hanma           31               3\n",
            "45                       Move to Heaven           73               7\n",
            "46                            Explained           74               4\n",
            "47                        Hemlock Grove          243              41\n",
            "48                         Roman Empire          125               2\n",
            "49                           Undercover          171              18\n"
          ]
        }
      ]
    },
    {
      "cell_type": "code",
      "metadata": {
        "id": "xBUPOI7hpijB"
      },
      "source": [
        "#dfFilme.to_csv('filmes_denzel.csv', sep=';', index=False)\n",
        "\n",
        "df.to_csv('series.csv', sep=';', index=False)\n"
      ],
      "execution_count": null,
      "outputs": []
    }
  ]
}